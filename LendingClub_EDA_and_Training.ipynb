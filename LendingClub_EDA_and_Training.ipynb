{
 "cells": [
  {
   "cell_type": "markdown",
   "metadata": {},
   "source": [
    "## Lending Club analysis \n",
    "\n",
    "This is code for my LendingClub project. \n",
    "\n",
    "The project has two basic data science steps.  \n",
    "\n",
    "1. estimating the return for each loan.\n",
    "2. Optimize a portfolio of loans.\n",
    "\n",
    "From these two steps the algorithm should produce a daily/weekly list of suggested investments.\n",
    "\n",
    "In this analysis return is the 3-year return on each loan.\n",
    "\n",
    "Details are in the document is **here**."
   ]
  },
  {
   "cell_type": "code",
   "execution_count": 1,
   "metadata": {},
   "outputs": [],
   "source": [
    "import pandas as pd"
   ]
  },
  {
   "cell_type": "markdown",
   "metadata": {},
   "source": [
    "### Read in the data\n",
    "\n",
    "The data are all the Q1 2017 loans.  [data should be here](https://www.lendingclub.com/statistics/additional-statistics?) but something is wrong with that link.  "
   ]
  },
  {
   "cell_type": "code",
   "execution_count": 2,
   "metadata": {},
   "outputs": [
    {
     "name": "stderr",
     "output_type": "stream",
     "text": [
      "/opt/conda/lib/python3.7/site-packages/IPython/core/interactiveshell.py:3063: DtypeWarning: Columns (0,118) have mixed types.Specify dtype option on import or set low_memory=False.\n",
      "  interactivity=interactivity, compiler=compiler, result=result)\n"
     ]
    }
   ],
   "source": [
    "# there is a weird first row in the dataset that needs to be skipped\n",
    "# LC_raw = pd.read_csv(\"./data/Loan_stats_2017_top1000.csv\",header=1,skiprows=0)\n",
    "\n",
    "LC_raw = pd.read_csv(\"./data/LoanStats_securev1_2017Q1.csv\",header=1,skiprows=0)"
   ]
  },
  {
   "cell_type": "code",
   "execution_count": 3,
   "metadata": {},
   "outputs": [
    {
     "data": {
      "text/html": [
       "<div>\n",
       "<style scoped>\n",
       "    .dataframe tbody tr th:only-of-type {\n",
       "        vertical-align: middle;\n",
       "    }\n",
       "\n",
       "    .dataframe tbody tr th {\n",
       "        vertical-align: top;\n",
       "    }\n",
       "\n",
       "    .dataframe thead th {\n",
       "        text-align: right;\n",
       "    }\n",
       "</style>\n",
       "<table border=\"1\" class=\"dataframe\">\n",
       "  <thead>\n",
       "    <tr style=\"text-align: right;\">\n",
       "      <th></th>\n",
       "      <th>id</th>\n",
       "      <th>member_id</th>\n",
       "      <th>loan_amnt</th>\n",
       "      <th>funded_amnt</th>\n",
       "      <th>funded_amnt_inv</th>\n",
       "      <th>term</th>\n",
       "      <th>int_rate</th>\n",
       "      <th>installment</th>\n",
       "      <th>grade</th>\n",
       "      <th>sub_grade</th>\n",
       "      <th>...</th>\n",
       "      <th>orig_projected_additional_accrued_interest</th>\n",
       "      <th>hardship_payoff_balance_amount</th>\n",
       "      <th>hardship_last_payment_amount</th>\n",
       "      <th>debt_settlement_flag</th>\n",
       "      <th>debt_settlement_flag_date</th>\n",
       "      <th>settlement_status</th>\n",
       "      <th>settlement_date</th>\n",
       "      <th>settlement_amount</th>\n",
       "      <th>settlement_percentage</th>\n",
       "      <th>settlement_term</th>\n",
       "    </tr>\n",
       "  </thead>\n",
       "  <tbody>\n",
       "    <tr>\n",
       "      <th>0</th>\n",
       "      <td>104160129</td>\n",
       "      <td>NaN</td>\n",
       "      <td>6000.0</td>\n",
       "      <td>6000.0</td>\n",
       "      <td>6000.0</td>\n",
       "      <td>36 months</td>\n",
       "      <td>7.24%</td>\n",
       "      <td>185.93</td>\n",
       "      <td>A</td>\n",
       "      <td>A3</td>\n",
       "      <td>...</td>\n",
       "      <td>NaN</td>\n",
       "      <td>NaN</td>\n",
       "      <td>NaN</td>\n",
       "      <td>N</td>\n",
       "      <td>NaN</td>\n",
       "      <td>NaN</td>\n",
       "      <td>NaN</td>\n",
       "      <td>NaN</td>\n",
       "      <td>NaN</td>\n",
       "      <td>NaN</td>\n",
       "    </tr>\n",
       "    <tr>\n",
       "      <th>1</th>\n",
       "      <td>104170260</td>\n",
       "      <td>NaN</td>\n",
       "      <td>17000.0</td>\n",
       "      <td>17000.0</td>\n",
       "      <td>17000.0</td>\n",
       "      <td>36 months</td>\n",
       "      <td>7.49%</td>\n",
       "      <td>528.73</td>\n",
       "      <td>A</td>\n",
       "      <td>A4</td>\n",
       "      <td>...</td>\n",
       "      <td>NaN</td>\n",
       "      <td>NaN</td>\n",
       "      <td>NaN</td>\n",
       "      <td>N</td>\n",
       "      <td>NaN</td>\n",
       "      <td>NaN</td>\n",
       "      <td>NaN</td>\n",
       "      <td>NaN</td>\n",
       "      <td>NaN</td>\n",
       "      <td>NaN</td>\n",
       "    </tr>\n",
       "    <tr>\n",
       "      <th>2</th>\n",
       "      <td>103952006</td>\n",
       "      <td>NaN</td>\n",
       "      <td>14000.0</td>\n",
       "      <td>14000.0</td>\n",
       "      <td>14000.0</td>\n",
       "      <td>60 months</td>\n",
       "      <td>12.74%</td>\n",
       "      <td>316.69</td>\n",
       "      <td>C</td>\n",
       "      <td>C1</td>\n",
       "      <td>...</td>\n",
       "      <td>NaN</td>\n",
       "      <td>NaN</td>\n",
       "      <td>NaN</td>\n",
       "      <td>N</td>\n",
       "      <td>NaN</td>\n",
       "      <td>NaN</td>\n",
       "      <td>NaN</td>\n",
       "      <td>NaN</td>\n",
       "      <td>NaN</td>\n",
       "      <td>NaN</td>\n",
       "    </tr>\n",
       "    <tr>\n",
       "      <th>3</th>\n",
       "      <td>103347407</td>\n",
       "      <td>NaN</td>\n",
       "      <td>9900.0</td>\n",
       "      <td>9900.0</td>\n",
       "      <td>9900.0</td>\n",
       "      <td>36 months</td>\n",
       "      <td>5.32%</td>\n",
       "      <td>298.14</td>\n",
       "      <td>A</td>\n",
       "      <td>A1</td>\n",
       "      <td>...</td>\n",
       "      <td>NaN</td>\n",
       "      <td>NaN</td>\n",
       "      <td>NaN</td>\n",
       "      <td>N</td>\n",
       "      <td>NaN</td>\n",
       "      <td>NaN</td>\n",
       "      <td>NaN</td>\n",
       "      <td>NaN</td>\n",
       "      <td>NaN</td>\n",
       "      <td>NaN</td>\n",
       "    </tr>\n",
       "    <tr>\n",
       "      <th>4</th>\n",
       "      <td>103470623</td>\n",
       "      <td>NaN</td>\n",
       "      <td>15400.0</td>\n",
       "      <td>15400.0</td>\n",
       "      <td>15400.0</td>\n",
       "      <td>60 months</td>\n",
       "      <td>11.39%</td>\n",
       "      <td>337.84</td>\n",
       "      <td>B</td>\n",
       "      <td>B3</td>\n",
       "      <td>...</td>\n",
       "      <td>NaN</td>\n",
       "      <td>NaN</td>\n",
       "      <td>NaN</td>\n",
       "      <td>N</td>\n",
       "      <td>NaN</td>\n",
       "      <td>NaN</td>\n",
       "      <td>NaN</td>\n",
       "      <td>NaN</td>\n",
       "      <td>NaN</td>\n",
       "      <td>NaN</td>\n",
       "    </tr>\n",
       "    <tr>\n",
       "      <th>5</th>\n",
       "      <td>104047067</td>\n",
       "      <td>NaN</td>\n",
       "      <td>10000.0</td>\n",
       "      <td>10000.0</td>\n",
       "      <td>10000.0</td>\n",
       "      <td>36 months</td>\n",
       "      <td>7.99%</td>\n",
       "      <td>313.32</td>\n",
       "      <td>A</td>\n",
       "      <td>A5</td>\n",
       "      <td>...</td>\n",
       "      <td>NaN</td>\n",
       "      <td>NaN</td>\n",
       "      <td>NaN</td>\n",
       "      <td>N</td>\n",
       "      <td>NaN</td>\n",
       "      <td>NaN</td>\n",
       "      <td>NaN</td>\n",
       "      <td>NaN</td>\n",
       "      <td>NaN</td>\n",
       "      <td>NaN</td>\n",
       "    </tr>\n",
       "    <tr>\n",
       "      <th>6</th>\n",
       "      <td>104048642</td>\n",
       "      <td>NaN</td>\n",
       "      <td>10000.0</td>\n",
       "      <td>10000.0</td>\n",
       "      <td>10000.0</td>\n",
       "      <td>36 months</td>\n",
       "      <td>7.49%</td>\n",
       "      <td>311.02</td>\n",
       "      <td>A</td>\n",
       "      <td>A4</td>\n",
       "      <td>...</td>\n",
       "      <td>NaN</td>\n",
       "      <td>NaN</td>\n",
       "      <td>NaN</td>\n",
       "      <td>N</td>\n",
       "      <td>NaN</td>\n",
       "      <td>NaN</td>\n",
       "      <td>NaN</td>\n",
       "      <td>NaN</td>\n",
       "      <td>NaN</td>\n",
       "      <td>NaN</td>\n",
       "    </tr>\n",
       "    <tr>\n",
       "      <th>7</th>\n",
       "      <td>104280288</td>\n",
       "      <td>NaN</td>\n",
       "      <td>3025.0</td>\n",
       "      <td>3025.0</td>\n",
       "      <td>3025.0</td>\n",
       "      <td>36 months</td>\n",
       "      <td>6.99%</td>\n",
       "      <td>93.39</td>\n",
       "      <td>A</td>\n",
       "      <td>A2</td>\n",
       "      <td>...</td>\n",
       "      <td>NaN</td>\n",
       "      <td>NaN</td>\n",
       "      <td>NaN</td>\n",
       "      <td>N</td>\n",
       "      <td>NaN</td>\n",
       "      <td>NaN</td>\n",
       "      <td>NaN</td>\n",
       "      <td>NaN</td>\n",
       "      <td>NaN</td>\n",
       "      <td>NaN</td>\n",
       "    </tr>\n",
       "    <tr>\n",
       "      <th>8</th>\n",
       "      <td>104070168</td>\n",
       "      <td>NaN</td>\n",
       "      <td>9000.0</td>\n",
       "      <td>9000.0</td>\n",
       "      <td>9000.0</td>\n",
       "      <td>36 months</td>\n",
       "      <td>11.39%</td>\n",
       "      <td>296.32</td>\n",
       "      <td>B</td>\n",
       "      <td>B3</td>\n",
       "      <td>...</td>\n",
       "      <td>NaN</td>\n",
       "      <td>NaN</td>\n",
       "      <td>NaN</td>\n",
       "      <td>N</td>\n",
       "      <td>NaN</td>\n",
       "      <td>NaN</td>\n",
       "      <td>NaN</td>\n",
       "      <td>NaN</td>\n",
       "      <td>NaN</td>\n",
       "      <td>NaN</td>\n",
       "    </tr>\n",
       "    <tr>\n",
       "      <th>9</th>\n",
       "      <td>104210150</td>\n",
       "      <td>NaN</td>\n",
       "      <td>12000.0</td>\n",
       "      <td>12000.0</td>\n",
       "      <td>12000.0</td>\n",
       "      <td>36 months</td>\n",
       "      <td>6.99%</td>\n",
       "      <td>370.48</td>\n",
       "      <td>A</td>\n",
       "      <td>A2</td>\n",
       "      <td>...</td>\n",
       "      <td>NaN</td>\n",
       "      <td>NaN</td>\n",
       "      <td>NaN</td>\n",
       "      <td>N</td>\n",
       "      <td>NaN</td>\n",
       "      <td>NaN</td>\n",
       "      <td>NaN</td>\n",
       "      <td>NaN</td>\n",
       "      <td>NaN</td>\n",
       "      <td>NaN</td>\n",
       "    </tr>\n",
       "  </tbody>\n",
       "</table>\n",
       "<p>10 rows × 150 columns</p>\n",
       "</div>"
      ],
      "text/plain": [
       "          id  member_id  loan_amnt  funded_amnt  funded_amnt_inv        term  \\\n",
       "0  104160129        NaN     6000.0       6000.0           6000.0   36 months   \n",
       "1  104170260        NaN    17000.0      17000.0          17000.0   36 months   \n",
       "2  103952006        NaN    14000.0      14000.0          14000.0   60 months   \n",
       "3  103347407        NaN     9900.0       9900.0           9900.0   36 months   \n",
       "4  103470623        NaN    15400.0      15400.0          15400.0   60 months   \n",
       "5  104047067        NaN    10000.0      10000.0          10000.0   36 months   \n",
       "6  104048642        NaN    10000.0      10000.0          10000.0   36 months   \n",
       "7  104280288        NaN     3025.0       3025.0           3025.0   36 months   \n",
       "8  104070168        NaN     9000.0       9000.0           9000.0   36 months   \n",
       "9  104210150        NaN    12000.0      12000.0          12000.0   36 months   \n",
       "\n",
       "  int_rate  installment grade sub_grade  ...  \\\n",
       "0    7.24%       185.93     A        A3  ...   \n",
       "1    7.49%       528.73     A        A4  ...   \n",
       "2   12.74%       316.69     C        C1  ...   \n",
       "3    5.32%       298.14     A        A1  ...   \n",
       "4   11.39%       337.84     B        B3  ...   \n",
       "5    7.99%       313.32     A        A5  ...   \n",
       "6    7.49%       311.02     A        A4  ...   \n",
       "7    6.99%        93.39     A        A2  ...   \n",
       "8   11.39%       296.32     B        B3  ...   \n",
       "9    6.99%       370.48     A        A2  ...   \n",
       "\n",
       "  orig_projected_additional_accrued_interest hardship_payoff_balance_amount  \\\n",
       "0                                        NaN                            NaN   \n",
       "1                                        NaN                            NaN   \n",
       "2                                        NaN                            NaN   \n",
       "3                                        NaN                            NaN   \n",
       "4                                        NaN                            NaN   \n",
       "5                                        NaN                            NaN   \n",
       "6                                        NaN                            NaN   \n",
       "7                                        NaN                            NaN   \n",
       "8                                        NaN                            NaN   \n",
       "9                                        NaN                            NaN   \n",
       "\n",
       "  hardship_last_payment_amount  debt_settlement_flag  \\\n",
       "0                          NaN                     N   \n",
       "1                          NaN                     N   \n",
       "2                          NaN                     N   \n",
       "3                          NaN                     N   \n",
       "4                          NaN                     N   \n",
       "5                          NaN                     N   \n",
       "6                          NaN                     N   \n",
       "7                          NaN                     N   \n",
       "8                          NaN                     N   \n",
       "9                          NaN                     N   \n",
       "\n",
       "  debt_settlement_flag_date settlement_status settlement_date  \\\n",
       "0                       NaN               NaN             NaN   \n",
       "1                       NaN               NaN             NaN   \n",
       "2                       NaN               NaN             NaN   \n",
       "3                       NaN               NaN             NaN   \n",
       "4                       NaN               NaN             NaN   \n",
       "5                       NaN               NaN             NaN   \n",
       "6                       NaN               NaN             NaN   \n",
       "7                       NaN               NaN             NaN   \n",
       "8                       NaN               NaN             NaN   \n",
       "9                       NaN               NaN             NaN   \n",
       "\n",
       "  settlement_amount settlement_percentage  settlement_term  \n",
       "0               NaN                   NaN              NaN  \n",
       "1               NaN                   NaN              NaN  \n",
       "2               NaN                   NaN              NaN  \n",
       "3               NaN                   NaN              NaN  \n",
       "4               NaN                   NaN              NaN  \n",
       "5               NaN                   NaN              NaN  \n",
       "6               NaN                   NaN              NaN  \n",
       "7               NaN                   NaN              NaN  \n",
       "8               NaN                   NaN              NaN  \n",
       "9               NaN                   NaN              NaN  \n",
       "\n",
       "[10 rows x 150 columns]"
      ]
     },
     "execution_count": 3,
     "metadata": {},
     "output_type": "execute_result"
    }
   ],
   "source": [
    "LC_raw.head(10)"
   ]
  },
  {
   "cell_type": "code",
   "execution_count": 4,
   "metadata": {},
   "outputs": [
    {
     "data": {
      "text/html": [
       "<div>\n",
       "<style scoped>\n",
       "    .dataframe tbody tr th:only-of-type {\n",
       "        vertical-align: middle;\n",
       "    }\n",
       "\n",
       "    .dataframe tbody tr th {\n",
       "        vertical-align: top;\n",
       "    }\n",
       "\n",
       "    .dataframe thead th {\n",
       "        text-align: right;\n",
       "    }\n",
       "</style>\n",
       "<table border=\"1\" class=\"dataframe\">\n",
       "  <thead>\n",
       "    <tr style=\"text-align: right;\">\n",
       "      <th></th>\n",
       "      <th>id</th>\n",
       "      <th>member_id</th>\n",
       "      <th>loan_amnt</th>\n",
       "      <th>funded_amnt</th>\n",
       "      <th>funded_amnt_inv</th>\n",
       "      <th>term</th>\n",
       "      <th>int_rate</th>\n",
       "      <th>installment</th>\n",
       "      <th>grade</th>\n",
       "      <th>sub_grade</th>\n",
       "      <th>...</th>\n",
       "      <th>orig_projected_additional_accrued_interest</th>\n",
       "      <th>hardship_payoff_balance_amount</th>\n",
       "      <th>hardship_last_payment_amount</th>\n",
       "      <th>debt_settlement_flag</th>\n",
       "      <th>debt_settlement_flag_date</th>\n",
       "      <th>settlement_status</th>\n",
       "      <th>settlement_date</th>\n",
       "      <th>settlement_amount</th>\n",
       "      <th>settlement_percentage</th>\n",
       "      <th>settlement_term</th>\n",
       "    </tr>\n",
       "  </thead>\n",
       "  <tbody>\n",
       "    <tr>\n",
       "      <th>96776</th>\n",
       "      <td>94477589</td>\n",
       "      <td>NaN</td>\n",
       "      <td>10000.0</td>\n",
       "      <td>10000.0</td>\n",
       "      <td>10000.0</td>\n",
       "      <td>36 months</td>\n",
       "      <td>8.24%</td>\n",
       "      <td>314.48</td>\n",
       "      <td>B</td>\n",
       "      <td>B1</td>\n",
       "      <td>...</td>\n",
       "      <td>NaN</td>\n",
       "      <td>NaN</td>\n",
       "      <td>NaN</td>\n",
       "      <td>N</td>\n",
       "      <td>NaN</td>\n",
       "      <td>NaN</td>\n",
       "      <td>NaN</td>\n",
       "      <td>NaN</td>\n",
       "      <td>NaN</td>\n",
       "      <td>NaN</td>\n",
       "    </tr>\n",
       "    <tr>\n",
       "      <th>96777</th>\n",
       "      <td>94048859</td>\n",
       "      <td>NaN</td>\n",
       "      <td>6325.0</td>\n",
       "      <td>6325.0</td>\n",
       "      <td>6325.0</td>\n",
       "      <td>36 months</td>\n",
       "      <td>15.99%</td>\n",
       "      <td>222.34</td>\n",
       "      <td>C</td>\n",
       "      <td>C5</td>\n",
       "      <td>...</td>\n",
       "      <td>NaN</td>\n",
       "      <td>NaN</td>\n",
       "      <td>NaN</td>\n",
       "      <td>N</td>\n",
       "      <td>NaN</td>\n",
       "      <td>NaN</td>\n",
       "      <td>NaN</td>\n",
       "      <td>NaN</td>\n",
       "      <td>NaN</td>\n",
       "      <td>NaN</td>\n",
       "    </tr>\n",
       "    <tr>\n",
       "      <th>96778</th>\n",
       "      <td>94038849</td>\n",
       "      <td>NaN</td>\n",
       "      <td>15625.0</td>\n",
       "      <td>15625.0</td>\n",
       "      <td>15625.0</td>\n",
       "      <td>60 months</td>\n",
       "      <td>28.69%</td>\n",
       "      <td>493.03</td>\n",
       "      <td>F</td>\n",
       "      <td>F1</td>\n",
       "      <td>...</td>\n",
       "      <td>NaN</td>\n",
       "      <td>NaN</td>\n",
       "      <td>NaN</td>\n",
       "      <td>Y</td>\n",
       "      <td>Oct-2018</td>\n",
       "      <td>ACTIVE</td>\n",
       "      <td>Sep-2018</td>\n",
       "      <td>6895.96</td>\n",
       "      <td>45.0</td>\n",
       "      <td>24.0</td>\n",
       "    </tr>\n",
       "    <tr>\n",
       "      <th>96779</th>\n",
       "      <td>Total amount funded in policy code 1: 1437969475</td>\n",
       "      <td>NaN</td>\n",
       "      <td>NaN</td>\n",
       "      <td>NaN</td>\n",
       "      <td>NaN</td>\n",
       "      <td>NaN</td>\n",
       "      <td>NaN</td>\n",
       "      <td>NaN</td>\n",
       "      <td>NaN</td>\n",
       "      <td>NaN</td>\n",
       "      <td>...</td>\n",
       "      <td>NaN</td>\n",
       "      <td>NaN</td>\n",
       "      <td>NaN</td>\n",
       "      <td>NaN</td>\n",
       "      <td>NaN</td>\n",
       "      <td>NaN</td>\n",
       "      <td>NaN</td>\n",
       "      <td>NaN</td>\n",
       "      <td>NaN</td>\n",
       "      <td>NaN</td>\n",
       "    </tr>\n",
       "    <tr>\n",
       "      <th>96780</th>\n",
       "      <td>Total amount funded in policy code 2: 520780182</td>\n",
       "      <td>NaN</td>\n",
       "      <td>NaN</td>\n",
       "      <td>NaN</td>\n",
       "      <td>NaN</td>\n",
       "      <td>NaN</td>\n",
       "      <td>NaN</td>\n",
       "      <td>NaN</td>\n",
       "      <td>NaN</td>\n",
       "      <td>NaN</td>\n",
       "      <td>...</td>\n",
       "      <td>NaN</td>\n",
       "      <td>NaN</td>\n",
       "      <td>NaN</td>\n",
       "      <td>NaN</td>\n",
       "      <td>NaN</td>\n",
       "      <td>NaN</td>\n",
       "      <td>NaN</td>\n",
       "      <td>NaN</td>\n",
       "      <td>NaN</td>\n",
       "      <td>NaN</td>\n",
       "    </tr>\n",
       "  </tbody>\n",
       "</table>\n",
       "<p>5 rows × 150 columns</p>\n",
       "</div>"
      ],
      "text/plain": [
       "                                                     id  member_id  loan_amnt  \\\n",
       "96776                                          94477589        NaN    10000.0   \n",
       "96777                                          94048859        NaN     6325.0   \n",
       "96778                                          94038849        NaN    15625.0   \n",
       "96779  Total amount funded in policy code 1: 1437969475        NaN        NaN   \n",
       "96780   Total amount funded in policy code 2: 520780182        NaN        NaN   \n",
       "\n",
       "       funded_amnt  funded_amnt_inv        term int_rate  installment grade  \\\n",
       "96776      10000.0          10000.0   36 months    8.24%       314.48     B   \n",
       "96777       6325.0           6325.0   36 months   15.99%       222.34     C   \n",
       "96778      15625.0          15625.0   60 months   28.69%       493.03     F   \n",
       "96779          NaN              NaN         NaN      NaN          NaN   NaN   \n",
       "96780          NaN              NaN         NaN      NaN          NaN   NaN   \n",
       "\n",
       "      sub_grade  ... orig_projected_additional_accrued_interest  \\\n",
       "96776        B1  ...                                        NaN   \n",
       "96777        C5  ...                                        NaN   \n",
       "96778        F1  ...                                        NaN   \n",
       "96779       NaN  ...                                        NaN   \n",
       "96780       NaN  ...                                        NaN   \n",
       "\n",
       "      hardship_payoff_balance_amount hardship_last_payment_amount  \\\n",
       "96776                            NaN                          NaN   \n",
       "96777                            NaN                          NaN   \n",
       "96778                            NaN                          NaN   \n",
       "96779                            NaN                          NaN   \n",
       "96780                            NaN                          NaN   \n",
       "\n",
       "       debt_settlement_flag debt_settlement_flag_date settlement_status  \\\n",
       "96776                     N                       NaN               NaN   \n",
       "96777                     N                       NaN               NaN   \n",
       "96778                     Y                  Oct-2018            ACTIVE   \n",
       "96779                   NaN                       NaN               NaN   \n",
       "96780                   NaN                       NaN               NaN   \n",
       "\n",
       "      settlement_date settlement_amount settlement_percentage  settlement_term  \n",
       "96776             NaN               NaN                   NaN              NaN  \n",
       "96777             NaN               NaN                   NaN              NaN  \n",
       "96778        Sep-2018           6895.96                  45.0             24.0  \n",
       "96779             NaN               NaN                   NaN              NaN  \n",
       "96780             NaN               NaN                   NaN              NaN  \n",
       "\n",
       "[5 rows x 150 columns]"
      ]
     },
     "execution_count": 4,
     "metadata": {},
     "output_type": "execute_result"
    }
   ],
   "source": [
    "# there are also two total observations at the end causing the warning when reading in the data\n",
    "LC_raw.tail(5)"
   ]
  },
  {
   "cell_type": "code",
   "execution_count": 5,
   "metadata": {},
   "outputs": [],
   "source": [
    "LC_raw.drop([96779,96780],axis=0,inplace=True)"
   ]
  },
  {
   "cell_type": "code",
   "execution_count": 6,
   "metadata": {},
   "outputs": [
    {
     "data": {
      "text/plain": [
       "(96779, 150)"
      ]
     },
     "execution_count": 6,
     "metadata": {},
     "output_type": "execute_result"
    }
   ],
   "source": [
    "LC_raw.shape"
   ]
  },
  {
   "cell_type": "code",
   "execution_count": 7,
   "metadata": {},
   "outputs": [
    {
     "name": "stdout",
     "output_type": "stream",
     "text": [
      "<class 'pandas.core.frame.DataFrame'>\n",
      "Int64Index: 96779 entries, 0 to 96778\n",
      "Data columns (total 150 columns):\n",
      " #   Column                                      Dtype  \n",
      "---  ------                                      -----  \n",
      " 0   id                                          object \n",
      " 1   member_id                                   float64\n",
      " 2   loan_amnt                                   float64\n",
      " 3   funded_amnt                                 float64\n",
      " 4   funded_amnt_inv                             float64\n",
      " 5   term                                        object \n",
      " 6   int_rate                                    object \n",
      " 7   installment                                 float64\n",
      " 8   grade                                       object \n",
      " 9   sub_grade                                   object \n",
      " 10  emp_title                                   object \n",
      " 11  emp_length                                  object \n",
      " 12  home_ownership                              object \n",
      " 13  annual_inc                                  float64\n",
      " 14  verification_status                         object \n",
      " 15  issue_d                                     object \n",
      " 16  loan_status                                 object \n",
      " 17  pymnt_plan                                  object \n",
      " 18  url                                         object \n",
      " 19  desc                                        float64\n",
      " 20  purpose                                     object \n",
      " 21  title                                       object \n",
      " 22  zip_code                                    object \n",
      " 23  addr_state                                  object \n",
      " 24  dti                                         float64\n",
      " 25  delinq_2yrs                                 float64\n",
      " 26  earliest_cr_line                            object \n",
      " 27  fico_range_low                              float64\n",
      " 28  fico_range_high                             float64\n",
      " 29  inq_last_6mths                              float64\n",
      " 30  mths_since_last_delinq                      float64\n",
      " 31  mths_since_last_record                      float64\n",
      " 32  open_acc                                    float64\n",
      " 33  pub_rec                                     float64\n",
      " 34  revol_bal                                   float64\n",
      " 35  revol_util                                  object \n",
      " 36  total_acc                                   float64\n",
      " 37  initial_list_status                         object \n",
      " 38  out_prncp                                   float64\n",
      " 39  out_prncp_inv                               float64\n",
      " 40  total_pymnt                                 float64\n",
      " 41  total_pymnt_inv                             float64\n",
      " 42  total_rec_prncp                             float64\n",
      " 43  total_rec_int                               float64\n",
      " 44  total_rec_late_fee                          float64\n",
      " 45  recoveries                                  float64\n",
      " 46  collection_recovery_fee                     float64\n",
      " 47  last_pymnt_d                                object \n",
      " 48  last_pymnt_amnt                             float64\n",
      " 49  next_pymnt_d                                object \n",
      " 50  last_credit_pull_d                          object \n",
      " 51  last_fico_range_high                        float64\n",
      " 52  last_fico_range_low                         float64\n",
      " 53  collections_12_mths_ex_med                  float64\n",
      " 54  mths_since_last_major_derog                 float64\n",
      " 55  policy_code                                 float64\n",
      " 56  application_type                            object \n",
      " 57  annual_inc_joint                            float64\n",
      " 58  dti_joint                                   float64\n",
      " 59  verification_status_joint                   object \n",
      " 60  acc_now_delinq                              float64\n",
      " 61  tot_coll_amt                                float64\n",
      " 62  tot_cur_bal                                 float64\n",
      " 63  open_acc_6m                                 float64\n",
      " 64  open_act_il                                 float64\n",
      " 65  open_il_12m                                 float64\n",
      " 66  open_il_24m                                 float64\n",
      " 67  mths_since_rcnt_il                          float64\n",
      " 68  total_bal_il                                float64\n",
      " 69  il_util                                     float64\n",
      " 70  open_rv_12m                                 float64\n",
      " 71  open_rv_24m                                 float64\n",
      " 72  max_bal_bc                                  float64\n",
      " 73  all_util                                    float64\n",
      " 74  total_rev_hi_lim                            float64\n",
      " 75  inq_fi                                      float64\n",
      " 76  total_cu_tl                                 float64\n",
      " 77  inq_last_12m                                float64\n",
      " 78  acc_open_past_24mths                        float64\n",
      " 79  avg_cur_bal                                 float64\n",
      " 80  bc_open_to_buy                              float64\n",
      " 81  bc_util                                     float64\n",
      " 82  chargeoff_within_12_mths                    float64\n",
      " 83  delinq_amnt                                 float64\n",
      " 84  mo_sin_old_il_acct                          float64\n",
      " 85  mo_sin_old_rev_tl_op                        float64\n",
      " 86  mo_sin_rcnt_rev_tl_op                       float64\n",
      " 87  mo_sin_rcnt_tl                              float64\n",
      " 88  mort_acc                                    float64\n",
      " 89  mths_since_recent_bc                        float64\n",
      " 90  mths_since_recent_bc_dlq                    float64\n",
      " 91  mths_since_recent_inq                       float64\n",
      " 92  mths_since_recent_revol_delinq              float64\n",
      " 93  num_accts_ever_120_pd                       float64\n",
      " 94  num_actv_bc_tl                              float64\n",
      " 95  num_actv_rev_tl                             float64\n",
      " 96  num_bc_sats                                 float64\n",
      " 97  num_bc_tl                                   float64\n",
      " 98  num_il_tl                                   float64\n",
      " 99  num_op_rev_tl                               float64\n",
      " 100 num_rev_accts                               float64\n",
      " 101 num_rev_tl_bal_gt_0                         float64\n",
      " 102 num_sats                                    float64\n",
      " 103 num_tl_120dpd_2m                            float64\n",
      " 104 num_tl_30dpd                                float64\n",
      " 105 num_tl_90g_dpd_24m                          float64\n",
      " 106 num_tl_op_past_12m                          float64\n",
      " 107 pct_tl_nvr_dlq                              float64\n",
      " 108 percent_bc_gt_75                            float64\n",
      " 109 pub_rec_bankruptcies                        float64\n",
      " 110 tax_liens                                   float64\n",
      " 111 tot_hi_cred_lim                             float64\n",
      " 112 total_bal_ex_mort                           float64\n",
      " 113 total_bc_limit                              float64\n",
      " 114 total_il_high_credit_limit                  float64\n",
      " 115 revol_bal_joint                             float64\n",
      " 116 sec_app_fico_range_low                      float64\n",
      " 117 sec_app_fico_range_high                     float64\n",
      " 118 sec_app_earliest_cr_line                    object \n",
      " 119 sec_app_inq_last_6mths                      float64\n",
      " 120 sec_app_mort_acc                            float64\n",
      " 121 sec_app_open_acc                            float64\n",
      " 122 sec_app_revol_util                          float64\n",
      " 123 sec_app_open_act_il                         float64\n",
      " 124 sec_app_num_rev_accts                       float64\n",
      " 125 sec_app_chargeoff_within_12_mths            float64\n",
      " 126 sec_app_collections_12_mths_ex_med          float64\n",
      " 127 sec_app_mths_since_last_major_derog         float64\n",
      " 128 hardship_flag                               object \n",
      " 129 hardship_type                               object \n",
      " 130 hardship_reason                             object \n",
      " 131 hardship_status                             object \n",
      " 132 deferral_term                               float64\n",
      " 133 hardship_amount                             float64\n",
      " 134 hardship_start_date                         object \n",
      " 135 hardship_end_date                           object \n",
      " 136 payment_plan_start_date                     object \n",
      " 137 hardship_length                             float64\n",
      " 138 hardship_dpd                                float64\n",
      " 139 hardship_loan_status                        object \n",
      " 140 orig_projected_additional_accrued_interest  float64\n",
      " 141 hardship_payoff_balance_amount              float64\n",
      " 142 hardship_last_payment_amount                float64\n",
      " 143 debt_settlement_flag                        object \n",
      " 144 debt_settlement_flag_date                   object \n",
      " 145 settlement_status                           object \n",
      " 146 settlement_date                             object \n",
      " 147 settlement_amount                           float64\n",
      " 148 settlement_percentage                       float64\n",
      " 149 settlement_term                             float64\n",
      "dtypes: float64(112), object(38)\n",
      "memory usage: 111.5+ MB\n"
     ]
    }
   ],
   "source": [
    "LC_raw.info(verbose=True)"
   ]
  },
  {
   "cell_type": "markdown",
   "metadata": {},
   "source": [
    "## Target variable\n",
    "\n",
    "Training data are from Q1, 2017; 3 years ago.  Most of the 3 year loans should be [Fully Paid or Charged off](https://help.lendingclub.com/hc/en-us/articles/215488038). Five-year loans can still be current. \n",
    "\n",
    "The length of the terms makes building training data a challenge, if I want to give five-year loans sufficient time to mature I have to use training data that is 5+ years old. Loans that old are unlikely to reflect current trends (they are not _representative_ to the loans being requested now). \n",
    "\n",
    "On the other hand choosing a short window will not show the entire picture; how many loans default after the first year or two?  \n",
    "\n",
    "I chose 3 years as a compromise.  \n",
    "\n",
    "Obviously, loans requested 3 years ago probably don't reflect current loans, we are in the middle of a global pandemic afterall. However, unbiased inference is always a problem in statistical modeling and is beyond the scope of this  analysis.\n",
    "\n",
    "The return on investment will be the 3-year total amount paid to date (total_pymnt) minus the initial investment.  This will be prorated to a \\\\$100 investment:\n",
    "\n",
    "ROI = (total_pymnt/loan_amnt - 1) * 100\n",
    "\n",
    "Example #1, loan ID 104160129 is a 3-year \"Fully Paid\" loan; the initial loan was \\\\$6000 (loan_amnt) and they paid \\\\$6553.12 (total_pymnt), so a \\\\$100 investment into this loan would net:\n",
    "\n",
    "> ROI = (6553.12/6000 - 1) * 100 = 9.22\n",
    "\n",
    "Example #2, loan ID 103952006 is a 5-year \"Charged off\" loan; the initial loan was \\\\$14000 (loan_amnt) and they paid \\\\$6,388.30 (total_pymnt) prior to defaulting, so a \\\\$100 investment into this loan would net:\n",
    "\n",
    "> ROI = (6388.30/14000 - 1) * 100 = -54.13\n"
   ]
  },
  {
   "cell_type": "code",
   "execution_count": 8,
   "metadata": {},
   "outputs": [],
   "source": [
    "LC_raw['roi']=(LC_raw.total_pymnt/LC_raw.loan_amnt - 1) * 100"
   ]
  },
  {
   "cell_type": "code",
   "execution_count": 9,
   "metadata": {},
   "outputs": [
    {
     "data": {
      "text/plain": [
       "0         9.218622\n",
       "1         1.663546\n",
       "2       -54.369286\n",
       "3         5.775280\n",
       "4        17.876046\n",
       "           ...    \n",
       "96774    26.626001\n",
       "96775    12.254860\n",
       "96776    13.132206\n",
       "96777    26.979562\n",
       "96778   -52.156096\n",
       "Name: roi, Length: 96779, dtype: float64"
      ]
     },
     "execution_count": 9,
     "metadata": {},
     "output_type": "execute_result"
    }
   ],
   "source": [
    "LC_raw.roi"
   ]
  },
  {
   "cell_type": "code",
   "execution_count": 10,
   "metadata": {},
   "outputs": [
    {
     "data": {
      "text/plain": [
       "<matplotlib.axes._subplots.AxesSubplot at 0x7f283bf38790>"
      ]
     },
     "execution_count": 10,
     "metadata": {},
     "output_type": "execute_result"
    },
    {
     "data": {
      "image/png": "[encoded data removed]",
      "text/plain": [
       "<Figure size 432x288 with 1 Axes>"
      ]
     },
     "metadata": {
      "needs_background": "light"
     },
     "output_type": "display_data"
    }
   ],
   "source": [
    "LC_raw.roi.plot.hist()"
   ]
  },
  {
   "cell_type": "code",
   "execution_count": 11,
   "metadata": {},
   "outputs": [
    {
     "data": {
      "text/plain": [
       "0"
      ]
     },
     "execution_count": 11,
     "metadata": {},
     "output_type": "execute_result"
    }
   ],
   "source": [
    "LC_raw.roi.isna().sum()"
   ]
  },
  {
   "cell_type": "code",
   "execution_count": 12,
   "metadata": {},
   "outputs": [
    {
     "data": {
      "text/plain": [
       "'9,677,900'"
      ]
     },
     "execution_count": 12,
     "metadata": {},
     "output_type": "execute_result"
    }
   ],
   "source": [
    "# total investment $100 per loan\n",
    "\"{:,.0f}\".format(LC_raw.roi.count()*100)"
   ]
  },
  {
   "cell_type": "code",
   "execution_count": 13,
   "metadata": {},
   "outputs": [
    {
     "data": {
      "text/plain": [
       "'363,126'"
      ]
     },
     "execution_count": 13,
     "metadata": {},
     "output_type": "execute_result"
    }
   ],
   "source": [
    "# total return\n",
    "\"{:,.0f}\".format(LC_raw.roi.sum())"
   ]
  },
  {
   "cell_type": "code",
   "execution_count": 14,
   "metadata": {},
   "outputs": [
    {
     "data": {
      "text/plain": [
       "'0.038'"
      ]
     },
     "execution_count": 14,
     "metadata": {},
     "output_type": "execute_result"
    }
   ],
   "source": [
    "# not exactly a 7% return as advertised\n",
    "# obviously not a good idea to invest in all loans.\n",
    "\"{:,.3f}\".format(LC_raw.roi.sum()/(LC_raw.roi.count()*100))"
   ]
  },
  {
   "cell_type": "code",
   "execution_count": 15,
   "metadata": {},
   "outputs": [
    {
     "data": {
      "text/html": [
       "<div>\n",
       "<style scoped>\n",
       "    .dataframe tbody tr th:only-of-type {\n",
       "        vertical-align: middle;\n",
       "    }\n",
       "\n",
       "    .dataframe tbody tr th {\n",
       "        vertical-align: top;\n",
       "    }\n",
       "\n",
       "    .dataframe thead th {\n",
       "        text-align: right;\n",
       "    }\n",
       "</style>\n",
       "<table border=\"1\" class=\"dataframe\">\n",
       "  <thead>\n",
       "    <tr style=\"text-align: right;\">\n",
       "      <th></th>\n",
       "      <th>roi</th>\n",
       "    </tr>\n",
       "    <tr>\n",
       "      <th>grade</th>\n",
       "      <th></th>\n",
       "    </tr>\n",
       "  </thead>\n",
       "  <tbody>\n",
       "    <tr>\n",
       "      <th>A</th>\n",
       "      <td>0.060095</td>\n",
       "    </tr>\n",
       "    <tr>\n",
       "      <th>B</th>\n",
       "      <td>0.060608</td>\n",
       "    </tr>\n",
       "    <tr>\n",
       "      <th>C</th>\n",
       "      <td>0.018499</td>\n",
       "    </tr>\n",
       "    <tr>\n",
       "      <th>D</th>\n",
       "      <td>0.027083</td>\n",
       "    </tr>\n",
       "    <tr>\n",
       "      <th>E</th>\n",
       "      <td>0.018223</td>\n",
       "    </tr>\n",
       "    <tr>\n",
       "      <th>F</th>\n",
       "      <td>-0.015308</td>\n",
       "    </tr>\n",
       "    <tr>\n",
       "      <th>G</th>\n",
       "      <td>-0.054180</td>\n",
       "    </tr>\n",
       "  </tbody>\n",
       "</table>\n",
       "</div>"
      ],
      "text/plain": [
       "            roi\n",
       "grade          \n",
       "A      0.060095\n",
       "B      0.060608\n",
       "C      0.018499\n",
       "D      0.027083\n",
       "E      0.018223\n",
       "F     -0.015308\n",
       "G     -0.054180"
      ]
     },
     "execution_count": 15,
     "metadata": {},
     "output_type": "execute_result"
    }
   ],
   "source": [
    "LC_raw.groupby(by=\"grade\")[[\"roi\"]].sum()/(LC_raw.groupby(by=\"grade\")[[\"roi\"]].count()*100)"
   ]
  },
  {
   "cell_type": "code",
   "execution_count": 16,
   "metadata": {},
   "outputs": [
    {
     "data": {
      "text/html": [
       "<div>\n",
       "<style scoped>\n",
       "    .dataframe tbody tr th:only-of-type {\n",
       "        vertical-align: middle;\n",
       "    }\n",
       "\n",
       "    .dataframe tbody tr th {\n",
       "        vertical-align: top;\n",
       "    }\n",
       "\n",
       "    .dataframe thead th {\n",
       "        text-align: right;\n",
       "    }\n",
       "</style>\n",
       "<table border=\"1\" class=\"dataframe\">\n",
       "  <thead>\n",
       "    <tr style=\"text-align: right;\">\n",
       "      <th></th>\n",
       "      <th>roi</th>\n",
       "    </tr>\n",
       "    <tr>\n",
       "      <th>term</th>\n",
       "      <th></th>\n",
       "    </tr>\n",
       "  </thead>\n",
       "  <tbody>\n",
       "    <tr>\n",
       "      <th>36 months</th>\n",
       "      <td>0.071441</td>\n",
       "    </tr>\n",
       "    <tr>\n",
       "      <th>60 months</th>\n",
       "      <td>-0.063268</td>\n",
       "    </tr>\n",
       "  </tbody>\n",
       "</table>\n",
       "</div>"
      ],
      "text/plain": [
       "                 roi\n",
       "term                \n",
       " 36 months  0.071441\n",
       " 60 months -0.063268"
      ]
     },
     "execution_count": 16,
     "metadata": {},
     "output_type": "execute_result"
    }
   ],
   "source": [
    "LC_raw.groupby(by=\"term\")[[\"roi\"]].sum()/(LC_raw.groupby(by=\"term\")[[\"roi\"]].count()*100)"
   ]
  },
  {
   "cell_type": "code",
   "execution_count": 17,
   "metadata": {},
   "outputs": [
    {
     "data": {
      "text/html": [
       "<div>\n",
       "<style scoped>\n",
       "    .dataframe tbody tr th:only-of-type {\n",
       "        vertical-align: middle;\n",
       "    }\n",
       "\n",
       "    .dataframe tbody tr th {\n",
       "        vertical-align: top;\n",
       "    }\n",
       "\n",
       "    .dataframe thead th {\n",
       "        text-align: right;\n",
       "    }\n",
       "</style>\n",
       "<table border=\"1\" class=\"dataframe\">\n",
       "  <thead>\n",
       "    <tr style=\"text-align: right;\">\n",
       "      <th></th>\n",
       "      <th>term</th>\n",
       "      <th>loan_amnt</th>\n",
       "      <th>total_pymnt</th>\n",
       "      <th>roi</th>\n",
       "    </tr>\n",
       "  </thead>\n",
       "  <tbody>\n",
       "    <tr>\n",
       "      <th>66861</th>\n",
       "      <td>60 months</td>\n",
       "      <td>20000.0</td>\n",
       "      <td>35933.250000</td>\n",
       "      <td>79.666250</td>\n",
       "    </tr>\n",
       "    <tr>\n",
       "      <th>68496</th>\n",
       "      <td>60 months</td>\n",
       "      <td>12625.0</td>\n",
       "      <td>22279.775144</td>\n",
       "      <td>76.473466</td>\n",
       "    </tr>\n",
       "    <tr>\n",
       "      <th>15491</th>\n",
       "      <td>60 months</td>\n",
       "      <td>14400.0</td>\n",
       "      <td>25317.510000</td>\n",
       "      <td>75.816042</td>\n",
       "    </tr>\n",
       "    <tr>\n",
       "      <th>13115</th>\n",
       "      <td>60 months</td>\n",
       "      <td>20075.0</td>\n",
       "      <td>35275.780000</td>\n",
       "      <td>75.719950</td>\n",
       "    </tr>\n",
       "    <tr>\n",
       "      <th>59134</th>\n",
       "      <td>60 months</td>\n",
       "      <td>19600.0</td>\n",
       "      <td>34246.085988</td>\n",
       "      <td>74.724929</td>\n",
       "    </tr>\n",
       "    <tr>\n",
       "      <th>17243</th>\n",
       "      <td>60 months</td>\n",
       "      <td>12200.0</td>\n",
       "      <td>21259.730000</td>\n",
       "      <td>74.260082</td>\n",
       "    </tr>\n",
       "    <tr>\n",
       "      <th>23246</th>\n",
       "      <td>60 months</td>\n",
       "      <td>30000.0</td>\n",
       "      <td>52233.486763</td>\n",
       "      <td>74.111623</td>\n",
       "    </tr>\n",
       "    <tr>\n",
       "      <th>74467</th>\n",
       "      <td>60 months</td>\n",
       "      <td>35000.0</td>\n",
       "      <td>60904.586860</td>\n",
       "      <td>74.013105</td>\n",
       "    </tr>\n",
       "    <tr>\n",
       "      <th>23819</th>\n",
       "      <td>60 months</td>\n",
       "      <td>30000.0</td>\n",
       "      <td>52168.922706</td>\n",
       "      <td>73.896409</td>\n",
       "    </tr>\n",
       "    <tr>\n",
       "      <th>55653</th>\n",
       "      <td>60 months</td>\n",
       "      <td>15000.0</td>\n",
       "      <td>26049.354111</td>\n",
       "      <td>73.662361</td>\n",
       "    </tr>\n",
       "    <tr>\n",
       "      <th>15978</th>\n",
       "      <td>60 months</td>\n",
       "      <td>10400.0</td>\n",
       "      <td>18028.623600</td>\n",
       "      <td>73.352150</td>\n",
       "    </tr>\n",
       "    <tr>\n",
       "      <th>40273</th>\n",
       "      <td>60 months</td>\n",
       "      <td>29400.0</td>\n",
       "      <td>50884.258778</td>\n",
       "      <td>73.075710</td>\n",
       "    </tr>\n",
       "    <tr>\n",
       "      <th>93679</th>\n",
       "      <td>60 months</td>\n",
       "      <td>11200.0</td>\n",
       "      <td>19379.953475</td>\n",
       "      <td>73.035299</td>\n",
       "    </tr>\n",
       "    <tr>\n",
       "      <th>59621</th>\n",
       "      <td>60 months</td>\n",
       "      <td>30000.0</td>\n",
       "      <td>51906.030000</td>\n",
       "      <td>73.020100</td>\n",
       "    </tr>\n",
       "    <tr>\n",
       "      <th>29461</th>\n",
       "      <td>60 months</td>\n",
       "      <td>12000.0</td>\n",
       "      <td>20760.685669</td>\n",
       "      <td>73.005714</td>\n",
       "    </tr>\n",
       "    <tr>\n",
       "      <th>65583</th>\n",
       "      <td>60 months</td>\n",
       "      <td>12000.0</td>\n",
       "      <td>20756.420000</td>\n",
       "      <td>72.970167</td>\n",
       "    </tr>\n",
       "    <tr>\n",
       "      <th>91432</th>\n",
       "      <td>60 months</td>\n",
       "      <td>20000.0</td>\n",
       "      <td>34588.691726</td>\n",
       "      <td>72.943459</td>\n",
       "    </tr>\n",
       "    <tr>\n",
       "      <th>68551</th>\n",
       "      <td>60 months</td>\n",
       "      <td>33000.0</td>\n",
       "      <td>56841.680331</td>\n",
       "      <td>72.247516</td>\n",
       "    </tr>\n",
       "    <tr>\n",
       "      <th>90627</th>\n",
       "      <td>60 months</td>\n",
       "      <td>11575.0</td>\n",
       "      <td>19926.454923</td>\n",
       "      <td>72.150798</td>\n",
       "    </tr>\n",
       "    <tr>\n",
       "      <th>40060</th>\n",
       "      <td>60 months</td>\n",
       "      <td>35000.0</td>\n",
       "      <td>60170.362297</td>\n",
       "      <td>71.915321</td>\n",
       "    </tr>\n",
       "  </tbody>\n",
       "</table>\n",
       "</div>"
      ],
      "text/plain": [
       "             term  loan_amnt   total_pymnt        roi\n",
       "66861   60 months    20000.0  35933.250000  79.666250\n",
       "68496   60 months    12625.0  22279.775144  76.473466\n",
       "15491   60 months    14400.0  25317.510000  75.816042\n",
       "13115   60 months    20075.0  35275.780000  75.719950\n",
       "59134   60 months    19600.0  34246.085988  74.724929\n",
       "17243   60 months    12200.0  21259.730000  74.260082\n",
       "23246   60 months    30000.0  52233.486763  74.111623\n",
       "74467   60 months    35000.0  60904.586860  74.013105\n",
       "23819   60 months    30000.0  52168.922706  73.896409\n",
       "55653   60 months    15000.0  26049.354111  73.662361\n",
       "15978   60 months    10400.0  18028.623600  73.352150\n",
       "40273   60 months    29400.0  50884.258778  73.075710\n",
       "93679   60 months    11200.0  19379.953475  73.035299\n",
       "59621   60 months    30000.0  51906.030000  73.020100\n",
       "29461   60 months    12000.0  20760.685669  73.005714\n",
       "65583   60 months    12000.0  20756.420000  72.970167\n",
       "91432   60 months    20000.0  34588.691726  72.943459\n",
       "68551   60 months    33000.0  56841.680331  72.247516\n",
       "90627   60 months    11575.0  19926.454923  72.150798\n",
       "40060   60 months    35000.0  60170.362297  71.915321"
      ]
     },
     "execution_count": 17,
     "metadata": {},
     "output_type": "execute_result"
    }
   ],
   "source": [
    "LC_raw.sort_values(by='roi',ascending=False)[['term','loan_amnt','total_pymnt','roi']].head(20)"
   ]
  },
  {
   "cell_type": "code",
   "execution_count": 18,
   "metadata": {},
   "outputs": [
    {
     "data": {
      "text/plain": [
       "<matplotlib.axes._subplots.AxesSubplot at 0x7f2832190110>"
      ]
     },
     "execution_count": 18,
     "metadata": {},
     "output_type": "execute_result"
    },
    {
     "data": {
      "image/png": "[encoded data removed]",
      "text/plain": [
       "<Figure size 432x288 with 1 Axes>"
      ]
     },
     "metadata": {
      "needs_background": "light"
     },
     "output_type": "display_data"
    }
   ],
   "source": [
    "# data is biased because it only includes funded loans.  Clearly some loans will not get funded\n",
    "import seaborn as sb\n",
    "sb.boxplot(x=LC_raw.grade,y=LC_raw.roi)"
   ]
  },
  {
   "cell_type": "markdown",
   "metadata": {},
   "source": [
    "### Feature EDA\n",
    "\n",
    "Full data list is [here](https://docs.google.com/spreadsheets/d/16fqmVyjloON5Efo51wHtyNodsNwEPvSzkYsUP0QoZm4/edit#gid=1283882092) and sample data [here](https://docs.google.com/spreadsheets/d/13wa-cJcNWSenJAEBTVo9u0DpoiBe7ruVIAiPA2sDnyE/edit#gid=1876307080). From the initial list of data I took the following steps:\n",
    "1. Narrowed down features from the long list of variables, focusing on features that are avaliable at the time the loan is being requested. In the end, I ended up with 38 features.\n",
    "2. Classified features as either _continuous_ (including ints values for the most part) or _discrete_\n",
    "3. Create graphs and identified any transformations\n",
    "4. looked for nulls and impute \n",
    "\n",
    "For the most part these data are amazingly well behaved. Only need a few transformations and imputations. \n",
    "\n",
    "\"Coded\" list of features are in the [Data Dictionary](https://docs.google.com/spreadsheets/d/16fqmVyjloON5Efo51wHtyNodsNwEPvSzkYsUP0QoZm4/edit#gid=1283882092).\n",
    "\n",
    "More details & visualizations of the EDA are in Appendix A."
   ]
  },
  {
   "cell_type": "markdown",
   "metadata": {},
   "source": [
    "#### Categorical variables One-hot encoding \n",
    "\n",
    "For the random forest I will use one-hot encoding for all categorical variables.  This will create many hundreds of features to contrast with the embeddings approach.\n",
    "\n",
    "1.  I include zip-code which is the source of most dummy variables -- the resulting small sample sizes and high cardinality is going to be very difficult for small trees to use effectively.\n",
    "2.  Term is a categorical variable\n",
    "3.  sub-grade is a subset of grade and is [colinear to the interest rate](https://www.lendingclub.com/investing/investor-education/interest-rates-and-fees)"
   ]
  },
  {
   "cell_type": "code",
   "execution_count": 19,
   "metadata": {},
   "outputs": [
    {
     "data": {
      "text/plain": [
       " 36 months    72410\n",
       " 60 months    24369\n",
       "Name: term, dtype: int64"
      ]
     },
     "execution_count": 19,
     "metadata": {},
     "output_type": "execute_result"
    }
   ],
   "source": [
    "LC_raw['term'].value_counts()"
   ]
  },
  {
   "cell_type": "code",
   "execution_count": 20,
   "metadata": {},
   "outputs": [
    {
     "data": {
      "text/plain": [
       "<matplotlib.axes._subplots.AxesSubplot at 0x7f282cdd8a90>"
      ]
     },
     "execution_count": 20,
     "metadata": {},
     "output_type": "execute_result"
    },
    {
     "data": {
      "image/png": "[encoded data removed]",
      "text/plain": [
       "<Figure size 432x288 with 1 Axes>"
      ]
     },
     "metadata": {
      "needs_background": "light"
     },
     "output_type": "display_data"
    }
   ],
   "source": [
    "sb.boxplot(x=LC_raw.term,y=LC_raw.roi)"
   ]
  },
  {
   "cell_type": "code",
   "execution_count": 21,
   "metadata": {},
   "outputs": [
    {
     "data": {
      "text/html": [
       "<div>\n",
       "<style scoped>\n",
       "    .dataframe tbody tr th:only-of-type {\n",
       "        vertical-align: middle;\n",
       "    }\n",
       "\n",
       "    .dataframe tbody tr th {\n",
       "        vertical-align: top;\n",
       "    }\n",
       "\n",
       "    .dataframe thead th {\n",
       "        text-align: right;\n",
       "    }\n",
       "</style>\n",
       "<table border=\"1\" class=\"dataframe\">\n",
       "  <thead>\n",
       "    <tr style=\"text-align: right;\">\n",
       "      <th></th>\n",
       "      <th>roi</th>\n",
       "    </tr>\n",
       "    <tr>\n",
       "      <th>term</th>\n",
       "      <th></th>\n",
       "    </tr>\n",
       "  </thead>\n",
       "  <tbody>\n",
       "    <tr>\n",
       "      <th>36 months</th>\n",
       "      <td>0.071441</td>\n",
       "    </tr>\n",
       "    <tr>\n",
       "      <th>60 months</th>\n",
       "      <td>-0.063268</td>\n",
       "    </tr>\n",
       "  </tbody>\n",
       "</table>\n",
       "</div>"
      ],
      "text/plain": [
       "                 roi\n",
       "term                \n",
       " 36 months  0.071441\n",
       " 60 months -0.063268"
      ]
     },
     "execution_count": 21,
     "metadata": {},
     "output_type": "execute_result"
    }
   ],
   "source": [
    "LC_raw.groupby(by=\"term\")[[\"roi\"]].sum()/(LC_raw.groupby(by=\"term\")[[\"roi\"]].count()*100)"
   ]
  },
  {
   "cell_type": "code",
   "execution_count": 22,
   "metadata": {},
   "outputs": [
    {
     "data": {
      "text/plain": [
       "10+ years    33365\n",
       "2 years       9052\n",
       "3 years       8180\n",
       "< 1 year      6951\n",
       "1 year        6421\n",
       "5 years       6042\n",
       "4 years       5727\n",
       "6 years       4248\n",
       "9 years       3580\n",
       "7 years       3222\n",
       "8 years       3199\n",
       "Name: emp_length, dtype: int64"
      ]
     },
     "execution_count": 22,
     "metadata": {},
     "output_type": "execute_result"
    }
   ],
   "source": [
    "LC_raw['emp_length'].value_counts()"
   ]
  },
  {
   "cell_type": "code",
   "execution_count": 23,
   "metadata": {},
   "outputs": [
    {
     "data": {
      "text/plain": [
       "<matplotlib.axes._subplots.AxesSubplot at 0x7f2832089f10>"
      ]
     },
     "execution_count": 23,
     "metadata": {},
     "output_type": "execute_result"
    },
    {
     "data": {
      "image/png": "[encoded data removed]",
      "text/plain": [
       "<Figure size 432x288 with 1 Axes>"
      ]
     },
     "metadata": {
      "needs_background": "light"
     },
     "output_type": "display_data"
    }
   ],
   "source": [
    "sb.boxplot(x=LC_raw.emp_length,y=LC_raw.roi)"
   ]
  },
  {
   "cell_type": "code",
   "execution_count": 24,
   "metadata": {},
   "outputs": [
    {
     "data": {
      "text/html": [
       "<div>\n",
       "<style scoped>\n",
       "    .dataframe tbody tr th:only-of-type {\n",
       "        vertical-align: middle;\n",
       "    }\n",
       "\n",
       "    .dataframe tbody tr th {\n",
       "        vertical-align: top;\n",
       "    }\n",
       "\n",
       "    .dataframe thead th {\n",
       "        text-align: right;\n",
       "    }\n",
       "</style>\n",
       "<table border=\"1\" class=\"dataframe\">\n",
       "  <thead>\n",
       "    <tr style=\"text-align: right;\">\n",
       "      <th></th>\n",
       "      <th>roi</th>\n",
       "    </tr>\n",
       "    <tr>\n",
       "      <th>emp_length</th>\n",
       "      <th></th>\n",
       "    </tr>\n",
       "  </thead>\n",
       "  <tbody>\n",
       "    <tr>\n",
       "      <th>1 year</th>\n",
       "      <td>0.036420</td>\n",
       "    </tr>\n",
       "    <tr>\n",
       "      <th>10+ years</th>\n",
       "      <td>0.039755</td>\n",
       "    </tr>\n",
       "    <tr>\n",
       "      <th>2 years</th>\n",
       "      <td>0.039316</td>\n",
       "    </tr>\n",
       "    <tr>\n",
       "      <th>3 years</th>\n",
       "      <td>0.041003</td>\n",
       "    </tr>\n",
       "    <tr>\n",
       "      <th>4 years</th>\n",
       "      <td>0.042366</td>\n",
       "    </tr>\n",
       "    <tr>\n",
       "      <th>5 years</th>\n",
       "      <td>0.034735</td>\n",
       "    </tr>\n",
       "    <tr>\n",
       "      <th>6 years</th>\n",
       "      <td>0.034969</td>\n",
       "    </tr>\n",
       "    <tr>\n",
       "      <th>7 years</th>\n",
       "      <td>0.029341</td>\n",
       "    </tr>\n",
       "    <tr>\n",
       "      <th>8 years</th>\n",
       "      <td>0.044841</td>\n",
       "    </tr>\n",
       "    <tr>\n",
       "      <th>9 years</th>\n",
       "      <td>0.038019</td>\n",
       "    </tr>\n",
       "    <tr>\n",
       "      <th>&lt; 1 year</th>\n",
       "      <td>0.040930</td>\n",
       "    </tr>\n",
       "  </tbody>\n",
       "</table>\n",
       "</div>"
      ],
      "text/plain": [
       "                 roi\n",
       "emp_length          \n",
       "1 year      0.036420\n",
       "10+ years   0.039755\n",
       "2 years     0.039316\n",
       "3 years     0.041003\n",
       "4 years     0.042366\n",
       "5 years     0.034735\n",
       "6 years     0.034969\n",
       "7 years     0.029341\n",
       "8 years     0.044841\n",
       "9 years     0.038019\n",
       "< 1 year    0.040930"
      ]
     },
     "execution_count": 24,
     "metadata": {},
     "output_type": "execute_result"
    }
   ],
   "source": [
    "LC_raw.groupby(by=\"emp_length\")[[\"roi\"]].sum()/(LC_raw.groupby(by=\"emp_length\")[[\"roi\"]].count()*100)"
   ]
  },
  {
   "cell_type": "code",
   "execution_count": 25,
   "metadata": {},
   "outputs": [
    {
     "data": {
      "text/plain": [
       "Teacher                     1813\n",
       "Manager                     1620\n",
       "Owner                       1398\n",
       "Driver                       756\n",
       "Registered Nurse             728\n",
       "RN                           724\n",
       "Sales                        682\n",
       "Supervisor                   595\n",
       "Project Manager              542\n",
       "owner                        479\n",
       "General Manager              469\n",
       "Director                     462\n",
       "Office Manager               448\n",
       "President                    414\n",
       "Operations Manager           317\n",
       "teacher                      316\n",
       "Engineer                     314\n",
       "manager                      287\n",
       "Vice President               285\n",
       "Sales Manager                275\n",
       "Supervisor                   271\n",
       "Attorney                     268\n",
       "Accountant                   257\n",
       "Nurse                        239\n",
       "Truck Driver                 225\n",
       "Administrative Assistant     219\n",
       "Police Officer               212\n",
       "Account Manager              211\n",
       "Executive Assistant          204\n",
       "driver                       203\n",
       "Technician                   200\n",
       "Server                       190\n",
       "Analyst                      184\n",
       "Paralegal                    180\n",
       "CEO                          177\n",
       "Mechanic                     176\n",
       "Foreman                      170\n",
       "Controller                   169\n",
       "Consultant                   165\n",
       "Store Manager                164\n",
       "Program Manager              162\n",
       "Software Engineer            157\n",
       "Branch Manager               150\n",
       "Electrician                  142\n",
       "Administrator                139\n",
       "sales                        137\n",
       "Principal                    137\n",
       "Manager                      137\n",
       "Assistant Manager            136\n",
       "supervisor                   125\n",
       "Executive Director           124\n",
       "Truck driver                 124\n",
       "Registered nurse             123\n",
       "LPN                          123\n",
       "IT Manager                   123\n",
       "Operator                     120\n",
       "truck driver                 118\n",
       "Realtor                      118\n",
       "Account Executive            115\n",
       "Professor                    113\n",
       "Name: emp_title, dtype: int64"
      ]
     },
     "execution_count": 25,
     "metadata": {},
     "output_type": "execute_result"
    }
   ],
   "source": [
    "LC_raw['emp_title'].value_counts().size\n",
    "LC_raw['emp_title'].value_counts().head(60)\n",
    "\n",
    "# Categorical TRANSFORMATION: collapse?"
   ]
  },
  {
   "cell_type": "code",
   "execution_count": 26,
   "metadata": {},
   "outputs": [
    {
     "data": {
      "text/plain": [
       "MORTGAGE    48083\n",
       "RENT        37179\n",
       "OWN         11135\n",
       "ANY           381\n",
       "NONE            1\n",
       "Name: home_ownership, dtype: int64"
      ]
     },
     "execution_count": 26,
     "metadata": {},
     "output_type": "execute_result"
    }
   ],
   "source": [
    "LC_raw['home_ownership'].value_counts().size\n",
    "LC_raw['home_ownership'].value_counts().head(60)\n",
    "\n",
    "# Categorical transformation: REMOVE NONE"
   ]
  },
  {
   "cell_type": "code",
   "execution_count": 27,
   "metadata": {},
   "outputs": [
    {
     "data": {
      "text/plain": [
       "<matplotlib.axes._subplots.AxesSubplot at 0x7f2831edcc90>"
      ]
     },
     "execution_count": 27,
     "metadata": {},
     "output_type": "execute_result"
    },
    {
     "data": {
      "image/png": "[encoded data removed]",
      "text/plain": [
       "<Figure size 432x288 with 1 Axes>"
      ]
     },
     "metadata": {
      "needs_background": "light"
     },
     "output_type": "display_data"
    }
   ],
   "source": [
    "sb.boxplot(x=LC_raw.home_ownership,y=LC_raw.roi)"
   ]
  },
  {
   "cell_type": "code",
   "execution_count": 28,
   "metadata": {},
   "outputs": [
    {
     "data": {
      "text/html": [
       "<div>\n",
       "<style scoped>\n",
       "    .dataframe tbody tr th:only-of-type {\n",
       "        vertical-align: middle;\n",
       "    }\n",
       "\n",
       "    .dataframe tbody tr th {\n",
       "        vertical-align: top;\n",
       "    }\n",
       "\n",
       "    .dataframe thead th {\n",
       "        text-align: right;\n",
       "    }\n",
       "</style>\n",
       "<table border=\"1\" class=\"dataframe\">\n",
       "  <thead>\n",
       "    <tr style=\"text-align: right;\">\n",
       "      <th></th>\n",
       "      <th>roi</th>\n",
       "    </tr>\n",
       "    <tr>\n",
       "      <th>home_ownership</th>\n",
       "      <th></th>\n",
       "    </tr>\n",
       "  </thead>\n",
       "  <tbody>\n",
       "    <tr>\n",
       "      <th>ANY</th>\n",
       "      <td>0.058835</td>\n",
       "    </tr>\n",
       "    <tr>\n",
       "      <th>MORTGAGE</th>\n",
       "      <td>0.038399</td>\n",
       "    </tr>\n",
       "    <tr>\n",
       "      <th>NONE</th>\n",
       "      <td>0.083622</td>\n",
       "    </tr>\n",
       "    <tr>\n",
       "      <th>OWN</th>\n",
       "      <td>0.042764</td>\n",
       "    </tr>\n",
       "    <tr>\n",
       "      <th>RENT</th>\n",
       "      <td>0.034596</td>\n",
       "    </tr>\n",
       "  </tbody>\n",
       "</table>\n",
       "</div>"
      ],
      "text/plain": [
       "                     roi\n",
       "home_ownership          \n",
       "ANY             0.058835\n",
       "MORTGAGE        0.038399\n",
       "NONE            0.083622\n",
       "OWN             0.042764\n",
       "RENT            0.034596"
      ]
     },
     "execution_count": 28,
     "metadata": {},
     "output_type": "execute_result"
    }
   ],
   "source": [
    "LC_raw.groupby(by=\"home_ownership\")[[\"roi\"]].sum()/(LC_raw.groupby(by=\"home_ownership\")[[\"roi\"]].count()*100)"
   ]
  },
  {
   "cell_type": "code",
   "execution_count": 29,
   "metadata": {},
   "outputs": [
    {
     "data": {
      "text/plain": [
       "debt_consolidation    54811\n",
       "credit_card           21009\n",
       "home_improvement       7059\n",
       "other                  6131\n",
       "major_purchase         2172\n",
       "medical                1353\n",
       "small_business         1145\n",
       "car                    1118\n",
       "vacation                780\n",
       "moving                  704\n",
       "house                   429\n",
       "renewable_energy         68\n",
       "Name: purpose, dtype: int64"
      ]
     },
     "execution_count": 29,
     "metadata": {},
     "output_type": "execute_result"
    }
   ],
   "source": [
    "LC_raw['purpose'].value_counts().size\n",
    "LC_raw['purpose'].value_counts().head(60)"
   ]
  },
  {
   "cell_type": "code",
   "execution_count": 30,
   "metadata": {},
   "outputs": [
    {
     "data": {
      "text/plain": [
       "<matplotlib.axes._subplots.AxesSubplot at 0x7f2831ddf4d0>"
      ]
     },
     "execution_count": 30,
     "metadata": {},
     "output_type": "execute_result"
    },
    {
     "data": {
      "image/png": "[encoded data removed]",
      "text/plain": [
       "<Figure size 432x288 with 1 Axes>"
      ]
     },
     "metadata": {
      "needs_background": "light"
     },
     "output_type": "display_data"
    }
   ],
   "source": [
    "sb.boxplot(x=LC_raw.purpose,y=LC_raw.roi)"
   ]
  },
  {
   "cell_type": "code",
   "execution_count": 31,
   "metadata": {},
   "outputs": [
    {
     "data": {
      "text/html": [
       "<div>\n",
       "<style scoped>\n",
       "    .dataframe tbody tr th:only-of-type {\n",
       "        vertical-align: middle;\n",
       "    }\n",
       "\n",
       "    .dataframe tbody tr th {\n",
       "        vertical-align: top;\n",
       "    }\n",
       "\n",
       "    .dataframe thead th {\n",
       "        text-align: right;\n",
       "    }\n",
       "</style>\n",
       "<table border=\"1\" class=\"dataframe\">\n",
       "  <thead>\n",
       "    <tr style=\"text-align: right;\">\n",
       "      <th></th>\n",
       "      <th>roi</th>\n",
       "    </tr>\n",
       "    <tr>\n",
       "      <th>purpose</th>\n",
       "      <th></th>\n",
       "    </tr>\n",
       "  </thead>\n",
       "  <tbody>\n",
       "    <tr>\n",
       "      <th>car</th>\n",
       "      <td>0.066591</td>\n",
       "    </tr>\n",
       "    <tr>\n",
       "      <th>credit_card</th>\n",
       "      <td>0.038885</td>\n",
       "    </tr>\n",
       "    <tr>\n",
       "      <th>debt_consolidation</th>\n",
       "      <td>0.034165</td>\n",
       "    </tr>\n",
       "    <tr>\n",
       "      <th>home_improvement</th>\n",
       "      <td>0.037314</td>\n",
       "    </tr>\n",
       "    <tr>\n",
       "      <th>house</th>\n",
       "      <td>0.025365</td>\n",
       "    </tr>\n",
       "    <tr>\n",
       "      <th>major_purchase</th>\n",
       "      <td>0.042782</td>\n",
       "    </tr>\n",
       "    <tr>\n",
       "      <th>medical</th>\n",
       "      <td>0.032236</td>\n",
       "    </tr>\n",
       "    <tr>\n",
       "      <th>moving</th>\n",
       "      <td>0.055515</td>\n",
       "    </tr>\n",
       "    <tr>\n",
       "      <th>other</th>\n",
       "      <td>0.054671</td>\n",
       "    </tr>\n",
       "    <tr>\n",
       "      <th>renewable_energy</th>\n",
       "      <td>0.056443</td>\n",
       "    </tr>\n",
       "    <tr>\n",
       "      <th>small_business</th>\n",
       "      <td>0.034127</td>\n",
       "    </tr>\n",
       "    <tr>\n",
       "      <th>vacation</th>\n",
       "      <td>0.050335</td>\n",
       "    </tr>\n",
       "  </tbody>\n",
       "</table>\n",
       "</div>"
      ],
      "text/plain": [
       "                         roi\n",
       "purpose                     \n",
       "car                 0.066591\n",
       "credit_card         0.038885\n",
       "debt_consolidation  0.034165\n",
       "home_improvement    0.037314\n",
       "house               0.025365\n",
       "major_purchase      0.042782\n",
       "medical             0.032236\n",
       "moving              0.055515\n",
       "other               0.054671\n",
       "renewable_energy    0.056443\n",
       "small_business      0.034127\n",
       "vacation            0.050335"
      ]
     },
     "execution_count": 31,
     "metadata": {},
     "output_type": "execute_result"
    }
   ],
   "source": [
    "LC_raw.groupby(by=\"purpose\")[[\"roi\"]].sum()/(LC_raw.groupby(by=\"purpose\")[[\"roi\"]].count()*100)"
   ]
  },
  {
   "cell_type": "code",
   "execution_count": 32,
   "metadata": {},
   "outputs": [
    {
     "data": {
      "text/plain": [
       "Debt consolidation         54807\n",
       "Credit card refinancing    21017\n",
       "Home improvement            7058\n",
       "Other                       6130\n",
       "Major purchase              2167\n",
       "Medical expenses            1353\n",
       "Business                    1146\n",
       "Car financing               1121\n",
       "Vacation                     780\n",
       "Moving and relocation        704\n",
       "Home buying                  429\n",
       "Green loan                    67\n",
       "Name: title, dtype: int64"
      ]
     },
     "execution_count": 32,
     "metadata": {},
     "output_type": "execute_result"
    }
   ],
   "source": [
    "LC_raw['title'].value_counts().size\n",
    "LC_raw['title'].value_counts().head(60)"
   ]
  },
  {
   "cell_type": "code",
   "execution_count": 33,
   "metadata": {},
   "outputs": [
    {
     "data": {
      "text/html": [
       "<div>\n",
       "<style scoped>\n",
       "    .dataframe tbody tr th:only-of-type {\n",
       "        vertical-align: middle;\n",
       "    }\n",
       "\n",
       "    .dataframe tbody tr th {\n",
       "        vertical-align: top;\n",
       "    }\n",
       "\n",
       "    .dataframe thead th {\n",
       "        text-align: right;\n",
       "    }\n",
       "</style>\n",
       "<table border=\"1\" class=\"dataframe\">\n",
       "  <thead>\n",
       "    <tr style=\"text-align: right;\">\n",
       "      <th></th>\n",
       "      <th>roi</th>\n",
       "    </tr>\n",
       "    <tr>\n",
       "      <th>title</th>\n",
       "      <th></th>\n",
       "    </tr>\n",
       "  </thead>\n",
       "  <tbody>\n",
       "    <tr>\n",
       "      <th>Business</th>\n",
       "      <td>0.034113</td>\n",
       "    </tr>\n",
       "    <tr>\n",
       "      <th>Car financing</th>\n",
       "      <td>0.067080</td>\n",
       "    </tr>\n",
       "    <tr>\n",
       "      <th>Credit card refinancing</th>\n",
       "      <td>0.038941</td>\n",
       "    </tr>\n",
       "    <tr>\n",
       "      <th>Debt consolidation</th>\n",
       "      <td>0.034145</td>\n",
       "    </tr>\n",
       "    <tr>\n",
       "      <th>Green loan</th>\n",
       "      <td>0.052733</td>\n",
       "    </tr>\n",
       "    <tr>\n",
       "      <th>Home buying</th>\n",
       "      <td>0.025365</td>\n",
       "    </tr>\n",
       "    <tr>\n",
       "      <th>Home improvement</th>\n",
       "      <td>0.037286</td>\n",
       "    </tr>\n",
       "    <tr>\n",
       "      <th>Major purchase</th>\n",
       "      <td>0.042544</td>\n",
       "    </tr>\n",
       "    <tr>\n",
       "      <th>Medical expenses</th>\n",
       "      <td>0.032236</td>\n",
       "    </tr>\n",
       "    <tr>\n",
       "      <th>Moving and relocation</th>\n",
       "      <td>0.055515</td>\n",
       "    </tr>\n",
       "    <tr>\n",
       "      <th>Other</th>\n",
       "      <td>0.054715</td>\n",
       "    </tr>\n",
       "    <tr>\n",
       "      <th>Vacation</th>\n",
       "      <td>0.050335</td>\n",
       "    </tr>\n",
       "  </tbody>\n",
       "</table>\n",
       "</div>"
      ],
      "text/plain": [
       "                              roi\n",
       "title                            \n",
       "Business                 0.034113\n",
       "Car financing            0.067080\n",
       "Credit card refinancing  0.038941\n",
       "Debt consolidation       0.034145\n",
       "Green loan               0.052733\n",
       "Home buying              0.025365\n",
       "Home improvement         0.037286\n",
       "Major purchase           0.042544\n",
       "Medical expenses         0.032236\n",
       "Moving and relocation    0.055515\n",
       "Other                    0.054715\n",
       "Vacation                 0.050335"
      ]
     },
     "execution_count": 33,
     "metadata": {},
     "output_type": "execute_result"
    }
   ],
   "source": [
    "LC_raw.groupby(by=\"title\")[[\"roi\"]].sum()/(LC_raw.groupby(by=\"title\")[[\"roi\"]].count()*100)"
   ]
  },
  {
   "cell_type": "code",
   "execution_count": 34,
   "metadata": {},
   "outputs": [
    {
     "data": {
      "text/plain": [
       "Source Verified    39703\n",
       "Not Verified       29531\n",
       "Verified           27545\n",
       "Name: verification_status, dtype: int64"
      ]
     },
     "execution_count": 34,
     "metadata": {},
     "output_type": "execute_result"
    }
   ],
   "source": [
    "LC_raw['verification_status'].value_counts().head(60)"
   ]
  },
  {
   "cell_type": "code",
   "execution_count": 35,
   "metadata": {},
   "outputs": [
    {
     "data": {
      "text/html": [
       "<div>\n",
       "<style scoped>\n",
       "    .dataframe tbody tr th:only-of-type {\n",
       "        vertical-align: middle;\n",
       "    }\n",
       "\n",
       "    .dataframe tbody tr th {\n",
       "        vertical-align: top;\n",
       "    }\n",
       "\n",
       "    .dataframe thead th {\n",
       "        text-align: right;\n",
       "    }\n",
       "</style>\n",
       "<table border=\"1\" class=\"dataframe\">\n",
       "  <thead>\n",
       "    <tr style=\"text-align: right;\">\n",
       "      <th></th>\n",
       "      <th>roi</th>\n",
       "    </tr>\n",
       "    <tr>\n",
       "      <th>verification_status</th>\n",
       "      <th></th>\n",
       "    </tr>\n",
       "  </thead>\n",
       "  <tbody>\n",
       "    <tr>\n",
       "      <th>Not Verified</th>\n",
       "      <td>0.040441</td>\n",
       "    </tr>\n",
       "    <tr>\n",
       "      <th>Source Verified</th>\n",
       "      <td>0.044864</td>\n",
       "    </tr>\n",
       "    <tr>\n",
       "      <th>Verified</th>\n",
       "      <td>0.023808</td>\n",
       "    </tr>\n",
       "  </tbody>\n",
       "</table>\n",
       "</div>"
      ],
      "text/plain": [
       "                          roi\n",
       "verification_status          \n",
       "Not Verified         0.040441\n",
       "Source Verified      0.044864\n",
       "Verified             0.023808"
      ]
     },
     "execution_count": 35,
     "metadata": {},
     "output_type": "execute_result"
    }
   ],
   "source": [
    "LC_raw.groupby(by=\"verification_status\")[[\"roi\"]].sum()/(LC_raw.groupby(by=\"verification_status\")[[\"roi\"]].count()*100)"
   ]
  },
  {
   "cell_type": "markdown",
   "metadata": {},
   "source": [
    "### Create one-hot-encodings"
   ]
  },
  {
   "cell_type": "code",
   "execution_count": 36,
   "metadata": {},
   "outputs": [],
   "source": [
    "categorical_features = [\n",
    "    'term'\n",
    "    ,'emp_length'\n",
    "    ,'grade'\n",
    "    ,'home_ownership'\n",
    "    ,'purpose'\n",
    "    ,'sub_grade'\n",
    "    ,'title'\n",
    "    ,'verification_status'\n",
    "]\n",
    "\n",
    "# unable to do the one-hot on these:\n",
    "# 'zip_code',\n",
    "# 'addr_state',\n",
    "# ,'emp_title'"
   ]
  },
  {
   "cell_type": "code",
   "execution_count": 37,
   "metadata": {},
   "outputs": [
    {
     "data": {
      "text/html": [
       "<div>\n",
       "<style scoped>\n",
       "    .dataframe tbody tr th:only-of-type {\n",
       "        vertical-align: middle;\n",
       "    }\n",
       "\n",
       "    .dataframe tbody tr th {\n",
       "        vertical-align: top;\n",
       "    }\n",
       "\n",
       "    .dataframe thead th {\n",
       "        text-align: right;\n",
       "    }\n",
       "</style>\n",
       "<table border=\"1\" class=\"dataframe\">\n",
       "  <thead>\n",
       "    <tr style=\"text-align: right;\">\n",
       "      <th></th>\n",
       "      <th>id</th>\n",
       "      <th>member_id</th>\n",
       "      <th>loan_amnt</th>\n",
       "      <th>funded_amnt</th>\n",
       "      <th>funded_amnt_inv</th>\n",
       "      <th>term</th>\n",
       "      <th>int_rate</th>\n",
       "      <th>installment</th>\n",
       "      <th>grade</th>\n",
       "      <th>sub_grade</th>\n",
       "      <th>...</th>\n",
       "      <th>hardship_payoff_balance_amount</th>\n",
       "      <th>hardship_last_payment_amount</th>\n",
       "      <th>debt_settlement_flag</th>\n",
       "      <th>debt_settlement_flag_date</th>\n",
       "      <th>settlement_status</th>\n",
       "      <th>settlement_date</th>\n",
       "      <th>settlement_amount</th>\n",
       "      <th>settlement_percentage</th>\n",
       "      <th>settlement_term</th>\n",
       "      <th>roi</th>\n",
       "    </tr>\n",
       "  </thead>\n",
       "  <tbody>\n",
       "    <tr>\n",
       "      <th>0</th>\n",
       "      <td>104160129</td>\n",
       "      <td>NaN</td>\n",
       "      <td>6000.0</td>\n",
       "      <td>6000.0</td>\n",
       "      <td>6000.0</td>\n",
       "      <td>36 months</td>\n",
       "      <td>7.24%</td>\n",
       "      <td>185.93</td>\n",
       "      <td>A</td>\n",
       "      <td>A3</td>\n",
       "      <td>...</td>\n",
       "      <td>NaN</td>\n",
       "      <td>NaN</td>\n",
       "      <td>N</td>\n",
       "      <td>NaN</td>\n",
       "      <td>NaN</td>\n",
       "      <td>NaN</td>\n",
       "      <td>NaN</td>\n",
       "      <td>NaN</td>\n",
       "      <td>NaN</td>\n",
       "      <td>9.218622</td>\n",
       "    </tr>\n",
       "    <tr>\n",
       "      <th>1</th>\n",
       "      <td>104170260</td>\n",
       "      <td>NaN</td>\n",
       "      <td>17000.0</td>\n",
       "      <td>17000.0</td>\n",
       "      <td>17000.0</td>\n",
       "      <td>36 months</td>\n",
       "      <td>7.49%</td>\n",
       "      <td>528.73</td>\n",
       "      <td>A</td>\n",
       "      <td>A4</td>\n",
       "      <td>...</td>\n",
       "      <td>NaN</td>\n",
       "      <td>NaN</td>\n",
       "      <td>N</td>\n",
       "      <td>NaN</td>\n",
       "      <td>NaN</td>\n",
       "      <td>NaN</td>\n",
       "      <td>NaN</td>\n",
       "      <td>NaN</td>\n",
       "      <td>NaN</td>\n",
       "      <td>1.663546</td>\n",
       "    </tr>\n",
       "    <tr>\n",
       "      <th>2</th>\n",
       "      <td>103952006</td>\n",
       "      <td>NaN</td>\n",
       "      <td>14000.0</td>\n",
       "      <td>14000.0</td>\n",
       "      <td>14000.0</td>\n",
       "      <td>60 months</td>\n",
       "      <td>12.74%</td>\n",
       "      <td>316.69</td>\n",
       "      <td>C</td>\n",
       "      <td>C1</td>\n",
       "      <td>...</td>\n",
       "      <td>NaN</td>\n",
       "      <td>NaN</td>\n",
       "      <td>N</td>\n",
       "      <td>NaN</td>\n",
       "      <td>NaN</td>\n",
       "      <td>NaN</td>\n",
       "      <td>NaN</td>\n",
       "      <td>NaN</td>\n",
       "      <td>NaN</td>\n",
       "      <td>-54.369286</td>\n",
       "    </tr>\n",
       "    <tr>\n",
       "      <th>3</th>\n",
       "      <td>103347407</td>\n",
       "      <td>NaN</td>\n",
       "      <td>9900.0</td>\n",
       "      <td>9900.0</td>\n",
       "      <td>9900.0</td>\n",
       "      <td>36 months</td>\n",
       "      <td>5.32%</td>\n",
       "      <td>298.14</td>\n",
       "      <td>A</td>\n",
       "      <td>A1</td>\n",
       "      <td>...</td>\n",
       "      <td>NaN</td>\n",
       "      <td>NaN</td>\n",
       "      <td>N</td>\n",
       "      <td>NaN</td>\n",
       "      <td>NaN</td>\n",
       "      <td>NaN</td>\n",
       "      <td>NaN</td>\n",
       "      <td>NaN</td>\n",
       "      <td>NaN</td>\n",
       "      <td>5.775280</td>\n",
       "    </tr>\n",
       "    <tr>\n",
       "      <th>4</th>\n",
       "      <td>103470623</td>\n",
       "      <td>NaN</td>\n",
       "      <td>15400.0</td>\n",
       "      <td>15400.0</td>\n",
       "      <td>15400.0</td>\n",
       "      <td>60 months</td>\n",
       "      <td>11.39%</td>\n",
       "      <td>337.84</td>\n",
       "      <td>B</td>\n",
       "      <td>B3</td>\n",
       "      <td>...</td>\n",
       "      <td>NaN</td>\n",
       "      <td>NaN</td>\n",
       "      <td>N</td>\n",
       "      <td>NaN</td>\n",
       "      <td>NaN</td>\n",
       "      <td>NaN</td>\n",
       "      <td>NaN</td>\n",
       "      <td>NaN</td>\n",
       "      <td>NaN</td>\n",
       "      <td>17.876046</td>\n",
       "    </tr>\n",
       "  </tbody>\n",
       "</table>\n",
       "<p>5 rows × 151 columns</p>\n",
       "</div>"
      ],
      "text/plain": [
       "          id  member_id  loan_amnt  funded_amnt  funded_amnt_inv        term  \\\n",
       "0  104160129        NaN     6000.0       6000.0           6000.0   36 months   \n",
       "1  104170260        NaN    17000.0      17000.0          17000.0   36 months   \n",
       "2  103952006        NaN    14000.0      14000.0          14000.0   60 months   \n",
       "3  103347407        NaN     9900.0       9900.0           9900.0   36 months   \n",
       "4  103470623        NaN    15400.0      15400.0          15400.0   60 months   \n",
       "\n",
       "  int_rate  installment grade sub_grade  ... hardship_payoff_balance_amount  \\\n",
       "0    7.24%       185.93     A        A3  ...                            NaN   \n",
       "1    7.49%       528.73     A        A4  ...                            NaN   \n",
       "2   12.74%       316.69     C        C1  ...                            NaN   \n",
       "3    5.32%       298.14     A        A1  ...                            NaN   \n",
       "4   11.39%       337.84     B        B3  ...                            NaN   \n",
       "\n",
       "  hardship_last_payment_amount debt_settlement_flag  \\\n",
       "0                          NaN                    N   \n",
       "1                          NaN                    N   \n",
       "2                          NaN                    N   \n",
       "3                          NaN                    N   \n",
       "4                          NaN                    N   \n",
       "\n",
       "   debt_settlement_flag_date settlement_status settlement_date  \\\n",
       "0                        NaN               NaN             NaN   \n",
       "1                        NaN               NaN             NaN   \n",
       "2                        NaN               NaN             NaN   \n",
       "3                        NaN               NaN             NaN   \n",
       "4                        NaN               NaN             NaN   \n",
       "\n",
       "  settlement_amount settlement_percentage settlement_term        roi  \n",
       "0               NaN                   NaN             NaN   9.218622  \n",
       "1               NaN                   NaN             NaN   1.663546  \n",
       "2               NaN                   NaN             NaN -54.369286  \n",
       "3               NaN                   NaN             NaN   5.775280  \n",
       "4               NaN                   NaN             NaN  17.876046  \n",
       "\n",
       "[5 rows x 151 columns]"
      ]
     },
     "execution_count": 37,
     "metadata": {},
     "output_type": "execute_result"
    }
   ],
   "source": [
    "LC_raw.head()"
   ]
  },
  {
   "cell_type": "code",
   "execution_count": 38,
   "metadata": {},
   "outputs": [],
   "source": [
    "# ok this did not work on my machine except for too small samples\n",
    "LC_train_catx = pd.get_dummies(LC_raw[categorical_features])\n",
    "\n",
    "# d1 = pd.get_dummies(LC_raw_cats[['term','emp_length']])\n",
    "# LC_raw['emp_title'].value_counts()\n",
    "# d2 = pd.get_dummies(LC_raw_cats[['emp_title']])"
   ]
  },
  {
   "cell_type": "code",
   "execution_count": 39,
   "metadata": {},
   "outputs": [
    {
     "data": {
      "text/html": [
       "<div>\n",
       "<style scoped>\n",
       "    .dataframe tbody tr th:only-of-type {\n",
       "        vertical-align: middle;\n",
       "    }\n",
       "\n",
       "    .dataframe tbody tr th {\n",
       "        vertical-align: top;\n",
       "    }\n",
       "\n",
       "    .dataframe thead th {\n",
       "        text-align: right;\n",
       "    }\n",
       "</style>\n",
       "<table border=\"1\" class=\"dataframe\">\n",
       "  <thead>\n",
       "    <tr style=\"text-align: right;\">\n",
       "      <th></th>\n",
       "      <th>term_ 36 months</th>\n",
       "      <th>term_ 60 months</th>\n",
       "      <th>emp_length_1 year</th>\n",
       "      <th>emp_length_10+ years</th>\n",
       "      <th>emp_length_2 years</th>\n",
       "      <th>emp_length_3 years</th>\n",
       "      <th>emp_length_4 years</th>\n",
       "      <th>emp_length_5 years</th>\n",
       "      <th>emp_length_6 years</th>\n",
       "      <th>emp_length_7 years</th>\n",
       "      <th>...</th>\n",
       "      <th>title_Home buying</th>\n",
       "      <th>title_Home improvement</th>\n",
       "      <th>title_Major purchase</th>\n",
       "      <th>title_Medical expenses</th>\n",
       "      <th>title_Moving and relocation</th>\n",
       "      <th>title_Other</th>\n",
       "      <th>title_Vacation</th>\n",
       "      <th>verification_status_Not Verified</th>\n",
       "      <th>verification_status_Source Verified</th>\n",
       "      <th>verification_status_Verified</th>\n",
       "    </tr>\n",
       "  </thead>\n",
       "  <tbody>\n",
       "    <tr>\n",
       "      <th>0</th>\n",
       "      <td>1</td>\n",
       "      <td>0</td>\n",
       "      <td>0</td>\n",
       "      <td>0</td>\n",
       "      <td>0</td>\n",
       "      <td>1</td>\n",
       "      <td>0</td>\n",
       "      <td>0</td>\n",
       "      <td>0</td>\n",
       "      <td>0</td>\n",
       "      <td>...</td>\n",
       "      <td>0</td>\n",
       "      <td>0</td>\n",
       "      <td>0</td>\n",
       "      <td>0</td>\n",
       "      <td>0</td>\n",
       "      <td>0</td>\n",
       "      <td>0</td>\n",
       "      <td>0</td>\n",
       "      <td>1</td>\n",
       "      <td>0</td>\n",
       "    </tr>\n",
       "    <tr>\n",
       "      <th>1</th>\n",
       "      <td>1</td>\n",
       "      <td>0</td>\n",
       "      <td>0</td>\n",
       "      <td>1</td>\n",
       "      <td>0</td>\n",
       "      <td>0</td>\n",
       "      <td>0</td>\n",
       "      <td>0</td>\n",
       "      <td>0</td>\n",
       "      <td>0</td>\n",
       "      <td>...</td>\n",
       "      <td>0</td>\n",
       "      <td>0</td>\n",
       "      <td>0</td>\n",
       "      <td>0</td>\n",
       "      <td>0</td>\n",
       "      <td>0</td>\n",
       "      <td>0</td>\n",
       "      <td>1</td>\n",
       "      <td>0</td>\n",
       "      <td>0</td>\n",
       "    </tr>\n",
       "    <tr>\n",
       "      <th>2</th>\n",
       "      <td>0</td>\n",
       "      <td>1</td>\n",
       "      <td>0</td>\n",
       "      <td>0</td>\n",
       "      <td>0</td>\n",
       "      <td>0</td>\n",
       "      <td>0</td>\n",
       "      <td>0</td>\n",
       "      <td>0</td>\n",
       "      <td>0</td>\n",
       "      <td>...</td>\n",
       "      <td>0</td>\n",
       "      <td>0</td>\n",
       "      <td>0</td>\n",
       "      <td>0</td>\n",
       "      <td>0</td>\n",
       "      <td>0</td>\n",
       "      <td>0</td>\n",
       "      <td>1</td>\n",
       "      <td>0</td>\n",
       "      <td>0</td>\n",
       "    </tr>\n",
       "    <tr>\n",
       "      <th>3</th>\n",
       "      <td>1</td>\n",
       "      <td>0</td>\n",
       "      <td>0</td>\n",
       "      <td>1</td>\n",
       "      <td>0</td>\n",
       "      <td>0</td>\n",
       "      <td>0</td>\n",
       "      <td>0</td>\n",
       "      <td>0</td>\n",
       "      <td>0</td>\n",
       "      <td>...</td>\n",
       "      <td>0</td>\n",
       "      <td>0</td>\n",
       "      <td>0</td>\n",
       "      <td>0</td>\n",
       "      <td>0</td>\n",
       "      <td>0</td>\n",
       "      <td>0</td>\n",
       "      <td>1</td>\n",
       "      <td>0</td>\n",
       "      <td>0</td>\n",
       "    </tr>\n",
       "    <tr>\n",
       "      <th>4</th>\n",
       "      <td>0</td>\n",
       "      <td>1</td>\n",
       "      <td>0</td>\n",
       "      <td>1</td>\n",
       "      <td>0</td>\n",
       "      <td>0</td>\n",
       "      <td>0</td>\n",
       "      <td>0</td>\n",
       "      <td>0</td>\n",
       "      <td>0</td>\n",
       "      <td>...</td>\n",
       "      <td>0</td>\n",
       "      <td>0</td>\n",
       "      <td>0</td>\n",
       "      <td>0</td>\n",
       "      <td>0</td>\n",
       "      <td>0</td>\n",
       "      <td>0</td>\n",
       "      <td>1</td>\n",
       "      <td>0</td>\n",
       "      <td>0</td>\n",
       "    </tr>\n",
       "  </tbody>\n",
       "</table>\n",
       "<p>5 rows × 87 columns</p>\n",
       "</div>"
      ],
      "text/plain": [
       "   term_ 36 months  term_ 60 months  emp_length_1 year  emp_length_10+ years  \\\n",
       "0                1                0                  0                     0   \n",
       "1                1                0                  0                     1   \n",
       "2                0                1                  0                     0   \n",
       "3                1                0                  0                     1   \n",
       "4                0                1                  0                     1   \n",
       "\n",
       "   emp_length_2 years  emp_length_3 years  emp_length_4 years  \\\n",
       "0                   0                   1                   0   \n",
       "1                   0                   0                   0   \n",
       "2                   0                   0                   0   \n",
       "3                   0                   0                   0   \n",
       "4                   0                   0                   0   \n",
       "\n",
       "   emp_length_5 years  emp_length_6 years  emp_length_7 years  ...  \\\n",
       "0                   0                   0                   0  ...   \n",
       "1                   0                   0                   0  ...   \n",
       "2                   0                   0                   0  ...   \n",
       "3                   0                   0                   0  ...   \n",
       "4                   0                   0                   0  ...   \n",
       "\n",
       "   title_Home buying  title_Home improvement  title_Major purchase  \\\n",
       "0                  0                       0                     0   \n",
       "1                  0                       0                     0   \n",
       "2                  0                       0                     0   \n",
       "3                  0                       0                     0   \n",
       "4                  0                       0                     0   \n",
       "\n",
       "   title_Medical expenses  title_Moving and relocation  title_Other  \\\n",
       "0                       0                            0            0   \n",
       "1                       0                            0            0   \n",
       "2                       0                            0            0   \n",
       "3                       0                            0            0   \n",
       "4                       0                            0            0   \n",
       "\n",
       "   title_Vacation  verification_status_Not Verified  \\\n",
       "0               0                                 0   \n",
       "1               0                                 1   \n",
       "2               0                                 1   \n",
       "3               0                                 1   \n",
       "4               0                                 1   \n",
       "\n",
       "   verification_status_Source Verified  verification_status_Verified  \n",
       "0                                    1                             0  \n",
       "1                                    0                             0  \n",
       "2                                    0                             0  \n",
       "3                                    0                             0  \n",
       "4                                    0                             0  \n",
       "\n",
       "[5 rows x 87 columns]"
      ]
     },
     "execution_count": 39,
     "metadata": {},
     "output_type": "execute_result"
    }
   ],
   "source": [
    "LC_train_catx.head()"
   ]
  },
  {
   "cell_type": "code",
   "execution_count": 40,
   "metadata": {},
   "outputs": [
    {
     "data": {
      "text/plain": [
       "87"
      ]
     },
     "execution_count": 40,
     "metadata": {},
     "output_type": "execute_result"
    }
   ],
   "source": [
    "len(LC_train_catx.columns)"
   ]
  },
  {
   "cell_type": "markdown",
   "metadata": {},
   "source": [
    "#### Continuous features\n",
    "\n",
    "Only a few require transformations:\n",
    "1. Several convert to 0/1 since they have very few non-zero entries.\n",
    "2. Interest rate needs to be converted to a float value.\n",
    "3. Some of these probably could use a log or sqrt transformation but I am going to ignore the skewness for now. I should update later. _**tag:TODO=deal with skewness**_"
   ]
  },
  {
   "cell_type": "code",
   "execution_count": 41,
   "metadata": {},
   "outputs": [],
   "source": [
    "LC_train_numx = LC_raw[['int_rate',\n",
    "'annual_inc',\n",
    "'delinq_2yrs',\n",
    "'dti',\n",
    "'fico_range_high',\n",
    "'fico_range_low',\n",
    "'inq_last_6mths',\n",
    "'loan_amnt',\n",
    "'mths_since_last_delinq',\n",
    "'mths_since_last_record',\n",
    "'open_acc',\n",
    "'pub_rec',\n",
    "'total_acc',\n",
    "'total_bal_ex_mort',\n",
    "'acc_now_delinq',\n",
    "'installment',\n",
    "'collections_12_mths_ex_med',\n",
    "'inq_last_12m',\n",
    "'num_bc_tl',\n",
    "'num_op_rev_tl',\n",
    "'num_tl_op_past_12m',\n",
    "'percent_bc_gt_75',\n",
    "'revol_bal',\n",
    "'tax_liens',\n",
    "'tot_hi_cred_lim',\n",
    "'total_bc_limit',\n",
    "'pub_rec_bankruptcies']]"
   ]
  },
  {
   "cell_type": "code",
   "execution_count": 42,
   "metadata": {},
   "outputs": [
    {
     "name": "stderr",
     "output_type": "stream",
     "text": [
      "/opt/conda/lib/python3.7/site-packages/pandas/core/indexing.py:966: SettingWithCopyWarning: \n",
      "A value is trying to be set on a copy of a slice from a DataFrame.\n",
      "Try using .loc[row_indexer,col_indexer] = value instead\n",
      "\n",
      "See the caveats in the documentation: https://pandas.pydata.org/pandas-docs/stable/user_guide/indexing.html#returning-a-view-versus-a-copy\n",
      "  self.obj[item] = s\n",
      "/opt/conda/lib/python3.7/site-packages/ipykernel_launcher.py:3: SettingWithCopyWarning: \n",
      "A value is trying to be set on a copy of a slice from a DataFrame.\n",
      "Try using .loc[row_indexer,col_indexer] = value instead\n",
      "\n",
      "See the caveats in the documentation: https://pandas.pydata.org/pandas-docs/stable/user_guide/indexing.html#returning-a-view-versus-a-copy\n",
      "  This is separate from the ipykernel package so we can avoid doing imports until\n"
     ]
    }
   ],
   "source": [
    "# these throw an warning but seem to work, there is probably a better way to do this\n",
    "LC_train_numx.loc[:,'acc_now_delinq'] = ((LC_raw['acc_now_delinq'] > 0).astype(int))\n",
    "LC_train_numx['collections_12_mths_ex_med'] = (LC_train_numx['collections_12_mths_ex_med']>0).astype(int)\n",
    "LC_train_numx.loc[:,'tax_liens'] = ((LC_train_numx['tax_liens'] > 0).astype(int))\n",
    "LC_train_numx.loc[:,'pub_rec_bankruptcies'] = ((LC_train_numx['pub_rec_bankruptcies'] > 0).astype(int))\n",
    "\n"
   ]
  },
  {
   "cell_type": "markdown",
   "metadata": {},
   "source": [
    "#### convert to 0/1"
   ]
  },
  {
   "cell_type": "code",
   "execution_count": 43,
   "metadata": {},
   "outputs": [
    {
     "data": {
      "text/plain": [
       "0    96176\n",
       "1      603\n",
       "Name: acc_now_delinq, dtype: int64"
      ]
     },
     "execution_count": 43,
     "metadata": {},
     "output_type": "execute_result"
    }
   ],
   "source": [
    "LC_train_numx['acc_now_delinq'].value_counts()"
   ]
  },
  {
   "cell_type": "markdown",
   "metadata": {},
   "source": [
    "#### change int_rate from string to float"
   ]
  },
  {
   "cell_type": "code",
   "execution_count": 44,
   "metadata": {},
   "outputs": [
    {
     "name": "stderr",
     "output_type": "stream",
     "text": [
      "/opt/conda/lib/python3.7/site-packages/ipykernel_launcher.py:3: SettingWithCopyWarning: \n",
      "A value is trying to be set on a copy of a slice from a DataFrame.\n",
      "Try using .loc[row_indexer,col_indexer] = value instead\n",
      "\n",
      "See the caveats in the documentation: https://pandas.pydata.org/pandas-docs/stable/user_guide/indexing.html#returning-a-view-versus-a-copy\n",
      "  This is separate from the ipykernel package so we can avoid doing imports until\n"
     ]
    }
   ],
   "source": [
    "## Interest rate\n",
    "## this also throws a warning but seems to work\n",
    "LC_train_numx['int_rate'] = LC_train_numx['int_rate'].str.replace('%','',regex=False).astype(float)"
   ]
  },
  {
   "cell_type": "code",
   "execution_count": 45,
   "metadata": {},
   "outputs": [
    {
     "data": {
      "text/plain": [
       "<matplotlib.axes._subplots.AxesSubplot at 0x7f2831c5d190>"
      ]
     },
     "execution_count": 45,
     "metadata": {},
     "output_type": "execute_result"
    },
    {
     "data": {
      "image/png": "[encoded data removed]",
      "text/plain": [
       "<Figure size 432x288 with 1 Axes>"
      ]
     },
     "metadata": {
      "needs_background": "light"
     },
     "output_type": "display_data"
    }
   ],
   "source": [
    "LC_train_numx['int_rate'].plot.hist()"
   ]
  },
  {
   "cell_type": "markdown",
   "metadata": {},
   "source": [
    "#### Missing values\n",
    "1. imputation done by context, not statistical imputation (_e.g._ median or average)\n",
    "1. for recency variables I use 999 because larger numbers should be \"better\" (never do this with a linear model)\n",
    "\n"
   ]
  },
  {
   "cell_type": "code",
   "execution_count": 46,
   "metadata": {},
   "outputs": [
    {
     "name": "stdout",
     "output_type": "stream",
     "text": [
      "int_rate   0\n",
      "annual_inc   0\n",
      "delinq_2yrs   0\n",
      "dti   33\n",
      "fico_range_high   0\n",
      "fico_range_low   0\n",
      "inq_last_6mths   0\n",
      "loan_amnt   0\n",
      "mths_since_last_delinq   46293\n",
      "mths_since_last_record   77674\n",
      "open_acc   0\n",
      "pub_rec   0\n",
      "total_acc   0\n",
      "total_bal_ex_mort   0\n",
      "acc_now_delinq   0\n",
      "installment   0\n",
      "collections_12_mths_ex_med   0\n",
      "inq_last_12m   0\n",
      "num_bc_tl   0\n",
      "num_op_rev_tl   0\n",
      "num_tl_op_past_12m   0\n",
      "percent_bc_gt_75   987\n",
      "revol_bal   0\n",
      "tax_liens   0\n",
      "tot_hi_cred_lim   0\n",
      "total_bc_limit   0\n",
      "pub_rec_bankruptcies   0\n"
     ]
    }
   ],
   "source": [
    "for col in LC_train_numx.columns:\n",
    "    print(col,\" \",LC_train_numx[col].isna().sum())"
   ]
  },
  {
   "cell_type": "code",
   "execution_count": 47,
   "metadata": {},
   "outputs": [],
   "source": [
    "values = {'dti': 99, 'percent_bc_gt_75': 0, 'mths_since_last_delinq': 999, 'mths_since_last_record': 999}\n",
    "LC_train_numx = LC_train_numx.fillna(value=values)"
   ]
  },
  {
   "cell_type": "markdown",
   "metadata": {},
   "source": [
    "### Bring all features together into feature dataset"
   ]
  },
  {
   "cell_type": "code",
   "execution_count": 48,
   "metadata": {},
   "outputs": [],
   "source": [
    "LC_train_x = pd.concat([LC_train_numx,LC_train_catx], axis=1, sort=False)\n",
    "feature_list = list(LC_train_x.columns)"
   ]
  },
  {
   "cell_type": "code",
   "execution_count": 49,
   "metadata": {},
   "outputs": [
    {
     "data": {
      "text/html": [
       "<div>\n",
       "<style scoped>\n",
       "    .dataframe tbody tr th:only-of-type {\n",
       "        vertical-align: middle;\n",
       "    }\n",
       "\n",
       "    .dataframe tbody tr th {\n",
       "        vertical-align: top;\n",
       "    }\n",
       "\n",
       "    .dataframe thead th {\n",
       "        text-align: right;\n",
       "    }\n",
       "</style>\n",
       "<table border=\"1\" class=\"dataframe\">\n",
       "  <thead>\n",
       "    <tr style=\"text-align: right;\">\n",
       "      <th></th>\n",
       "      <th>int_rate</th>\n",
       "      <th>annual_inc</th>\n",
       "      <th>delinq_2yrs</th>\n",
       "      <th>dti</th>\n",
       "      <th>fico_range_high</th>\n",
       "      <th>fico_range_low</th>\n",
       "      <th>inq_last_6mths</th>\n",
       "      <th>loan_amnt</th>\n",
       "      <th>mths_since_last_delinq</th>\n",
       "      <th>mths_since_last_record</th>\n",
       "      <th>...</th>\n",
       "      <th>title_Home buying</th>\n",
       "      <th>title_Home improvement</th>\n",
       "      <th>title_Major purchase</th>\n",
       "      <th>title_Medical expenses</th>\n",
       "      <th>title_Moving and relocation</th>\n",
       "      <th>title_Other</th>\n",
       "      <th>title_Vacation</th>\n",
       "      <th>verification_status_Not Verified</th>\n",
       "      <th>verification_status_Source Verified</th>\n",
       "      <th>verification_status_Verified</th>\n",
       "    </tr>\n",
       "  </thead>\n",
       "  <tbody>\n",
       "    <tr>\n",
       "      <th>0</th>\n",
       "      <td>7.24</td>\n",
       "      <td>125000.0</td>\n",
       "      <td>0.0</td>\n",
       "      <td>9.25</td>\n",
       "      <td>694.0</td>\n",
       "      <td>690.0</td>\n",
       "      <td>1.0</td>\n",
       "      <td>6000.0</td>\n",
       "      <td>54.0</td>\n",
       "      <td>999.0</td>\n",
       "      <td>...</td>\n",
       "      <td>0</td>\n",
       "      <td>0</td>\n",
       "      <td>0</td>\n",
       "      <td>0</td>\n",
       "      <td>0</td>\n",
       "      <td>0</td>\n",
       "      <td>0</td>\n",
       "      <td>0</td>\n",
       "      <td>1</td>\n",
       "      <td>0</td>\n",
       "    </tr>\n",
       "    <tr>\n",
       "      <th>1</th>\n",
       "      <td>7.49</td>\n",
       "      <td>120000.0</td>\n",
       "      <td>0.0</td>\n",
       "      <td>8.41</td>\n",
       "      <td>739.0</td>\n",
       "      <td>735.0</td>\n",
       "      <td>0.0</td>\n",
       "      <td>17000.0</td>\n",
       "      <td>72.0</td>\n",
       "      <td>89.0</td>\n",
       "      <td>...</td>\n",
       "      <td>0</td>\n",
       "      <td>0</td>\n",
       "      <td>0</td>\n",
       "      <td>0</td>\n",
       "      <td>0</td>\n",
       "      <td>0</td>\n",
       "      <td>0</td>\n",
       "      <td>1</td>\n",
       "      <td>0</td>\n",
       "      <td>0</td>\n",
       "    </tr>\n",
       "    <tr>\n",
       "      <th>2</th>\n",
       "      <td>12.74</td>\n",
       "      <td>49960.0</td>\n",
       "      <td>0.0</td>\n",
       "      <td>9.30</td>\n",
       "      <td>719.0</td>\n",
       "      <td>715.0</td>\n",
       "      <td>0.0</td>\n",
       "      <td>14000.0</td>\n",
       "      <td>999.0</td>\n",
       "      <td>90.0</td>\n",
       "      <td>...</td>\n",
       "      <td>0</td>\n",
       "      <td>0</td>\n",
       "      <td>0</td>\n",
       "      <td>0</td>\n",
       "      <td>0</td>\n",
       "      <td>0</td>\n",
       "      <td>0</td>\n",
       "      <td>1</td>\n",
       "      <td>0</td>\n",
       "      <td>0</td>\n",
       "    </tr>\n",
       "    <tr>\n",
       "      <th>3</th>\n",
       "      <td>5.32</td>\n",
       "      <td>53000.0</td>\n",
       "      <td>1.0</td>\n",
       "      <td>19.47</td>\n",
       "      <td>734.0</td>\n",
       "      <td>730.0</td>\n",
       "      <td>0.0</td>\n",
       "      <td>9900.0</td>\n",
       "      <td>16.0</td>\n",
       "      <td>999.0</td>\n",
       "      <td>...</td>\n",
       "      <td>0</td>\n",
       "      <td>0</td>\n",
       "      <td>0</td>\n",
       "      <td>0</td>\n",
       "      <td>0</td>\n",
       "      <td>0</td>\n",
       "      <td>0</td>\n",
       "      <td>1</td>\n",
       "      <td>0</td>\n",
       "      <td>0</td>\n",
       "    </tr>\n",
       "    <tr>\n",
       "      <th>4</th>\n",
       "      <td>11.39</td>\n",
       "      <td>95000.0</td>\n",
       "      <td>0.0</td>\n",
       "      <td>11.52</td>\n",
       "      <td>734.0</td>\n",
       "      <td>730.0</td>\n",
       "      <td>0.0</td>\n",
       "      <td>15400.0</td>\n",
       "      <td>34.0</td>\n",
       "      <td>999.0</td>\n",
       "      <td>...</td>\n",
       "      <td>0</td>\n",
       "      <td>0</td>\n",
       "      <td>0</td>\n",
       "      <td>0</td>\n",
       "      <td>0</td>\n",
       "      <td>0</td>\n",
       "      <td>0</td>\n",
       "      <td>1</td>\n",
       "      <td>0</td>\n",
       "      <td>0</td>\n",
       "    </tr>\n",
       "    <tr>\n",
       "      <th>...</th>\n",
       "      <td>...</td>\n",
       "      <td>...</td>\n",
       "      <td>...</td>\n",
       "      <td>...</td>\n",
       "      <td>...</td>\n",
       "      <td>...</td>\n",
       "      <td>...</td>\n",
       "      <td>...</td>\n",
       "      <td>...</td>\n",
       "      <td>...</td>\n",
       "      <td>...</td>\n",
       "      <td>...</td>\n",
       "      <td>...</td>\n",
       "      <td>...</td>\n",
       "      <td>...</td>\n",
       "      <td>...</td>\n",
       "      <td>...</td>\n",
       "      <td>...</td>\n",
       "      <td>...</td>\n",
       "      <td>...</td>\n",
       "      <td>...</td>\n",
       "    </tr>\n",
       "    <tr>\n",
       "      <th>96774</th>\n",
       "      <td>21.49</td>\n",
       "      <td>60000.0</td>\n",
       "      <td>1.0</td>\n",
       "      <td>43.00</td>\n",
       "      <td>674.0</td>\n",
       "      <td>670.0</td>\n",
       "      <td>3.0</td>\n",
       "      <td>30000.0</td>\n",
       "      <td>11.0</td>\n",
       "      <td>999.0</td>\n",
       "      <td>...</td>\n",
       "      <td>0</td>\n",
       "      <td>0</td>\n",
       "      <td>0</td>\n",
       "      <td>0</td>\n",
       "      <td>0</td>\n",
       "      <td>0</td>\n",
       "      <td>0</td>\n",
       "      <td>0</td>\n",
       "      <td>0</td>\n",
       "      <td>1</td>\n",
       "    </tr>\n",
       "    <tr>\n",
       "      <th>96775</th>\n",
       "      <td>12.74</td>\n",
       "      <td>110500.0</td>\n",
       "      <td>0.0</td>\n",
       "      <td>4.95</td>\n",
       "      <td>679.0</td>\n",
       "      <td>675.0</td>\n",
       "      <td>2.0</td>\n",
       "      <td>15000.0</td>\n",
       "      <td>999.0</td>\n",
       "      <td>999.0</td>\n",
       "      <td>...</td>\n",
       "      <td>0</td>\n",
       "      <td>0</td>\n",
       "      <td>0</td>\n",
       "      <td>0</td>\n",
       "      <td>0</td>\n",
       "      <td>0</td>\n",
       "      <td>0</td>\n",
       "      <td>0</td>\n",
       "      <td>1</td>\n",
       "      <td>0</td>\n",
       "    </tr>\n",
       "    <tr>\n",
       "      <th>96776</th>\n",
       "      <td>8.24</td>\n",
       "      <td>46203.0</td>\n",
       "      <td>0.0</td>\n",
       "      <td>17.04</td>\n",
       "      <td>674.0</td>\n",
       "      <td>670.0</td>\n",
       "      <td>0.0</td>\n",
       "      <td>10000.0</td>\n",
       "      <td>38.0</td>\n",
       "      <td>999.0</td>\n",
       "      <td>...</td>\n",
       "      <td>0</td>\n",
       "      <td>0</td>\n",
       "      <td>0</td>\n",
       "      <td>0</td>\n",
       "      <td>0</td>\n",
       "      <td>0</td>\n",
       "      <td>0</td>\n",
       "      <td>1</td>\n",
       "      <td>0</td>\n",
       "      <td>0</td>\n",
       "    </tr>\n",
       "    <tr>\n",
       "      <th>96777</th>\n",
       "      <td>15.99</td>\n",
       "      <td>24564.0</td>\n",
       "      <td>2.0</td>\n",
       "      <td>21.38</td>\n",
       "      <td>709.0</td>\n",
       "      <td>705.0</td>\n",
       "      <td>0.0</td>\n",
       "      <td>6325.0</td>\n",
       "      <td>15.0</td>\n",
       "      <td>999.0</td>\n",
       "      <td>...</td>\n",
       "      <td>0</td>\n",
       "      <td>0</td>\n",
       "      <td>0</td>\n",
       "      <td>0</td>\n",
       "      <td>0</td>\n",
       "      <td>0</td>\n",
       "      <td>0</td>\n",
       "      <td>1</td>\n",
       "      <td>0</td>\n",
       "      <td>0</td>\n",
       "    </tr>\n",
       "    <tr>\n",
       "      <th>96778</th>\n",
       "      <td>28.69</td>\n",
       "      <td>34000.0</td>\n",
       "      <td>0.0</td>\n",
       "      <td>32.40</td>\n",
       "      <td>694.0</td>\n",
       "      <td>690.0</td>\n",
       "      <td>0.0</td>\n",
       "      <td>15625.0</td>\n",
       "      <td>68.0</td>\n",
       "      <td>52.0</td>\n",
       "      <td>...</td>\n",
       "      <td>0</td>\n",
       "      <td>0</td>\n",
       "      <td>0</td>\n",
       "      <td>0</td>\n",
       "      <td>0</td>\n",
       "      <td>0</td>\n",
       "      <td>0</td>\n",
       "      <td>0</td>\n",
       "      <td>1</td>\n",
       "      <td>0</td>\n",
       "    </tr>\n",
       "  </tbody>\n",
       "</table>\n",
       "<p>96779 rows × 114 columns</p>\n",
       "</div>"
      ],
      "text/plain": [
       "       int_rate  annual_inc  delinq_2yrs    dti  fico_range_high  \\\n",
       "0          7.24    125000.0          0.0   9.25            694.0   \n",
       "1          7.49    120000.0          0.0   8.41            739.0   \n",
       "2         12.74     49960.0          0.0   9.30            719.0   \n",
       "3          5.32     53000.0          1.0  19.47            734.0   \n",
       "4         11.39     95000.0          0.0  11.52            734.0   \n",
       "...         ...         ...          ...    ...              ...   \n",
       "96774     21.49     60000.0          1.0  43.00            674.0   \n",
       "96775     12.74    110500.0          0.0   4.95            679.0   \n",
       "96776      8.24     46203.0          0.0  17.04            674.0   \n",
       "96777     15.99     24564.0          2.0  21.38            709.0   \n",
       "96778     28.69     34000.0          0.0  32.40            694.0   \n",
       "\n",
       "       fico_range_low  inq_last_6mths  loan_amnt  mths_since_last_delinq  \\\n",
       "0               690.0             1.0     6000.0                    54.0   \n",
       "1               735.0             0.0    17000.0                    72.0   \n",
       "2               715.0             0.0    14000.0                   999.0   \n",
       "3               730.0             0.0     9900.0                    16.0   \n",
       "4               730.0             0.0    15400.0                    34.0   \n",
       "...               ...             ...        ...                     ...   \n",
       "96774           670.0             3.0    30000.0                    11.0   \n",
       "96775           675.0             2.0    15000.0                   999.0   \n",
       "96776           670.0             0.0    10000.0                    38.0   \n",
       "96777           705.0             0.0     6325.0                    15.0   \n",
       "96778           690.0             0.0    15625.0                    68.0   \n",
       "\n",
       "       mths_since_last_record  ...  title_Home buying  title_Home improvement  \\\n",
       "0                       999.0  ...                  0                       0   \n",
       "1                        89.0  ...                  0                       0   \n",
       "2                        90.0  ...                  0                       0   \n",
       "3                       999.0  ...                  0                       0   \n",
       "4                       999.0  ...                  0                       0   \n",
       "...                       ...  ...                ...                     ...   \n",
       "96774                   999.0  ...                  0                       0   \n",
       "96775                   999.0  ...                  0                       0   \n",
       "96776                   999.0  ...                  0                       0   \n",
       "96777                   999.0  ...                  0                       0   \n",
       "96778                    52.0  ...                  0                       0   \n",
       "\n",
       "       title_Major purchase  title_Medical expenses  \\\n",
       "0                         0                       0   \n",
       "1                         0                       0   \n",
       "2                         0                       0   \n",
       "3                         0                       0   \n",
       "4                         0                       0   \n",
       "...                     ...                     ...   \n",
       "96774                     0                       0   \n",
       "96775                     0                       0   \n",
       "96776                     0                       0   \n",
       "96777                     0                       0   \n",
       "96778                     0                       0   \n",
       "\n",
       "       title_Moving and relocation  title_Other  title_Vacation  \\\n",
       "0                                0            0               0   \n",
       "1                                0            0               0   \n",
       "2                                0            0               0   \n",
       "3                                0            0               0   \n",
       "4                                0            0               0   \n",
       "...                            ...          ...             ...   \n",
       "96774                            0            0               0   \n",
       "96775                            0            0               0   \n",
       "96776                            0            0               0   \n",
       "96777                            0            0               0   \n",
       "96778                            0            0               0   \n",
       "\n",
       "       verification_status_Not Verified  verification_status_Source Verified  \\\n",
       "0                                     0                                    1   \n",
       "1                                     1                                    0   \n",
       "2                                     1                                    0   \n",
       "3                                     1                                    0   \n",
       "4                                     1                                    0   \n",
       "...                                 ...                                  ...   \n",
       "96774                                 0                                    0   \n",
       "96775                                 0                                    1   \n",
       "96776                                 1                                    0   \n",
       "96777                                 1                                    0   \n",
       "96778                                 0                                    1   \n",
       "\n",
       "       verification_status_Verified  \n",
       "0                                 0  \n",
       "1                                 0  \n",
       "2                                 0  \n",
       "3                                 0  \n",
       "4                                 0  \n",
       "...                             ...  \n",
       "96774                             1  \n",
       "96775                             0  \n",
       "96776                             0  \n",
       "96777                             0  \n",
       "96778                             0  \n",
       "\n",
       "[96779 rows x 114 columns]"
      ]
     },
     "execution_count": 49,
     "metadata": {},
     "output_type": "execute_result"
    }
   ],
   "source": [
    "#114 features!\n",
    "LC_train_x"
   ]
  },
  {
   "cell_type": "markdown",
   "metadata": {},
   "source": [
    "### Label "
   ]
  },
  {
   "cell_type": "code",
   "execution_count": 50,
   "metadata": {},
   "outputs": [
    {
     "data": {
      "text/html": [
       "<div>\n",
       "<style scoped>\n",
       "    .dataframe tbody tr th:only-of-type {\n",
       "        vertical-align: middle;\n",
       "    }\n",
       "\n",
       "    .dataframe tbody tr th {\n",
       "        vertical-align: top;\n",
       "    }\n",
       "\n",
       "    .dataframe thead th {\n",
       "        text-align: right;\n",
       "    }\n",
       "</style>\n",
       "<table border=\"1\" class=\"dataframe\">\n",
       "  <thead>\n",
       "    <tr style=\"text-align: right;\">\n",
       "      <th></th>\n",
       "      <th>roi</th>\n",
       "    </tr>\n",
       "  </thead>\n",
       "  <tbody>\n",
       "    <tr>\n",
       "      <th>0</th>\n",
       "      <td>9.218622</td>\n",
       "    </tr>\n",
       "    <tr>\n",
       "      <th>1</th>\n",
       "      <td>1.663546</td>\n",
       "    </tr>\n",
       "    <tr>\n",
       "      <th>2</th>\n",
       "      <td>-54.369286</td>\n",
       "    </tr>\n",
       "    <tr>\n",
       "      <th>3</th>\n",
       "      <td>5.775280</td>\n",
       "    </tr>\n",
       "    <tr>\n",
       "      <th>4</th>\n",
       "      <td>17.876046</td>\n",
       "    </tr>\n",
       "    <tr>\n",
       "      <th>...</th>\n",
       "      <td>...</td>\n",
       "    </tr>\n",
       "    <tr>\n",
       "      <th>96774</th>\n",
       "      <td>26.626001</td>\n",
       "    </tr>\n",
       "    <tr>\n",
       "      <th>96775</th>\n",
       "      <td>12.254860</td>\n",
       "    </tr>\n",
       "    <tr>\n",
       "      <th>96776</th>\n",
       "      <td>13.132206</td>\n",
       "    </tr>\n",
       "    <tr>\n",
       "      <th>96777</th>\n",
       "      <td>26.979562</td>\n",
       "    </tr>\n",
       "    <tr>\n",
       "      <th>96778</th>\n",
       "      <td>-52.156096</td>\n",
       "    </tr>\n",
       "  </tbody>\n",
       "</table>\n",
       "<p>96779 rows × 1 columns</p>\n",
       "</div>"
      ],
      "text/plain": [
       "             roi\n",
       "0       9.218622\n",
       "1       1.663546\n",
       "2     -54.369286\n",
       "3       5.775280\n",
       "4      17.876046\n",
       "...          ...\n",
       "96774  26.626001\n",
       "96775  12.254860\n",
       "96776  13.132206\n",
       "96777  26.979562\n",
       "96778 -52.156096\n",
       "\n",
       "[96779 rows x 1 columns]"
      ]
     },
     "execution_count": 50,
     "metadata": {},
     "output_type": "execute_result"
    }
   ],
   "source": [
    "LC_train_y = LC_raw[['roi']]\n",
    "LC_train_y"
   ]
  },
  {
   "cell_type": "markdown",
   "metadata": {},
   "source": [
    "## Random forest baseline model\n"
   ]
  },
  {
   "cell_type": "markdown",
   "metadata": {},
   "source": [
    "#### Convert data to numpy -- RF from skicit learn likes numpy"
   ]
  },
  {
   "cell_type": "code",
   "execution_count": 51,
   "metadata": {},
   "outputs": [
    {
     "data": {
      "text/plain": [
       "numpy.ndarray"
      ]
     },
     "execution_count": 51,
     "metadata": {},
     "output_type": "execute_result"
    }
   ],
   "source": [
    "import numpy as np\n",
    "\n",
    "LC_train_x = np.array(LC_train_x)\n",
    "type(LC_train_x)"
   ]
  },
  {
   "cell_type": "code",
   "execution_count": 52,
   "metadata": {},
   "outputs": [
    {
     "data": {
      "text/plain": [
       "numpy.ndarray"
      ]
     },
     "execution_count": 52,
     "metadata": {},
     "output_type": "execute_result"
    }
   ],
   "source": [
    "LC_train_y = np.array(LC_train_y)\n",
    "type(LC_train_y)"
   ]
  },
  {
   "cell_type": "markdown",
   "metadata": {},
   "source": [
    "### Training and testing datasets\n",
    "\n",
    "Split the data into train and test sets. Quick check on sample sizes.\n",
    "\n",
    "Obviously code that I downloaded from the internets since I suddenly start using different definitions (target vs. labels)."
   ]
  },
  {
   "cell_type": "code",
   "execution_count": 53,
   "metadata": {},
   "outputs": [
    {
     "name": "stdout",
     "output_type": "stream",
     "text": [
      "Training Features Shape: (72584, 114) . Type: <class 'numpy.ndarray'>\n",
      "Training Labels Shape: (72584, 1) . Type: <class 'numpy.ndarray'>\n",
      "Testing Features Shape: (24195, 114) . Type: <class 'numpy.ndarray'>\n",
      "Testing Labels Shape: (24195, 1) . Type: <class 'numpy.ndarray'>\n"
     ]
    }
   ],
   "source": [
    "from sklearn.model_selection import train_test_split\n",
    "train_features, test_features, train_labels, test_labels = train_test_split(LC_train_x, LC_train_y, test_size = 0.25, random_state = 42)\n",
    "\n",
    "print('Training Features Shape:', train_features.shape,\". Type:\",type(train_features))\n",
    "print('Training Labels Shape:', train_labels.shape,\". Type:\",type(train_labels))\n",
    "print('Testing Features Shape:', test_features.shape,\". Type:\",type(test_features))\n",
    "print('Testing Labels Shape:', test_labels.shape,\". Type:\",type(test_labels))"
   ]
  },
  {
   "cell_type": "markdown",
   "metadata": {},
   "source": [
    "#### Train random forest\n",
    "\n",
    "ravel() is to convert train_labels from the array shape to (n, )"
   ]
  },
  {
   "cell_type": "code",
   "execution_count": 61,
   "metadata": {},
   "outputs": [
    {
     "name": "stderr",
     "output_type": "stream",
     "text": [
      "[Parallel(n_jobs=1)]: Using backend SequentialBackend with 1 concurrent workers.\n",
      "[Parallel(n_jobs=1)]: Done 200 out of 200 | elapsed:  1.9min finished\n"
     ]
    }
   ],
   "source": [
    "from sklearn.ensemble import RandomForestRegressor\n",
    "rf = RandomForestRegressor(n_estimators = 200\n",
    "                           ,max_depth=6\n",
    "                           ,min_samples_split=100\n",
    "                           ,min_samples_leaf=20\n",
    "                           ,random_state = 39281\n",
    "                          ,verbose = 1)\n",
    "\n",
    "# max_depth=None, min_samples_split=2, min_samples_leaf=1 # verbose=0\n",
    "rf.fit(train_features, train_labels.ravel());"
   ]
  },
  {
   "cell_type": "markdown",
   "metadata": {},
   "source": [
    "#### RF Predictions"
   ]
  },
  {
   "cell_type": "code",
   "execution_count": 62,
   "metadata": {},
   "outputs": [
    {
     "name": "stderr",
     "output_type": "stream",
     "text": [
      "[Parallel(n_jobs=1)]: Using backend SequentialBackend with 1 concurrent workers.\n",
      "[Parallel(n_jobs=1)]: Done 200 out of 200 | elapsed:    0.3s finished\n"
     ]
    },
    {
     "data": {
      "text/plain": [
       "numpy.ndarray"
      ]
     },
     "execution_count": 62,
     "metadata": {},
     "output_type": "execute_result"
    }
   ],
   "source": [
    "predictions = rf.predict(test_features)\n",
    "type(predictions)\n"
   ]
  },
  {
   "cell_type": "code",
   "execution_count": 63,
   "metadata": {},
   "outputs": [
    {
     "data": {
      "text/plain": [
       "array([-5.87157403,  6.69573776,  8.18325059, ...,  8.56061271,\n",
       "        8.92492251, -4.85588767])"
      ]
     },
     "execution_count": 63,
     "metadata": {},
     "output_type": "execute_result"
    }
   ],
   "source": [
    "predictions"
   ]
  },
  {
   "cell_type": "markdown",
   "metadata": {},
   "source": [
    "## RF Validation \n",
    "\n",
    "1. Bias - are the predictions unbiased?\n",
    "2. Loss function: what is the cost of a false-negative and -positive.\n",
    "1. Confusion matrix\n",
    "3. Most sensible accuracy measure\n",
    "3. Interpretation - features vs. actual and predictions"
   ]
  },
  {
   "cell_type": "code",
   "execution_count": 64,
   "metadata": {},
   "outputs": [
    {
     "data": {
      "text/plain": [
       "90648.03732249384"
      ]
     },
     "execution_count": 64,
     "metadata": {},
     "output_type": "execute_result"
    }
   ],
   "source": [
    "predictions.sum()"
   ]
  },
  {
   "cell_type": "code",
   "execution_count": 65,
   "metadata": {},
   "outputs": [
    {
     "data": {
      "text/plain": [
       "92165.88503151046"
      ]
     },
     "execution_count": 65,
     "metadata": {},
     "output_type": "execute_result"
    }
   ],
   "source": [
    "test_labels.sum()"
   ]
  },
  {
   "cell_type": "code",
   "execution_count": 59,
   "metadata": {},
   "outputs": [
    {
     "data": {
      "text/plain": [
       "(24195,)"
      ]
     },
     "execution_count": 59,
     "metadata": {},
     "output_type": "execute_result"
    }
   ],
   "source": [
    "predictions.shape\n"
   ]
  },
  {
   "cell_type": "code",
   "execution_count": 89,
   "metadata": {},
   "outputs": [
    {
     "data": {
      "text/plain": [
       "(250,)"
      ]
     },
     "execution_count": 89,
     "metadata": {},
     "output_type": "execute_result"
    }
   ],
   "source": [
    "test_labels[:,0].shape"
   ]
  },
  {
   "cell_type": "code",
   "execution_count": 66,
   "metadata": {},
   "outputs": [
    {
     "data": {
      "image/png": "[encoded data removed]",
      "text/plain": [
       "<Figure size 432x288 with 1 Axes>"
      ]
     },
     "metadata": {
      "needs_background": "light"
     },
     "output_type": "display_data"
    }
   ],
   "source": [
    "import matplotlib.pyplot as plt\n",
    "from numpy.polynomial.polynomial import polyfit\n",
    "\n",
    "area = np.pi*3\n",
    "\n",
    "plt.scatter(x=test_labels, y=predictions, s=area, alpha=0.5)\n",
    "\n",
    "\n",
    "# this is a bit annoying but test_labels has 2 dimensions for some reason, try test_labels.shape\n",
    "b, m = polyfit(x=test_labels[:,0],y=predictions,deg=1)\n",
    "\n",
    "plt.plot(test_labels, b + m * test_labels, '-')\n",
    "plt.axhline(y=0,color = '0.75')\n",
    "plt.axvline(x=0,color = '0.75')\n",
    "\n",
    "plt.title(\"predictions vs actuals, test set. Intercept = {}; Slope = {}\".format(b,m))\n",
    "plt.xlabel('actuals')\n",
    "plt.ylabel('predictions')\n",
    "\n",
    "plt.show()"
   ]
  },
  {
   "cell_type": "code",
   "execution_count": 68,
   "metadata": {},
   "outputs": [
    {
     "ename": "NameError",
     "evalue": "name 'feature_list' is not defined",
     "output_type": "error",
     "traceback": [
      "\u001b[0;31m---------------------------------------------------------------------------\u001b[0m",
      "\u001b[0;31mNameError\u001b[0m                                 Traceback (most recent call last)",
      "\u001b[0;32m<ipython-input-68-5289d1f1f538>\u001b[0m in \u001b[0;36m<module>\u001b[0;34m\u001b[0m\n\u001b[1;32m      4\u001b[0m \u001b[0mimportances\u001b[0m \u001b[0;34m=\u001b[0m \u001b[0mlist\u001b[0m\u001b[0;34m(\u001b[0m\u001b[0mrf\u001b[0m\u001b[0;34m.\u001b[0m\u001b[0mfeature_importances_\u001b[0m\u001b[0;34m)\u001b[0m\u001b[0;34m\u001b[0m\u001b[0;34m\u001b[0m\u001b[0m\n\u001b[1;32m      5\u001b[0m \u001b[0;31m# List of tuples with variable and importance\u001b[0m\u001b[0;34m\u001b[0m\u001b[0;34m\u001b[0m\u001b[0;34m\u001b[0m\u001b[0m\n\u001b[0;32m----> 6\u001b[0;31m \u001b[0mfeature_importances\u001b[0m \u001b[0;34m=\u001b[0m \u001b[0;34m[\u001b[0m\u001b[0;34m(\u001b[0m\u001b[0mfeature\u001b[0m\u001b[0;34m,\u001b[0m \u001b[0mround\u001b[0m\u001b[0;34m(\u001b[0m\u001b[0mimportance\u001b[0m\u001b[0;34m,\u001b[0m \u001b[0;36m2\u001b[0m\u001b[0;34m)\u001b[0m\u001b[0;34m)\u001b[0m \u001b[0;32mfor\u001b[0m \u001b[0mfeature\u001b[0m\u001b[0;34m,\u001b[0m \u001b[0mimportance\u001b[0m \u001b[0;32min\u001b[0m \u001b[0mzip\u001b[0m\u001b[0;34m(\u001b[0m\u001b[0mfeature_list\u001b[0m\u001b[0;34m,\u001b[0m \u001b[0mimportances\u001b[0m\u001b[0;34m)\u001b[0m\u001b[0;34m]\u001b[0m\u001b[0;34m\u001b[0m\u001b[0;34m\u001b[0m\u001b[0m\n\u001b[0m\u001b[1;32m      7\u001b[0m \u001b[0;31m# Sort the feature importances by most important first\u001b[0m\u001b[0;34m\u001b[0m\u001b[0;34m\u001b[0m\u001b[0;34m\u001b[0m\u001b[0m\n\u001b[1;32m      8\u001b[0m \u001b[0mfeature_importances\u001b[0m \u001b[0;34m=\u001b[0m \u001b[0msorted\u001b[0m\u001b[0;34m(\u001b[0m\u001b[0mfeature_importances\u001b[0m\u001b[0;34m,\u001b[0m \u001b[0mkey\u001b[0m \u001b[0;34m=\u001b[0m \u001b[0;32mlambda\u001b[0m \u001b[0mx\u001b[0m\u001b[0;34m:\u001b[0m \u001b[0mx\u001b[0m\u001b[0;34m[\u001b[0m\u001b[0;36m1\u001b[0m\u001b[0;34m]\u001b[0m\u001b[0;34m,\u001b[0m \u001b[0mreverse\u001b[0m \u001b[0;34m=\u001b[0m \u001b[0;32mTrue\u001b[0m\u001b[0;34m)\u001b[0m\u001b[0;34m\u001b[0m\u001b[0;34m\u001b[0m\u001b[0m\n",
      "\u001b[0;31mNameError\u001b[0m: name 'feature_list' is not defined"
     ]
    }
   ],
   "source": [
    "feature_list = list(LC_train_x.columns)\n",
    "\n",
    "# Get numerical feature importances\n",
    "importances = list(rf.feature_importances_)\n",
    "# List of tuples with variable and importance\n",
    "feature_importances = [(feature, round(importance, 2)) for feature, importance in zip(feature_list, importances)]\n",
    "# Sort the feature importances by most important first\n",
    "feature_importances = sorted(feature_importances, key = lambda x: x[1], reverse = True)\n",
    "# Print out the feature and importances \n",
    "[print('Variable: {:20} Importance: {}'.format(*pair)) for pair in feature_importances];"
   ]
  },
  {
   "cell_type": "markdown",
   "metadata": {},
   "source": [
    "#### Goal and loss function\n",
    "\n",
    "Goal is to make as large a return as possible with a fixed investment\n",
    "\n",
    "The approach is similar to portfolio optimization"
   ]
  },
  {
   "cell_type": "markdown",
   "metadata": {},
   "source": [
    "**_tag:HERE_**"
   ]
  },
  {
   "cell_type": "code",
   "execution_count": 31,
   "metadata": {},
   "outputs": [
    {
     "data": {
      "text/plain": [
       "array([[46, 62],\n",
       "       [50, 92]])"
      ]
     },
     "execution_count": 31,
     "metadata": {},
     "output_type": "execute_result"
    }
   ],
   "source": [
    "from sklearn.metrics import confusion_matrix\n",
    "\n",
    "predicted_pay = (predictions > 0.5).astype(int)\n",
    "confusion_matrix(test_labels, predicted_pay)"
   ]
  },
  {
   "cell_type": "code",
   "execution_count": 150,
   "metadata": {},
   "outputs": [
    {
     "data": {
      "text/plain": [
       "numpy.ndarray"
      ]
     },
     "execution_count": 150,
     "metadata": {},
     "output_type": "execute_result"
    }
   ],
   "source": [
    "type(test_labels)"
   ]
  },
  {
   "cell_type": "code",
   "execution_count": null,
   "metadata": {},
   "outputs": [],
   "source": []
  },
  {
   "cell_type": "code",
   "execution_count": 173,
   "metadata": {},
   "outputs": [
    {
     "data": {
      "image/png": "[encoded data removed]",
      "text/plain": [
       "<Figure size 432x288 with 1 Axes>"
      ]
     },
     "metadata": {},
     "output_type": "display_data"
    }
   ],
   "source": [
    "import matplotlib.pyplot as plt\n",
    "%matplotlib inline\n",
    "# Set the style\n",
    "plt.style.use('fivethirtyeight')\n",
    "# list of x locations for plotting\n",
    "x_values = list(range(len(importances)))\n",
    "# Make a bar chart\n",
    "plt.bar(x_values, importances, orientation = 'vertical')\n",
    "# Tick labels for x axis\n",
    "plt.xticks(x_values, feature_list, rotation='vertical')\n",
    "# Axis labels and title\n",
    "plt.ylabel('Importance'); plt.xlabel('Variable'); plt.title('Variable Importances');"
   ]
  },
  {
   "cell_type": "code",
   "execution_count": null,
   "metadata": {},
   "outputs": [],
   "source": [
    "import matplotlib.pyplot as plt\n",
    "import seaborn as sns\n",
    "\n",
    "sns.set(style=\"whitegrid\")\n",
    "\n",
    "ax = sns.boxplot(x=LC_train_x['int_rate'])\n",
    "\n",
    "ax = sns.boxplot(x=\"grade\", y=\"int_rate\", data=LC_train_x)"
   ]
  },
  {
   "cell_type": "markdown",
   "metadata": {},
   "source": [
    "### 62 false positives"
   ]
  },
  {
   "cell_type": "code",
   "execution_count": 152,
   "metadata": {},
   "outputs": [
    {
     "name": "stdout",
     "output_type": "stream",
     "text": [
      "Mean Absolute Error: 0.49 %.\n"
     ]
    }
   ],
   "source": [
    "errors = abs(predictions - test_labels)\n",
    "\n",
    "# Print out the mean absolute error (mae)\n",
    "print('Mean Absolute Error:', round(np.mean(errors), 2), '%.')"
   ]
  },
  {
   "cell_type": "markdown",
   "metadata": {},
   "source": [
    "### that is not good"
   ]
  },
  {
   "cell_type": "markdown",
   "metadata": {},
   "source": [
    "### Appendix A - feature EDA"
   ]
  },
  {
   "cell_type": "code",
   "execution_count": 67,
   "metadata": {},
   "outputs": [
    {
     "data": {
      "text/plain": [
       "11.49    90\n",
       "12.74    76\n",
       "8.24     71\n",
       "15.99    70\n",
       "13.49    62\n",
       "11.44    62\n",
       "10.49    61\n",
       "14.99    58\n",
       "11.39    54\n",
       "13.99    54\n",
       "5.32     53\n",
       "7.49     43\n",
       "18.99    38\n",
       "7.99     36\n",
       "6.99     34\n",
       "16.99    32\n",
       "7.24     20\n",
       "17.99    19\n",
       "19.99    14\n",
       "22.74    12\n",
       "23.99    11\n",
       "25.49     9\n",
       "28.69     5\n",
       "24.74     4\n",
       "29.99     4\n",
       "26.24     2\n",
       "29.49     1\n",
       "30.74     1\n",
       "30.89     1\n",
       "30.84     1\n",
       "Name: int_rate, dtype: int64"
      ]
     },
     "execution_count": 67,
     "metadata": {},
     "output_type": "execute_result"
    }
   ],
   "source": [
    "# LC_raw['int_rate'].head()\n",
    "\n",
    "LC_raw['int_rate'] = LC_raw['int_rate'].str.replace('%','',regex=False).astype(float)\n",
    "LC_raw['int_rate'].value_counts()"
   ]
  },
  {
   "cell_type": "code",
   "execution_count": 69,
   "metadata": {},
   "outputs": [
    {
     "data": {
      "text/plain": [
       "0"
      ]
     },
     "execution_count": 69,
     "metadata": {},
     "output_type": "execute_result"
    }
   ],
   "source": [
    "LC_raw['int_rate'].isna().sum()"
   ]
  },
  {
   "cell_type": "code",
   "execution_count": 70,
   "metadata": {},
   "outputs": [
    {
     "data": {
      "text/plain": [
       " 36 months    756\n",
       " 60 months    242\n",
       "Name: term, dtype: int64"
      ]
     },
     "execution_count": 70,
     "metadata": {},
     "output_type": "execute_result"
    }
   ],
   "source": [
    " # LC_raw['int_rate'].head()\n",
    "LC_raw['term'].value_counts()"
   ]
  },
  {
   "cell_type": "code",
   "execution_count": 71,
   "metadata": {},
   "outputs": [
    {
     "data": {
      "text/plain": [
       "0"
      ]
     },
     "execution_count": 71,
     "metadata": {},
     "output_type": "execute_result"
    }
   ],
   "source": [
    "LC_raw['term'].isna().sum()"
   ]
  },
  {
   "cell_type": "code",
   "execution_count": 75,
   "metadata": {},
   "outputs": [
    {
     "data": {
      "text/plain": [
       "<matplotlib.axes._subplots.AxesSubplot at 0x7f4a53f283d0>"
      ]
     },
     "execution_count": 75,
     "metadata": {},
     "output_type": "execute_result"
    },
    {
     "data": {
      "image/png": "[encoded data removed]",
      "text/plain": [
       "<Figure size 432x288 with 1 Axes>"
      ]
     },
     "metadata": {
      "needs_background": "light"
     },
     "output_type": "display_data"
    }
   ],
   "source": [
    "LC_raw['annual_inc'][LC_raw.annual_inc < 300000].plot.hist()"
   ]
  },
  {
   "cell_type": "code",
   "execution_count": 73,
   "metadata": {},
   "outputs": [
    {
     "data": {
      "text/plain": [
       "0"
      ]
     },
     "execution_count": 73,
     "metadata": {},
     "output_type": "execute_result"
    }
   ],
   "source": [
    "LC_raw['annual_inc'].isna().sum()"
   ]
  },
  {
   "cell_type": "code",
   "execution_count": 79,
   "metadata": {},
   "outputs": [
    {
     "data": {
      "text/plain": [
       "<matplotlib.axes._subplots.AxesSubplot at 0x7f4a529d4110>"
      ]
     },
     "execution_count": 79,
     "metadata": {},
     "output_type": "execute_result"
    },
    {
     "data": {
      "image/png": "[encoded data removed]",
      "text/plain": [
       "<Figure size 432x288 with 1 Axes>"
      ]
     },
     "metadata": {
      "needs_background": "light"
     },
     "output_type": "display_data"
    }
   ],
   "source": [
    "(LC_raw['annual_inc'][LC_raw.annual_inc < 300000]**(1/2)).plot.hist()"
   ]
  },
  {
   "cell_type": "code",
   "execution_count": 80,
   "metadata": {},
   "outputs": [
    {
     "data": {
      "text/plain": [
       "0    780\n",
       "1    148\n",
       "2     39\n",
       "3     14\n",
       "4      7\n",
       "6      6\n",
       "5      3\n",
       "7      1\n",
       "Name: delinq_2yrs, dtype: int64"
      ]
     },
     "execution_count": 80,
     "metadata": {},
     "output_type": "execute_result"
    }
   ],
   "source": [
    "LC_raw['delinq_2yrs'].value_counts()\n"
   ]
  },
  {
   "cell_type": "code",
   "execution_count": 83,
   "metadata": {},
   "outputs": [
    {
     "data": {
      "text/plain": [
       "<matplotlib.axes._subplots.AxesSubplot at 0x7f4a52952310>"
      ]
     },
     "execution_count": 83,
     "metadata": {},
     "output_type": "execute_result"
    },
    {
     "data": {
      "image/png": "[encoded data removed]",
      "text/plain": [
       "<Figure size 432x288 with 1 Axes>"
      ]
     },
     "metadata": {
      "needs_background": "light"
     },
     "output_type": "display_data"
    }
   ],
   "source": [
    "LC_raw['dti'].plot.hist()\n"
   ]
  },
  {
   "cell_type": "code",
   "execution_count": 69,
   "metadata": {},
   "outputs": [
    {
     "data": {
      "text/html": [
       "<div>\n",
       "<style scoped>\n",
       "    .dataframe tbody tr th:only-of-type {\n",
       "        vertical-align: middle;\n",
       "    }\n",
       "\n",
       "    .dataframe tbody tr th {\n",
       "        vertical-align: top;\n",
       "    }\n",
       "\n",
       "    .dataframe thead th {\n",
       "        text-align: right;\n",
       "    }\n",
       "</style>\n",
       "<table border=\"1\" class=\"dataframe\">\n",
       "  <thead>\n",
       "    <tr style=\"text-align: right;\">\n",
       "      <th></th>\n",
       "      <th>dti</th>\n",
       "      <th>loan_amnt</th>\n",
       "      <th>annual_inc</th>\n",
       "    </tr>\n",
       "  </thead>\n",
       "  <tbody>\n",
       "    <tr>\n",
       "      <th>482</th>\n",
       "      <td>NaN</td>\n",
       "      <td>12000</td>\n",
       "      <td>0.0</td>\n",
       "    </tr>\n",
       "    <tr>\n",
       "      <th>923</th>\n",
       "      <td>NaN</td>\n",
       "      <td>10000</td>\n",
       "      <td>0.0</td>\n",
       "    </tr>\n",
       "  </tbody>\n",
       "</table>\n",
       "</div>"
      ],
      "text/plain": [
       "     dti  loan_amnt  annual_inc\n",
       "482  NaN      12000         0.0\n",
       "923  NaN      10000         0.0"
      ]
     },
     "execution_count": 69,
     "metadata": {},
     "output_type": "execute_result"
    }
   ],
   "source": [
    "LC_raw[LC_raw.dti.isna() == True][['dti','loan_amnt','annual_inc']]"
   ]
  },
  {
   "cell_type": "code",
   "execution_count": 84,
   "metadata": {},
   "outputs": [
    {
     "data": {
      "text/plain": [
       "Jun-2003    10\n",
       "Apr-2004     9\n",
       "Feb-2002     9\n",
       "Dec-2001     8\n",
       "Feb-2007     8\n",
       "            ..\n",
       "Jun-2009     1\n",
       "Mar-1979     1\n",
       "Jun-1987     1\n",
       "Aug-1985     1\n",
       "May-1985     1\n",
       "Name: earliest_cr_line, Length: 339, dtype: int64"
      ]
     },
     "execution_count": 84,
     "metadata": {},
     "output_type": "execute_result"
    }
   ],
   "source": [
    "### TODO change this to recency\n",
    "\n",
    "LC_raw['earliest_cr_line'].value_counts()"
   ]
  },
  {
   "cell_type": "code",
   "execution_count": 86,
   "metadata": {},
   "outputs": [
    {
     "data": {
      "text/plain": [
       "10+ years    371\n",
       "3 years       90\n",
       "2 years       87\n",
       "< 1 year      64\n",
       "4 years       62\n",
       "1 year        59\n",
       "5 years       54\n",
       "6 years       41\n",
       "9 years       37\n",
       "8 years       32\n",
       "7 years       29\n",
       "Name: emp_length, dtype: int64"
      ]
     },
     "execution_count": 86,
     "metadata": {},
     "output_type": "execute_result"
    }
   ],
   "source": [
    "LC_raw['emp_length'].value_counts()"
   ]
  },
  {
   "cell_type": "code",
   "execution_count": 87,
   "metadata": {},
   "outputs": [
    {
     "data": {
      "text/plain": [
       "Manager                                  16\n",
       "Teacher                                  16\n",
       "Owner                                    10\n",
       "Driver                                   10\n",
       "Office Manager                            8\n",
       "                                         ..\n",
       "Benefit consultant                        1\n",
       "Medical Laboratory Technician             1\n",
       "Operations Services Senior Specialist     1\n",
       "GENERAL PARTNER                           1\n",
       "Consultant                                1\n",
       "Name: emp_title, Length: 746, dtype: int64"
      ]
     },
     "execution_count": 87,
     "metadata": {},
     "output_type": "execute_result"
    }
   ],
   "source": [
    "## embedding\n",
    "LC_raw['emp_title'].value_counts()"
   ]
  },
  {
   "cell_type": "code",
   "execution_count": 88,
   "metadata": {},
   "outputs": [
    {
     "data": {
      "text/plain": [
       "<matplotlib.axes._subplots.AxesSubplot at 0x7f4a528dcc90>"
      ]
     },
     "execution_count": 88,
     "metadata": {},
     "output_type": "execute_result"
    },
    {
     "data": {
      "image/png": "[encoded data removed]",
      "text/plain": [
       "<Figure size 432x288 with 1 Axes>"
      ]
     },
     "metadata": {
      "needs_background": "light"
     },
     "output_type": "display_data"
    }
   ],
   "source": [
    "LC_raw['fico_range_low'].plot.hist()"
   ]
  },
  {
   "cell_type": "code",
   "execution_count": 89,
   "metadata": {},
   "outputs": [
    {
     "data": {
      "text/plain": [
       "<matplotlib.axes._subplots.AxesSubplot at 0x7f4a528a56d0>"
      ]
     },
     "execution_count": 89,
     "metadata": {},
     "output_type": "execute_result"
    },
    {
     "data": {
      "image/png": "[encoded data removed]",
      "text/plain": [
       "<Figure size 432x288 with 1 Axes>"
      ]
     },
     "metadata": {
      "needs_background": "light"
     },
     "output_type": "display_data"
    }
   ],
   "source": [
    "LC_raw['fico_range_high'].plot.hist()"
   ]
  },
  {
   "cell_type": "code",
   "execution_count": 90,
   "metadata": {},
   "outputs": [
    {
     "data": {
      "text/plain": [
       "<matplotlib.axes._subplots.AxesSubplot at 0x7f4a562eaa10>"
      ]
     },
     "execution_count": 90,
     "metadata": {},
     "output_type": "execute_result"
    },
    {
     "data": {
      "image/png": "[encoded data removed]",
      "text/plain": [
       "<Figure size 432x288 with 1 Axes>"
      ]
     },
     "metadata": {
      "needs_background": "light"
     },
     "output_type": "display_data"
    }
   ],
   "source": [
    "LC_raw.plot.scatter(x='fico_range_low',y='fico_range_high')"
   ]
  },
  {
   "cell_type": "code",
   "execution_count": 91,
   "metadata": {},
   "outputs": [
    {
     "data": {
      "text/plain": [
       "B    338\n",
       "C    320\n",
       "A    186\n",
       "D    103\n",
       "E     38\n",
       "F     11\n",
       "G      2\n",
       "Name: grade, dtype: int64"
      ]
     },
     "execution_count": 91,
     "metadata": {},
     "output_type": "execute_result"
    }
   ],
   "source": [
    "LC_raw['grade'].value_counts()"
   ]
  },
  {
   "cell_type": "code",
   "execution_count": 92,
   "metadata": {},
   "outputs": [
    {
     "data": {
      "text/plain": [
       "B5    90\n",
       "C1    76\n",
       "B1    71\n",
       "C5    70\n",
       "B4    62\n",
       "C2    62\n",
       "B2    61\n",
       "C4    58\n",
       "C3    54\n",
       "B3    54\n",
       "A1    53\n",
       "A4    43\n",
       "D3    38\n",
       "A5    36\n",
       "A2    34\n",
       "D1    32\n",
       "A3    20\n",
       "D2    19\n",
       "D4    14\n",
       "E1    12\n",
       "E2    11\n",
       "E4     9\n",
       "F1     5\n",
       "E3     4\n",
       "F3     4\n",
       "E5     2\n",
       "G2     1\n",
       "F2     1\n",
       "G3     1\n",
       "F5     1\n",
       "Name: sub_grade, dtype: int64"
      ]
     },
     "execution_count": 92,
     "metadata": {},
     "output_type": "execute_result"
    }
   ],
   "source": [
    "LC_raw['sub_grade'].value_counts()"
   ]
  },
  {
   "cell_type": "code",
   "execution_count": 93,
   "metadata": {},
   "outputs": [
    {
     "data": {
      "text/plain": [
       "MORTGAGE    509\n",
       "RENT        382\n",
       "OWN         107\n",
       "Name: home_ownership, dtype: int64"
      ]
     },
     "execution_count": 93,
     "metadata": {},
     "output_type": "execute_result"
    }
   ],
   "source": [
    "LC_raw['home_ownership'].value_counts()"
   ]
  },
  {
   "cell_type": "code",
   "execution_count": 94,
   "metadata": {},
   "outputs": [
    {
     "data": {
      "text/plain": [
       "0    627\n",
       "1    265\n",
       "2     81\n",
       "3     19\n",
       "4      6\n",
       "Name: inq_last_6mths, dtype: int64"
      ]
     },
     "execution_count": 94,
     "metadata": {},
     "output_type": "execute_result"
    }
   ],
   "source": [
    "LC_raw['inq_last_6mths'].value_counts()"
   ]
  },
  {
   "cell_type": "code",
   "execution_count": 95,
   "metadata": {},
   "outputs": [
    {
     "data": {
      "text/plain": [
       "Mar-2017    998\n",
       "Name: issue_d, dtype: int64"
      ]
     },
     "execution_count": 95,
     "metadata": {},
     "output_type": "execute_result"
    }
   ],
   "source": [
    "LC_raw['issue_d'].value_counts()"
   ]
  },
  {
   "cell_type": "code",
   "execution_count": 97,
   "metadata": {},
   "outputs": [
    {
     "data": {
      "text/plain": [
       "<matplotlib.axes._subplots.AxesSubplot at 0x7f4a52750a50>"
      ]
     },
     "execution_count": 97,
     "metadata": {},
     "output_type": "execute_result"
    },
    {
     "data": {
      "image/png": "[encoded data removed]",
      "text/plain": [
       "<Figure size 432x288 with 1 Axes>"
      ]
     },
     "metadata": {
      "needs_background": "light"
     },
     "output_type": "display_data"
    }
   ],
   "source": [
    "LC_raw['loan_amnt'].plot.hist()"
   ]
  },
  {
   "cell_type": "code",
   "execution_count": 98,
   "metadata": {},
   "outputs": [
    {
     "data": {
      "text/plain": [
       "<matplotlib.axes._subplots.AxesSubplot at 0x7f4a526f4190>"
      ]
     },
     "execution_count": 98,
     "metadata": {},
     "output_type": "execute_result"
    },
    {
     "data": {
      "image/png": "[encoded data removed]",
      "text/plain": [
       "<Figure size 432x288 with 1 Axes>"
      ]
     },
     "metadata": {
      "needs_background": "light"
     },
     "output_type": "display_data"
    }
   ],
   "source": [
    "LC_raw['mths_since_last_delinq'].plot.hist()"
   ]
  },
  {
   "cell_type": "code",
   "execution_count": 99,
   "metadata": {},
   "outputs": [
    {
     "data": {
      "text/plain": [
       "<matplotlib.axes._subplots.AxesSubplot at 0x7f4a52675c90>"
      ]
     },
     "execution_count": 99,
     "metadata": {},
     "output_type": "execute_result"
    },
    {
     "data": {
      "image/png": "[encoded data removed]",
      "text/plain": [
       "<Figure size 432x288 with 1 Axes>"
      ]
     },
     "metadata": {
      "needs_background": "light"
     },
     "output_type": "display_data"
    }
   ],
   "source": [
    "LC_raw['mths_since_last_record'].plot.hist()"
   ]
  },
  {
   "cell_type": "code",
   "execution_count": 100,
   "metadata": {},
   "outputs": [
    {
     "data": {
      "text/plain": [
       "<matplotlib.axes._subplots.AxesSubplot at 0x7f4a526e2290>"
      ]
     },
     "execution_count": 100,
     "metadata": {},
     "output_type": "execute_result"
    },
    {
     "data": {
      "image/png": "[encoded data removed]",
      "text/plain": [
       "<Figure size 432x288 with 1 Axes>"
      ]
     },
     "metadata": {
      "needs_background": "light"
     },
     "output_type": "display_data"
    }
   ],
   "source": [
    "LC_raw['open_acc'].plot.hist()\n"
   ]
  },
  {
   "cell_type": "code",
   "execution_count": 101,
   "metadata": {},
   "outputs": [
    {
     "data": {
      "text/plain": [
       "0"
      ]
     },
     "execution_count": 101,
     "metadata": {},
     "output_type": "execute_result"
    }
   ],
   "source": [
    "LC_raw['open_acc'].isna().sum()"
   ]
  },
  {
   "cell_type": "code",
   "execution_count": 102,
   "metadata": {},
   "outputs": [
    {
     "data": {
      "text/plain": [
       "<matplotlib.axes._subplots.AxesSubplot at 0x7f4a5256ca50>"
      ]
     },
     "execution_count": 102,
     "metadata": {},
     "output_type": "execute_result"
    },
    {
     "data": {
      "image/png": "[encoded data removed]",
      "text/plain": [
       "<Figure size 432x288 with 1 Axes>"
      ]
     },
     "metadata": {
      "needs_background": "light"
     },
     "output_type": "display_data"
    }
   ],
   "source": [
    "LC_raw['pub_rec'].plot.hist()"
   ]
  },
  {
   "cell_type": "code",
   "execution_count": 103,
   "metadata": {},
   "outputs": [
    {
     "data": {
      "text/plain": [
       "debt_consolidation    562\n",
       "credit_card           221\n",
       "other                  71\n",
       "home_improvement       70\n",
       "major_purchase         23\n",
       "medical                15\n",
       "vacation               13\n",
       "car                     8\n",
       "moving                  7\n",
       "small_business          5\n",
       "house                   3\n",
       "Name: purpose, dtype: int64"
      ]
     },
     "execution_count": 103,
     "metadata": {},
     "output_type": "execute_result"
    }
   ],
   "source": [
    "LC_raw['purpose'].value_counts()"
   ]
  },
  {
   "cell_type": "code",
   "execution_count": 105,
   "metadata": {},
   "outputs": [
    {
     "data": {
      "text/plain": [
       "<matplotlib.axes._subplots.AxesSubplot at 0x7f4a524e4590>"
      ]
     },
     "execution_count": 105,
     "metadata": {},
     "output_type": "execute_result"
    },
    {
     "data": {
      "image/png": "[encoded data removed]",
      "text/plain": [
       "<Figure size 432x288 with 1 Axes>"
      ]
     },
     "metadata": {
      "needs_background": "light"
     },
     "output_type": "display_data"
    }
   ],
   "source": [
    "LC_raw['total_acc'].plot.hist()"
   ]
  },
  {
   "cell_type": "code",
   "execution_count": 106,
   "metadata": {},
   "outputs": [
    {
     "data": {
      "text/plain": [
       "<matplotlib.axes._subplots.AxesSubplot at 0x7f4a56727690>"
      ]
     },
     "execution_count": 106,
     "metadata": {},
     "output_type": "execute_result"
    },
    {
     "data": {
      "image/png": "[encoded data removed]",
      "text/plain": [
       "<Figure size 432x288 with 1 Axes>"
      ]
     },
     "metadata": {
      "needs_background": "light"
     },
     "output_type": "display_data"
    }
   ],
   "source": [
    "LC_raw['total_bal_ex_mort'].plot.hist()"
   ]
  },
  {
   "cell_type": "code",
   "execution_count": 107,
   "metadata": {},
   "outputs": [
    {
     "data": {
      "text/plain": [
       "<matplotlib.axes._subplots.AxesSubplot at 0x7f4a52384e10>"
      ]
     },
     "execution_count": 107,
     "metadata": {},
     "output_type": "execute_result"
    },
    {
     "data": {
      "image/png": "[encoded data removed]",
      "text/plain": [
       "<Figure size 432x288 with 1 Axes>"
      ]
     },
     "metadata": {
      "needs_background": "light"
     },
     "output_type": "display_data"
    }
   ],
   "source": [
    "(LC_raw['total_bal_ex_mort']**(1/2)).plot.hist()"
   ]
  },
  {
   "cell_type": "code",
   "execution_count": 108,
   "metadata": {},
   "outputs": [
    {
     "data": {
      "text/plain": [
       "945xx    18\n",
       "070xx    13\n",
       "088xx    13\n",
       "112xx    12\n",
       "921xx    11\n",
       "         ..\n",
       "226xx     1\n",
       "304xx     1\n",
       "932xx     1\n",
       "768xx     1\n",
       "547xx     1\n",
       "Name: zip_code, Length: 410, dtype: int64"
      ]
     },
     "execution_count": 108,
     "metadata": {},
     "output_type": "execute_result"
    }
   ],
   "source": [
    "LC_raw['zip_code'].value_counts()"
   ]
  },
  {
   "cell_type": "code",
   "execution_count": 109,
   "metadata": {},
   "outputs": [
    {
     "data": {
      "text/plain": [
       "0    993\n",
       "1      5\n",
       "Name: acc_now_delinq, dtype: int64"
      ]
     },
     "execution_count": 109,
     "metadata": {},
     "output_type": "execute_result"
    }
   ],
   "source": [
    "LC_raw['acc_now_delinq'].value_counts()"
   ]
  },
  {
   "cell_type": "code",
   "execution_count": 112,
   "metadata": {},
   "outputs": [
    {
     "data": {
      "text/plain": [
       "<matplotlib.axes._subplots.AxesSubplot at 0x7f4a523171d0>"
      ]
     },
     "execution_count": 112,
     "metadata": {},
     "output_type": "execute_result"
    },
    {
     "data": {
      "image/png": "[encoded data removed]",
      "text/plain": [
       "<Figure size 432x288 with 1 Axes>"
      ]
     },
     "metadata": {
      "needs_background": "light"
     },
     "output_type": "display_data"
    }
   ],
   "source": [
    "LC_raw['installment'].plot.hist()"
   ]
  },
  {
   "cell_type": "code",
   "execution_count": 114,
   "metadata": {},
   "outputs": [
    {
     "data": {
      "text/plain": [
       "0    976\n",
       "1     20\n",
       "5      1\n",
       "2      1\n",
       "Name: collections_12_mths_ex_med, dtype: int64"
      ]
     },
     "execution_count": 114,
     "metadata": {},
     "output_type": "execute_result"
    }
   ],
   "source": [
    "LC_raw['collections_12_mths_ex_med'].value_counts()"
   ]
  },
  {
   "cell_type": "code",
   "execution_count": 115,
   "metadata": {},
   "outputs": [
    {
     "data": {
      "text/plain": [
       "CA    155\n",
       "NY     86\n",
       "TX     79\n",
       "FL     72\n",
       "NJ     50\n",
       "IL     40\n",
       "PA     38\n",
       "MD     32\n",
       "GA     31\n",
       "OH     29\n",
       "NC     22\n",
       "MI     22\n",
       "CT     19\n",
       "MN     19\n",
       "AZ     19\n",
       "CO     18\n",
       "IN     18\n",
       "WA     17\n",
       "MO     17\n",
       "MA     16\n",
       "VA     16\n",
       "AL     15\n",
       "TN     14\n",
       "WI     14\n",
       "NV     14\n",
       "OR     13\n",
       "SC     11\n",
       "UT     11\n",
       "OK     10\n",
       "MS      9\n",
       "KS      8\n",
       "LA      7\n",
       "AR      7\n",
       "KY      6\n",
       "HI      6\n",
       "RI      5\n",
       "NH      5\n",
       "VT      4\n",
       "MT      4\n",
       "NE      3\n",
       "WY      3\n",
       "DC      2\n",
       "ME      2\n",
       "AK      2\n",
       "SD      2\n",
       "DE      2\n",
       "ND      2\n",
       "NM      1\n",
       "ID      1\n",
       "Name: addr_state, dtype: int64"
      ]
     },
     "execution_count": 115,
     "metadata": {},
     "output_type": "execute_result"
    }
   ],
   "source": [
    "LC_raw['addr_state'].value_counts()"
   ]
  },
  {
   "cell_type": "code",
   "execution_count": 116,
   "metadata": {},
   "outputs": [
    {
     "data": {
      "text/plain": [
       "<matplotlib.axes._subplots.AxesSubplot at 0x7f4a52211c50>"
      ]
     },
     "execution_count": 116,
     "metadata": {},
     "output_type": "execute_result"
    },
    {
     "data": {
      "image/png": "[encoded data removed]",
      "text/plain": [
       "<Figure size 432x288 with 1 Axes>"
      ]
     },
     "metadata": {
      "needs_background": "light"
     },
     "output_type": "display_data"
    }
   ],
   "source": [
    "\n",
    "LC_raw['inq_last_12m'].plot.hist()\n"
   ]
  },
  {
   "cell_type": "code",
   "execution_count": 117,
   "metadata": {},
   "outputs": [
    {
     "data": {
      "text/plain": [
       "0"
      ]
     },
     "execution_count": 117,
     "metadata": {},
     "output_type": "execute_result"
    }
   ],
   "source": [
    "LC_raw['inq_last_12m'].isna().sum()"
   ]
  },
  {
   "cell_type": "code",
   "execution_count": 118,
   "metadata": {},
   "outputs": [
    {
     "data": {
      "text/plain": [
       "<matplotlib.axes._subplots.AxesSubplot at 0x7f4a52192210>"
      ]
     },
     "execution_count": 118,
     "metadata": {},
     "output_type": "execute_result"
    },
    {
     "data": {
      "image/png": "[encoded data removed]",
      "text/plain": [
       "<Figure size 432x288 with 1 Axes>"
      ]
     },
     "metadata": {
      "needs_background": "light"
     },
     "output_type": "display_data"
    }
   ],
   "source": [
    "LC_raw['mo_sin_old_il_acct'].plot.hist()\n"
   ]
  },
  {
   "cell_type": "code",
   "execution_count": 119,
   "metadata": {},
   "outputs": [
    {
     "data": {
      "text/plain": [
       "<matplotlib.axes._subplots.AxesSubplot at 0x7f4a5212efd0>"
      ]
     },
     "execution_count": 119,
     "metadata": {},
     "output_type": "execute_result"
    },
    {
     "data": {
      "image/png": "[encoded data removed]",
      "text/plain": [
       "<Figure size 432x288 with 1 Axes>"
      ]
     },
     "metadata": {
      "needs_background": "light"
     },
     "output_type": "display_data"
    }
   ],
   "source": [
    "LC_raw['mo_sin_old_rev_tl_op'].plot.hist()\n"
   ]
  },
  {
   "cell_type": "code",
   "execution_count": 120,
   "metadata": {},
   "outputs": [
    {
     "data": {
      "text/plain": [
       "<matplotlib.axes._subplots.AxesSubplot at 0x7f4a520e4c50>"
      ]
     },
     "execution_count": 120,
     "metadata": {},
     "output_type": "execute_result"
    },
    {
     "data": {
      "image/png": "[encoded data removed]",
      "text/plain": [
       "<Figure size 432x288 with 1 Axes>"
      ]
     },
     "metadata": {
      "needs_background": "light"
     },
     "output_type": "display_data"
    }
   ],
   "source": [
    "LC_raw['mo_sin_rcnt_rev_tl_op'].plot.hist()"
   ]
  },
  {
   "cell_type": "code",
   "execution_count": 121,
   "metadata": {},
   "outputs": [
    {
     "data": {
      "text/plain": [
       "<matplotlib.axes._subplots.AxesSubplot at 0x7f4a51fc4190>"
      ]
     },
     "execution_count": 121,
     "metadata": {},
     "output_type": "execute_result"
    },
    {
     "data": {
      "image/png": "[encoded data removed]",
      "text/plain": [
       "<Figure size 432x288 with 1 Axes>"
      ]
     },
     "metadata": {
      "needs_background": "light"
     },
     "output_type": "display_data"
    }
   ],
   "source": [
    "LC_raw['mo_sin_rcnt_tl'].plot.hist()"
   ]
  },
  {
   "cell_type": "code",
   "execution_count": 122,
   "metadata": {},
   "outputs": [
    {
     "data": {
      "text/plain": [
       "<matplotlib.axes._subplots.AxesSubplot at 0x7f4a51faea50>"
      ]
     },
     "execution_count": 122,
     "metadata": {},
     "output_type": "execute_result"
    },
    {
     "data": {
      "image/png": "[encoded data removed]",
      "text/plain": [
       "<Figure size 432x288 with 1 Axes>"
      ]
     },
     "metadata": {
      "needs_background": "light"
     },
     "output_type": "display_data"
    }
   ],
   "source": [
    "LC_raw['mort_acc'].plot.hist()"
   ]
  },
  {
   "cell_type": "code",
   "execution_count": 125,
   "metadata": {},
   "outputs": [
    {
     "data": {
      "text/plain": [
       "<matplotlib.axes._subplots.AxesSubplot at 0x7f4a51dd0690>"
      ]
     },
     "execution_count": 125,
     "metadata": {},
     "output_type": "execute_result"
    },
    {
     "data": {
      "image/png": "[encoded data removed]",
      "text/plain": [
       "<Figure size 432x288 with 1 Axes>"
      ]
     },
     "metadata": {
      "needs_background": "light"
     },
     "output_type": "display_data"
    }
   ],
   "source": [
    "LC_raw['num_bc_tl'].plot.hist()"
   ]
  },
  {
   "cell_type": "code",
   "execution_count": 124,
   "metadata": {},
   "outputs": [
    {
     "data": {
      "text/plain": [
       "<matplotlib.axes._subplots.AxesSubplot at 0x7f4a51e5c850>"
      ]
     },
     "execution_count": 124,
     "metadata": {},
     "output_type": "execute_result"
    },
    {
     "data": {
      "image/png": "[encoded data removed]",
      "text/plain": [
       "<Figure size 432x288 with 1 Axes>"
      ]
     },
     "metadata": {
      "needs_background": "light"
     },
     "output_type": "display_data"
    }
   ],
   "source": [
    "LC_raw['mths_since_recent_bc_dlq'].plot.hist()\n"
   ]
  },
  {
   "cell_type": "code",
   "execution_count": 126,
   "metadata": {},
   "outputs": [
    {
     "data": {
      "text/plain": [
       "<matplotlib.axes._subplots.AxesSubplot at 0x7f4a51dd71d0>"
      ]
     },
     "execution_count": 126,
     "metadata": {},
     "output_type": "execute_result"
    },
    {
     "data": {
      "image/png": "[encoded data removed]",
      "text/plain": [
       "<Figure size 432x288 with 1 Axes>"
      ]
     },
     "metadata": {
      "needs_background": "light"
     },
     "output_type": "display_data"
    }
   ],
   "source": [
    "LC_raw['num_op_rev_tl'].plot.hist()"
   ]
  },
  {
   "cell_type": "code",
   "execution_count": 129,
   "metadata": {},
   "outputs": [
    {
     "data": {
      "text/plain": [
       "2     235\n",
       "1     232\n",
       "0     199\n",
       "3     158\n",
       "4      83\n",
       "5      42\n",
       "6      24\n",
       "7      10\n",
       "9       7\n",
       "8       5\n",
       "13      1\n",
       "12      1\n",
       "11      1\n",
       "Name: num_tl_op_past_12m, dtype: int64"
      ]
     },
     "execution_count": 129,
     "metadata": {},
     "output_type": "execute_result"
    }
   ],
   "source": [
    "LC_raw['num_tl_op_past_12m'].value_counts()\n"
   ]
  },
  {
   "cell_type": "code",
   "execution_count": 130,
   "metadata": {},
   "outputs": [
    {
     "data": {
      "text/plain": [
       "<matplotlib.axes._subplots.AxesSubplot at 0x7f4a51c61c50>"
      ]
     },
     "execution_count": 130,
     "metadata": {},
     "output_type": "execute_result"
    },
    {
     "data": {
      "image/png": "[encoded data removed]",
      "text/plain": [
       "<Figure size 432x288 with 1 Axes>"
      ]
     },
     "metadata": {
      "needs_background": "light"
     },
     "output_type": "display_data"
    }
   ],
   "source": [
    "LC_raw['percent_bc_gt_75'].plot.hist()\n"
   ]
  },
  {
   "cell_type": "code",
   "execution_count": 72,
   "metadata": {},
   "outputs": [
    {
     "data": {
      "text/html": [
       "<div>\n",
       "<style scoped>\n",
       "    .dataframe tbody tr th:only-of-type {\n",
       "        vertical-align: middle;\n",
       "    }\n",
       "\n",
       "    .dataframe tbody tr th {\n",
       "        vertical-align: top;\n",
       "    }\n",
       "\n",
       "    .dataframe thead th {\n",
       "        text-align: right;\n",
       "    }\n",
       "</style>\n",
       "<table border=\"1\" class=\"dataframe\">\n",
       "  <thead>\n",
       "    <tr style=\"text-align: right;\">\n",
       "      <th></th>\n",
       "      <th>percent_bc_gt_75</th>\n",
       "      <th>num_bc_tl</th>\n",
       "      <th>total_bc_limit</th>\n",
       "    </tr>\n",
       "  </thead>\n",
       "  <tbody>\n",
       "    <tr>\n",
       "      <th>89</th>\n",
       "      <td>NaN</td>\n",
       "      <td>1</td>\n",
       "      <td>0</td>\n",
       "    </tr>\n",
       "    <tr>\n",
       "      <th>134</th>\n",
       "      <td>NaN</td>\n",
       "      <td>0</td>\n",
       "      <td>0</td>\n",
       "    </tr>\n",
       "    <tr>\n",
       "      <th>228</th>\n",
       "      <td>NaN</td>\n",
       "      <td>2</td>\n",
       "      <td>0</td>\n",
       "    </tr>\n",
       "    <tr>\n",
       "      <th>389</th>\n",
       "      <td>NaN</td>\n",
       "      <td>2</td>\n",
       "      <td>0</td>\n",
       "    </tr>\n",
       "    <tr>\n",
       "      <th>392</th>\n",
       "      <td>NaN</td>\n",
       "      <td>3</td>\n",
       "      <td>0</td>\n",
       "    </tr>\n",
       "    <tr>\n",
       "      <th>682</th>\n",
       "      <td>NaN</td>\n",
       "      <td>5</td>\n",
       "      <td>0</td>\n",
       "    </tr>\n",
       "    <tr>\n",
       "      <th>719</th>\n",
       "      <td>NaN</td>\n",
       "      <td>1</td>\n",
       "      <td>0</td>\n",
       "    </tr>\n",
       "    <tr>\n",
       "      <th>927</th>\n",
       "      <td>NaN</td>\n",
       "      <td>0</td>\n",
       "      <td>0</td>\n",
       "    </tr>\n",
       "    <tr>\n",
       "      <th>938</th>\n",
       "      <td>NaN</td>\n",
       "      <td>1</td>\n",
       "      <td>0</td>\n",
       "    </tr>\n",
       "  </tbody>\n",
       "</table>\n",
       "</div>"
      ],
      "text/plain": [
       "     percent_bc_gt_75  num_bc_tl  total_bc_limit\n",
       "89                NaN          1               0\n",
       "134               NaN          0               0\n",
       "228               NaN          2               0\n",
       "389               NaN          2               0\n",
       "392               NaN          3               0\n",
       "682               NaN          5               0\n",
       "719               NaN          1               0\n",
       "927               NaN          0               0\n",
       "938               NaN          1               0"
      ]
     },
     "execution_count": 72,
     "metadata": {},
     "output_type": "execute_result"
    }
   ],
   "source": [
    "LC_raw[LC_raw.percent_bc_gt_75.isna() == True][['percent_bc_gt_75','num_bc_tl','total_bc_limit']]\n",
    "\n"
   ]
  },
  {
   "cell_type": "code",
   "execution_count": 131,
   "metadata": {},
   "outputs": [
    {
     "data": {
      "text/plain": [
       "0    875\n",
       "1    116\n",
       "2      6\n",
       "3      1\n",
       "Name: pub_rec_bankruptcies, dtype: int64"
      ]
     },
     "execution_count": 131,
     "metadata": {},
     "output_type": "execute_result"
    }
   ],
   "source": [
    "LC_raw['pub_rec_bankruptcies'].value_counts()"
   ]
  },
  {
   "cell_type": "code",
   "execution_count": 146,
   "metadata": {},
   "outputs": [
    {
     "data": {
      "text/plain": [
       "<matplotlib.axes._subplots.AxesSubplot at 0x7f4a562ea0d0>"
      ]
     },
     "execution_count": 146,
     "metadata": {},
     "output_type": "execute_result"
    },
    {
     "data": {
      "image/png": "[encoded data removed]",
      "text/plain": [
       "<Figure size 432x288 with 1 Axes>"
      ]
     },
     "metadata": {
      "needs_background": "light"
     },
     "output_type": "display_data"
    }
   ],
   "source": [
    "import numpy as np\n",
    "# np.log(LC_raw['revol_bal']).to_frame().plot.hist()\n",
    "(LC_raw['revol_bal']**(1/2)).plot.hist()"
   ]
  },
  {
   "cell_type": "code",
   "execution_count": 147,
   "metadata": {},
   "outputs": [
    {
     "data": {
      "text/plain": [
       "0    950\n",
       "1     28\n",
       "2      9\n",
       "3      7\n",
       "4      3\n",
       "5      1\n",
       "Name: tax_liens, dtype: int64"
      ]
     },
     "execution_count": 147,
     "metadata": {},
     "output_type": "execute_result"
    }
   ],
   "source": [
    "LC_raw['tax_liens'].value_counts()\n"
   ]
  },
  {
   "cell_type": "code",
   "execution_count": 148,
   "metadata": {},
   "outputs": [
    {
     "data": {
      "text/plain": [
       "Debt consolidation         562\n",
       "Credit card refinancing    221\n",
       "Other                       71\n",
       "Home improvement            70\n",
       "Major purchase              23\n",
       "Medical expenses            15\n",
       "Vacation                    13\n",
       "Car financing                8\n",
       "Moving and relocation        7\n",
       "Business                     5\n",
       "Home buying                  3\n",
       "Name: title, dtype: int64"
      ]
     },
     "execution_count": 148,
     "metadata": {},
     "output_type": "execute_result"
    }
   ],
   "source": [
    "LC_raw['title'].value_counts()\n"
   ]
  },
  {
   "cell_type": "code",
   "execution_count": 150,
   "metadata": {},
   "outputs": [
    {
     "data": {
      "text/plain": [
       "<matplotlib.axes._subplots.AxesSubplot at 0x7f4a51992e90>"
      ]
     },
     "execution_count": 150,
     "metadata": {},
     "output_type": "execute_result"
    },
    {
     "data": {
      "image/png": "[encoded data removed]",
      "text/plain": [
       "<Figure size 432x288 with 1 Axes>"
      ]
     },
     "metadata": {
      "needs_background": "light"
     },
     "output_type": "display_data"
    }
   ],
   "source": [
    "# LC_raw['tot_hi_cred_lim'].plot.hist()\n",
    "\n",
    "(LC_raw['tot_hi_cred_lim']**(1/2)).plot.hist()"
   ]
  },
  {
   "cell_type": "code",
   "execution_count": 151,
   "metadata": {},
   "outputs": [
    {
     "data": {
      "text/plain": [
       "<matplotlib.axes._subplots.AxesSubplot at 0x7f4a51979d90>"
      ]
     },
     "execution_count": 151,
     "metadata": {},
     "output_type": "execute_result"
    },
    {
     "data": {
      "image/png": "[encoded data removed]",
      "text/plain": [
       "<Figure size 432x288 with 1 Axes>"
      ]
     },
     "metadata": {
      "needs_background": "light"
     },
     "output_type": "display_data"
    }
   ],
   "source": [
    "(LC_raw['total_bc_limit']**(1/2)).plot.hist()\n"
   ]
  },
  {
   "cell_type": "code",
   "execution_count": 152,
   "metadata": {},
   "outputs": [
    {
     "data": {
      "text/plain": [
       "Source Verified    414\n",
       "Not Verified       366\n",
       "Verified           218\n",
       "Name: verification_status, dtype: int64"
      ]
     },
     "execution_count": 152,
     "metadata": {},
     "output_type": "execute_result"
    }
   ],
   "source": [
    "LC_raw['verification_status'].value_counts()\n",
    "\n"
   ]
  },
  {
   "cell_type": "code",
   "execution_count": 81,
   "metadata": {},
   "outputs": [
    {
     "name": "stdout",
     "output_type": "stream",
     "text": [
      "<class 'pandas.core.frame.DataFrame'>\n",
      "RangeIndex: 998 entries, 0 to 997\n",
      "Data columns (total 152 columns):\n",
      " #   Column                                      Dtype  \n",
      "---  ------                                      -----  \n",
      " 0   id                                          int64  \n",
      " 1   member_id                                   float64\n",
      " 2   loan_amnt                                   int64  \n",
      " 3   funded_amnt                                 int64  \n",
      " 4   funded_amnt_inv                             int64  \n",
      " 5   term                                        object \n",
      " 6   int_rate                                    float64\n",
      " 7   installment                                 float64\n",
      " 8   grade                                       object \n",
      " 9   sub_grade                                   object \n",
      " 10  emp_title                                   object \n",
      " 11  emp_length                                  object \n",
      " 12  home_ownership                              object \n",
      " 13  annual_inc                                  float64\n",
      " 14  verification_status                         object \n",
      " 15  issue_d                                     object \n",
      " 16  loan_status                                 object \n",
      " 17  pymnt_plan                                  object \n",
      " 18  url                                         object \n",
      " 19  desc                                        float64\n",
      " 20  purpose                                     object \n",
      " 21  title                                       object \n",
      " 22  zip_code                                    object \n",
      " 23  addr_state                                  object \n",
      " 24  dti                                         float64\n",
      " 25  delinq_2yrs                                 int64  \n",
      " 26  earliest_cr_line                            object \n",
      " 27  fico_range_low                              int64  \n",
      " 28  fico_range_high                             int64  \n",
      " 29  inq_last_6mths                              int64  \n",
      " 30  mths_since_last_delinq                      float64\n",
      " 31  mths_since_last_record                      float64\n",
      " 32  open_acc                                    int64  \n",
      " 33  pub_rec                                     int64  \n",
      " 34  revol_bal                                   int64  \n",
      " 35  revol_util                                  object \n",
      " 36  total_acc                                   int64  \n",
      " 37  initial_list_status                         object \n",
      " 38  out_prncp                                   float64\n",
      " 39  out_prncp_inv                               float64\n",
      " 40  total_pymnt                                 float64\n",
      " 41  total_pymnt_inv                             float64\n",
      " 42  total_rec_prncp                             float64\n",
      " 43  total_rec_int                               float64\n",
      " 44  total_rec_late_fee                          float64\n",
      " 45  recoveries                                  float64\n",
      " 46  collection_recovery_fee                     float64\n",
      " 47  last_pymnt_d                                object \n",
      " 48  last_pymnt_amnt                             float64\n",
      " 49  next_pymnt_d                                object \n",
      " 50  last_credit_pull_d                          object \n",
      " 51  last_fico_range_high                        int64  \n",
      " 52  last_fico_range_low                         int64  \n",
      " 53  collections_12_mths_ex_med                  int64  \n",
      " 54  mths_since_last_major_derog                 float64\n",
      " 55  policy_code                                 int64  \n",
      " 56  application_type                            object \n",
      " 57  annual_inc_joint                            float64\n",
      " 58  dti_joint                                   float64\n",
      " 59  verification_status_joint                   object \n",
      " 60  acc_now_delinq                              int64  \n",
      " 61  tot_coll_amt                                int64  \n",
      " 62  tot_cur_bal                                 int64  \n",
      " 63  open_acc_6m                                 int64  \n",
      " 64  open_act_il                                 int64  \n",
      " 65  open_il_12m                                 int64  \n",
      " 66  open_il_24m                                 int64  \n",
      " 67  mths_since_rcnt_il                          float64\n",
      " 68  total_bal_il                                int64  \n",
      " 69  il_util                                     float64\n",
      " 70  open_rv_12m                                 int64  \n",
      " 71  open_rv_24m                                 int64  \n",
      " 72  max_bal_bc                                  int64  \n",
      " 73  all_util                                    int64  \n",
      " 74  total_rev_hi_lim                            int64  \n",
      " 75  inq_fi                                      int64  \n",
      " 76  total_cu_tl                                 int64  \n",
      " 77  inq_last_12m                                int64  \n",
      " 78  acc_open_past_24mths                        int64  \n",
      " 79  avg_cur_bal                                 int64  \n",
      " 80  bc_open_to_buy                              float64\n",
      " 81  bc_util                                     float64\n",
      " 82  chargeoff_within_12_mths                    int64  \n",
      " 83  delinq_amnt                                 int64  \n",
      " 84  mo_sin_old_il_acct                          float64\n",
      " 85  mo_sin_old_rev_tl_op                        int64  \n",
      " 86  mo_sin_rcnt_rev_tl_op                       int64  \n",
      " 87  mo_sin_rcnt_tl                              int64  \n",
      " 88  mort_acc                                    int64  \n",
      " 89  mths_since_recent_bc                        float64\n",
      " 90  mths_since_recent_bc_dlq                    float64\n",
      " 91  mths_since_recent_inq                       float64\n",
      " 92  mths_since_recent_revol_delinq              float64\n",
      " 93  num_accts_ever_120_pd                       int64  \n",
      " 94  num_actv_bc_tl                              int64  \n",
      " 95  num_actv_rev_tl                             int64  \n",
      " 96  num_bc_sats                                 int64  \n",
      " 97  num_bc_tl                                   int64  \n",
      " 98  num_il_tl                                   int64  \n",
      " 99  num_op_rev_tl                               int64  \n",
      " 100 num_rev_accts                               int64  \n",
      " 101 num_rev_tl_bal_gt_0                         int64  \n",
      " 102 num_sats                                    int64  \n",
      " 103 num_tl_120dpd_2m                            float64\n",
      " 104 num_tl_30dpd                                int64  \n",
      " 105 num_tl_90g_dpd_24m                          int64  \n",
      " 106 num_tl_op_past_12m                          int64  \n",
      " 107 pct_tl_nvr_dlq                              float64\n",
      " 108 percent_bc_gt_75                            float64\n",
      " 109 pub_rec_bankruptcies                        int64  \n",
      " 110 tax_liens                                   int64  \n",
      " 111 tot_hi_cred_lim                             int64  \n",
      " 112 total_bal_ex_mort                           int64  \n",
      " 113 total_bc_limit                              int64  \n",
      " 114 total_il_high_credit_limit                  int64  \n",
      " 115 revol_bal_joint                             float64\n",
      " 116 sec_app_fico_range_low                      float64\n",
      " 117 sec_app_fico_range_high                     float64\n",
      " 118 sec_app_earliest_cr_line                    object \n",
      " 119 sec_app_inq_last_6mths                      float64\n",
      " 120 sec_app_mort_acc                            float64\n",
      " 121 sec_app_open_acc                            float64\n",
      " 122 sec_app_revol_util                          float64\n",
      " 123 sec_app_open_act_il                         float64\n",
      " 124 sec_app_num_rev_accts                       float64\n",
      " 125 sec_app_chargeoff_within_12_mths            float64\n",
      " 126 sec_app_collections_12_mths_ex_med          float64\n",
      " 127 sec_app_mths_since_last_major_derog         float64\n",
      " 128 hardship_flag                               object \n",
      " 129 hardship_type                               object \n",
      " 130 hardship_reason                             object \n",
      " 131 hardship_status                             object \n",
      " 132 deferral_term                               float64\n",
      " 133 hardship_amount                             float64\n",
      " 134 hardship_start_date                         object \n",
      " 135 hardship_end_date                           object \n",
      " 136 payment_plan_start_date                     object \n",
      " 137 hardship_length                             float64\n",
      " 138 hardship_dpd                                float64\n",
      " 139 hardship_loan_status                        object \n",
      " 140 orig_projected_additional_accrued_interest  float64\n",
      " 141 hardship_payoff_balance_amount              float64\n",
      " 142 hardship_last_payment_amount                float64\n",
      " 143 debt_settlement_flag                        object \n",
      " 144 debt_settlement_flag_date                   object \n",
      " 145 settlement_status                           object \n",
      " 146 settlement_date                             object \n",
      " 147 settlement_amount                           float64\n",
      " 148 settlement_percentage                       float64\n",
      " 149 settlement_term                             float64\n",
      " 150 fully_paid                                  bool   \n",
      " 151 int_rate2                                   float64\n",
      "dtypes: bool(1), float64(56), int64(59), object(36)\n",
      "memory usage: 1.2+ MB\n"
     ]
    }
   ],
   "source": []
  },
  {
   "cell_type": "code",
   "execution_count": null,
   "metadata": {},
   "outputs": [],
   "source": []
  }
 ],
 "metadata": {
  "kernelspec": {
   "display_name": "Python 3",
   "language": "python",
   "name": "python3"
  },
  "language_info": {
   "codemirror_mode": {
    "name": "ipython",
    "version": 3
   },
   "file_extension": ".py",
   "mimetype": "text/x-python",
   "name": "python",
   "nbconvert_exporter": "python",
   "pygments_lexer": "ipython3",
   "version": "3.7.6"
  }
 },
 "nbformat": 4,
 "nbformat_minor": 4
}
