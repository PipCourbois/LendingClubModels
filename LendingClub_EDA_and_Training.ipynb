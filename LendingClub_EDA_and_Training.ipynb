{
 "cells": [
  {
   "cell_type": "markdown",
   "metadata": {},
   "source": [
    "## Lending Club analysis \n",
    "\n",
    "The objective is to build a model that predicts return rate (or something like that) for loans.\n",
    "\n",
    "Start simple:  classification (payback/don't payback) "
   ]
  },
  {
   "cell_type": "code",
   "execution_count": 1,
   "metadata": {},
   "outputs": [],
   "source": [
    "import pandas as pd"
   ]
  },
  {
   "cell_type": "markdown",
   "metadata": {},
   "source": [
    "### Read in the data\n",
    "\n",
    "These are the Q1 2017 loans.  [data should be here](https://www.lendingclub.com/statistics/additional-statistics?) but something is wrong.  In any case, I managed to download the 2017 data."
   ]
  },
  {
   "cell_type": "code",
   "execution_count": 2,
   "metadata": {},
   "outputs": [],
   "source": [
    "LC_raw = pd.read_csv(\"./data/Loan_stats_2017_top1000.csv\",header=1,skiprows=0)"
   ]
  },
  {
   "cell_type": "code",
   "execution_count": 3,
   "metadata": {},
   "outputs": [
    {
     "data": {
      "text/html": [
       "<div>\n",
       "<style scoped>\n",
       "    .dataframe tbody tr th:only-of-type {\n",
       "        vertical-align: middle;\n",
       "    }\n",
       "\n",
       "    .dataframe tbody tr th {\n",
       "        vertical-align: top;\n",
       "    }\n",
       "\n",
       "    .dataframe thead th {\n",
       "        text-align: right;\n",
       "    }\n",
       "</style>\n",
       "<table border=\"1\" class=\"dataframe\">\n",
       "  <thead>\n",
       "    <tr style=\"text-align: right;\">\n",
       "      <th></th>\n",
       "      <th>id</th>\n",
       "      <th>member_id</th>\n",
       "      <th>loan_amnt</th>\n",
       "      <th>funded_amnt</th>\n",
       "      <th>funded_amnt_inv</th>\n",
       "      <th>term</th>\n",
       "      <th>int_rate</th>\n",
       "      <th>installment</th>\n",
       "      <th>grade</th>\n",
       "      <th>sub_grade</th>\n",
       "      <th>...</th>\n",
       "      <th>orig_projected_additional_accrued_interest</th>\n",
       "      <th>hardship_payoff_balance_amount</th>\n",
       "      <th>hardship_last_payment_amount</th>\n",
       "      <th>debt_settlement_flag</th>\n",
       "      <th>debt_settlement_flag_date</th>\n",
       "      <th>settlement_status</th>\n",
       "      <th>settlement_date</th>\n",
       "      <th>settlement_amount</th>\n",
       "      <th>settlement_percentage</th>\n",
       "      <th>settlement_term</th>\n",
       "    </tr>\n",
       "  </thead>\n",
       "  <tbody>\n",
       "    <tr>\n",
       "      <th>0</th>\n",
       "      <td>104160129</td>\n",
       "      <td>NaN</td>\n",
       "      <td>6000</td>\n",
       "      <td>6000</td>\n",
       "      <td>6000</td>\n",
       "      <td>36 months</td>\n",
       "      <td>7.24%</td>\n",
       "      <td>185.93</td>\n",
       "      <td>A</td>\n",
       "      <td>A3</td>\n",
       "      <td>...</td>\n",
       "      <td>NaN</td>\n",
       "      <td>NaN</td>\n",
       "      <td>NaN</td>\n",
       "      <td>N</td>\n",
       "      <td>NaN</td>\n",
       "      <td>NaN</td>\n",
       "      <td>NaN</td>\n",
       "      <td>NaN</td>\n",
       "      <td>NaN</td>\n",
       "      <td>NaN</td>\n",
       "    </tr>\n",
       "    <tr>\n",
       "      <th>1</th>\n",
       "      <td>104170260</td>\n",
       "      <td>NaN</td>\n",
       "      <td>17000</td>\n",
       "      <td>17000</td>\n",
       "      <td>17000</td>\n",
       "      <td>36 months</td>\n",
       "      <td>7.49%</td>\n",
       "      <td>528.73</td>\n",
       "      <td>A</td>\n",
       "      <td>A4</td>\n",
       "      <td>...</td>\n",
       "      <td>NaN</td>\n",
       "      <td>NaN</td>\n",
       "      <td>NaN</td>\n",
       "      <td>N</td>\n",
       "      <td>NaN</td>\n",
       "      <td>NaN</td>\n",
       "      <td>NaN</td>\n",
       "      <td>NaN</td>\n",
       "      <td>NaN</td>\n",
       "      <td>NaN</td>\n",
       "    </tr>\n",
       "    <tr>\n",
       "      <th>2</th>\n",
       "      <td>103952006</td>\n",
       "      <td>NaN</td>\n",
       "      <td>14000</td>\n",
       "      <td>14000</td>\n",
       "      <td>14000</td>\n",
       "      <td>60 months</td>\n",
       "      <td>12.74%</td>\n",
       "      <td>316.69</td>\n",
       "      <td>C</td>\n",
       "      <td>C1</td>\n",
       "      <td>...</td>\n",
       "      <td>NaN</td>\n",
       "      <td>NaN</td>\n",
       "      <td>NaN</td>\n",
       "      <td>N</td>\n",
       "      <td>NaN</td>\n",
       "      <td>NaN</td>\n",
       "      <td>NaN</td>\n",
       "      <td>NaN</td>\n",
       "      <td>NaN</td>\n",
       "      <td>NaN</td>\n",
       "    </tr>\n",
       "    <tr>\n",
       "      <th>3</th>\n",
       "      <td>103347407</td>\n",
       "      <td>NaN</td>\n",
       "      <td>9900</td>\n",
       "      <td>9900</td>\n",
       "      <td>9900</td>\n",
       "      <td>36 months</td>\n",
       "      <td>5.32%</td>\n",
       "      <td>298.14</td>\n",
       "      <td>A</td>\n",
       "      <td>A1</td>\n",
       "      <td>...</td>\n",
       "      <td>NaN</td>\n",
       "      <td>NaN</td>\n",
       "      <td>NaN</td>\n",
       "      <td>N</td>\n",
       "      <td>NaN</td>\n",
       "      <td>NaN</td>\n",
       "      <td>NaN</td>\n",
       "      <td>NaN</td>\n",
       "      <td>NaN</td>\n",
       "      <td>NaN</td>\n",
       "    </tr>\n",
       "    <tr>\n",
       "      <th>4</th>\n",
       "      <td>103470623</td>\n",
       "      <td>NaN</td>\n",
       "      <td>15400</td>\n",
       "      <td>15400</td>\n",
       "      <td>15400</td>\n",
       "      <td>60 months</td>\n",
       "      <td>11.39%</td>\n",
       "      <td>337.84</td>\n",
       "      <td>B</td>\n",
       "      <td>B3</td>\n",
       "      <td>...</td>\n",
       "      <td>NaN</td>\n",
       "      <td>NaN</td>\n",
       "      <td>NaN</td>\n",
       "      <td>N</td>\n",
       "      <td>NaN</td>\n",
       "      <td>NaN</td>\n",
       "      <td>NaN</td>\n",
       "      <td>NaN</td>\n",
       "      <td>NaN</td>\n",
       "      <td>NaN</td>\n",
       "    </tr>\n",
       "    <tr>\n",
       "      <th>5</th>\n",
       "      <td>104047067</td>\n",
       "      <td>NaN</td>\n",
       "      <td>10000</td>\n",
       "      <td>10000</td>\n",
       "      <td>10000</td>\n",
       "      <td>36 months</td>\n",
       "      <td>7.99%</td>\n",
       "      <td>313.32</td>\n",
       "      <td>A</td>\n",
       "      <td>A5</td>\n",
       "      <td>...</td>\n",
       "      <td>NaN</td>\n",
       "      <td>NaN</td>\n",
       "      <td>NaN</td>\n",
       "      <td>N</td>\n",
       "      <td>NaN</td>\n",
       "      <td>NaN</td>\n",
       "      <td>NaN</td>\n",
       "      <td>NaN</td>\n",
       "      <td>NaN</td>\n",
       "      <td>NaN</td>\n",
       "    </tr>\n",
       "    <tr>\n",
       "      <th>6</th>\n",
       "      <td>104048642</td>\n",
       "      <td>NaN</td>\n",
       "      <td>10000</td>\n",
       "      <td>10000</td>\n",
       "      <td>10000</td>\n",
       "      <td>36 months</td>\n",
       "      <td>7.49%</td>\n",
       "      <td>311.02</td>\n",
       "      <td>A</td>\n",
       "      <td>A4</td>\n",
       "      <td>...</td>\n",
       "      <td>NaN</td>\n",
       "      <td>NaN</td>\n",
       "      <td>NaN</td>\n",
       "      <td>N</td>\n",
       "      <td>NaN</td>\n",
       "      <td>NaN</td>\n",
       "      <td>NaN</td>\n",
       "      <td>NaN</td>\n",
       "      <td>NaN</td>\n",
       "      <td>NaN</td>\n",
       "    </tr>\n",
       "    <tr>\n",
       "      <th>7</th>\n",
       "      <td>104280288</td>\n",
       "      <td>NaN</td>\n",
       "      <td>3025</td>\n",
       "      <td>3025</td>\n",
       "      <td>3025</td>\n",
       "      <td>36 months</td>\n",
       "      <td>6.99%</td>\n",
       "      <td>93.39</td>\n",
       "      <td>A</td>\n",
       "      <td>A2</td>\n",
       "      <td>...</td>\n",
       "      <td>NaN</td>\n",
       "      <td>NaN</td>\n",
       "      <td>NaN</td>\n",
       "      <td>N</td>\n",
       "      <td>NaN</td>\n",
       "      <td>NaN</td>\n",
       "      <td>NaN</td>\n",
       "      <td>NaN</td>\n",
       "      <td>NaN</td>\n",
       "      <td>NaN</td>\n",
       "    </tr>\n",
       "    <tr>\n",
       "      <th>8</th>\n",
       "      <td>104070168</td>\n",
       "      <td>NaN</td>\n",
       "      <td>9000</td>\n",
       "      <td>9000</td>\n",
       "      <td>9000</td>\n",
       "      <td>36 months</td>\n",
       "      <td>11.39%</td>\n",
       "      <td>296.32</td>\n",
       "      <td>B</td>\n",
       "      <td>B3</td>\n",
       "      <td>...</td>\n",
       "      <td>NaN</td>\n",
       "      <td>NaN</td>\n",
       "      <td>NaN</td>\n",
       "      <td>N</td>\n",
       "      <td>NaN</td>\n",
       "      <td>NaN</td>\n",
       "      <td>NaN</td>\n",
       "      <td>NaN</td>\n",
       "      <td>NaN</td>\n",
       "      <td>NaN</td>\n",
       "    </tr>\n",
       "    <tr>\n",
       "      <th>9</th>\n",
       "      <td>104210150</td>\n",
       "      <td>NaN</td>\n",
       "      <td>12000</td>\n",
       "      <td>12000</td>\n",
       "      <td>12000</td>\n",
       "      <td>36 months</td>\n",
       "      <td>6.99%</td>\n",
       "      <td>370.48</td>\n",
       "      <td>A</td>\n",
       "      <td>A2</td>\n",
       "      <td>...</td>\n",
       "      <td>NaN</td>\n",
       "      <td>NaN</td>\n",
       "      <td>NaN</td>\n",
       "      <td>N</td>\n",
       "      <td>NaN</td>\n",
       "      <td>NaN</td>\n",
       "      <td>NaN</td>\n",
       "      <td>NaN</td>\n",
       "      <td>NaN</td>\n",
       "      <td>NaN</td>\n",
       "    </tr>\n",
       "  </tbody>\n",
       "</table>\n",
       "<p>10 rows × 150 columns</p>\n",
       "</div>"
      ],
      "text/plain": [
       "          id  member_id  loan_amnt  funded_amnt  funded_amnt_inv        term  \\\n",
       "0  104160129        NaN       6000         6000             6000   36 months   \n",
       "1  104170260        NaN      17000        17000            17000   36 months   \n",
       "2  103952006        NaN      14000        14000            14000   60 months   \n",
       "3  103347407        NaN       9900         9900             9900   36 months   \n",
       "4  103470623        NaN      15400        15400            15400   60 months   \n",
       "5  104047067        NaN      10000        10000            10000   36 months   \n",
       "6  104048642        NaN      10000        10000            10000   36 months   \n",
       "7  104280288        NaN       3025         3025             3025   36 months   \n",
       "8  104070168        NaN       9000         9000             9000   36 months   \n",
       "9  104210150        NaN      12000        12000            12000   36 months   \n",
       "\n",
       "  int_rate  installment grade sub_grade  ...  \\\n",
       "0    7.24%       185.93     A        A3  ...   \n",
       "1    7.49%       528.73     A        A4  ...   \n",
       "2   12.74%       316.69     C        C1  ...   \n",
       "3    5.32%       298.14     A        A1  ...   \n",
       "4   11.39%       337.84     B        B3  ...   \n",
       "5    7.99%       313.32     A        A5  ...   \n",
       "6    7.49%       311.02     A        A4  ...   \n",
       "7    6.99%        93.39     A        A2  ...   \n",
       "8   11.39%       296.32     B        B3  ...   \n",
       "9    6.99%       370.48     A        A2  ...   \n",
       "\n",
       "  orig_projected_additional_accrued_interest hardship_payoff_balance_amount  \\\n",
       "0                                        NaN                            NaN   \n",
       "1                                        NaN                            NaN   \n",
       "2                                        NaN                            NaN   \n",
       "3                                        NaN                            NaN   \n",
       "4                                        NaN                            NaN   \n",
       "5                                        NaN                            NaN   \n",
       "6                                        NaN                            NaN   \n",
       "7                                        NaN                            NaN   \n",
       "8                                        NaN                            NaN   \n",
       "9                                        NaN                            NaN   \n",
       "\n",
       "  hardship_last_payment_amount  debt_settlement_flag  \\\n",
       "0                          NaN                     N   \n",
       "1                          NaN                     N   \n",
       "2                          NaN                     N   \n",
       "3                          NaN                     N   \n",
       "4                          NaN                     N   \n",
       "5                          NaN                     N   \n",
       "6                          NaN                     N   \n",
       "7                          NaN                     N   \n",
       "8                          NaN                     N   \n",
       "9                          NaN                     N   \n",
       "\n",
       "  debt_settlement_flag_date settlement_status settlement_date  \\\n",
       "0                       NaN               NaN             NaN   \n",
       "1                       NaN               NaN             NaN   \n",
       "2                       NaN               NaN             NaN   \n",
       "3                       NaN               NaN             NaN   \n",
       "4                       NaN               NaN             NaN   \n",
       "5                       NaN               NaN             NaN   \n",
       "6                       NaN               NaN             NaN   \n",
       "7                       NaN               NaN             NaN   \n",
       "8                       NaN               NaN             NaN   \n",
       "9                       NaN               NaN             NaN   \n",
       "\n",
       "  settlement_amount settlement_percentage  settlement_term  \n",
       "0               NaN                   NaN              NaN  \n",
       "1               NaN                   NaN              NaN  \n",
       "2               NaN                   NaN              NaN  \n",
       "3               NaN                   NaN              NaN  \n",
       "4               NaN                   NaN              NaN  \n",
       "5               NaN                   NaN              NaN  \n",
       "6               NaN                   NaN              NaN  \n",
       "7               NaN                   NaN              NaN  \n",
       "8               NaN                   NaN              NaN  \n",
       "9               NaN                   NaN              NaN  \n",
       "\n",
       "[10 rows x 150 columns]"
      ]
     },
     "execution_count": 3,
     "metadata": {},
     "output_type": "execute_result"
    }
   ],
   "source": [
    "LC_raw.head(10)"
   ]
  },
  {
   "cell_type": "code",
   "execution_count": 4,
   "metadata": {},
   "outputs": [
    {
     "name": "stdout",
     "output_type": "stream",
     "text": [
      "<class 'pandas.core.frame.DataFrame'>\n",
      "RangeIndex: 998 entries, 0 to 997\n",
      "Data columns (total 150 columns):\n",
      " #   Column                                      Dtype  \n",
      "---  ------                                      -----  \n",
      " 0   id                                          int64  \n",
      " 1   member_id                                   float64\n",
      " 2   loan_amnt                                   int64  \n",
      " 3   funded_amnt                                 int64  \n",
      " 4   funded_amnt_inv                             int64  \n",
      " 5   term                                        object \n",
      " 6   int_rate                                    object \n",
      " 7   installment                                 float64\n",
      " 8   grade                                       object \n",
      " 9   sub_grade                                   object \n",
      " 10  emp_title                                   object \n",
      " 11  emp_length                                  object \n",
      " 12  home_ownership                              object \n",
      " 13  annual_inc                                  float64\n",
      " 14  verification_status                         object \n",
      " 15  issue_d                                     object \n",
      " 16  loan_status                                 object \n",
      " 17  pymnt_plan                                  object \n",
      " 18  url                                         object \n",
      " 19  desc                                        float64\n",
      " 20  purpose                                     object \n",
      " 21  title                                       object \n",
      " 22  zip_code                                    object \n",
      " 23  addr_state                                  object \n",
      " 24  dti                                         float64\n",
      " 25  delinq_2yrs                                 int64  \n",
      " 26  earliest_cr_line                            object \n",
      " 27  fico_range_low                              int64  \n",
      " 28  fico_range_high                             int64  \n",
      " 29  inq_last_6mths                              int64  \n",
      " 30  mths_since_last_delinq                      float64\n",
      " 31  mths_since_last_record                      float64\n",
      " 32  open_acc                                    int64  \n",
      " 33  pub_rec                                     int64  \n",
      " 34  revol_bal                                   int64  \n",
      " 35  revol_util                                  object \n",
      " 36  total_acc                                   int64  \n",
      " 37  initial_list_status                         object \n",
      " 38  out_prncp                                   float64\n",
      " 39  out_prncp_inv                               float64\n",
      " 40  total_pymnt                                 float64\n",
      " 41  total_pymnt_inv                             float64\n",
      " 42  total_rec_prncp                             float64\n",
      " 43  total_rec_int                               float64\n",
      " 44  total_rec_late_fee                          float64\n",
      " 45  recoveries                                  float64\n",
      " 46  collection_recovery_fee                     float64\n",
      " 47  last_pymnt_d                                object \n",
      " 48  last_pymnt_amnt                             float64\n",
      " 49  next_pymnt_d                                object \n",
      " 50  last_credit_pull_d                          object \n",
      " 51  last_fico_range_high                        int64  \n",
      " 52  last_fico_range_low                         int64  \n",
      " 53  collections_12_mths_ex_med                  int64  \n",
      " 54  mths_since_last_major_derog                 float64\n",
      " 55  policy_code                                 int64  \n",
      " 56  application_type                            object \n",
      " 57  annual_inc_joint                            float64\n",
      " 58  dti_joint                                   float64\n",
      " 59  verification_status_joint                   object \n",
      " 60  acc_now_delinq                              int64  \n",
      " 61  tot_coll_amt                                int64  \n",
      " 62  tot_cur_bal                                 int64  \n",
      " 63  open_acc_6m                                 int64  \n",
      " 64  open_act_il                                 int64  \n",
      " 65  open_il_12m                                 int64  \n",
      " 66  open_il_24m                                 int64  \n",
      " 67  mths_since_rcnt_il                          float64\n",
      " 68  total_bal_il                                int64  \n",
      " 69  il_util                                     float64\n",
      " 70  open_rv_12m                                 int64  \n",
      " 71  open_rv_24m                                 int64  \n",
      " 72  max_bal_bc                                  int64  \n",
      " 73  all_util                                    int64  \n",
      " 74  total_rev_hi_lim                            int64  \n",
      " 75  inq_fi                                      int64  \n",
      " 76  total_cu_tl                                 int64  \n",
      " 77  inq_last_12m                                int64  \n",
      " 78  acc_open_past_24mths                        int64  \n",
      " 79  avg_cur_bal                                 int64  \n",
      " 80  bc_open_to_buy                              float64\n",
      " 81  bc_util                                     float64\n",
      " 82  chargeoff_within_12_mths                    int64  \n",
      " 83  delinq_amnt                                 int64  \n",
      " 84  mo_sin_old_il_acct                          float64\n",
      " 85  mo_sin_old_rev_tl_op                        int64  \n",
      " 86  mo_sin_rcnt_rev_tl_op                       int64  \n",
      " 87  mo_sin_rcnt_tl                              int64  \n",
      " 88  mort_acc                                    int64  \n",
      " 89  mths_since_recent_bc                        float64\n",
      " 90  mths_since_recent_bc_dlq                    float64\n",
      " 91  mths_since_recent_inq                       float64\n",
      " 92  mths_since_recent_revol_delinq              float64\n",
      " 93  num_accts_ever_120_pd                       int64  \n",
      " 94  num_actv_bc_tl                              int64  \n",
      " 95  num_actv_rev_tl                             int64  \n",
      " 96  num_bc_sats                                 int64  \n",
      " 97  num_bc_tl                                   int64  \n",
      " 98  num_il_tl                                   int64  \n",
      " 99  num_op_rev_tl                               int64  \n",
      " 100 num_rev_accts                               int64  \n",
      " 101 num_rev_tl_bal_gt_0                         int64  \n",
      " 102 num_sats                                    int64  \n",
      " 103 num_tl_120dpd_2m                            float64\n",
      " 104 num_tl_30dpd                                int64  \n",
      " 105 num_tl_90g_dpd_24m                          int64  \n",
      " 106 num_tl_op_past_12m                          int64  \n",
      " 107 pct_tl_nvr_dlq                              float64\n",
      " 108 percent_bc_gt_75                            float64\n",
      " 109 pub_rec_bankruptcies                        int64  \n",
      " 110 tax_liens                                   int64  \n",
      " 111 tot_hi_cred_lim                             int64  \n",
      " 112 total_bal_ex_mort                           int64  \n",
      " 113 total_bc_limit                              int64  \n",
      " 114 total_il_high_credit_limit                  int64  \n",
      " 115 revol_bal_joint                             float64\n",
      " 116 sec_app_fico_range_low                      float64\n",
      " 117 sec_app_fico_range_high                     float64\n",
      " 118 sec_app_earliest_cr_line                    object \n",
      " 119 sec_app_inq_last_6mths                      float64\n",
      " 120 sec_app_mort_acc                            float64\n",
      " 121 sec_app_open_acc                            float64\n",
      " 122 sec_app_revol_util                          float64\n",
      " 123 sec_app_open_act_il                         float64\n",
      " 124 sec_app_num_rev_accts                       float64\n",
      " 125 sec_app_chargeoff_within_12_mths            float64\n",
      " 126 sec_app_collections_12_mths_ex_med          float64\n",
      " 127 sec_app_mths_since_last_major_derog         float64\n",
      " 128 hardship_flag                               object \n",
      " 129 hardship_type                               object \n",
      " 130 hardship_reason                             object \n",
      " 131 hardship_status                             object \n",
      " 132 deferral_term                               float64\n",
      " 133 hardship_amount                             float64\n",
      " 134 hardship_start_date                         object \n",
      " 135 hardship_end_date                           object \n",
      " 136 payment_plan_start_date                     object \n",
      " 137 hardship_length                             float64\n",
      " 138 hardship_dpd                                float64\n",
      " 139 hardship_loan_status                        object \n",
      " 140 orig_projected_additional_accrued_interest  float64\n",
      " 141 hardship_payoff_balance_amount              float64\n",
      " 142 hardship_last_payment_amount                float64\n",
      " 143 debt_settlement_flag                        object \n",
      " 144 debt_settlement_flag_date                   object \n",
      " 145 settlement_status                           object \n",
      " 146 settlement_date                             object \n",
      " 147 settlement_amount                           float64\n",
      " 148 settlement_percentage                       float64\n",
      " 149 settlement_term                             float64\n",
      "dtypes: float64(54), int64(59), object(37)\n",
      "memory usage: 1.1+ MB\n"
     ]
    }
   ],
   "source": [
    "LC_raw.info(verbose=True)"
   ]
  },
  {
   "cell_type": "markdown",
   "metadata": {},
   "source": [
    "## Target variable\n",
    "\n",
    "Training data are from Q1, 2017; 3 years ago.  Most of the 3 year loans should be [Fully Paid or Charged off](https://help.lendingclub.com/hc/en-us/articles/215488038). Five-year loans can still be current. \n",
    "\n",
    "The length of the terms makes building training data a challenge, if I want to give five-year loans sufficient time to mature I have to use training data that is 5+ years old. Loans that old are unlikely to reflect current trends (they are not _representative_ to the loans being requested now). \n",
    "\n",
    "On the other hand choosing a short window will not show the entire picture; how many loans default after the first year or two?  \n",
    "\n",
    "I chose 3 years as a compromise.  \n",
    "\n",
    "Obviously, loans requested 3 years ago probably don't reflect current loans, we are in the middle of a global pandemic. Unbiased inference is always a problem in statistical modeling and is beyond the scope of this quick analysis.\n",
    "\n",
    "The return on investment will be the 3-year total amount paid to date (total_pymnt) minus the initial investment.  This will be prorated to a \\\\$100 investment:\n",
    "\n",
    "ROI = (total_pymnt/loan_amnt - 1) * 100\n",
    "\n",
    "Example #1, loan ID 104160129 is a 3-year \"Fully Paid\" loan; the initial loan was \\\\$6000 (loan_amnt) and they paid \\\\$6553.12 (total_pymnt), so a \\\\$100 investment into this loan would net:\n",
    "\n",
    "> ROI = (6553.12/6000 - 1) * 100 = 9.22\n",
    "\n",
    "Example #2, loan ID 103952006 is a 5-year \"Charged off\" loan; the initial loan was \\\\$14000 (loan_amnt) and they paid \\\\$6,388.30 (total_pymnt) prior to defaulting, so a \\\\$100 investment into this loan would net:\n",
    "\n",
    "> ROI = (6388.30/14000 - 1) * 100 = -54.13\n"
   ]
  },
  {
   "cell_type": "code",
   "execution_count": 42,
   "metadata": {},
   "outputs": [],
   "source": [
    "LC_raw['roi']=(LC_raw.total_pymnt/LC_raw.loan_amnt - 1) * 100"
   ]
  },
  {
   "cell_type": "code",
   "execution_count": 43,
   "metadata": {},
   "outputs": [
    {
     "data": {
      "text/plain": [
       "0       9.218622\n",
       "1       1.663546\n",
       "2     -54.369286\n",
       "3       5.775280\n",
       "4      17.876046\n",
       "         ...    \n",
       "993    23.559498\n",
       "994    10.019911\n",
       "995    11.471286\n",
       "996    21.650448\n",
       "997    31.750308\n",
       "Name: roi, Length: 998, dtype: float64"
      ]
     },
     "execution_count": 43,
     "metadata": {},
     "output_type": "execute_result"
    }
   ],
   "source": [
    "LC_raw.roi"
   ]
  },
  {
   "cell_type": "code",
   "execution_count": 44,
   "metadata": {},
   "outputs": [
    {
     "data": {
      "text/plain": [
       "<matplotlib.axes._subplots.AxesSubplot at 0x7f756642bb10>"
      ]
     },
     "execution_count": 44,
     "metadata": {},
     "output_type": "execute_result"
    },
    {
     "data": {
      "image/png": "[encoded data removed]",
      "text/plain": [
       "<Figure size 432x288 with 1 Axes>"
      ]
     },
     "metadata": {
      "needs_background": "light"
     },
     "output_type": "display_data"
    }
   ],
   "source": [
    "LC_raw.roi.plot.hist()"
   ]
  },
  {
   "cell_type": "code",
   "execution_count": 47,
   "metadata": {},
   "outputs": [
    {
     "data": {
      "text/plain": [
       "99800"
      ]
     },
     "execution_count": 47,
     "metadata": {},
     "output_type": "execute_result"
    }
   ],
   "source": [
    "# total investment $100 per loan\n",
    "LC_raw.roi.count()*100"
   ]
  },
  {
   "cell_type": "code",
   "execution_count": 48,
   "metadata": {},
   "outputs": [
    {
     "data": {
      "text/plain": [
       "2766.4418549358743"
      ]
     },
     "execution_count": 48,
     "metadata": {},
     "output_type": "execute_result"
    }
   ],
   "source": [
    "LC_raw.roi.sum()"
   ]
  },
  {
   "cell_type": "code",
   "execution_count": 49,
   "metadata": {},
   "outputs": [
    {
     "data": {
      "text/plain": [
       "0.027719858265890525"
      ]
     },
     "execution_count": 49,
     "metadata": {},
     "output_type": "execute_result"
    }
   ],
   "source": [
    "# not exactly a 7% return as advertised\n",
    "LC_raw.roi.sum()/(LC_raw.roi.count()*100)"
   ]
  },
  {
   "cell_type": "code",
   "execution_count": 52,
   "metadata": {},
   "outputs": [
    {
     "data": {
      "text/plain": [
       "<matplotlib.axes._subplots.AxesSubplot at 0x7f755e911b10>"
      ]
     },
     "execution_count": 52,
     "metadata": {},
     "output_type": "execute_result"
    },
    {
     "data": {
      "image/png": "[encoded data removed]",
      "text/plain": [
       "<Figure size 432x288 with 1 Axes>"
      ]
     },
     "metadata": {
      "needs_background": "light"
     },
     "output_type": "display_data"
    }
   ],
   "source": [
    "# data is biased because it only includes funded loans.  Clearly some loans will not get funded\n",
    "import seaborn as sb\n",
    "sb.boxplot(x=LC_raw.grade,y=LC_raw.roi)"
   ]
  },
  {
   "cell_type": "markdown",
   "metadata": {},
   "source": [
    "### Feature EDA\n",
    "\n",
    "Full data list is [here](https://docs.google.com/spreadsheets/d/16fqmVyjloON5Efo51wHtyNodsNwEPvSzkYsUP0QoZm4/edit#gid=1283882092) and sample data [here](https://docs.google.com/spreadsheets/d/13wa-cJcNWSenJAEBTVo9u0DpoiBe7ruVIAiPA2sDnyE/edit#gid=1876307080). From the initial list of data I took the following steps:\n",
    "1. Identified features from the long list of variables.  Obviously focused on features that are avaliable at the time the loan is being funded. \n",
    "2. Classified as continuous (including ints) or discrete.\n",
    "3. Graphed the data, looked for nulls, and identified any transformations. \n",
    "\n",
    "For the most part these data are amazingly well behaved. Only need a few transformations and imputations. \n",
    "\n",
    "\"Coded\" list of features are in the [Data Dictionary](https://docs.google.com/spreadsheets/d/16fqmVyjloON5Efo51wHtyNodsNwEPvSzkYsUP0QoZm4/edit#gid=1283882092).\n",
    "\n",
    "More details & visualizations of the EDA are in Appendix A."
   ]
  },
  {
   "cell_type": "markdown",
   "metadata": {},
   "source": [
    "### Training data"
   ]
  },
  {
   "cell_type": "code",
   "execution_count": 53,
   "metadata": {},
   "outputs": [
    {
     "data": {
      "text/html": [
       "<div>\n",
       "<style scoped>\n",
       "    .dataframe tbody tr th:only-of-type {\n",
       "        vertical-align: middle;\n",
       "    }\n",
       "\n",
       "    .dataframe tbody tr th {\n",
       "        vertical-align: top;\n",
       "    }\n",
       "\n",
       "    .dataframe thead th {\n",
       "        text-align: right;\n",
       "    }\n",
       "</style>\n",
       "<table border=\"1\" class=\"dataframe\">\n",
       "  <thead>\n",
       "    <tr style=\"text-align: right;\">\n",
       "      <th></th>\n",
       "      <th>roi</th>\n",
       "    </tr>\n",
       "  </thead>\n",
       "  <tbody>\n",
       "    <tr>\n",
       "      <th>0</th>\n",
       "      <td>9.218622</td>\n",
       "    </tr>\n",
       "    <tr>\n",
       "      <th>1</th>\n",
       "      <td>1.663546</td>\n",
       "    </tr>\n",
       "    <tr>\n",
       "      <th>2</th>\n",
       "      <td>-54.369286</td>\n",
       "    </tr>\n",
       "    <tr>\n",
       "      <th>3</th>\n",
       "      <td>5.775280</td>\n",
       "    </tr>\n",
       "    <tr>\n",
       "      <th>4</th>\n",
       "      <td>17.876046</td>\n",
       "    </tr>\n",
       "    <tr>\n",
       "      <th>...</th>\n",
       "      <td>...</td>\n",
       "    </tr>\n",
       "    <tr>\n",
       "      <th>993</th>\n",
       "      <td>23.559498</td>\n",
       "    </tr>\n",
       "    <tr>\n",
       "      <th>994</th>\n",
       "      <td>10.019911</td>\n",
       "    </tr>\n",
       "    <tr>\n",
       "      <th>995</th>\n",
       "      <td>11.471286</td>\n",
       "    </tr>\n",
       "    <tr>\n",
       "      <th>996</th>\n",
       "      <td>21.650448</td>\n",
       "    </tr>\n",
       "    <tr>\n",
       "      <th>997</th>\n",
       "      <td>31.750308</td>\n",
       "    </tr>\n",
       "  </tbody>\n",
       "</table>\n",
       "<p>998 rows × 1 columns</p>\n",
       "</div>"
      ],
      "text/plain": [
       "           roi\n",
       "0     9.218622\n",
       "1     1.663546\n",
       "2   -54.369286\n",
       "3     5.775280\n",
       "4    17.876046\n",
       "..         ...\n",
       "993  23.559498\n",
       "994  10.019911\n",
       "995  11.471286\n",
       "996  21.650448\n",
       "997  31.750308\n",
       "\n",
       "[998 rows x 1 columns]"
      ]
     },
     "execution_count": 53,
     "metadata": {},
     "output_type": "execute_result"
    }
   ],
   "source": [
    "LC_train_y = LC_raw[['roi']]\n",
    "LC_train_y"
   ]
  },
  {
   "cell_type": "markdown",
   "metadata": {},
   "source": [
    "#### One-hot encoding \n",
    "\n",
    "For the random forest I am using one-hot encoding for all categorical variables.  This will create many hundreds of features to contrast with the embeddings approach.\n",
    "\n",
    "1.  I include zip-code which is the source of most dummy variables -- the resulting small sample sizes and high cardinality is going to be very difficult for small trees to use effectively.\n",
    "2.  Term is a categorical variable\n",
    "3.  sub-grade is a subset of grade and is [colinear to the interest rate](https://www.lendingclub.com/investing/investor-education/interest-rates-and-fees)"
   ]
  },
  {
   "cell_type": "code",
   "execution_count": 54,
   "metadata": {},
   "outputs": [],
   "source": [
    "LC_raw_cats = LC_raw[[\n",
    "'term',\n",
    "'emp_length',\n",
    "'emp_title',\n",
    "'grade',\n",
    "'home_ownership',\n",
    "'purpose',\n",
    "'sub_grade',\n",
    "'zip_code',\n",
    "'addr_state',\n",
    "'title',\n",
    "'verification_status']]"
   ]
  },
  {
   "cell_type": "code",
   "execution_count": 55,
   "metadata": {},
   "outputs": [
    {
     "data": {
      "text/html": [
       "<div>\n",
       "<style scoped>\n",
       "    .dataframe tbody tr th:only-of-type {\n",
       "        vertical-align: middle;\n",
       "    }\n",
       "\n",
       "    .dataframe tbody tr th {\n",
       "        vertical-align: top;\n",
       "    }\n",
       "\n",
       "    .dataframe thead th {\n",
       "        text-align: right;\n",
       "    }\n",
       "</style>\n",
       "<table border=\"1\" class=\"dataframe\">\n",
       "  <thead>\n",
       "    <tr style=\"text-align: right;\">\n",
       "      <th></th>\n",
       "      <th>term</th>\n",
       "      <th>emp_length</th>\n",
       "      <th>emp_title</th>\n",
       "      <th>grade</th>\n",
       "      <th>home_ownership</th>\n",
       "      <th>purpose</th>\n",
       "      <th>sub_grade</th>\n",
       "      <th>zip_code</th>\n",
       "      <th>addr_state</th>\n",
       "      <th>title</th>\n",
       "      <th>verification_status</th>\n",
       "    </tr>\n",
       "  </thead>\n",
       "  <tbody>\n",
       "    <tr>\n",
       "      <th>0</th>\n",
       "      <td>36 months</td>\n",
       "      <td>3 years</td>\n",
       "      <td>Program Manager</td>\n",
       "      <td>A</td>\n",
       "      <td>RENT</td>\n",
       "      <td>credit_card</td>\n",
       "      <td>A3</td>\n",
       "      <td>981xx</td>\n",
       "      <td>WA</td>\n",
       "      <td>Credit card refinancing</td>\n",
       "      <td>Source Verified</td>\n",
       "    </tr>\n",
       "    <tr>\n",
       "      <th>1</th>\n",
       "      <td>36 months</td>\n",
       "      <td>10+ years</td>\n",
       "      <td>Air Traffic Controller</td>\n",
       "      <td>A</td>\n",
       "      <td>MORTGAGE</td>\n",
       "      <td>debt_consolidation</td>\n",
       "      <td>A4</td>\n",
       "      <td>840xx</td>\n",
       "      <td>UT</td>\n",
       "      <td>Debt consolidation</td>\n",
       "      <td>Not Verified</td>\n",
       "    </tr>\n",
       "    <tr>\n",
       "      <th>2</th>\n",
       "      <td>60 months</td>\n",
       "      <td>9 years</td>\n",
       "      <td>Relocation Specialist</td>\n",
       "      <td>C</td>\n",
       "      <td>RENT</td>\n",
       "      <td>debt_consolidation</td>\n",
       "      <td>C1</td>\n",
       "      <td>980xx</td>\n",
       "      <td>WA</td>\n",
       "      <td>Debt consolidation</td>\n",
       "      <td>Not Verified</td>\n",
       "    </tr>\n",
       "    <tr>\n",
       "      <th>3</th>\n",
       "      <td>36 months</td>\n",
       "      <td>10+ years</td>\n",
       "      <td>Radtech</td>\n",
       "      <td>A</td>\n",
       "      <td>MORTGAGE</td>\n",
       "      <td>debt_consolidation</td>\n",
       "      <td>A1</td>\n",
       "      <td>307xx</td>\n",
       "      <td>GA</td>\n",
       "      <td>Debt consolidation</td>\n",
       "      <td>Not Verified</td>\n",
       "    </tr>\n",
       "    <tr>\n",
       "      <th>4</th>\n",
       "      <td>60 months</td>\n",
       "      <td>10+ years</td>\n",
       "      <td>Social worker</td>\n",
       "      <td>B</td>\n",
       "      <td>MORTGAGE</td>\n",
       "      <td>debt_consolidation</td>\n",
       "      <td>B3</td>\n",
       "      <td>068xx</td>\n",
       "      <td>CT</td>\n",
       "      <td>Debt consolidation</td>\n",
       "      <td>Not Verified</td>\n",
       "    </tr>\n",
       "  </tbody>\n",
       "</table>\n",
       "</div>"
      ],
      "text/plain": [
       "         term emp_length               emp_title grade home_ownership  \\\n",
       "0   36 months    3 years         Program Manager     A           RENT   \n",
       "1   36 months  10+ years  Air Traffic Controller     A       MORTGAGE   \n",
       "2   60 months    9 years   Relocation Specialist     C           RENT   \n",
       "3   36 months  10+ years                 Radtech     A       MORTGAGE   \n",
       "4   60 months  10+ years           Social worker     B       MORTGAGE   \n",
       "\n",
       "              purpose sub_grade zip_code addr_state                    title  \\\n",
       "0         credit_card        A3    981xx         WA  Credit card refinancing   \n",
       "1  debt_consolidation        A4    840xx         UT       Debt consolidation   \n",
       "2  debt_consolidation        C1    980xx         WA       Debt consolidation   \n",
       "3  debt_consolidation        A1    307xx         GA       Debt consolidation   \n",
       "4  debt_consolidation        B3    068xx         CT       Debt consolidation   \n",
       "\n",
       "  verification_status  \n",
       "0     Source Verified  \n",
       "1        Not Verified  \n",
       "2        Not Verified  \n",
       "3        Not Verified  \n",
       "4        Not Verified  "
      ]
     },
     "execution_count": 55,
     "metadata": {},
     "output_type": "execute_result"
    }
   ],
   "source": [
    "LC_raw_cats.head()"
   ]
  },
  {
   "cell_type": "code",
   "execution_count": 56,
   "metadata": {},
   "outputs": [],
   "source": [
    "LC_train_catx = pd.get_dummies(LC_raw_cats)"
   ]
  },
  {
   "cell_type": "code",
   "execution_count": 57,
   "metadata": {},
   "outputs": [
    {
     "data": {
      "text/html": [
       "<div>\n",
       "<style scoped>\n",
       "    .dataframe tbody tr th:only-of-type {\n",
       "        vertical-align: middle;\n",
       "    }\n",
       "\n",
       "    .dataframe tbody tr th {\n",
       "        vertical-align: top;\n",
       "    }\n",
       "\n",
       "    .dataframe thead th {\n",
       "        text-align: right;\n",
       "    }\n",
       "</style>\n",
       "<table border=\"1\" class=\"dataframe\">\n",
       "  <thead>\n",
       "    <tr style=\"text-align: right;\">\n",
       "      <th></th>\n",
       "      <th>term_ 36 months</th>\n",
       "      <th>term_ 60 months</th>\n",
       "      <th>emp_length_1 year</th>\n",
       "      <th>emp_length_10+ years</th>\n",
       "      <th>emp_length_2 years</th>\n",
       "      <th>emp_length_3 years</th>\n",
       "      <th>emp_length_4 years</th>\n",
       "      <th>emp_length_5 years</th>\n",
       "      <th>emp_length_6 years</th>\n",
       "      <th>emp_length_7 years</th>\n",
       "      <th>...</th>\n",
       "      <th>title_Home buying</th>\n",
       "      <th>title_Home improvement</th>\n",
       "      <th>title_Major purchase</th>\n",
       "      <th>title_Medical expenses</th>\n",
       "      <th>title_Moving and relocation</th>\n",
       "      <th>title_Other</th>\n",
       "      <th>title_Vacation</th>\n",
       "      <th>verification_status_Not Verified</th>\n",
       "      <th>verification_status_Source Verified</th>\n",
       "      <th>verification_status_Verified</th>\n",
       "    </tr>\n",
       "  </thead>\n",
       "  <tbody>\n",
       "    <tr>\n",
       "      <th>0</th>\n",
       "      <td>1</td>\n",
       "      <td>0</td>\n",
       "      <td>0</td>\n",
       "      <td>0</td>\n",
       "      <td>0</td>\n",
       "      <td>1</td>\n",
       "      <td>0</td>\n",
       "      <td>0</td>\n",
       "      <td>0</td>\n",
       "      <td>0</td>\n",
       "      <td>...</td>\n",
       "      <td>0</td>\n",
       "      <td>0</td>\n",
       "      <td>0</td>\n",
       "      <td>0</td>\n",
       "      <td>0</td>\n",
       "      <td>0</td>\n",
       "      <td>0</td>\n",
       "      <td>0</td>\n",
       "      <td>1</td>\n",
       "      <td>0</td>\n",
       "    </tr>\n",
       "    <tr>\n",
       "      <th>1</th>\n",
       "      <td>1</td>\n",
       "      <td>0</td>\n",
       "      <td>0</td>\n",
       "      <td>1</td>\n",
       "      <td>0</td>\n",
       "      <td>0</td>\n",
       "      <td>0</td>\n",
       "      <td>0</td>\n",
       "      <td>0</td>\n",
       "      <td>0</td>\n",
       "      <td>...</td>\n",
       "      <td>0</td>\n",
       "      <td>0</td>\n",
       "      <td>0</td>\n",
       "      <td>0</td>\n",
       "      <td>0</td>\n",
       "      <td>0</td>\n",
       "      <td>0</td>\n",
       "      <td>1</td>\n",
       "      <td>0</td>\n",
       "      <td>0</td>\n",
       "    </tr>\n",
       "    <tr>\n",
       "      <th>2</th>\n",
       "      <td>0</td>\n",
       "      <td>1</td>\n",
       "      <td>0</td>\n",
       "      <td>0</td>\n",
       "      <td>0</td>\n",
       "      <td>0</td>\n",
       "      <td>0</td>\n",
       "      <td>0</td>\n",
       "      <td>0</td>\n",
       "      <td>0</td>\n",
       "      <td>...</td>\n",
       "      <td>0</td>\n",
       "      <td>0</td>\n",
       "      <td>0</td>\n",
       "      <td>0</td>\n",
       "      <td>0</td>\n",
       "      <td>0</td>\n",
       "      <td>0</td>\n",
       "      <td>1</td>\n",
       "      <td>0</td>\n",
       "      <td>0</td>\n",
       "    </tr>\n",
       "    <tr>\n",
       "      <th>3</th>\n",
       "      <td>1</td>\n",
       "      <td>0</td>\n",
       "      <td>0</td>\n",
       "      <td>1</td>\n",
       "      <td>0</td>\n",
       "      <td>0</td>\n",
       "      <td>0</td>\n",
       "      <td>0</td>\n",
       "      <td>0</td>\n",
       "      <td>0</td>\n",
       "      <td>...</td>\n",
       "      <td>0</td>\n",
       "      <td>0</td>\n",
       "      <td>0</td>\n",
       "      <td>0</td>\n",
       "      <td>0</td>\n",
       "      <td>0</td>\n",
       "      <td>0</td>\n",
       "      <td>1</td>\n",
       "      <td>0</td>\n",
       "      <td>0</td>\n",
       "    </tr>\n",
       "    <tr>\n",
       "      <th>4</th>\n",
       "      <td>0</td>\n",
       "      <td>1</td>\n",
       "      <td>0</td>\n",
       "      <td>1</td>\n",
       "      <td>0</td>\n",
       "      <td>0</td>\n",
       "      <td>0</td>\n",
       "      <td>0</td>\n",
       "      <td>0</td>\n",
       "      <td>0</td>\n",
       "      <td>...</td>\n",
       "      <td>0</td>\n",
       "      <td>0</td>\n",
       "      <td>0</td>\n",
       "      <td>0</td>\n",
       "      <td>0</td>\n",
       "      <td>0</td>\n",
       "      <td>0</td>\n",
       "      <td>1</td>\n",
       "      <td>0</td>\n",
       "      <td>0</td>\n",
       "    </tr>\n",
       "  </tbody>\n",
       "</table>\n",
       "<p>5 rows × 1283 columns</p>\n",
       "</div>"
      ],
      "text/plain": [
       "   term_ 36 months  term_ 60 months  emp_length_1 year  emp_length_10+ years  \\\n",
       "0                1                0                  0                     0   \n",
       "1                1                0                  0                     1   \n",
       "2                0                1                  0                     0   \n",
       "3                1                0                  0                     1   \n",
       "4                0                1                  0                     1   \n",
       "\n",
       "   emp_length_2 years  emp_length_3 years  emp_length_4 years  \\\n",
       "0                   0                   1                   0   \n",
       "1                   0                   0                   0   \n",
       "2                   0                   0                   0   \n",
       "3                   0                   0                   0   \n",
       "4                   0                   0                   0   \n",
       "\n",
       "   emp_length_5 years  emp_length_6 years  emp_length_7 years  ...  \\\n",
       "0                   0                   0                   0  ...   \n",
       "1                   0                   0                   0  ...   \n",
       "2                   0                   0                   0  ...   \n",
       "3                   0                   0                   0  ...   \n",
       "4                   0                   0                   0  ...   \n",
       "\n",
       "   title_Home buying  title_Home improvement  title_Major purchase  \\\n",
       "0                  0                       0                     0   \n",
       "1                  0                       0                     0   \n",
       "2                  0                       0                     0   \n",
       "3                  0                       0                     0   \n",
       "4                  0                       0                     0   \n",
       "\n",
       "   title_Medical expenses  title_Moving and relocation  title_Other  \\\n",
       "0                       0                            0            0   \n",
       "1                       0                            0            0   \n",
       "2                       0                            0            0   \n",
       "3                       0                            0            0   \n",
       "4                       0                            0            0   \n",
       "\n",
       "   title_Vacation  verification_status_Not Verified  \\\n",
       "0               0                                 0   \n",
       "1               0                                 1   \n",
       "2               0                                 1   \n",
       "3               0                                 1   \n",
       "4               0                                 1   \n",
       "\n",
       "   verification_status_Source Verified  verification_status_Verified  \n",
       "0                                    1                             0  \n",
       "1                                    0                             0  \n",
       "2                                    0                             0  \n",
       "3                                    0                             0  \n",
       "4                                    0                             0  \n",
       "\n",
       "[5 rows x 1283 columns]"
      ]
     },
     "execution_count": 57,
     "metadata": {},
     "output_type": "execute_result"
    }
   ],
   "source": [
    "LC_train_catx.head()"
   ]
  },
  {
   "cell_type": "markdown",
   "metadata": {},
   "source": [
    "#### Continuous features\n",
    "\n",
    "Only a few require transformations:\n",
    "1. Several convert to 0/1 since they have very few non-zero entries.\n",
    "2. Interest rate needs to be converted to a float value.\n",
    "3. Some of these probably could use a log or sqrt transformation but I am going to ignore the skewness for now. I should update later. _**tag:TODO=deal with skewness**_"
   ]
  },
  {
   "cell_type": "code",
   "execution_count": 58,
   "metadata": {},
   "outputs": [],
   "source": [
    "LC_train_numx = LC_raw[['int_rate',\n",
    "'annual_inc',\n",
    "'delinq_2yrs',\n",
    "'dti',\n",
    "'fico_range_high',\n",
    "'fico_range_low',\n",
    "'inq_last_6mths',\n",
    "'loan_amnt',\n",
    "'mths_since_last_delinq',\n",
    "'mths_since_last_record',\n",
    "'open_acc',\n",
    "'pub_rec',\n",
    "'total_acc',\n",
    "'total_bal_ex_mort',\n",
    "'acc_now_delinq',\n",
    "'installment',\n",
    "'collections_12_mths_ex_med',\n",
    "'inq_last_12m',\n",
    "'num_bc_tl',\n",
    "'num_op_rev_tl',\n",
    "'num_tl_op_past_12m',\n",
    "'percent_bc_gt_75',\n",
    "'revol_bal',\n",
    "'tax_liens',\n",
    "'tot_hi_cred_lim',\n",
    "'total_bc_limit',\n",
    "'pub_rec_bankruptcies']]"
   ]
  },
  {
   "cell_type": "markdown",
   "metadata": {},
   "source": [
    "#### convert to 0/1"
   ]
  },
  {
   "cell_type": "code",
   "execution_count": 59,
   "metadata": {},
   "outputs": [
    {
     "name": "stderr",
     "output_type": "stream",
     "text": [
      "/opt/conda/lib/python3.7/site-packages/pandas/core/indexing.py:966: SettingWithCopyWarning: \n",
      "A value is trying to be set on a copy of a slice from a DataFrame.\n",
      "Try using .loc[row_indexer,col_indexer] = value instead\n",
      "\n",
      "See the caveats in the documentation: https://pandas.pydata.org/pandas-docs/stable/user_guide/indexing.html#returning-a-view-versus-a-copy\n",
      "  self.obj[item] = s\n",
      "/opt/conda/lib/python3.7/site-packages/ipykernel_launcher.py:3: SettingWithCopyWarning: \n",
      "A value is trying to be set on a copy of a slice from a DataFrame.\n",
      "Try using .loc[row_indexer,col_indexer] = value instead\n",
      "\n",
      "See the caveats in the documentation: https://pandas.pydata.org/pandas-docs/stable/user_guide/indexing.html#returning-a-view-versus-a-copy\n",
      "  This is separate from the ipykernel package so we can avoid doing imports until\n"
     ]
    }
   ],
   "source": [
    "# these throw an warning but seem to work, there is probably a better way to do this\n",
    "LC_train_numx.loc[:,'acc_now_delinq'] = ((LC_raw['acc_now_delinq'] > 0).astype(int))\n",
    "LC_train_numx['collections_12_mths_ex_med'] = (LC_train_numx['collections_12_mths_ex_med']>0).astype(int)\n",
    "LC_train_numx.loc[:,'tax_liens'] = ((LC_train_numx['tax_liens'] > 0).astype(int))\n",
    "LC_train_numx.loc[:,'pub_rec_bankruptcies'] = ((LC_train_numx['pub_rec_bankruptcies'] > 0).astype(int))\n",
    "\n"
   ]
  },
  {
   "cell_type": "code",
   "execution_count": 60,
   "metadata": {},
   "outputs": [
    {
     "data": {
      "text/plain": [
       "0    993\n",
       "1      5\n",
       "Name: acc_now_delinq, dtype: int64"
      ]
     },
     "execution_count": 60,
     "metadata": {},
     "output_type": "execute_result"
    }
   ],
   "source": [
    "LC_train_numx['acc_now_delinq'].value_counts()"
   ]
  },
  {
   "cell_type": "markdown",
   "metadata": {},
   "source": [
    "#### change int_rate from string to float"
   ]
  },
  {
   "cell_type": "code",
   "execution_count": 61,
   "metadata": {},
   "outputs": [
    {
     "name": "stderr",
     "output_type": "stream",
     "text": [
      "/opt/conda/lib/python3.7/site-packages/ipykernel_launcher.py:3: SettingWithCopyWarning: \n",
      "A value is trying to be set on a copy of a slice from a DataFrame.\n",
      "Try using .loc[row_indexer,col_indexer] = value instead\n",
      "\n",
      "See the caveats in the documentation: https://pandas.pydata.org/pandas-docs/stable/user_guide/indexing.html#returning-a-view-versus-a-copy\n",
      "  This is separate from the ipykernel package so we can avoid doing imports until\n"
     ]
    }
   ],
   "source": [
    "## Interest rate\n",
    "## this also throws a warning but seems to work\n",
    "LC_train_numx['int_rate'] = LC_train_numx['int_rate'].str.replace('%','',regex=False).astype(float)"
   ]
  },
  {
   "cell_type": "code",
   "execution_count": 62,
   "metadata": {},
   "outputs": [
    {
     "data": {
      "text/plain": [
       "<matplotlib.axes._subplots.AxesSubplot at 0x7f755e7af350>"
      ]
     },
     "execution_count": 62,
     "metadata": {},
     "output_type": "execute_result"
    },
    {
     "data": {
      "image/png": "[encoded data removed]",
      "text/plain": [
       "<Figure size 432x288 with 1 Axes>"
      ]
     },
     "metadata": {
      "needs_background": "light"
     },
     "output_type": "display_data"
    }
   ],
   "source": [
    "LC_train_numx['int_rate'].plot.hist()"
   ]
  },
  {
   "cell_type": "markdown",
   "metadata": {},
   "source": [
    "#### Missing values\n",
    "1. imputation done by context, not statistical imputation (_e.g._ median or average)\n",
    "1. for recency variables I use 999 because larger numbers should be \"better\" (never do this with a linear model)\n",
    "\n"
   ]
  },
  {
   "cell_type": "code",
   "execution_count": 63,
   "metadata": {},
   "outputs": [
    {
     "name": "stdout",
     "output_type": "stream",
     "text": [
      "int_rate   0\n",
      "annual_inc   0\n",
      "delinq_2yrs   0\n",
      "dti   2\n",
      "fico_range_high   0\n",
      "fico_range_low   0\n",
      "inq_last_6mths   0\n",
      "loan_amnt   0\n",
      "mths_since_last_delinq   507\n",
      "mths_since_last_record   807\n",
      "open_acc   0\n",
      "pub_rec   0\n",
      "total_acc   0\n",
      "total_bal_ex_mort   0\n",
      "acc_now_delinq   0\n",
      "installment   0\n",
      "collections_12_mths_ex_med   0\n",
      "inq_last_12m   0\n",
      "num_bc_tl   0\n",
      "num_op_rev_tl   0\n",
      "num_tl_op_past_12m   0\n",
      "percent_bc_gt_75   9\n",
      "revol_bal   0\n",
      "tax_liens   0\n",
      "tot_hi_cred_lim   0\n",
      "total_bc_limit   0\n",
      "pub_rec_bankruptcies   0\n"
     ]
    }
   ],
   "source": [
    "for col in LC_train_numx.columns:\n",
    "    print(col,\" \",LC_train_numx[col].isna().sum())"
   ]
  },
  {
   "cell_type": "code",
   "execution_count": 64,
   "metadata": {},
   "outputs": [],
   "source": [
    "values = {'dti': 99, 'percent_bc_gt_75': 0, 'mths_since_last_delinq': 999, 'mths_since_last_record': 999}\n",
    "LC_train_numx = LC_train_numx.fillna(value=values)"
   ]
  },
  {
   "cell_type": "markdown",
   "metadata": {},
   "source": [
    "### Bring all features together into feature dataset"
   ]
  },
  {
   "cell_type": "code",
   "execution_count": 65,
   "metadata": {},
   "outputs": [],
   "source": [
    "LC_train_x = pd.concat([LC_train_numx,LC_train_catx], axis=1, sort=False)\n"
   ]
  },
  {
   "cell_type": "code",
   "execution_count": 66,
   "metadata": {},
   "outputs": [
    {
     "data": {
      "text/html": [
       "<div>\n",
       "<style scoped>\n",
       "    .dataframe tbody tr th:only-of-type {\n",
       "        vertical-align: middle;\n",
       "    }\n",
       "\n",
       "    .dataframe tbody tr th {\n",
       "        vertical-align: top;\n",
       "    }\n",
       "\n",
       "    .dataframe thead th {\n",
       "        text-align: right;\n",
       "    }\n",
       "</style>\n",
       "<table border=\"1\" class=\"dataframe\">\n",
       "  <thead>\n",
       "    <tr style=\"text-align: right;\">\n",
       "      <th></th>\n",
       "      <th>int_rate</th>\n",
       "      <th>annual_inc</th>\n",
       "      <th>delinq_2yrs</th>\n",
       "      <th>dti</th>\n",
       "      <th>fico_range_high</th>\n",
       "      <th>fico_range_low</th>\n",
       "      <th>inq_last_6mths</th>\n",
       "      <th>loan_amnt</th>\n",
       "      <th>mths_since_last_delinq</th>\n",
       "      <th>mths_since_last_record</th>\n",
       "      <th>...</th>\n",
       "      <th>title_Home buying</th>\n",
       "      <th>title_Home improvement</th>\n",
       "      <th>title_Major purchase</th>\n",
       "      <th>title_Medical expenses</th>\n",
       "      <th>title_Moving and relocation</th>\n",
       "      <th>title_Other</th>\n",
       "      <th>title_Vacation</th>\n",
       "      <th>verification_status_Not Verified</th>\n",
       "      <th>verification_status_Source Verified</th>\n",
       "      <th>verification_status_Verified</th>\n",
       "    </tr>\n",
       "  </thead>\n",
       "  <tbody>\n",
       "    <tr>\n",
       "      <th>0</th>\n",
       "      <td>7.24</td>\n",
       "      <td>125000.0</td>\n",
       "      <td>0</td>\n",
       "      <td>9.25</td>\n",
       "      <td>694</td>\n",
       "      <td>690</td>\n",
       "      <td>1</td>\n",
       "      <td>6000</td>\n",
       "      <td>54.0</td>\n",
       "      <td>999.0</td>\n",
       "      <td>...</td>\n",
       "      <td>0</td>\n",
       "      <td>0</td>\n",
       "      <td>0</td>\n",
       "      <td>0</td>\n",
       "      <td>0</td>\n",
       "      <td>0</td>\n",
       "      <td>0</td>\n",
       "      <td>0</td>\n",
       "      <td>1</td>\n",
       "      <td>0</td>\n",
       "    </tr>\n",
       "    <tr>\n",
       "      <th>1</th>\n",
       "      <td>7.49</td>\n",
       "      <td>120000.0</td>\n",
       "      <td>0</td>\n",
       "      <td>8.41</td>\n",
       "      <td>739</td>\n",
       "      <td>735</td>\n",
       "      <td>0</td>\n",
       "      <td>17000</td>\n",
       "      <td>72.0</td>\n",
       "      <td>89.0</td>\n",
       "      <td>...</td>\n",
       "      <td>0</td>\n",
       "      <td>0</td>\n",
       "      <td>0</td>\n",
       "      <td>0</td>\n",
       "      <td>0</td>\n",
       "      <td>0</td>\n",
       "      <td>0</td>\n",
       "      <td>1</td>\n",
       "      <td>0</td>\n",
       "      <td>0</td>\n",
       "    </tr>\n",
       "    <tr>\n",
       "      <th>2</th>\n",
       "      <td>12.74</td>\n",
       "      <td>49960.0</td>\n",
       "      <td>0</td>\n",
       "      <td>9.30</td>\n",
       "      <td>719</td>\n",
       "      <td>715</td>\n",
       "      <td>0</td>\n",
       "      <td>14000</td>\n",
       "      <td>999.0</td>\n",
       "      <td>90.0</td>\n",
       "      <td>...</td>\n",
       "      <td>0</td>\n",
       "      <td>0</td>\n",
       "      <td>0</td>\n",
       "      <td>0</td>\n",
       "      <td>0</td>\n",
       "      <td>0</td>\n",
       "      <td>0</td>\n",
       "      <td>1</td>\n",
       "      <td>0</td>\n",
       "      <td>0</td>\n",
       "    </tr>\n",
       "    <tr>\n",
       "      <th>3</th>\n",
       "      <td>5.32</td>\n",
       "      <td>53000.0</td>\n",
       "      <td>1</td>\n",
       "      <td>19.47</td>\n",
       "      <td>734</td>\n",
       "      <td>730</td>\n",
       "      <td>0</td>\n",
       "      <td>9900</td>\n",
       "      <td>16.0</td>\n",
       "      <td>999.0</td>\n",
       "      <td>...</td>\n",
       "      <td>0</td>\n",
       "      <td>0</td>\n",
       "      <td>0</td>\n",
       "      <td>0</td>\n",
       "      <td>0</td>\n",
       "      <td>0</td>\n",
       "      <td>0</td>\n",
       "      <td>1</td>\n",
       "      <td>0</td>\n",
       "      <td>0</td>\n",
       "    </tr>\n",
       "    <tr>\n",
       "      <th>4</th>\n",
       "      <td>11.39</td>\n",
       "      <td>95000.0</td>\n",
       "      <td>0</td>\n",
       "      <td>11.52</td>\n",
       "      <td>734</td>\n",
       "      <td>730</td>\n",
       "      <td>0</td>\n",
       "      <td>15400</td>\n",
       "      <td>34.0</td>\n",
       "      <td>999.0</td>\n",
       "      <td>...</td>\n",
       "      <td>0</td>\n",
       "      <td>0</td>\n",
       "      <td>0</td>\n",
       "      <td>0</td>\n",
       "      <td>0</td>\n",
       "      <td>0</td>\n",
       "      <td>0</td>\n",
       "      <td>1</td>\n",
       "      <td>0</td>\n",
       "      <td>0</td>\n",
       "    </tr>\n",
       "    <tr>\n",
       "      <th>...</th>\n",
       "      <td>...</td>\n",
       "      <td>...</td>\n",
       "      <td>...</td>\n",
       "      <td>...</td>\n",
       "      <td>...</td>\n",
       "      <td>...</td>\n",
       "      <td>...</td>\n",
       "      <td>...</td>\n",
       "      <td>...</td>\n",
       "      <td>...</td>\n",
       "      <td>...</td>\n",
       "      <td>...</td>\n",
       "      <td>...</td>\n",
       "      <td>...</td>\n",
       "      <td>...</td>\n",
       "      <td>...</td>\n",
       "      <td>...</td>\n",
       "      <td>...</td>\n",
       "      <td>...</td>\n",
       "      <td>...</td>\n",
       "      <td>...</td>\n",
       "    </tr>\n",
       "    <tr>\n",
       "      <th>993</th>\n",
       "      <td>15.99</td>\n",
       "      <td>43000.0</td>\n",
       "      <td>1</td>\n",
       "      <td>35.31</td>\n",
       "      <td>669</td>\n",
       "      <td>665</td>\n",
       "      <td>0</td>\n",
       "      <td>6025</td>\n",
       "      <td>21.0</td>\n",
       "      <td>999.0</td>\n",
       "      <td>...</td>\n",
       "      <td>0</td>\n",
       "      <td>0</td>\n",
       "      <td>0</td>\n",
       "      <td>0</td>\n",
       "      <td>0</td>\n",
       "      <td>1</td>\n",
       "      <td>0</td>\n",
       "      <td>0</td>\n",
       "      <td>0</td>\n",
       "      <td>1</td>\n",
       "    </tr>\n",
       "    <tr>\n",
       "      <th>994</th>\n",
       "      <td>8.24</td>\n",
       "      <td>104700.0</td>\n",
       "      <td>0</td>\n",
       "      <td>11.05</td>\n",
       "      <td>669</td>\n",
       "      <td>665</td>\n",
       "      <td>0</td>\n",
       "      <td>11200</td>\n",
       "      <td>31.0</td>\n",
       "      <td>999.0</td>\n",
       "      <td>...</td>\n",
       "      <td>0</td>\n",
       "      <td>0</td>\n",
       "      <td>0</td>\n",
       "      <td>0</td>\n",
       "      <td>0</td>\n",
       "      <td>0</td>\n",
       "      <td>0</td>\n",
       "      <td>0</td>\n",
       "      <td>1</td>\n",
       "      <td>0</td>\n",
       "    </tr>\n",
       "    <tr>\n",
       "      <th>995</th>\n",
       "      <td>7.24</td>\n",
       "      <td>86000.0</td>\n",
       "      <td>0</td>\n",
       "      <td>14.99</td>\n",
       "      <td>699</td>\n",
       "      <td>695</td>\n",
       "      <td>1</td>\n",
       "      <td>7000</td>\n",
       "      <td>999.0</td>\n",
       "      <td>87.0</td>\n",
       "      <td>...</td>\n",
       "      <td>0</td>\n",
       "      <td>0</td>\n",
       "      <td>0</td>\n",
       "      <td>0</td>\n",
       "      <td>0</td>\n",
       "      <td>0</td>\n",
       "      <td>0</td>\n",
       "      <td>0</td>\n",
       "      <td>1</td>\n",
       "      <td>0</td>\n",
       "    </tr>\n",
       "    <tr>\n",
       "      <th>996</th>\n",
       "      <td>12.74</td>\n",
       "      <td>45000.0</td>\n",
       "      <td>0</td>\n",
       "      <td>18.75</td>\n",
       "      <td>724</td>\n",
       "      <td>720</td>\n",
       "      <td>0</td>\n",
       "      <td>14000</td>\n",
       "      <td>999.0</td>\n",
       "      <td>999.0</td>\n",
       "      <td>...</td>\n",
       "      <td>0</td>\n",
       "      <td>0</td>\n",
       "      <td>0</td>\n",
       "      <td>0</td>\n",
       "      <td>0</td>\n",
       "      <td>0</td>\n",
       "      <td>0</td>\n",
       "      <td>1</td>\n",
       "      <td>0</td>\n",
       "      <td>0</td>\n",
       "    </tr>\n",
       "    <tr>\n",
       "      <th>997</th>\n",
       "      <td>18.99</td>\n",
       "      <td>18450.0</td>\n",
       "      <td>0</td>\n",
       "      <td>46.58</td>\n",
       "      <td>694</td>\n",
       "      <td>690</td>\n",
       "      <td>0</td>\n",
       "      <td>13000</td>\n",
       "      <td>999.0</td>\n",
       "      <td>999.0</td>\n",
       "      <td>...</td>\n",
       "      <td>0</td>\n",
       "      <td>0</td>\n",
       "      <td>0</td>\n",
       "      <td>0</td>\n",
       "      <td>0</td>\n",
       "      <td>0</td>\n",
       "      <td>0</td>\n",
       "      <td>0</td>\n",
       "      <td>0</td>\n",
       "      <td>1</td>\n",
       "    </tr>\n",
       "  </tbody>\n",
       "</table>\n",
       "<p>998 rows × 1310 columns</p>\n",
       "</div>"
      ],
      "text/plain": [
       "     int_rate  annual_inc  delinq_2yrs    dti  fico_range_high  \\\n",
       "0        7.24    125000.0            0   9.25              694   \n",
       "1        7.49    120000.0            0   8.41              739   \n",
       "2       12.74     49960.0            0   9.30              719   \n",
       "3        5.32     53000.0            1  19.47              734   \n",
       "4       11.39     95000.0            0  11.52              734   \n",
       "..        ...         ...          ...    ...              ...   \n",
       "993     15.99     43000.0            1  35.31              669   \n",
       "994      8.24    104700.0            0  11.05              669   \n",
       "995      7.24     86000.0            0  14.99              699   \n",
       "996     12.74     45000.0            0  18.75              724   \n",
       "997     18.99     18450.0            0  46.58              694   \n",
       "\n",
       "     fico_range_low  inq_last_6mths  loan_amnt  mths_since_last_delinq  \\\n",
       "0               690               1       6000                    54.0   \n",
       "1               735               0      17000                    72.0   \n",
       "2               715               0      14000                   999.0   \n",
       "3               730               0       9900                    16.0   \n",
       "4               730               0      15400                    34.0   \n",
       "..              ...             ...        ...                     ...   \n",
       "993             665               0       6025                    21.0   \n",
       "994             665               0      11200                    31.0   \n",
       "995             695               1       7000                   999.0   \n",
       "996             720               0      14000                   999.0   \n",
       "997             690               0      13000                   999.0   \n",
       "\n",
       "     mths_since_last_record  ...  title_Home buying  title_Home improvement  \\\n",
       "0                     999.0  ...                  0                       0   \n",
       "1                      89.0  ...                  0                       0   \n",
       "2                      90.0  ...                  0                       0   \n",
       "3                     999.0  ...                  0                       0   \n",
       "4                     999.0  ...                  0                       0   \n",
       "..                      ...  ...                ...                     ...   \n",
       "993                   999.0  ...                  0                       0   \n",
       "994                   999.0  ...                  0                       0   \n",
       "995                    87.0  ...                  0                       0   \n",
       "996                   999.0  ...                  0                       0   \n",
       "997                   999.0  ...                  0                       0   \n",
       "\n",
       "     title_Major purchase  title_Medical expenses  \\\n",
       "0                       0                       0   \n",
       "1                       0                       0   \n",
       "2                       0                       0   \n",
       "3                       0                       0   \n",
       "4                       0                       0   \n",
       "..                    ...                     ...   \n",
       "993                     0                       0   \n",
       "994                     0                       0   \n",
       "995                     0                       0   \n",
       "996                     0                       0   \n",
       "997                     0                       0   \n",
       "\n",
       "     title_Moving and relocation  title_Other  title_Vacation  \\\n",
       "0                              0            0               0   \n",
       "1                              0            0               0   \n",
       "2                              0            0               0   \n",
       "3                              0            0               0   \n",
       "4                              0            0               0   \n",
       "..                           ...          ...             ...   \n",
       "993                            0            1               0   \n",
       "994                            0            0               0   \n",
       "995                            0            0               0   \n",
       "996                            0            0               0   \n",
       "997                            0            0               0   \n",
       "\n",
       "     verification_status_Not Verified  verification_status_Source Verified  \\\n",
       "0                                   0                                    1   \n",
       "1                                   1                                    0   \n",
       "2                                   1                                    0   \n",
       "3                                   1                                    0   \n",
       "4                                   1                                    0   \n",
       "..                                ...                                  ...   \n",
       "993                                 0                                    0   \n",
       "994                                 0                                    1   \n",
       "995                                 0                                    1   \n",
       "996                                 1                                    0   \n",
       "997                                 0                                    0   \n",
       "\n",
       "     verification_status_Verified  \n",
       "0                               0  \n",
       "1                               0  \n",
       "2                               0  \n",
       "3                               0  \n",
       "4                               0  \n",
       "..                            ...  \n",
       "993                             1  \n",
       "994                             0  \n",
       "995                             0  \n",
       "996                             0  \n",
       "997                             1  \n",
       "\n",
       "[998 rows x 1310 columns]"
      ]
     },
     "execution_count": 66,
     "metadata": {},
     "output_type": "execute_result"
    }
   ],
   "source": [
    "#1310 features!\n",
    "LC_train_x"
   ]
  },
  {
   "cell_type": "markdown",
   "metadata": {},
   "source": [
    "## Random forest baseline model\n"
   ]
  },
  {
   "cell_type": "markdown",
   "metadata": {},
   "source": [
    "#### Convert data to numpy -- RF from skicit learn likes numpy"
   ]
  },
  {
   "cell_type": "code",
   "execution_count": 67,
   "metadata": {},
   "outputs": [
    {
     "data": {
      "text/plain": [
       "numpy.ndarray"
      ]
     },
     "execution_count": 67,
     "metadata": {},
     "output_type": "execute_result"
    }
   ],
   "source": [
    "import numpy as np\n",
    "LC_train_x = np.array(LC_train_x)\n",
    "type(LC_train_x)"
   ]
  },
  {
   "cell_type": "code",
   "execution_count": 68,
   "metadata": {},
   "outputs": [
    {
     "data": {
      "text/plain": [
       "numpy.ndarray"
      ]
     },
     "execution_count": 68,
     "metadata": {},
     "output_type": "execute_result"
    }
   ],
   "source": [
    "LC_train_y = np.array(LC_train_y)\n",
    "type(LC_train_y)"
   ]
  },
  {
   "cell_type": "markdown",
   "metadata": {},
   "source": [
    "### Training and testing datasets\n",
    "\n",
    "Split the data into train and test sets. Quick check on sample sizes.\n",
    "\n",
    "Obviously code that I downloaded from the internets since I suddenly start using different definitions (target vs. labels)."
   ]
  },
  {
   "cell_type": "code",
   "execution_count": 69,
   "metadata": {},
   "outputs": [
    {
     "name": "stdout",
     "output_type": "stream",
     "text": [
      "Training Features Shape: (748, 1310) . Type: <class 'numpy.ndarray'>\n",
      "Training Labels Shape: (748, 1) . Type: <class 'numpy.ndarray'>\n",
      "Testing Features Shape: (250, 1310) . Type: <class 'numpy.ndarray'>\n",
      "Testing Labels Shape: (250, 1) . Type: <class 'numpy.ndarray'>\n"
     ]
    }
   ],
   "source": [
    "from sklearn.model_selection import train_test_split\n",
    "train_features, test_features, train_labels, test_labels = train_test_split(LC_train_x, LC_train_y, test_size = 0.25, random_state = 42)\n",
    "\n",
    "print('Training Features Shape:', train_features.shape,\". Type:\",type(train_features))\n",
    "print('Training Labels Shape:', train_labels.shape,\". Type:\",type(train_labels))\n",
    "print('Testing Features Shape:', test_features.shape,\". Type:\",type(test_features))\n",
    "print('Testing Labels Shape:', test_labels.shape,\". Type:\",type(test_labels))"
   ]
  },
  {
   "cell_type": "markdown",
   "metadata": {},
   "source": [
    "#### Train random forest\n",
    "\n",
    "ravel() is to convert train_labels from the array shape to (n, )"
   ]
  },
  {
   "cell_type": "code",
   "execution_count": 70,
   "metadata": {},
   "outputs": [],
   "source": [
    "from sklearn.ensemble import RandomForestRegressor\n",
    "rf = RandomForestRegressor(n_estimators = 1000, random_state = 30)\n",
    "rf.fit(train_features, train_labels.ravel());"
   ]
  },
  {
   "cell_type": "markdown",
   "metadata": {},
   "source": [
    "#### RF Predictions"
   ]
  },
  {
   "cell_type": "code",
   "execution_count": 71,
   "metadata": {},
   "outputs": [
    {
     "data": {
      "text/plain": [
       "numpy.ndarray"
      ]
     },
     "execution_count": 71,
     "metadata": {},
     "output_type": "execute_result"
    }
   ],
   "source": [
    "predictions = rf.predict(test_features)\n",
    "type(predictions)\n"
   ]
  },
  {
   "cell_type": "code",
   "execution_count": 72,
   "metadata": {},
   "outputs": [
    {
     "data": {
      "text/plain": [
       "array([-14.32809678,  -4.31556242,  -9.64113401,  13.1273886 ,\n",
       "        14.59788267,  -2.68400898,   7.17803569,  -6.4587861 ,\n",
       "         9.32691271,  17.42009562,  19.33671165,  14.15584757,\n",
       "         8.97784315,  13.42734425,  -0.53945421,   3.74223301,\n",
       "        -3.8514992 ,   6.92196446,   6.14888669,  -5.25132295,\n",
       "         7.02871713,  17.72615301,   6.77830086,   8.75902737,\n",
       "        10.37010977,  -5.34222096, -15.48862038,  -6.88747791,\n",
       "        12.680067  ,  15.94126401,  16.03222077,  16.63645691,\n",
       "        -1.46391876,  10.07673213,   8.18517118,  19.36175443,\n",
       "        21.09386854,  -8.82918942,  13.98593109,   9.88066044,\n",
       "        10.62352413,  12.05774754, -12.3031178 , -14.64879801,\n",
       "         3.23696057,   5.66607623,  19.29058096,  10.51855574,\n",
       "        10.71028569,  -8.92129713,   0.41547674,  16.12817332,\n",
       "        22.51190173,   7.11454713,  15.50867927,  17.11232265,\n",
       "        14.33453718,  10.13624491,  15.54585533,   6.10763679,\n",
       "         9.15329932,  -7.99082704,   6.86535493,  12.79065592,\n",
       "       -15.32623882,  12.14988512,  -7.07996071, -18.30405997,\n",
       "        -1.91323897,   3.34411124,   6.87026057,  22.4278792 ,\n",
       "         8.78816569, -10.16550322,  -7.49450513,   8.38733098,\n",
       "         7.27575645,  -3.98101075,   9.3421644 ,  -7.0522844 ,\n",
       "        10.77664363,   8.13617394,  -9.48725952, -16.75854875,\n",
       "       -22.32764631, -18.12195145,   9.74590542,  10.13256815,\n",
       "        13.12652572,  13.8699962 ,   5.85191992,  -3.56647783,\n",
       "       -12.0852631 ,   8.40208769,   2.29071017,  11.95681933,\n",
       "       -14.22939066,  14.40791462,  10.2522833 ,  -7.52221251,\n",
       "        13.61994473,   2.56000984,  14.34422002,   9.88289639,\n",
       "        11.06257978,  13.04916773, -10.22175712,  -5.64602605,\n",
       "         9.99160413,  15.63611431,   5.19961765,  19.8832038 ,\n",
       "         5.69873088,  16.20726118,   7.72711125,  12.96572393,\n",
       "        -0.33020587,   7.64845546,   7.30263065,  13.48582587,\n",
       "        -7.16311982,  13.98812546,   6.0797147 ,   5.40030684,\n",
       "        17.35786471,  18.14400656, -18.32695647,   9.15456119,\n",
       "         7.87915923,  14.89598802,   3.0063058 ,  17.28234433,\n",
       "        11.4525661 ,  11.36347255,  12.67036896,  19.08279642,\n",
       "        17.51738939, -10.69754676,  16.40862061,  11.08503859,\n",
       "        -7.83631979,  17.45359595,  26.64900136,  -5.55625446,\n",
       "        10.51880211,  10.09902214,   9.09498993,  12.94003706,\n",
       "        16.18474833,  16.2765335 ,  -8.61095321,   9.20670232,\n",
       "        -9.42435828,  14.74889317,  14.65380972, -22.5436281 ,\n",
       "       -26.10905984,  14.29665813,  -0.70067213,   7.38165138,\n",
       "       -15.55065525,  -1.44229521,  16.87549264,   9.51189655,\n",
       "        16.05139064,  -5.36547739,  15.93224798,  10.82965038,\n",
       "        15.28430435,   4.77385773,  23.60943456,   9.57751101,\n",
       "         6.44920398,  11.13514613,   8.82740751,  10.01498791,\n",
       "         7.29375474,   8.71441893,  -8.62081413,  -0.63029566,\n",
       "        13.56667855,  11.57766758,  17.31490222,  21.48128301,\n",
       "        20.45846798,  -6.23842122,  14.11581367,   6.52341259,\n",
       "         9.89048792,  17.18106658,  10.44746403, -11.79619234,\n",
       "        -0.93882249,   9.02534007,   5.89589687,   4.87749543,\n",
       "         4.73174714,  14.09575648,  11.53345015,  15.43918476,\n",
       "         3.71006147,  14.50378982,   9.42816516,   9.37588901,\n",
       "        10.08245694,  11.72631102,   1.09753196,  13.82923713,\n",
       "       -14.26629326,   9.1426383 , -17.93624849,   4.21262649,\n",
       "         9.33017901,  16.57672633,  21.42754212,   6.45747318,\n",
       "        13.12208583,  12.58156849,   9.16648852,  18.53262929,\n",
       "        -0.47887728,  -4.18502477,  14.84355168,  16.06389935,\n",
       "       -32.70349079,  13.93805679,  -5.38172432,  14.57376572,\n",
       "         9.02800677,  15.25941461,   7.8535581 ,   0.36675183,\n",
       "       -13.58710845,  10.64959845,   8.27657472,   9.22704171,\n",
       "         7.0387176 ,   6.2598187 ,  12.01725519,  -5.43170535,\n",
       "         2.6714955 ,   4.94953837,  -4.84239185,  14.2552828 ,\n",
       "        10.67409854,  13.36861532,  -7.27710928,   6.38776636,\n",
       "        15.99013097,   5.16162274])"
      ]
     },
     "execution_count": 72,
     "metadata": {},
     "output_type": "execute_result"
    }
   ],
   "source": [
    "predictions"
   ]
  },
  {
   "cell_type": "markdown",
   "metadata": {},
   "source": [
    "## RF Validation \n",
    "\n",
    "1. Confusion matrix\n",
    "2. Loss function: what is the cost of a false-negative and -positive.\n",
    "3. Most sensible accuracy measure\n",
    "3. Interpretation - features vs. actual and predictions"
   ]
  },
  {
   "cell_type": "code",
   "execution_count": 73,
   "metadata": {},
   "outputs": [
    {
     "data": {
      "text/plain": [
       "1532.7933630919322"
      ]
     },
     "execution_count": 73,
     "metadata": {},
     "output_type": "execute_result"
    }
   ],
   "source": [
    "predictions.sum()"
   ]
  },
  {
   "cell_type": "code",
   "execution_count": 74,
   "metadata": {},
   "outputs": [
    {
     "data": {
      "text/plain": [
       "1056.9106293872844"
      ]
     },
     "execution_count": 74,
     "metadata": {},
     "output_type": "execute_result"
    }
   ],
   "source": [
    "test_labels.sum()"
   ]
  },
  {
   "cell_type": "code",
   "execution_count": 77,
   "metadata": {},
   "outputs": [
    {
     "data": {
      "image/png": "[encoded data removed]",
      "text/plain": [
       "<Figure size 432x288 with 1 Axes>"
      ]
     },
     "metadata": {
      "needs_background": "light"
     },
     "output_type": "display_data"
    }
   ],
   "source": [
    "import matplotlib.pyplot as plt\n",
    "\n",
    "area = np.pi*3\n",
    "\n",
    "plt.scatter(x=test_labels, y=predictions, s=area, alpha=0.5)\n",
    "plt.title('predictions vs actuals, test set')\n",
    "plt.xlabel('actuals')\n",
    "plt.ylabel('predictions')\n",
    "plt.show()"
   ]
  },
  {
   "cell_type": "markdown",
   "metadata": {},
   "source": [
    "**_tag:HERE_**"
   ]
  },
  {
   "cell_type": "code",
   "execution_count": 31,
   "metadata": {},
   "outputs": [
    {
     "data": {
      "text/plain": [
       "array([[46, 62],\n",
       "       [50, 92]])"
      ]
     },
     "execution_count": 31,
     "metadata": {},
     "output_type": "execute_result"
    }
   ],
   "source": [
    "from sklearn.metrics import confusion_matrix\n",
    "\n",
    "predicted_pay = (predictions > 0.5).astype(int)\n",
    "confusion_matrix(test_labels, predicted_pay)"
   ]
  },
  {
   "cell_type": "code",
   "execution_count": 150,
   "metadata": {},
   "outputs": [
    {
     "data": {
      "text/plain": [
       "numpy.ndarray"
      ]
     },
     "execution_count": 150,
     "metadata": {},
     "output_type": "execute_result"
    }
   ],
   "source": [
    "type(test_labels)"
   ]
  },
  {
   "cell_type": "code",
   "execution_count": null,
   "metadata": {},
   "outputs": [],
   "source": []
  },
  {
   "cell_type": "code",
   "execution_count": 172,
   "metadata": {},
   "outputs": [
    {
     "name": "stdout",
     "output_type": "stream",
     "text": [
      "Variable: dti                  Importance: 0.06\n",
      "Variable: installment          Importance: 0.05\n",
      "Variable: tot_hi_cred_lim      Importance: 0.05\n",
      "Variable: annual_inc           Importance: 0.04\n",
      "Variable: total_acc            Importance: 0.04\n",
      "Variable: total_bal_ex_mort    Importance: 0.04\n",
      "Variable: revol_bal            Importance: 0.04\n",
      "Variable: total_bc_limit       Importance: 0.04\n",
      "Variable: int_rate             Importance: 0.03\n",
      "Variable: loan_amnt            Importance: 0.03\n",
      "Variable: num_bc_tl            Importance: 0.03\n",
      "Variable: fico_range_high      Importance: 0.02\n",
      "Variable: fico_range_low       Importance: 0.02\n",
      "Variable: mths_since_last_delinq Importance: 0.02\n",
      "Variable: open_acc             Importance: 0.02\n",
      "Variable: inq_last_12m         Importance: 0.02\n",
      "Variable: num_op_rev_tl        Importance: 0.02\n",
      "Variable: num_tl_op_past_12m   Importance: 0.02\n",
      "Variable: percent_bc_gt_75     Importance: 0.02\n",
      "Variable: inq_last_6mths       Importance: 0.01\n",
      "Variable: mths_since_last_record Importance: 0.01\n",
      "Variable: pub_rec_bankruptcies Importance: 0.01\n",
      "Variable: term_ 36 months      Importance: 0.01\n",
      "Variable: term_ 60 months      Importance: 0.01\n",
      "Variable: home_ownership_OWN   Importance: 0.01\n",
      "Variable: sub_grade_C1         Importance: 0.01\n",
      "Variable: sub_grade_C2         Importance: 0.01\n",
      "Variable: verification_status_Not Verified Importance: 0.01\n",
      "Variable: delinq_2yrs          Importance: 0.0\n",
      "Variable: pub_rec              Importance: 0.0\n",
      "Variable: acc_now_delinq       Importance: 0.0\n",
      "Variable: collections_12_mths_ex_med Importance: 0.0\n",
      "Variable: tax_liens            Importance: 0.0\n",
      "Variable: emp_length_1 year    Importance: 0.0\n",
      "Variable: emp_length_10+ years Importance: 0.0\n",
      "Variable: emp_length_2 years   Importance: 0.0\n",
      "Variable: emp_length_3 years   Importance: 0.0\n",
      "Variable: emp_length_4 years   Importance: 0.0\n",
      "Variable: emp_length_5 years   Importance: 0.0\n",
      "Variable: emp_length_6 years   Importance: 0.0\n",
      "Variable: emp_length_7 years   Importance: 0.0\n",
      "Variable: emp_length_8 years   Importance: 0.0\n",
      "Variable: emp_length_9 years   Importance: 0.0\n",
      "Variable: emp_length_< 1 year  Importance: 0.0\n",
      "Variable: emp_title_12 volt Installer Importance: 0.0\n",
      "Variable: emp_title_A-Operator Importance: 0.0\n",
      "Variable: emp_title_ACR TECH II Importance: 0.0\n",
      "Variable: emp_title_APM        Importance: 0.0\n",
      "Variable: emp_title_AR Manager Importance: 0.0\n",
      "Variable: emp_title_AR Project Analyst Importance: 0.0\n",
      "Variable: emp_title_ASSEMBLY TEAM LEADER Importance: 0.0\n",
      "Variable: emp_title_AST        Importance: 0.0\n",
      "Variable: emp_title_Account Examiner Importance: 0.0\n",
      "Variable: emp_title_Account Manager Importance: 0.0\n",
      "Variable: emp_title_Account Manager  Importance: 0.0\n",
      "Variable: emp_title_Account specialist  Importance: 0.0\n",
      "Variable: emp_title_Accountant Importance: 0.0\n",
      "Variable: emp_title_Accounting Importance: 0.0\n",
      "Variable: emp_title_Accounting  Clerk Importance: 0.0\n",
      "Variable: emp_title_Accounting Assistant  Importance: 0.0\n",
      "Variable: emp_title_Accounting Manager Importance: 0.0\n",
      "Variable: emp_title_Accounting Mgr Importance: 0.0\n",
      "Variable: emp_title_Accounts Payable Administrator Importance: 0.0\n",
      "Variable: emp_title_Accounts Payable Coordinator Importance: 0.0\n",
      "Variable: emp_title_Accounts Payable Supervisor Importance: 0.0\n",
      "Variable: emp_title_Active Transportation Manager Importance: 0.0\n",
      "Variable: emp_title_Admin Asst Importance: 0.0\n",
      "Variable: emp_title_Admin. Coord. 4 Importance: 0.0\n",
      "Variable: emp_title_Administration Importance: 0.0\n",
      "Variable: emp_title_Administration  Importance: 0.0\n",
      "Variable: emp_title_Administrative Importance: 0.0\n",
      "Variable: emp_title_Administrative Director Importance: 0.0\n",
      "Variable: emp_title_Administrative Specialist Importance: 0.0\n",
      "Variable: emp_title_Administrative Support Tech Importance: 0.0\n",
      "Variable: emp_title_Administrative assistant  Importance: 0.0\n",
      "Variable: emp_title_Administrator Importance: 0.0\n",
      "Variable: emp_title_Adult Day Care Director Importance: 0.0\n",
      "Variable: emp_title_Advertising Operations Importance: 0.0\n",
      "Variable: emp_title_Advisor    Importance: 0.0\n",
      "Variable: emp_title_Agent      Importance: 0.0\n",
      "Variable: emp_title_Air Traffic Controller Importance: 0.0\n",
      "Variable: emp_title_Aircraft Servicer Lead  Importance: 0.0\n",
      "Variable: emp_title_Airport Operations Supervisor II Importance: 0.0\n",
      "Variable: emp_title_Analyst    Importance: 0.0\n",
      "Variable: emp_title_Application developer  Importance: 0.0\n",
      "Variable: emp_title_Arbitration Specialist Importance: 0.0\n",
      "Variable: emp_title_Architect  Importance: 0.0\n",
      "Variable: emp_title_Ass't Store Director Importance: 0.0\n",
      "Variable: emp_title_Assembler/Trainer Importance: 0.0\n",
      "Variable: emp_title_Assisant Group Supervisor  Importance: 0.0\n",
      "Variable: emp_title_Assistant Controller Importance: 0.0\n",
      "Variable: emp_title_Assistant Director of Advising Importance: 0.0\n",
      "Variable: emp_title_Assistant Finance Manager Importance: 0.0\n",
      "Variable: emp_title_Assistant Manager Importance: 0.0\n",
      "Variable: emp_title_Assistant Store Manager Importance: 0.0\n",
      "Variable: emp_title_Assistant manager Importance: 0.0\n",
      "Variable: emp_title_Assistant store manager Importance: 0.0\n",
      "Variable: emp_title_Assistant to the City Council Importance: 0.0\n",
      "Variable: emp_title_Assistant to the Director  Importance: 0.0\n",
      "Variable: emp_title_Associate Dentist  Importance: 0.0\n",
      "Variable: emp_title_Associate Director Importance: 0.0\n",
      "Variable: emp_title_Associate Marketing Manager Importance: 0.0\n",
      "Variable: emp_title_Associate manager Importance: 0.0\n",
      "Variable: emp_title_Asst General Counsel Importance: 0.0\n",
      "Variable: emp_title_Asst Mgr   Importance: 0.0\n",
      "Variable: emp_title_Asst. Vineyard Manager Importance: 0.0\n",
      "Variable: emp_title_Attorney   Importance: 0.0\n",
      "Variable: emp_title_Auto Technician Importance: 0.0\n",
      "Variable: emp_title_BSC3       Importance: 0.0\n",
      "Variable: emp_title_Bacteriologist Importance: 0.0\n",
      "Variable: emp_title_Baker      Importance: 0.0\n",
      "Variable: emp_title_Barista    Importance: 0.0\n",
      "Variable: emp_title_Bartender  Importance: 0.0\n",
      "Variable: emp_title_Benefit consultant Importance: 0.0\n",
      "Variable: emp_title_Benefits Analyst Importance: 0.0\n",
      "Variable: emp_title_Benefits Relationship Manager Importance: 0.0\n",
      "Variable: emp_title_Bid Anylist Importance: 0.0\n",
      "Variable: emp_title_Biller     Importance: 0.0\n",
      "Variable: emp_title_Billing    Importance: 0.0\n",
      "Variable: emp_title_Billing Administrator Importance: 0.0\n",
      "Variable: emp_title_Billing clerk Importance: 0.0\n",
      "Variable: emp_title_Biscuit Maker Importance: 0.0\n",
      "Variable: emp_title_Book keeping Importance: 0.0\n",
      "Variable: emp_title_Bookkeeper Importance: 0.0\n",
      "Variable: emp_title_Branch Manager Importance: 0.0\n",
      "Variable: emp_title_Branch manager Importance: 0.0\n",
      "Variable: emp_title_Broker/President Importance: 0.0\n",
      "Variable: emp_title_Business Analyst Importance: 0.0\n",
      "Variable: emp_title_Business Development Importance: 0.0\n",
      "Variable: emp_title_Business Development Manager Importance: 0.0\n",
      "Variable: emp_title_Business Process Analyst Importance: 0.0\n",
      "Variable: emp_title_Business development  Importance: 0.0\n",
      "Variable: emp_title_Buyer      Importance: 0.0\n",
      "Variable: emp_title_C3         Importance: 0.0\n",
      "Variable: emp_title_CASH POSTER Importance: 0.0\n",
      "Variable: emp_title_CEO        Importance: 0.0\n",
      "Variable: emp_title_CHILD SUPPORT OFFICER Importance: 0.0\n",
      "Variable: emp_title_CPA        Importance: 0.0\n",
      "Variable: emp_title_CRA Officer Importance: 0.0\n",
      "Variable: emp_title_CSR        Importance: 0.0\n",
      "Variable: emp_title_CT tech    Importance: 0.0\n",
      "Variable: emp_title_CUSTOMER FULFILLMENT MANAGER Importance: 0.0\n",
      "Variable: emp_title_Carpenter Foreman Importance: 0.0\n",
      "Variable: emp_title_Carpenter/Mechanic Importance: 0.0\n",
      "Variable: emp_title_Carpet Tech Importance: 0.0\n",
      "Variable: emp_title_Carrier    Importance: 0.0\n",
      "Variable: emp_title_Cath Lab Invasive Technologist Importance: 0.0\n",
      "Variable: emp_title_Cell leader Importance: 0.0\n",
      "Variable: emp_title_Certified Nurses Aide Importance: 0.0\n",
      "Variable: emp_title_Chief Dosimetrist  Importance: 0.0\n",
      "Variable: emp_title_Chief Operating Officer Importance: 0.0\n",
      "Variable: emp_title_Chief Operations Officer Importance: 0.0\n",
      "Variable: emp_title_Chief Petty Officer Importance: 0.0\n",
      "Variable: emp_title_Child Welfare Investigator Importance: 0.0\n",
      "Variable: emp_title_Cisco Tech Importance: 0.0\n",
      "Variable: emp_title_Civil Rights Director Importance: 0.0\n",
      "Variable: emp_title_Ckerk      Importance: 0.0\n",
      "Variable: emp_title_Client service manager Importance: 0.0\n",
      "Variable: emp_title_Clinic Supervisor  Importance: 0.0\n",
      "Variable: emp_title_Clinical Educator Importance: 0.0\n",
      "Variable: emp_title_Coach      Importance: 0.0\n",
      "Variable: emp_title_Code/Compliance Inspector Importance: 0.0\n",
      "Variable: emp_title_Collections Representative Importance: 0.0\n",
      "Variable: emp_title_College Assistant  Importance: 0.0\n",
      "Variable: emp_title_College Professor Importance: 0.0\n",
      "Variable: emp_title_Commercial Account Manager  Importance: 0.0\n",
      "Variable: emp_title_Commercial Markets Regulatory Specialist Importance: 0.0\n",
      "Variable: emp_title_Commercial Real Estate Agent Importance: 0.0\n",
      "Variable: emp_title_Commercial truck driver Importance: 0.0\n",
      "Variable: emp_title_Commissioned Officer Importance: 0.0\n",
      "Variable: emp_title_Compliance Manager Importance: 0.0\n",
      "Variable: emp_title_Compliance Officer Importance: 0.0\n",
      "Variable: emp_title_Compliance officer Importance: 0.0\n",
      "Variable: emp_title_Concierge  Importance: 0.0\n",
      "Variable: emp_title_Configuration management Importance: 0.0\n",
      "Variable: emp_title_Construction manager  Importance: 0.0\n",
      "Variable: emp_title_Consultant Importance: 0.0\n",
      "Variable: emp_title_Consultant  Importance: 0.0\n",
      "Variable: emp_title_Controller Importance: 0.0\n",
      "Variable: emp_title_Coordinator Importance: 0.0\n",
      "Variable: emp_title_Corporal- Detention Officer Importance: 0.0\n",
      "Variable: emp_title_Corporate Administrator Importance: 0.0\n",
      "Variable: emp_title_Corporate Banker Importance: 0.0\n",
      "Variable: emp_title_Corporate Quality Engineer Importance: 0.0\n",
      "Variable: emp_title_Corporate Travel Counselor Importance: 0.0\n",
      "Variable: emp_title_Counselor  Importance: 0.0\n",
      "Variable: emp_title_Court Clerk Importance: 0.0\n",
      "Variable: emp_title_Court Liaison  Importance: 0.0\n",
      "Variable: emp_title_Court referral and FinanceSpecialist Importance: 0.0\n",
      "Variable: emp_title_Credit Manager Importance: 0.0\n",
      "Variable: emp_title_Crew       Importance: 0.0\n",
      "Variable: emp_title_Crew manager Importance: 0.0\n",
      "Variable: emp_title_Custodian  Importance: 0.0\n",
      "Variable: emp_title_Customer Care Supervisor Importance: 0.0\n",
      "Variable: emp_title_Customer Service Importance: 0.0\n",
      "Variable: emp_title_Customer Service  Importance: 0.0\n",
      "Variable: emp_title_DEATH BENEFITS ANALYST Importance: 0.0\n",
      "Variable: emp_title_DIRECT SUPPORT ASSISTANT Importance: 0.0\n",
      "Variable: emp_title_Data Acquisitions Manager Importance: 0.0\n",
      "Variable: emp_title_Data Analyst Importance: 0.0\n",
      "Variable: emp_title_Data Architect Importance: 0.0\n",
      "Variable: emp_title_Database Admin Importance: 0.0\n",
      "Variable: emp_title_Database Administrator Importance: 0.0\n",
      "Variable: emp_title_Dental hygienist Importance: 0.0\n",
      "Variable: emp_title_Dentist    Importance: 0.0\n",
      "Variable: emp_title_Deportation officer Importance: 0.0\n",
      "Variable: emp_title_Deputy     Importance: 0.0\n",
      "Variable: emp_title_Deputy Clerk Importance: 0.0\n",
      "Variable: emp_title_Deputy sheriff Importance: 0.0\n",
      "Variable: emp_title_Design Consultant Importance: 0.0\n",
      "Variable: emp_title_Design Manager Importance: 0.0\n",
      "Variable: emp_title_Designer   Importance: 0.0\n",
      "Variable: emp_title_Digital Print Manager Importance: 0.0\n",
      "Variable: emp_title_Director   Importance: 0.0\n",
      "Variable: emp_title_Director   Importance: 0.0\n",
      "Variable: emp_title_Director Program Management Importance: 0.0\n",
      "Variable: emp_title_Director at United Healthcare Importance: 0.0\n",
      "Variable: emp_title_Director of Brand Development Importance: 0.0\n",
      "Variable: emp_title_Director of Finance Importance: 0.0\n",
      "Variable: emp_title_Director of Food Service Importance: 0.0\n",
      "Variable: emp_title_Director of HR Importance: 0.0\n",
      "Variable: emp_title_Director of Housekeeping  Importance: 0.0\n",
      "Variable: emp_title_Director of Interactive Marketing Importance: 0.0\n",
      "Variable: emp_title_Director of Life Enrichment/Transportati Importance: 0.0\n",
      "Variable: emp_title_Director of Operations Importance: 0.0\n",
      "Variable: emp_title_Director of Operations  Importance: 0.0\n",
      "Variable: emp_title_Director of Poket Importance: 0.0\n",
      "Variable: emp_title_Director of Sales Importance: 0.0\n",
      "Variable: emp_title_Director, Communications Flight Importance: 0.0\n",
      "Variable: emp_title_Director, IT Importance: 0.0\n",
      "Variable: emp_title_Dispatch   Importance: 0.0\n",
      "Variable: emp_title_Dispatch   Importance: 0.0\n",
      "Variable: emp_title_Dispatch Supervisor Importance: 0.0\n",
      "Variable: emp_title_Dispatcher Importance: 0.0\n",
      "Variable: emp_title_Dispatcher  Importance: 0.0\n",
      "Variable: emp_title_Distribution Supervisor  Importance: 0.0\n",
      "Variable: emp_title_District Manager Importance: 0.0\n",
      "Variable: emp_title_Dock master and lift driver Importance: 0.0\n",
      "Variable: emp_title_Driver     Importance: 0.0\n",
      "Variable: emp_title_Driver     Importance: 0.0\n",
      "Variable: emp_title_E-Publishing Business Lead Importance: 0.0\n",
      "Variable: emp_title_ELECTRICIAN Importance: 0.0\n",
      "Variable: emp_title_EMT        Importance: 0.0\n",
      "Variable: emp_title_ETC        Importance: 0.0\n",
      "Variable: emp_title_EXECUTIVE ASSISTANT Importance: 0.0\n",
      "Variable: emp_title_Electrical / Electronic Test Engineer Importance: 0.0\n",
      "Variable: emp_title_Electrical Designer Importance: 0.0\n",
      "Variable: emp_title_Electrical/Mechanical Engineer Importance: 0.0\n",
      "Variable: emp_title_Electrician Importance: 0.0\n",
      "Variable: emp_title_Electronic technician  Importance: 0.0\n",
      "Variable: emp_title_Emergency Dispatcher/Training Officer Importance: 0.0\n",
      "Variable: emp_title_Emergency Management Specialist Importance: 0.0\n",
      "Variable: emp_title_Engineer Technician Importance: 0.0\n",
      "Variable: emp_title_Engineering Supervisor Importance: 0.0\n",
      "Variable: emp_title_Environmental Manager  Importance: 0.0\n",
      "Variable: emp_title_Esthetician Importance: 0.0\n",
      "Variable: emp_title_Executive Account Manager Importance: 0.0\n",
      "Variable: emp_title_Executive Administrative Assistant Importance: 0.0\n",
      "Variable: emp_title_Executive Assistant Importance: 0.0\n",
      "Variable: emp_title_Executive Assistant  Importance: 0.0\n",
      "Variable: emp_title_Executive Chef  Importance: 0.0\n",
      "Variable: emp_title_Executive Director Importance: 0.0\n",
      "Variable: emp_title_Executive Underwriter Importance: 0.0\n",
      "Variable: emp_title_Executive Vice President Importance: 0.0\n",
      "Variable: emp_title_Executive chef Importance: 0.0\n",
      "Variable: emp_title_FARM LOAN OFFICER Importance: 0.0\n",
      "Variable: emp_title_FSE DRS GEN Importance: 0.0\n",
      "Variable: emp_title_Faculty Affairs Manager Importance: 0.0\n",
      "Variable: emp_title_Fed Ex courier Importance: 0.0\n",
      "Variable: emp_title_Federal Agent Importance: 0.0\n",
      "Variable: emp_title_Federal Field Program Specialist Importance: 0.0\n",
      "Variable: emp_title_Feeder Driver Importance: 0.0\n",
      "Variable: emp_title_Feeder truck driver  Importance: 0.0\n",
      "Variable: emp_title_Fiber Engineer Importance: 0.0\n",
      "Variable: emp_title_Field Test Technician Importance: 0.0\n",
      "Variable: emp_title_Field sales representative  Importance: 0.0\n",
      "Variable: emp_title_Finance    Importance: 0.0\n",
      "Variable: emp_title_Finance Manager Importance: 0.0\n",
      "Variable: emp_title_Finance technician  Importance: 0.0\n",
      "Variable: emp_title_Financial Administrator Importance: 0.0\n",
      "Variable: emp_title_Financial Advisor Importance: 0.0\n",
      "Variable: emp_title_Financial Advisor  Importance: 0.0\n",
      "Variable: emp_title_Firefighter Importance: 0.0\n",
      "Variable: emp_title_First Vice President/Corp. Administratio Importance: 0.0\n",
      "Variable: emp_title_Fiscal Analysis  Importance: 0.0\n",
      "Variable: emp_title_Fiscal Specialist Importance: 0.0\n",
      "Variable: emp_title_Fleet Manager Importance: 0.0\n",
      "Variable: emp_title_Flight Attendant Importance: 0.0\n",
      "Variable: emp_title_Flight Nurse Importance: 0.0\n",
      "Variable: emp_title_Food Inspector Importance: 0.0\n",
      "Variable: emp_title_Food Safety and Sanitation Lead Importance: 0.0\n",
      "Variable: emp_title_Foreman    Importance: 0.0\n",
      "Variable: emp_title_Fork lift operator Importance: 0.0\n",
      "Variable: emp_title_Forklift operator Importance: 0.0\n",
      "Variable: emp_title_Forman  driver Importance: 0.0\n",
      "Variable: emp_title_Fsa        Importance: 0.0\n",
      "Variable: emp_title_G&L        Importance: 0.0\n",
      "Variable: emp_title_GENERAL PARTNER Importance: 0.0\n",
      "Variable: emp_title_Gardener   Importance: 0.0\n",
      "Variable: emp_title_General Manager Importance: 0.0\n",
      "Variable: emp_title_General labor Importance: 0.0\n",
      "Variable: emp_title_General manager Importance: 0.0\n",
      "Variable: emp_title_General manager  Importance: 0.0\n",
      "Variable: emp_title_General warehouse  Importance: 0.0\n",
      "Variable: emp_title_Global HR Project Manager Importance: 0.0\n",
      "Variable: emp_title_Global Strategic Sourcing Importance: 0.0\n",
      "Variable: emp_title_Gmp tech   Importance: 0.0\n",
      "Variable: emp_title_Grants Accountant-2 Importance: 0.0\n",
      "Variable: emp_title_HIV Testing & Outreach Manager Importance: 0.0\n",
      "Variable: emp_title_HR         Importance: 0.0\n",
      "Variable: emp_title_HR Manager Importance: 0.0\n",
      "Variable: emp_title_HR Operations Rep Importance: 0.0\n",
      "Variable: emp_title_HSE Manager Importance: 0.0\n",
      "Variable: emp_title_HUMAN RESOURCE Importance: 0.0\n",
      "Variable: emp_title_Hairdresser  Importance: 0.0\n",
      "Variable: emp_title_Hardware Test & Qualification Technician Importance: 0.0\n",
      "Variable: emp_title_Hauler     Importance: 0.0\n",
      "Variable: emp_title_Head of Brand Development Importance: 0.0\n",
      "Variable: emp_title_Health Commissioner Importance: 0.0\n",
      "Variable: emp_title_Heavy equipment operator Importance: 0.0\n",
      "Variable: emp_title_Heavy machine operator Importance: 0.0\n",
      "Variable: emp_title_Heavy oil operator Importance: 0.0\n",
      "Variable: emp_title_Home Health Aide Importance: 0.0\n",
      "Variable: emp_title_Home health aid Importance: 0.0\n",
      "Variable: emp_title_Hospital Services Importance: 0.0\n",
      "Variable: emp_title_Hotline counselor  Importance: 0.0\n",
      "Variable: emp_title_Human Resource Specialist LER Importance: 0.0\n",
      "Variable: emp_title_Human Resources Importance: 0.0\n",
      "Variable: emp_title_Human Resources Generalist Importance: 0.0\n",
      "Variable: emp_title_IMPLEMENTATION SPECIALIST Importance: 0.0\n",
      "Variable: emp_title_IT         Importance: 0.0\n",
      "Variable: emp_title_IT Lead Business Analyst Importance: 0.0\n",
      "Variable: emp_title_IT Manager Importance: 0.0\n",
      "Variable: emp_title_IT Project Manager Importance: 0.0\n",
      "Variable: emp_title_IT SYstems Coordinatior  Importance: 0.0\n",
      "Variable: emp_title_IT Service Delivery Manager Importance: 0.0\n",
      "Variable: emp_title_IT Specialist Importance: 0.0\n",
      "Variable: emp_title_IT Tech    Importance: 0.0\n",
      "Variable: emp_title_Identity Management  Importance: 0.0\n",
      "Variable: emp_title_In House Counsel Importance: 0.0\n",
      "Variable: emp_title_Info Tech Developer Importance: 0.0\n",
      "Variable: emp_title_Inside Sales Importance: 0.0\n",
      "Variable: emp_title_Installations Director Importance: 0.0\n",
      "Variable: emp_title_Instructional Coordinator Importance: 0.0\n",
      "Variable: emp_title_Instructor Importance: 0.0\n",
      "Variable: emp_title_Instructor  Importance: 0.0\n",
      "Variable: emp_title_Instructor Integrator  Importance: 0.0\n",
      "Variable: emp_title_Instrumentation and Electrical Importance: 0.0\n",
      "Variable: emp_title_Insurance Sales Importance: 0.0\n",
      "Variable: emp_title_Interventional Radiology Coordinator  Importance: 0.0\n",
      "Variable: emp_title_Investigative Consultant Importance: 0.0\n",
      "Variable: emp_title_Investigator Importance: 0.0\n",
      "Variable: emp_title_JAIL SECRETARY Importance: 0.0\n",
      "Variable: emp_title_Journeyman Technician Importance: 0.0\n",
      "Variable: emp_title_Judicator  Importance: 0.0\n",
      "Variable: emp_title_Knowledge content coordinator  Importance: 0.0\n",
      "Variable: emp_title_LEAD OPERATOR Importance: 0.0\n",
      "Variable: emp_title_LLC Owner  Importance: 0.0\n",
      "Variable: emp_title_LPN        Importance: 0.0\n",
      "Variable: emp_title_Lab Manager Importance: 0.0\n",
      "Variable: emp_title_Labor      Importance: 0.0\n",
      "Variable: emp_title_Laboratory Manager Importance: 0.0\n",
      "Variable: emp_title_Latent Fingerprint Examiner II Importance: 0.0\n",
      "Variable: emp_title_Laundry warehouse attendant  Importance: 0.0\n",
      "Variable: emp_title_Lawyer     Importance: 0.0\n",
      "Variable: emp_title_Lead Esthetician Importance: 0.0\n",
      "Variable: emp_title_Lead Estimator Importance: 0.0\n",
      "Variable: emp_title_Lead Installer Importance: 0.0\n",
      "Variable: emp_title_Lead Operstions Research Analyst Importance: 0.0\n",
      "Variable: emp_title_Lead Supervisor Importance: 0.0\n",
      "Variable: emp_title_Lead Technician Importance: 0.0\n",
      "Variable: emp_title_Lead designer Importance: 0.0\n",
      "Variable: emp_title_Lead technician  Importance: 0.0\n",
      "Variable: emp_title_Lead teller operations specialist Importance: 0.0\n",
      "Variable: emp_title_Leasing Agent Importance: 0.0\n",
      "Variable: emp_title_Legal Assistant Importance: 0.0\n",
      "Variable: emp_title_Legal Secretary Importance: 0.0\n",
      "Variable: emp_title_Letter Carrier Importance: 0.0\n",
      "Variable: emp_title_Liaison    Importance: 0.0\n",
      "Variable: emp_title_Licenced Practical Nurse Importance: 0.0\n",
      "Variable: emp_title_Licensed Realtor Importance: 0.0\n",
      "Variable: emp_title_Line worker  Importance: 0.0\n",
      "Variable: emp_title_Literacy Specialist/teacher Importance: 0.0\n",
      "Variable: emp_title_Loan Officer Importance: 0.0\n",
      "Variable: emp_title_Locomotive Engineer Importance: 0.0\n",
      "Variable: emp_title_Logistics  manager Importance: 0.0\n",
      "Variable: emp_title_Logistics Management specialist Importance: 0.0\n",
      "Variable: emp_title_Logistics Manager Importance: 0.0\n",
      "Variable: emp_title_Lvn        Importance: 0.0\n",
      "Variable: emp_title_MA         Importance: 0.0\n",
      "Variable: emp_title_MANAGER    Importance: 0.0\n",
      "Variable: emp_title_MANAGER    Importance: 0.0\n",
      "Variable: emp_title_MSR        Importance: 0.0\n",
      "Variable: emp_title_Machine Operator Importance: 0.0\n",
      "Variable: emp_title_Machine operator Importance: 0.0\n",
      "Variable: emp_title_Machine operator and dock worker Importance: 0.0\n",
      "Variable: emp_title_Machinist  Importance: 0.0\n",
      "Variable: emp_title_Mail Carrier  Importance: 0.0\n",
      "Variable: emp_title_Maintenance Importance: 0.0\n",
      "Variable: emp_title_Maintenance Assistant  Importance: 0.0\n",
      "Variable: emp_title_Maintenance Director Importance: 0.0\n",
      "Variable: emp_title_Maintenance Lead Man Importance: 0.0\n",
      "Variable: emp_title_Management Importance: 0.0\n",
      "Variable: emp_title_Manager    Importance: 0.0\n",
      "Variable: emp_title_Manager of Engineering Importance: 0.0\n",
      "Variable: emp_title_Managing Director Importance: 0.0\n",
      "Variable: emp_title_Managing Partner Importance: 0.0\n",
      "Variable: emp_title_Manufacturing  Importance: 0.0\n",
      "Variable: emp_title_Marketing  Importance: 0.0\n",
      "Variable: emp_title_Marketing / Business Developement Importance: 0.0\n",
      "Variable: emp_title_Marketing Director Importance: 0.0\n",
      "Variable: emp_title_Mechanic   Importance: 0.0\n",
      "Variable: emp_title_Mechanic   Importance: 0.0\n",
      "Variable: emp_title_Medical Asst Importance: 0.0\n",
      "Variable: emp_title_Medical Biller Importance: 0.0\n",
      "Variable: emp_title_Medical Coder Importance: 0.0\n",
      "Variable: emp_title_Medical Laboratory Technician  Importance: 0.0\n",
      "Variable: emp_title_Medical Technologist (MT) Importance: 0.0\n",
      "Variable: emp_title_Medical assistant Importance: 0.0\n",
      "Variable: emp_title_Medicare sales representative  Importance: 0.0\n",
      "Variable: emp_title_Merchandiser Importance: 0.0\n",
      "Variable: emp_title_Mold Maker Importance: 0.0\n",
      "Variable: emp_title_Mortgage Underwriter Importance: 0.0\n",
      "Variable: emp_title_National Sales Manager Importance: 0.0\n",
      "Variable: emp_title_Network Administrator  Importance: 0.0\n",
      "Variable: emp_title_Network Engineer Importance: 0.0\n",
      "Variable: emp_title_Nurse      Importance: 0.0\n",
      "Variable: emp_title_Nurse Clinician Importance: 0.0\n",
      "Variable: emp_title_Nursing    Importance: 0.0\n",
      "Variable: emp_title_Nursing Aid Importance: 0.0\n",
      "Variable: emp_title_Nursing Assistant Importance: 0.0\n",
      "Variable: emp_title_OWNER      Importance: 0.0\n",
      "Variable: emp_title_OWNER/STYLIST Importance: 0.0\n",
      "Variable: emp_title_Occupational therapist  Importance: 0.0\n",
      "Variable: emp_title_Offica Manager Importance: 0.0\n",
      "Variable: emp_title_Office Assistant Importance: 0.0\n",
      "Variable: emp_title_Office Manager Importance: 0.0\n",
      "Variable: emp_title_Office Manager  Importance: 0.0\n",
      "Variable: emp_title_Office Managet Importance: 0.0\n",
      "Variable: emp_title_Office Support Importance: 0.0\n",
      "Variable: emp_title_Office manager Importance: 0.0\n",
      "Variable: emp_title_Office worker Importance: 0.0\n",
      "Variable: emp_title_On Call Technicial Importance: 0.0\n",
      "Variable: emp_title_Online Marketing Manager Importance: 0.0\n",
      "Variable: emp_title_Operation association  Importance: 0.0\n",
      "Variable: emp_title_Operations Manager Importance: 0.0\n",
      "Variable: emp_title_Operations Services Senior Specialist Importance: 0.0\n",
      "Variable: emp_title_Operations Supervisor  Importance: 0.0\n",
      "Variable: emp_title_Ophthalmic Technician Importance: 0.0\n",
      "Variable: emp_title_Orthopedic Physician Assistant Importance: 0.0\n",
      "Variable: emp_title_Orthopedic Surgeon Importance: 0.0\n",
      "Variable: emp_title_Outside Technician Importance: 0.0\n",
      "Variable: emp_title_Over maintaince Dept. Importance: 0.0\n",
      "Variable: emp_title_Overnight support manager Importance: 0.0\n",
      "Variable: emp_title_Owner      Importance: 0.0\n",
      "Variable: emp_title_Owner/Operator Importance: 0.0\n",
      "Variable: emp_title_PMTS       Importance: 0.0\n",
      "Variable: emp_title_POLICE COMMUNICATIONS OPERATOR Importance: 0.0\n",
      "Variable: emp_title_POLICE OFFICER Importance: 0.0\n",
      "Variable: emp_title_PRESIDENT  Importance: 0.0\n",
      "Variable: emp_title_PRINCIPAL  Importance: 0.0\n",
      "Variable: emp_title_PROFESSOR  Importance: 0.0\n",
      "Variable: emp_title_PTA        Importance: 0.0\n",
      "Variable: emp_title_Paralegal  Importance: 0.0\n",
      "Variable: emp_title_Part sales Importance: 0.0\n",
      "Variable: emp_title_Part time sales Importance: 0.0\n",
      "Variable: emp_title_Partner    Importance: 0.0\n",
      "Variable: emp_title_Parts & Service Director Importance: 0.0\n",
      "Variable: emp_title_Parts Manager Importance: 0.0\n",
      "Variable: emp_title_Pastor     Importance: 0.0\n",
      "Variable: emp_title_Patients service representative  Importance: 0.0\n",
      "Variable: emp_title_Payroll Specialist Importance: 0.0\n",
      "Variable: emp_title_Personal Assistant to Archbishop Importance: 0.0\n",
      "Variable: emp_title_Pharmacist Importance: 0.0\n",
      "Variable: emp_title_Phlebotomist Importance: 0.0\n",
      "Variable: emp_title_Physician Assistant Importance: 0.0\n",
      "Variable: emp_title_Physiologist Importance: 0.0\n",
      "Variable: emp_title_Pilot      Importance: 0.0\n",
      "Variable: emp_title_Pilot      Importance: 0.0\n",
      "Variable: emp_title_Pipelayer  Importance: 0.0\n",
      "Variable: emp_title_Plan manager Importance: 0.0\n",
      "Variable: emp_title_Planner    Importance: 0.0\n",
      "Variable: emp_title_Plumber    Importance: 0.0\n",
      "Variable: emp_title_Police Officer Importance: 0.0\n",
      "Variable: emp_title_Police Sergeant Importance: 0.0\n",
      "Variable: emp_title_Police officer Importance: 0.0\n",
      "Variable: emp_title_Policeman  Importance: 0.0\n",
      "Variable: emp_title_Pool Technician Importance: 0.0\n",
      "Variable: emp_title_Port Captain Importance: 0.0\n",
      "Variable: emp_title_Portfolio Manager Importance: 0.0\n",
      "Variable: emp_title_Post Closing Specialist Importance: 0.0\n",
      "Variable: emp_title_Power Foreman Importance: 0.0\n",
      "Variable: emp_title_Practice Development Specialist Importance: 0.0\n",
      "Variable: emp_title_President  Importance: 0.0\n",
      "Variable: emp_title_President  Importance: 0.0\n",
      "Variable: emp_title_Priest     Importance: 0.0\n",
      "Variable: emp_title_Principal  Importance: 0.0\n",
      "Variable: emp_title_Principal Consultant Importance: 0.0\n",
      "Variable: emp_title_Principal Engineer Importance: 0.0\n",
      "Variable: emp_title_Probation/Parole Officer Importance: 0.0\n",
      "Variable: emp_title_Processor  Importance: 0.0\n",
      "Variable: emp_title_Procurement Manager Importance: 0.0\n",
      "Variable: emp_title_Product Manager Importance: 0.0\n",
      "Variable: emp_title_Product Specialist  Importance: 0.0\n",
      "Variable: emp_title_Production Artist Importance: 0.0\n",
      "Variable: emp_title_Production Manager Importance: 0.0\n",
      "Variable: emp_title_Production Supervisor Importance: 0.0\n",
      "Variable: emp_title_Production operator Importance: 0.0\n",
      "Variable: emp_title_Production supervisor  Importance: 0.0\n",
      "Variable: emp_title_Professor  Importance: 0.0\n",
      "Variable: emp_title_Program Manager Importance: 0.0\n",
      "Variable: emp_title_Program Technician II Importance: 0.0\n",
      "Variable: emp_title_Programmer Importance: 0.0\n",
      "Variable: emp_title_Programmer Anaalyst Importance: 0.0\n",
      "Variable: emp_title_Project Coordinator Importance: 0.0\n",
      "Variable: emp_title_Project Director Importance: 0.0\n",
      "Variable: emp_title_Project Leader Importance: 0.0\n",
      "Variable: emp_title_Project Manager Importance: 0.0\n",
      "Variable: emp_title_Project Mgr. Importance: 0.0\n",
      "Variable: emp_title_Property Enhancement Importance: 0.0\n",
      "Variable: emp_title_Property Manager Importance: 0.0\n",
      "Variable: emp_title_Property Manager/Developer Importance: 0.0\n",
      "Variable: emp_title_Property manager Importance: 0.0\n",
      "Variable: emp_title_Provision  Importance: 0.0\n",
      "Variable: emp_title_Public Safety Telecommunicator  Importance: 0.0\n",
      "Variable: emp_title_Public Works employee Importance: 0.0\n",
      "Variable: emp_title_Purchasing Manager Importance: 0.0\n",
      "Variable: emp_title_QA Analyst Importance: 0.0\n",
      "Variable: emp_title_QA Investigations Manager Importance: 0.0\n",
      "Variable: emp_title_QA Lead Analyst Importance: 0.0\n",
      "Variable: emp_title_Quality Improvement Manager Importance: 0.0\n",
      "Variable: emp_title_Quality Inspection Importance: 0.0\n",
      "Variable: emp_title_Quality Manager Importance: 0.0\n",
      "Variable: emp_title_Quality Review & Training Spec.(Remote) Importance: 0.0\n",
      "Variable: emp_title_Quality control  Importance: 0.0\n",
      "Variable: emp_title_REALTOR    Importance: 0.0\n",
      "Variable: emp_title_RESTAURANT MANAGER Importance: 0.0\n",
      "Variable: emp_title_RN         Importance: 0.0\n",
      "Variable: emp_title_RN Director Renker Wellness Center Importance: 0.0\n",
      "Variable: emp_title_RN Education Manager Importance: 0.0\n",
      "Variable: emp_title_RN Manager Importance: 0.0\n",
      "Variable: emp_title_RN case manager Importance: 0.0\n",
      "Variable: emp_title_RN/ Nursing Coordinator  Importance: 0.0\n",
      "Variable: emp_title_Radtech    Importance: 0.0\n",
      "Variable: emp_title_Reactor operator Importance: 0.0\n",
      "Variable: emp_title_Realtor    Importance: 0.0\n",
      "Variable: emp_title_Receipt Poster Importance: 0.0\n",
      "Variable: emp_title_Receptionist Importance: 0.0\n",
      "Variable: emp_title_Recovery Coach Importance: 0.0\n",
      "Variable: emp_title_Recruiter  Importance: 0.0\n",
      "Variable: emp_title_Recruitment Consultant  Importance: 0.0\n",
      "Variable: emp_title_Recruitment Specialist Importance: 0.0\n",
      "Variable: emp_title_Regional Account Rep Importance: 0.0\n",
      "Variable: emp_title_Regional Manager Importance: 0.0\n",
      "Variable: emp_title_Regional operations director Importance: 0.0\n",
      "Variable: emp_title_Registered Nurse Importance: 0.0\n",
      "Variable: emp_title_Registered Nurse  Importance: 0.0\n",
      "Variable: emp_title_Registered Nurse/Asst. Nurse Manager Importance: 0.0\n",
      "Variable: emp_title_Registered nurse Importance: 0.0\n",
      "Variable: emp_title_Relocation Specialist Importance: 0.0\n",
      "Variable: emp_title_Retail Sales Consultant  Importance: 0.0\n",
      "Variable: emp_title_Retail ops leader  Importance: 0.0\n",
      "Variable: emp_title_Rigger     Importance: 0.0\n",
      "Variable: emp_title_Risk Managment Analyst Importance: 0.0\n",
      "Variable: emp_title_Risk officer Importance: 0.0\n",
      "Variable: emp_title_Rn         Importance: 0.0\n",
      "Variable: emp_title_Road Driver Importance: 0.0\n",
      "Variable: emp_title_Road driver Importance: 0.0\n",
      "Variable: emp_title_Route sales representative  Importance: 0.0\n",
      "Variable: emp_title_Route salesman Importance: 0.0\n",
      "Variable: emp_title_SNF Rehab Manager Importance: 0.0\n",
      "Variable: emp_title_SUPERINTENDANT Importance: 0.0\n",
      "Variable: emp_title_SUPERVISOR OF MANAGEMENT SERVICE  Importance: 0.0\n",
      "Variable: emp_title_Sales      Importance: 0.0\n",
      "Variable: emp_title_Sales      Importance: 0.0\n",
      "Variable: emp_title_Sales Administrator/HR Recruiter Importance: 0.0\n",
      "Variable: emp_title_Sales Associate Importance: 0.0\n",
      "Variable: emp_title_Sales Executive Importance: 0.0\n",
      "Variable: emp_title_Sales Manager Importance: 0.0\n",
      "Variable: emp_title_Sales Rep  Importance: 0.0\n",
      "Variable: emp_title_Sales Team Manager Importance: 0.0\n",
      "Variable: emp_title_Sales associate Importance: 0.0\n",
      "Variable: emp_title_Salesman   Importance: 0.0\n",
      "Variable: emp_title_Salesmanager Importance: 0.0\n",
      "Variable: emp_title_Scheduler  Importance: 0.0\n",
      "Variable: emp_title_School Psychologist Importance: 0.0\n",
      "Variable: emp_title_Secretary  Importance: 0.0\n",
      "Variable: emp_title_Security Agent Importance: 0.0\n",
      "Variable: emp_title_Security Guard Importance: 0.0\n",
      "Variable: emp_title_Security officer/Bank supervisor Importance: 0.0\n",
      "Variable: emp_title_Senior - internal audit and compliance  Importance: 0.0\n",
      "Variable: emp_title_Senior Account Manager Importance: 0.0\n",
      "Variable: emp_title_Senior Clerk Typist Importance: 0.0\n",
      "Variable: emp_title_Senior Client Partner Importance: 0.0\n",
      "Variable: emp_title_Senior Consultant Importance: 0.0\n",
      "Variable: emp_title_Senior Developer Importance: 0.0\n",
      "Variable: emp_title_Senior Engineer Importance: 0.0\n",
      "Variable: emp_title_Senior Estimator/Project Manager Importance: 0.0\n",
      "Variable: emp_title_Senior Financial Associate Importance: 0.0\n",
      "Variable: emp_title_Senior Manager Importance: 0.0\n",
      "Variable: emp_title_Senior Project Manager Importance: 0.0\n",
      "Variable: emp_title_Senior Psychiatric technician Importance: 0.0\n",
      "Variable: emp_title_Senior Superintendent Importance: 0.0\n",
      "Variable: emp_title_Senior Supervisor  Importance: 0.0\n",
      "Variable: emp_title_Senior advisor Importance: 0.0\n",
      "Variable: emp_title_Sergeant (E5) Importance: 0.0\n",
      "Variable: emp_title_Sergeant First Class Importance: 0.0\n",
      "Variable: emp_title_Service Desk Engineer Importance: 0.0\n",
      "Variable: emp_title_Service Director Importance: 0.0\n",
      "Variable: emp_title_Service Tech Importance: 0.0\n",
      "Variable: emp_title_Service tech maintenance Importance: 0.0\n",
      "Variable: emp_title_Set-up Worker Importance: 0.0\n",
      "Variable: emp_title_Shared Living Provider (Human Services) Importance: 0.0\n",
      "Variable: emp_title_Shop Foreman Importance: 0.0\n",
      "Variable: emp_title_Shop foreman Importance: 0.0\n",
      "Variable: emp_title_Shop foreman  Importance: 0.0\n",
      "Variable: emp_title_Shop hand  Importance: 0.0\n",
      "Variable: emp_title_Site Supervisor Importance: 0.0\n",
      "Variable: emp_title_Slot Service Specialist  Importance: 0.0\n",
      "Variable: emp_title_Slot Shift Manager  Importance: 0.0\n",
      "Variable: emp_title_Smelter operator  Importance: 0.0\n",
      "Variable: emp_title_Social service specialist Importance: 0.0\n",
      "Variable: emp_title_Social worker Importance: 0.0\n",
      "Variable: emp_title_Software Developer Importance: 0.0\n",
      "Variable: emp_title_Special Agent Importance: 0.0\n",
      "Variable: emp_title_Special Education Teacher Importance: 0.0\n",
      "Variable: emp_title_Special Educator Importance: 0.0\n",
      "Variable: emp_title_Specialist Importance: 0.0\n",
      "Variable: emp_title_Specialist, Enterprise Architecture Importance: 0.0\n",
      "Variable: emp_title_Specialty Sales Importance: 0.0\n",
      "Variable: emp_title_Sr Applications Engineer Importance: 0.0\n",
      "Variable: emp_title_Sr Building Services Manager Importance: 0.0\n",
      "Variable: emp_title_Sr Customer Service Rep. Importance: 0.0\n",
      "Variable: emp_title_Sr Manager Account Services  Importance: 0.0\n",
      "Variable: emp_title_Sr Portfolio Manager  Importance: 0.0\n",
      "Variable: emp_title_Sr Recruiter Importance: 0.0\n",
      "Variable: emp_title_Sr Systems Engineer Importance: 0.0\n",
      "Variable: emp_title_Sr Underwriter Importance: 0.0\n",
      "Variable: emp_title_Sr. Associate Agent Importance: 0.0\n",
      "Variable: emp_title_Sr. Correctional Deputy II Importance: 0.0\n",
      "Variable: emp_title_Sr. Engineering Technician Importance: 0.0\n",
      "Variable: emp_title_Sr. Manager Importance: 0.0\n",
      "Variable: emp_title_Sr. Mortgage Banker Importance: 0.0\n",
      "Variable: emp_title_Sr. Systems Analyst Importance: 0.0\n",
      "Variable: emp_title_Staff Nurse ll Importance: 0.0\n",
      "Variable: emp_title_Staff Tax Accountant Importance: 0.0\n",
      "Variable: emp_title_Stagehand  Importance: 0.0\n",
      "Variable: emp_title_State correction officer  Importance: 0.0\n",
      "Variable: emp_title_Store Manager Importance: 0.0\n",
      "Variable: emp_title_Student Solution Center Representative Importance: 0.0\n",
      "Variable: emp_title_Superviaor Importance: 0.0\n",
      "Variable: emp_title_Supervisor Importance: 0.0\n",
      "Variable: emp_title_Supervisor, Risk Review Credit Importance: 0.0\n",
      "Variable: emp_title_Supply chain purchasing supervisor  Importance: 0.0\n",
      "Variable: emp_title_Surgical tech Importance: 0.0\n",
      "Variable: emp_title_Systems Administrator Importance: 0.0\n",
      "Variable: emp_title_TAX ACCOUNTANT Importance: 0.0\n",
      "Variable: emp_title_Table Game Dealer Importance: 0.0\n",
      "Variable: emp_title_Table Games Supervisor Importance: 0.0\n",
      "Variable: emp_title_Table game dealer Importance: 0.0\n",
      "Variable: emp_title_Tax Manager Importance: 0.0\n",
      "Variable: emp_title_Teacher    Importance: 0.0\n",
      "Variable: emp_title_Teacher Assistant Importance: 0.0\n",
      "Variable: emp_title_Teacher Asst Importance: 0.0\n",
      "Variable: emp_title_Tech       Importance: 0.0\n",
      "Variable: emp_title_Tech Support coordinator Importance: 0.0\n",
      "Variable: emp_title_Tech/Installer Importance: 0.0\n",
      "Variable: emp_title_Technical Representative Importance: 0.0\n",
      "Variable: emp_title_Technician Importance: 0.0\n",
      "Variable: emp_title_Telephone Tech Importance: 0.0\n",
      "Variable: emp_title_Therapist  Importance: 0.0\n",
      "Variable: emp_title_Title 31 Compliance Officer Importance: 0.0\n",
      "Variable: emp_title_Title Searcher Importance: 0.0\n",
      "Variable: emp_title_Tool rental asdociate Importance: 0.0\n",
      "Variable: emp_title_Tower Manager Importance: 0.0\n",
      "Variable: emp_title_Tractor Trailer Operator  Importance: 0.0\n",
      "Variable: emp_title_Tractor trailer driver Importance: 0.0\n",
      "Variable: emp_title_Trainer    Importance: 0.0\n",
      "Variable: emp_title_Training Manager Importance: 0.0\n",
      "Variable: emp_title_Transportation Engineer Importance: 0.0\n",
      "Variable: emp_title_Travel Nurse Importance: 0.0\n",
      "Variable: emp_title_Treasury Analyst Importance: 0.0\n",
      "Variable: emp_title_Truck Driver Importance: 0.0\n",
      "Variable: emp_title_Truck driver Importance: 0.0\n",
      "Variable: emp_title_Truck driver  Importance: 0.0\n",
      "Variable: emp_title_USAF       Importance: 0.0\n",
      "Variable: emp_title_USPS       Importance: 0.0\n",
      "Variable: emp_title_Unit Supply Sergeant  Importance: 0.0\n",
      "Variable: emp_title_Unitzer Operator/ die mounter Importance: 0.0\n",
      "Variable: emp_title_VIP Art Associate Importance: 0.0\n",
      "Variable: emp_title_VP         Importance: 0.0\n",
      "Variable: emp_title_VP Operations Importance: 0.0\n",
      "Variable: emp_title_VP Sales Americas Importance: 0.0\n",
      "Variable: emp_title_VP of Sales Importance: 0.0\n",
      "Variable: emp_title_VP of Software Engineering Importance: 0.0\n",
      "Variable: emp_title_VP, MARKETING & PARTNERSHIPS Importance: 0.0\n",
      "Variable: emp_title_Vice President Importance: 0.0\n",
      "Variable: emp_title_Vice President/General Manager Importance: 0.0\n",
      "Variable: emp_title_WAN Manager Importance: 0.0\n",
      "Variable: emp_title_WASTE OPERATOR Importance: 0.0\n",
      "Variable: emp_title_Waiter     Importance: 0.0\n",
      "Variable: emp_title_Warehouse Employee Importance: 0.0\n",
      "Variable: emp_title_Warehouse Manager Importance: 0.0\n",
      "Variable: emp_title_Warehouse Supervisor Importance: 0.0\n",
      "Variable: emp_title_Warehouse associate Importance: 0.0\n",
      "Variable: emp_title_Warehouse manager Importance: 0.0\n",
      "Variable: emp_title_Warranty Coordinator  Importance: 0.0\n",
      "Variable: emp_title_Warranty analyst Importance: 0.0\n",
      "Variable: emp_title_Web Producer Importance: 0.0\n",
      "Variable: emp_title_Wood worker  Importance: 0.0\n",
      "Variable: emp_title_X ray technologist Importance: 0.0\n",
      "Variable: emp_title_X-ray technologist  Importance: 0.0\n",
      "Variable: emp_title_YARD MAINTENANCE/OWNER Importance: 0.0\n",
      "Variable: emp_title_Yard Foreman Importance: 0.0\n",
      "Variable: emp_title_accounting staff Importance: 0.0\n",
      "Variable: emp_title_admin      Importance: 0.0\n",
      "Variable: emp_title_ass.store manager Importance: 0.0\n",
      "Variable: emp_title_assembler  Importance: 0.0\n",
      "Variable: emp_title_asst manager Importance: 0.0\n",
      "Variable: emp_title_book keeper Importance: 0.0\n",
      "Variable: emp_title_bookkeeper Importance: 0.0\n",
      "Variable: emp_title_cable technician Importance: 0.0\n",
      "Variable: emp_title_care taker Importance: 0.0\n",
      "Variable: emp_title_civil enginerring drafting tech Importance: 0.0\n",
      "Variable: emp_title_claims analyst Importance: 0.0\n",
      "Variable: emp_title_classroom teacher/department chair Importance: 0.0\n",
      "Variable: emp_title_clerical   Importance: 0.0\n",
      "Variable: emp_title_commercial driver Importance: 0.0\n",
      "Variable: emp_title_construction manager Importance: 0.0\n",
      "Variable: emp_title_court reporter Importance: 0.0\n",
      "Variable: emp_title_cpa        Importance: 0.0\n",
      "Variable: emp_title_craft supervisor Importance: 0.0\n",
      "Variable: emp_title_custody specialist Importance: 0.0\n",
      "Variable: emp_title_customer service Importance: 0.0\n",
      "Variable: emp_title_detailer/mechanic Importance: 0.0\n",
      "Variable: emp_title_director of sles Importance: 0.0\n",
      "Variable: emp_title_driver     Importance: 0.0\n",
      "Variable: emp_title_electro plating Importance: 0.0\n",
      "Variable: emp_title_fcsa       Importance: 0.0\n",
      "Variable: emp_title_foreman    Importance: 0.0\n",
      "Variable: emp_title_frozen/dairy stocker Importance: 0.0\n",
      "Variable: emp_title_fulfillment coordinator Importance: 0.0\n",
      "Variable: emp_title_general foreman Importance: 0.0\n",
      "Variable: emp_title_hd wrecker operator Importance: 0.0\n",
      "Variable: emp_title_home loan processor  Importance: 0.0\n",
      "Variable: emp_title_journeyman Importance: 0.0\n",
      "Variable: emp_title_license nurse Importance: 0.0\n",
      "Variable: emp_title_licensed practical nurse Importance: 0.0\n",
      "Variable: emp_title_maint tech Importance: 0.0\n",
      "Variable: emp_title_maintenance technician Importance: 0.0\n",
      "Variable: emp_title_manager    Importance: 0.0\n",
      "Variable: emp_title_mechanic   Importance: 0.0\n",
      "Variable: emp_title_mechanical engineer Importance: 0.0\n",
      "Variable: emp_title_medical care/benefits rep Importance: 0.0\n",
      "Variable: emp_title_millwright Importance: 0.0\n",
      "Variable: emp_title_operator   Importance: 0.0\n",
      "Variable: emp_title_orderfiller Importance: 0.0\n",
      "Variable: emp_title_owner      Importance: 0.0\n",
      "Variable: emp_title_owner/operator Importance: 0.0\n",
      "Variable: emp_title_pharmacy technician Importance: 0.0\n",
      "Variable: emp_title_photographer Importance: 0.0\n",
      "Variable: emp_title_plasma processor Importance: 0.0\n",
      "Variable: emp_title_president  Importance: 0.0\n",
      "Variable: emp_title_producer/owner Importance: 0.0\n",
      "Variable: emp_title_production Importance: 0.0\n",
      "Variable: emp_title_production manager Importance: 0.0\n",
      "Variable: emp_title_radiation therapist Importance: 0.0\n",
      "Variable: emp_title_ramperserviceman Importance: 0.0\n",
      "Variable: emp_title_registerd nurse Importance: 0.0\n",
      "Variable: emp_title_registered nurse Importance: 0.0\n",
      "Variable: emp_title_reporter   Importance: 0.0\n",
      "Variable: emp_title_rural carrier Importance: 0.0\n",
      "Variable: emp_title_sales      Importance: 0.0\n",
      "Variable: emp_title_sales      Importance: 0.0\n",
      "Variable: emp_title_sales merchandiser Importance: 0.0\n",
      "Variable: emp_title_sales/finance Importance: 0.0\n",
      "Variable: emp_title_senior engineering designer Importance: 0.0\n",
      "Variable: emp_title_senior operator Importance: 0.0\n",
      "Variable: emp_title_service tech. Importance: 0.0\n",
      "Variable: emp_title_signmaker/waterjet Importance: 0.0\n",
      "Variable: emp_title_sr structure engineer Importance: 0.0\n",
      "Variable: emp_title_store manager  Importance: 0.0\n",
      "Variable: emp_title_supervisor Importance: 0.0\n",
      "Variable: emp_title_tacher     Importance: 0.0\n",
      "Variable: emp_title_teacher    Importance: 0.0\n",
      "Variable: emp_title_technology analyst Importance: 0.0\n",
      "Variable: emp_title_truck driver Importance: 0.0\n",
      "Variable: emp_title_truckdriver construction Importance: 0.0\n",
      "Variable: emp_title_vice president Importance: 0.0\n",
      "Variable: emp_title_welder     Importance: 0.0\n",
      "Variable: grade_A              Importance: 0.0\n",
      "Variable: grade_B              Importance: 0.0\n",
      "Variable: grade_C              Importance: 0.0\n",
      "Variable: grade_D              Importance: 0.0\n",
      "Variable: grade_E              Importance: 0.0\n",
      "Variable: grade_F              Importance: 0.0\n",
      "Variable: grade_G              Importance: 0.0\n",
      "Variable: home_ownership_MORTGAGE Importance: 0.0\n",
      "Variable: home_ownership_RENT  Importance: 0.0\n",
      "Variable: purpose_car          Importance: 0.0\n",
      "Variable: purpose_credit_card  Importance: 0.0\n",
      "Variable: purpose_debt_consolidation Importance: 0.0\n",
      "Variable: purpose_home_improvement Importance: 0.0\n",
      "Variable: purpose_house        Importance: 0.0\n",
      "Variable: purpose_major_purchase Importance: 0.0\n",
      "Variable: purpose_medical      Importance: 0.0\n",
      "Variable: purpose_moving       Importance: 0.0\n",
      "Variable: purpose_other        Importance: 0.0\n",
      "Variable: purpose_small_business Importance: 0.0\n",
      "Variable: purpose_vacation     Importance: 0.0\n",
      "Variable: sub_grade_A1         Importance: 0.0\n",
      "Variable: sub_grade_A2         Importance: 0.0\n",
      "Variable: sub_grade_A3         Importance: 0.0\n",
      "Variable: sub_grade_A4         Importance: 0.0\n",
      "Variable: sub_grade_A5         Importance: 0.0\n",
      "Variable: sub_grade_B1         Importance: 0.0\n",
      "Variable: sub_grade_B2         Importance: 0.0\n",
      "Variable: sub_grade_B3         Importance: 0.0\n",
      "Variable: sub_grade_B4         Importance: 0.0\n",
      "Variable: sub_grade_B5         Importance: 0.0\n",
      "Variable: sub_grade_C3         Importance: 0.0\n",
      "Variable: sub_grade_C4         Importance: 0.0\n",
      "Variable: sub_grade_C5         Importance: 0.0\n",
      "Variable: sub_grade_D1         Importance: 0.0\n",
      "Variable: sub_grade_D2         Importance: 0.0\n",
      "Variable: sub_grade_D3         Importance: 0.0\n",
      "Variable: sub_grade_D4         Importance: 0.0\n",
      "Variable: sub_grade_E1         Importance: 0.0\n",
      "Variable: sub_grade_E2         Importance: 0.0\n",
      "Variable: sub_grade_E3         Importance: 0.0\n",
      "Variable: sub_grade_E4         Importance: 0.0\n",
      "Variable: sub_grade_E5         Importance: 0.0\n",
      "Variable: sub_grade_F1         Importance: 0.0\n",
      "Variable: sub_grade_F2         Importance: 0.0\n",
      "Variable: sub_grade_F3         Importance: 0.0\n",
      "Variable: sub_grade_F5         Importance: 0.0\n",
      "Variable: sub_grade_G2         Importance: 0.0\n",
      "Variable: sub_grade_G3         Importance: 0.0\n",
      "Variable: zip_code_012xx       Importance: 0.0\n",
      "Variable: zip_code_016xx       Importance: 0.0\n",
      "Variable: zip_code_019xx       Importance: 0.0\n",
      "Variable: zip_code_021xx       Importance: 0.0\n",
      "Variable: zip_code_023xx       Importance: 0.0\n",
      "Variable: zip_code_024xx       Importance: 0.0\n",
      "Variable: zip_code_026xx       Importance: 0.0\n",
      "Variable: zip_code_027xx       Importance: 0.0\n",
      "Variable: zip_code_028xx       Importance: 0.0\n",
      "Variable: zip_code_029xx       Importance: 0.0\n",
      "Variable: zip_code_031xx       Importance: 0.0\n",
      "Variable: zip_code_032xx       Importance: 0.0\n",
      "Variable: zip_code_038xx       Importance: 0.0\n",
      "Variable: zip_code_040xx       Importance: 0.0\n",
      "Variable: zip_code_042xx       Importance: 0.0\n",
      "Variable: zip_code_054xx       Importance: 0.0\n",
      "Variable: zip_code_057xx       Importance: 0.0\n",
      "Variable: zip_code_058xx       Importance: 0.0\n",
      "Variable: zip_code_060xx       Importance: 0.0\n",
      "Variable: zip_code_064xx       Importance: 0.0\n",
      "Variable: zip_code_065xx       Importance: 0.0\n",
      "Variable: zip_code_066xx       Importance: 0.0\n",
      "Variable: zip_code_067xx       Importance: 0.0\n",
      "Variable: zip_code_068xx       Importance: 0.0\n",
      "Variable: zip_code_070xx       Importance: 0.0\n",
      "Variable: zip_code_073xx       Importance: 0.0\n",
      "Variable: zip_code_075xx       Importance: 0.0\n",
      "Variable: zip_code_076xx       Importance: 0.0\n",
      "Variable: zip_code_077xx       Importance: 0.0\n",
      "Variable: zip_code_080xx       Importance: 0.0\n",
      "Variable: zip_code_081xx       Importance: 0.0\n",
      "Variable: zip_code_082xx       Importance: 0.0\n",
      "Variable: zip_code_083xx       Importance: 0.0\n",
      "Variable: zip_code_085xx       Importance: 0.0\n",
      "Variable: zip_code_086xx       Importance: 0.0\n",
      "Variable: zip_code_087xx       Importance: 0.0\n",
      "Variable: zip_code_088xx       Importance: 0.0\n",
      "Variable: zip_code_100xx       Importance: 0.0\n",
      "Variable: zip_code_101xx       Importance: 0.0\n",
      "Variable: zip_code_103xx       Importance: 0.0\n",
      "Variable: zip_code_104xx       Importance: 0.0\n",
      "Variable: zip_code_105xx       Importance: 0.0\n",
      "Variable: zip_code_106xx       Importance: 0.0\n",
      "Variable: zip_code_108xx       Importance: 0.0\n",
      "Variable: zip_code_109xx       Importance: 0.0\n",
      "Variable: zip_code_110xx       Importance: 0.0\n",
      "Variable: zip_code_111xx       Importance: 0.0\n",
      "Variable: zip_code_112xx       Importance: 0.0\n",
      "Variable: zip_code_113xx       Importance: 0.0\n",
      "Variable: zip_code_114xx       Importance: 0.0\n",
      "Variable: zip_code_115xx       Importance: 0.0\n",
      "Variable: zip_code_117xx       Importance: 0.0\n",
      "Variable: zip_code_119xx       Importance: 0.0\n",
      "Variable: zip_code_121xx       Importance: 0.0\n",
      "Variable: zip_code_122xx       Importance: 0.0\n",
      "Variable: zip_code_123xx       Importance: 0.0\n",
      "Variable: zip_code_124xx       Importance: 0.0\n",
      "Variable: zip_code_129xx       Importance: 0.0\n",
      "Variable: zip_code_130xx       Importance: 0.0\n",
      "Variable: zip_code_132xx       Importance: 0.0\n",
      "Variable: zip_code_133xx       Importance: 0.0\n",
      "Variable: zip_code_138xx       Importance: 0.0\n",
      "Variable: zip_code_140xx       Importance: 0.0\n",
      "Variable: zip_code_142xx       Importance: 0.0\n",
      "Variable: zip_code_144xx       Importance: 0.0\n",
      "Variable: zip_code_147xx       Importance: 0.0\n",
      "Variable: zip_code_150xx       Importance: 0.0\n",
      "Variable: zip_code_151xx       Importance: 0.0\n",
      "Variable: zip_code_152xx       Importance: 0.0\n",
      "Variable: zip_code_153xx       Importance: 0.0\n",
      "Variable: zip_code_155xx       Importance: 0.0\n",
      "Variable: zip_code_156xx       Importance: 0.0\n",
      "Variable: zip_code_157xx       Importance: 0.0\n",
      "Variable: zip_code_158xx       Importance: 0.0\n",
      "Variable: zip_code_160xx       Importance: 0.0\n",
      "Variable: zip_code_169xx       Importance: 0.0\n",
      "Variable: zip_code_176xx       Importance: 0.0\n",
      "Variable: zip_code_178xx       Importance: 0.0\n",
      "Variable: zip_code_180xx       Importance: 0.0\n",
      "Variable: zip_code_182xx       Importance: 0.0\n",
      "Variable: zip_code_185xx       Importance: 0.0\n",
      "Variable: zip_code_187xx       Importance: 0.0\n",
      "Variable: zip_code_188xx       Importance: 0.0\n",
      "Variable: zip_code_189xx       Importance: 0.0\n",
      "Variable: zip_code_190xx       Importance: 0.0\n",
      "Variable: zip_code_191xx       Importance: 0.0\n",
      "Variable: zip_code_193xx       Importance: 0.0\n",
      "Variable: zip_code_194xx       Importance: 0.0\n",
      "Variable: zip_code_196xx       Importance: 0.0\n",
      "Variable: zip_code_197xx       Importance: 0.0\n",
      "Variable: zip_code_199xx       Importance: 0.0\n",
      "Variable: zip_code_200xx       Importance: 0.0\n",
      "Variable: zip_code_201xx       Importance: 0.0\n",
      "Variable: zip_code_206xx       Importance: 0.0\n",
      "Variable: zip_code_207xx       Importance: 0.0\n",
      "Variable: zip_code_208xx       Importance: 0.0\n",
      "Variable: zip_code_209xx       Importance: 0.0\n",
      "Variable: zip_code_210xx       Importance: 0.0\n",
      "Variable: zip_code_211xx       Importance: 0.0\n",
      "Variable: zip_code_212xx       Importance: 0.0\n",
      "Variable: zip_code_214xx       Importance: 0.0\n",
      "Variable: zip_code_216xx       Importance: 0.0\n",
      "Variable: zip_code_217xx       Importance: 0.0\n",
      "Variable: zip_code_220xx       Importance: 0.0\n",
      "Variable: zip_code_224xx       Importance: 0.0\n",
      "Variable: zip_code_226xx       Importance: 0.0\n",
      "Variable: zip_code_232xx       Importance: 0.0\n",
      "Variable: zip_code_234xx       Importance: 0.0\n",
      "Variable: zip_code_237xx       Importance: 0.0\n",
      "Variable: zip_code_240xx       Importance: 0.0\n",
      "Variable: zip_code_242xx       Importance: 0.0\n",
      "Variable: zip_code_243xx       Importance: 0.0\n",
      "Variable: zip_code_244xx       Importance: 0.0\n",
      "Variable: zip_code_275xx       Importance: 0.0\n",
      "Variable: zip_code_276xx       Importance: 0.0\n",
      "Variable: zip_code_280xx       Importance: 0.0\n",
      "Variable: zip_code_281xx       Importance: 0.0\n",
      "Variable: zip_code_282xx       Importance: 0.0\n",
      "Variable: zip_code_283xx       Importance: 0.0\n",
      "Variable: zip_code_284xx       Importance: 0.0\n",
      "Variable: zip_code_285xx       Importance: 0.0\n",
      "Variable: zip_code_286xx       Importance: 0.0\n",
      "Variable: zip_code_287xx       Importance: 0.0\n",
      "Variable: zip_code_290xx       Importance: 0.0\n",
      "Variable: zip_code_291xx       Importance: 0.0\n",
      "Variable: zip_code_293xx       Importance: 0.0\n",
      "Variable: zip_code_294xx       Importance: 0.0\n",
      "Variable: zip_code_295xx       Importance: 0.0\n",
      "Variable: zip_code_296xx       Importance: 0.0\n",
      "Variable: zip_code_297xx       Importance: 0.0\n",
      "Variable: zip_code_300xx       Importance: 0.0\n",
      "Variable: zip_code_301xx       Importance: 0.0\n",
      "Variable: zip_code_302xx       Importance: 0.0\n",
      "Variable: zip_code_303xx       Importance: 0.0\n",
      "Variable: zip_code_304xx       Importance: 0.0\n",
      "Variable: zip_code_305xx       Importance: 0.0\n",
      "Variable: zip_code_307xx       Importance: 0.0\n",
      "Variable: zip_code_310xx       Importance: 0.0\n",
      "Variable: zip_code_313xx       Importance: 0.0\n",
      "Variable: zip_code_314xx       Importance: 0.0\n",
      "Variable: zip_code_315xx       Importance: 0.0\n",
      "Variable: zip_code_318xx       Importance: 0.0\n",
      "Variable: zip_code_320xx       Importance: 0.0\n",
      "Variable: zip_code_321xx       Importance: 0.0\n",
      "Variable: zip_code_322xx       Importance: 0.0\n",
      "Variable: zip_code_323xx       Importance: 0.0\n",
      "Variable: zip_code_324xx       Importance: 0.0\n",
      "Variable: zip_code_325xx       Importance: 0.0\n",
      "Variable: zip_code_326xx       Importance: 0.0\n",
      "Variable: zip_code_327xx       Importance: 0.0\n",
      "Variable: zip_code_328xx       Importance: 0.0\n",
      "Variable: zip_code_329xx       Importance: 0.0\n",
      "Variable: zip_code_330xx       Importance: 0.0\n",
      "Variable: zip_code_331xx       Importance: 0.0\n",
      "Variable: zip_code_333xx       Importance: 0.0\n",
      "Variable: zip_code_334xx       Importance: 0.0\n",
      "Variable: zip_code_335xx       Importance: 0.0\n",
      "Variable: zip_code_336xx       Importance: 0.0\n",
      "Variable: zip_code_337xx       Importance: 0.0\n",
      "Variable: zip_code_338xx       Importance: 0.0\n",
      "Variable: zip_code_339xx       Importance: 0.0\n",
      "Variable: zip_code_341xx       Importance: 0.0\n",
      "Variable: zip_code_342xx       Importance: 0.0\n",
      "Variable: zip_code_346xx       Importance: 0.0\n",
      "Variable: zip_code_347xx       Importance: 0.0\n",
      "Variable: zip_code_349xx       Importance: 0.0\n",
      "Variable: zip_code_351xx       Importance: 0.0\n",
      "Variable: zip_code_352xx       Importance: 0.0\n",
      "Variable: zip_code_356xx       Importance: 0.0\n",
      "Variable: zip_code_357xx       Importance: 0.0\n",
      "Variable: zip_code_358xx       Importance: 0.0\n",
      "Variable: zip_code_359xx       Importance: 0.0\n",
      "Variable: zip_code_360xx       Importance: 0.0\n",
      "Variable: zip_code_361xx       Importance: 0.0\n",
      "Variable: zip_code_366xx       Importance: 0.0\n",
      "Variable: zip_code_367xx       Importance: 0.0\n",
      "Variable: zip_code_368xx       Importance: 0.0\n",
      "Variable: zip_code_370xx       Importance: 0.0\n",
      "Variable: zip_code_372xx       Importance: 0.0\n",
      "Variable: zip_code_373xx       Importance: 0.0\n",
      "Variable: zip_code_374xx       Importance: 0.0\n",
      "Variable: zip_code_378xx       Importance: 0.0\n",
      "Variable: zip_code_379xx       Importance: 0.0\n",
      "Variable: zip_code_380xx       Importance: 0.0\n",
      "Variable: zip_code_381xx       Importance: 0.0\n",
      "Variable: zip_code_383xx       Importance: 0.0\n",
      "Variable: zip_code_384xx       Importance: 0.0\n",
      "Variable: zip_code_386xx       Importance: 0.0\n",
      "Variable: zip_code_388xx       Importance: 0.0\n",
      "Variable: zip_code_390xx       Importance: 0.0\n",
      "Variable: zip_code_395xx       Importance: 0.0\n",
      "Variable: zip_code_397xx       Importance: 0.0\n",
      "Variable: zip_code_400xx       Importance: 0.0\n",
      "Variable: zip_code_402xx       Importance: 0.0\n",
      "Variable: zip_code_405xx       Importance: 0.0\n",
      "Variable: zip_code_410xx       Importance: 0.0\n",
      "Variable: zip_code_420xx       Importance: 0.0\n",
      "Variable: zip_code_430xx       Importance: 0.0\n",
      "Variable: zip_code_431xx       Importance: 0.0\n",
      "Variable: zip_code_432xx       Importance: 0.0\n",
      "Variable: zip_code_433xx       Importance: 0.0\n",
      "Variable: zip_code_434xx       Importance: 0.0\n",
      "Variable: zip_code_435xx       Importance: 0.0\n",
      "Variable: zip_code_440xx       Importance: 0.0\n",
      "Variable: zip_code_441xx       Importance: 0.0\n",
      "Variable: zip_code_442xx       Importance: 0.0\n",
      "Variable: zip_code_444xx       Importance: 0.0\n",
      "Variable: zip_code_447xx       Importance: 0.0\n",
      "Variable: zip_code_450xx       Importance: 0.0\n",
      "Variable: zip_code_451xx       Importance: 0.0\n",
      "Variable: zip_code_454xx       Importance: 0.0\n",
      "Variable: zip_code_456xx       Importance: 0.0\n",
      "Variable: zip_code_457xx       Importance: 0.0\n",
      "Variable: zip_code_458xx       Importance: 0.0\n",
      "Variable: zip_code_460xx       Importance: 0.0\n",
      "Variable: zip_code_461xx       Importance: 0.0\n",
      "Variable: zip_code_462xx       Importance: 0.0\n",
      "Variable: zip_code_463xx       Importance: 0.0\n",
      "Variable: zip_code_467xx       Importance: 0.0\n",
      "Variable: zip_code_471xx       Importance: 0.0\n",
      "Variable: zip_code_473xx       Importance: 0.0\n",
      "Variable: zip_code_476xx       Importance: 0.0\n",
      "Variable: zip_code_480xx       Importance: 0.0\n",
      "Variable: zip_code_481xx       Importance: 0.0\n",
      "Variable: zip_code_482xx       Importance: 0.0\n",
      "Variable: zip_code_483xx       Importance: 0.0\n",
      "Variable: zip_code_486xx       Importance: 0.0\n",
      "Variable: zip_code_488xx       Importance: 0.0\n",
      "Variable: zip_code_490xx       Importance: 0.0\n",
      "Variable: zip_code_531xx       Importance: 0.0\n",
      "Variable: zip_code_532xx       Importance: 0.0\n",
      "Variable: zip_code_535xx       Importance: 0.0\n",
      "Variable: zip_code_537xx       Importance: 0.0\n",
      "Variable: zip_code_540xx       Importance: 0.0\n",
      "Variable: zip_code_542xx       Importance: 0.0\n",
      "Variable: zip_code_547xx       Importance: 0.0\n",
      "Variable: zip_code_549xx       Importance: 0.0\n",
      "Variable: zip_code_550xx       Importance: 0.0\n",
      "Variable: zip_code_551xx       Importance: 0.0\n",
      "Variable: zip_code_553xx       Importance: 0.0\n",
      "Variable: zip_code_554xx       Importance: 0.0\n",
      "Variable: zip_code_560xx       Importance: 0.0\n",
      "Variable: zip_code_564xx       Importance: 0.0\n",
      "Variable: zip_code_565xx       Importance: 0.0\n",
      "Variable: zip_code_567xx       Importance: 0.0\n",
      "Variable: zip_code_573xx       Importance: 0.0\n",
      "Variable: zip_code_577xx       Importance: 0.0\n",
      "Variable: zip_code_582xx       Importance: 0.0\n",
      "Variable: zip_code_587xx       Importance: 0.0\n",
      "Variable: zip_code_593xx       Importance: 0.0\n",
      "Variable: zip_code_596xx       Importance: 0.0\n",
      "Variable: zip_code_599xx       Importance: 0.0\n",
      "Variable: zip_code_600xx       Importance: 0.0\n",
      "Variable: zip_code_601xx       Importance: 0.0\n",
      "Variable: zip_code_604xx       Importance: 0.0\n",
      "Variable: zip_code_605xx       Importance: 0.0\n",
      "Variable: zip_code_606xx       Importance: 0.0\n",
      "Variable: zip_code_607xx       Importance: 0.0\n",
      "Variable: zip_code_609xx       Importance: 0.0\n",
      "Variable: zip_code_610xx       Importance: 0.0\n",
      "Variable: zip_code_612xx       Importance: 0.0\n",
      "Variable: zip_code_614xx       Importance: 0.0\n",
      "Variable: zip_code_615xx       Importance: 0.0\n",
      "Variable: zip_code_617xx       Importance: 0.0\n",
      "Variable: zip_code_623xx       Importance: 0.0\n",
      "Variable: zip_code_627xx       Importance: 0.0\n",
      "Variable: zip_code_630xx       Importance: 0.0\n",
      "Variable: zip_code_631xx       Importance: 0.0\n",
      "Variable: zip_code_633xx       Importance: 0.0\n",
      "Variable: zip_code_640xx       Importance: 0.0\n",
      "Variable: zip_code_641xx       Importance: 0.0\n",
      "Variable: zip_code_650xx       Importance: 0.0\n",
      "Variable: zip_code_652xx       Importance: 0.0\n",
      "Variable: zip_code_655xx       Importance: 0.0\n",
      "Variable: zip_code_657xx       Importance: 0.0\n",
      "Variable: zip_code_660xx       Importance: 0.0\n",
      "Variable: zip_code_662xx       Importance: 0.0\n",
      "Variable: zip_code_669xx       Importance: 0.0\n",
      "Variable: zip_code_672xx       Importance: 0.0\n",
      "Variable: zip_code_681xx       Importance: 0.0\n",
      "Variable: zip_code_687xx       Importance: 0.0\n",
      "Variable: zip_code_689xx       Importance: 0.0\n",
      "Variable: zip_code_701xx       Importance: 0.0\n",
      "Variable: zip_code_703xx       Importance: 0.0\n",
      "Variable: zip_code_704xx       Importance: 0.0\n",
      "Variable: zip_code_705xx       Importance: 0.0\n",
      "Variable: zip_code_711xx       Importance: 0.0\n",
      "Variable: zip_code_717xx       Importance: 0.0\n",
      "Variable: zip_code_718xx       Importance: 0.0\n",
      "Variable: zip_code_720xx       Importance: 0.0\n",
      "Variable: zip_code_721xx       Importance: 0.0\n",
      "Variable: zip_code_724xx       Importance: 0.0\n",
      "Variable: zip_code_731xx       Importance: 0.0\n",
      "Variable: zip_code_734xx       Importance: 0.0\n",
      "Variable: zip_code_736xx       Importance: 0.0\n",
      "Variable: zip_code_744xx       Importance: 0.0\n",
      "Variable: zip_code_747xx       Importance: 0.0\n",
      "Variable: zip_code_750xx       Importance: 0.0\n",
      "Variable: zip_code_751xx       Importance: 0.0\n",
      "Variable: zip_code_752xx       Importance: 0.0\n",
      "Variable: zip_code_760xx       Importance: 0.0\n",
      "Variable: zip_code_761xx       Importance: 0.0\n",
      "Variable: zip_code_763xx       Importance: 0.0\n",
      "Variable: zip_code_765xx       Importance: 0.0\n",
      "Variable: zip_code_767xx       Importance: 0.0\n",
      "Variable: zip_code_768xx       Importance: 0.0\n",
      "Variable: zip_code_770xx       Importance: 0.0\n",
      "Variable: zip_code_773xx       Importance: 0.0\n",
      "Variable: zip_code_774xx       Importance: 0.0\n",
      "Variable: zip_code_775xx       Importance: 0.0\n",
      "Variable: zip_code_777xx       Importance: 0.0\n",
      "Variable: zip_code_781xx       Importance: 0.0\n",
      "Variable: zip_code_782xx       Importance: 0.0\n",
      "Variable: zip_code_784xx       Importance: 0.0\n",
      "Variable: zip_code_785xx       Importance: 0.0\n",
      "Variable: zip_code_786xx       Importance: 0.0\n",
      "Variable: zip_code_787xx       Importance: 0.0\n",
      "Variable: zip_code_789xx       Importance: 0.0\n",
      "Variable: zip_code_793xx       Importance: 0.0\n",
      "Variable: zip_code_794xx       Importance: 0.0\n",
      "Variable: zip_code_797xx       Importance: 0.0\n",
      "Variable: zip_code_800xx       Importance: 0.0\n",
      "Variable: zip_code_801xx       Importance: 0.0\n",
      "Variable: zip_code_802xx       Importance: 0.0\n",
      "Variable: zip_code_805xx       Importance: 0.0\n",
      "Variable: zip_code_808xx       Importance: 0.0\n",
      "Variable: zip_code_809xx       Importance: 0.0\n",
      "Variable: zip_code_813xx       Importance: 0.0\n",
      "Variable: zip_code_815xx       Importance: 0.0\n",
      "Variable: zip_code_816xx       Importance: 0.0\n",
      "Variable: zip_code_820xx       Importance: 0.0\n",
      "Variable: zip_code_822xx       Importance: 0.0\n",
      "Variable: zip_code_826xx       Importance: 0.0\n",
      "Variable: zip_code_837xx       Importance: 0.0\n",
      "Variable: zip_code_840xx       Importance: 0.0\n",
      "Variable: zip_code_841xx       Importance: 0.0\n",
      "Variable: zip_code_846xx       Importance: 0.0\n",
      "Variable: zip_code_847xx       Importance: 0.0\n",
      "Variable: zip_code_850xx       Importance: 0.0\n",
      "Variable: zip_code_851xx       Importance: 0.0\n",
      "Variable: zip_code_852xx       Importance: 0.0\n",
      "Variable: zip_code_853xx       Importance: 0.0\n",
      "Variable: zip_code_855xx       Importance: 0.0\n",
      "Variable: zip_code_856xx       Importance: 0.0\n",
      "Variable: zip_code_857xx       Importance: 0.0\n",
      "Variable: zip_code_864xx       Importance: 0.0\n",
      "Variable: zip_code_882xx       Importance: 0.0\n",
      "Variable: zip_code_890xx       Importance: 0.0\n",
      "Variable: zip_code_891xx       Importance: 0.0\n",
      "Variable: zip_code_894xx       Importance: 0.0\n",
      "Variable: zip_code_895xx       Importance: 0.0\n",
      "Variable: zip_code_900xx       Importance: 0.0\n",
      "Variable: zip_code_902xx       Importance: 0.0\n",
      "Variable: zip_code_906xx       Importance: 0.0\n",
      "Variable: zip_code_907xx       Importance: 0.0\n",
      "Variable: zip_code_908xx       Importance: 0.0\n",
      "Variable: zip_code_910xx       Importance: 0.0\n",
      "Variable: zip_code_913xx       Importance: 0.0\n",
      "Variable: zip_code_915xx       Importance: 0.0\n",
      "Variable: zip_code_917xx       Importance: 0.0\n",
      "Variable: zip_code_919xx       Importance: 0.0\n",
      "Variable: zip_code_920xx       Importance: 0.0\n",
      "Variable: zip_code_921xx       Importance: 0.0\n",
      "Variable: zip_code_922xx       Importance: 0.0\n",
      "Variable: zip_code_923xx       Importance: 0.0\n",
      "Variable: zip_code_925xx       Importance: 0.0\n",
      "Variable: zip_code_926xx       Importance: 0.0\n",
      "Variable: zip_code_927xx       Importance: 0.0\n",
      "Variable: zip_code_928xx       Importance: 0.0\n",
      "Variable: zip_code_930xx       Importance: 0.0\n",
      "Variable: zip_code_931xx       Importance: 0.0\n",
      "Variable: zip_code_932xx       Importance: 0.0\n",
      "Variable: zip_code_933xx       Importance: 0.0\n",
      "Variable: zip_code_934xx       Importance: 0.0\n",
      "Variable: zip_code_935xx       Importance: 0.0\n",
      "Variable: zip_code_937xx       Importance: 0.0\n",
      "Variable: zip_code_939xx       Importance: 0.0\n",
      "Variable: zip_code_940xx       Importance: 0.0\n",
      "Variable: zip_code_941xx       Importance: 0.0\n",
      "Variable: zip_code_943xx       Importance: 0.0\n",
      "Variable: zip_code_945xx       Importance: 0.0\n",
      "Variable: zip_code_949xx       Importance: 0.0\n",
      "Variable: zip_code_950xx       Importance: 0.0\n",
      "Variable: zip_code_952xx       Importance: 0.0\n",
      "Variable: zip_code_953xx       Importance: 0.0\n",
      "Variable: zip_code_954xx       Importance: 0.0\n",
      "Variable: zip_code_955xx       Importance: 0.0\n",
      "Variable: zip_code_956xx       Importance: 0.0\n",
      "Variable: zip_code_957xx       Importance: 0.0\n",
      "Variable: zip_code_958xx       Importance: 0.0\n",
      "Variable: zip_code_959xx       Importance: 0.0\n",
      "Variable: zip_code_967xx       Importance: 0.0\n",
      "Variable: zip_code_968xx       Importance: 0.0\n",
      "Variable: zip_code_970xx       Importance: 0.0\n",
      "Variable: zip_code_971xx       Importance: 0.0\n",
      "Variable: zip_code_972xx       Importance: 0.0\n",
      "Variable: zip_code_973xx       Importance: 0.0\n",
      "Variable: zip_code_974xx       Importance: 0.0\n",
      "Variable: zip_code_976xx       Importance: 0.0\n",
      "Variable: zip_code_980xx       Importance: 0.0\n",
      "Variable: zip_code_981xx       Importance: 0.0\n",
      "Variable: zip_code_982xx       Importance: 0.0\n",
      "Variable: zip_code_983xx       Importance: 0.0\n",
      "Variable: zip_code_984xx       Importance: 0.0\n",
      "Variable: zip_code_986xx       Importance: 0.0\n",
      "Variable: zip_code_988xx       Importance: 0.0\n",
      "Variable: zip_code_993xx       Importance: 0.0\n",
      "Variable: zip_code_994xx       Importance: 0.0\n",
      "Variable: zip_code_996xx       Importance: 0.0\n",
      "Variable: zip_code_998xx       Importance: 0.0\n",
      "Variable: addr_state_AK        Importance: 0.0\n",
      "Variable: addr_state_AL        Importance: 0.0\n",
      "Variable: addr_state_AR        Importance: 0.0\n",
      "Variable: addr_state_AZ        Importance: 0.0\n",
      "Variable: addr_state_CA        Importance: 0.0\n",
      "Variable: addr_state_CO        Importance: 0.0\n",
      "Variable: addr_state_CT        Importance: 0.0\n",
      "Variable: addr_state_DC        Importance: 0.0\n",
      "Variable: addr_state_DE        Importance: 0.0\n",
      "Variable: addr_state_FL        Importance: 0.0\n",
      "Variable: addr_state_GA        Importance: 0.0\n",
      "Variable: addr_state_HI        Importance: 0.0\n",
      "Variable: addr_state_ID        Importance: 0.0\n",
      "Variable: addr_state_IL        Importance: 0.0\n",
      "Variable: addr_state_IN        Importance: 0.0\n",
      "Variable: addr_state_KS        Importance: 0.0\n",
      "Variable: addr_state_KY        Importance: 0.0\n",
      "Variable: addr_state_LA        Importance: 0.0\n",
      "Variable: addr_state_MA        Importance: 0.0\n",
      "Variable: addr_state_MD        Importance: 0.0\n",
      "Variable: addr_state_ME        Importance: 0.0\n",
      "Variable: addr_state_MI        Importance: 0.0\n",
      "Variable: addr_state_MN        Importance: 0.0\n",
      "Variable: addr_state_MO        Importance: 0.0\n",
      "Variable: addr_state_MS        Importance: 0.0\n",
      "Variable: addr_state_MT        Importance: 0.0\n",
      "Variable: addr_state_NC        Importance: 0.0\n",
      "Variable: addr_state_ND        Importance: 0.0\n",
      "Variable: addr_state_NE        Importance: 0.0\n",
      "Variable: addr_state_NH        Importance: 0.0\n",
      "Variable: addr_state_NJ        Importance: 0.0\n",
      "Variable: addr_state_NM        Importance: 0.0\n",
      "Variable: addr_state_NV        Importance: 0.0\n",
      "Variable: addr_state_NY        Importance: 0.0\n",
      "Variable: addr_state_OH        Importance: 0.0\n",
      "Variable: addr_state_OK        Importance: 0.0\n",
      "Variable: addr_state_OR        Importance: 0.0\n",
      "Variable: addr_state_PA        Importance: 0.0\n",
      "Variable: addr_state_RI        Importance: 0.0\n",
      "Variable: addr_state_SC        Importance: 0.0\n",
      "Variable: addr_state_SD        Importance: 0.0\n",
      "Variable: addr_state_TN        Importance: 0.0\n",
      "Variable: addr_state_TX        Importance: 0.0\n",
      "Variable: addr_state_UT        Importance: 0.0\n",
      "Variable: addr_state_VA        Importance: 0.0\n",
      "Variable: addr_state_VT        Importance: 0.0\n",
      "Variable: addr_state_WA        Importance: 0.0\n",
      "Variable: addr_state_WI        Importance: 0.0\n",
      "Variable: addr_state_WY        Importance: 0.0\n",
      "Variable: title_Business       Importance: 0.0\n",
      "Variable: title_Car financing  Importance: 0.0\n",
      "Variable: title_Credit card refinancing Importance: 0.0\n",
      "Variable: title_Debt consolidation Importance: 0.0\n",
      "Variable: title_Home buying    Importance: 0.0\n",
      "Variable: title_Home improvement Importance: 0.0\n",
      "Variable: title_Major purchase Importance: 0.0\n",
      "Variable: title_Medical expenses Importance: 0.0\n",
      "Variable: title_Moving and relocation Importance: 0.0\n",
      "Variable: title_Other          Importance: 0.0\n",
      "Variable: title_Vacation       Importance: 0.0\n",
      "Variable: verification_status_Source Verified Importance: 0.0\n",
      "Variable: verification_status_Verified Importance: 0.0\n"
     ]
    }
   ],
   "source": [
    "feature_list = list(LC_train_x.columns)\n",
    "\n",
    "# Get numerical feature importances\n",
    "importances = list(rf.feature_importances_)\n",
    "# List of tuples with variable and importance\n",
    "feature_importances = [(feature, round(importance, 2)) for feature, importance in zip(feature_list, importances)]\n",
    "# Sort the feature importances by most important first\n",
    "feature_importances = sorted(feature_importances, key = lambda x: x[1], reverse = True)\n",
    "# Print out the feature and importances \n",
    "[print('Variable: {:20} Importance: {}'.format(*pair)) for pair in feature_importances];"
   ]
  },
  {
   "cell_type": "code",
   "execution_count": 173,
   "metadata": {},
   "outputs": [
    {
     "data": {
      "image/png": "[encoded data removed]",
      "text/plain": [
       "<Figure size 432x288 with 1 Axes>"
      ]
     },
     "metadata": {},
     "output_type": "display_data"
    }
   ],
   "source": [
    "import matplotlib.pyplot as plt\n",
    "%matplotlib inline\n",
    "# Set the style\n",
    "plt.style.use('fivethirtyeight')\n",
    "# list of x locations for plotting\n",
    "x_values = list(range(len(importances)))\n",
    "# Make a bar chart\n",
    "plt.bar(x_values, importances, orientation = 'vertical')\n",
    "# Tick labels for x axis\n",
    "plt.xticks(x_values, feature_list, rotation='vertical')\n",
    "# Axis labels and title\n",
    "plt.ylabel('Importance'); plt.xlabel('Variable'); plt.title('Variable Importances');"
   ]
  },
  {
   "cell_type": "code",
   "execution_count": null,
   "metadata": {},
   "outputs": [],
   "source": [
    "import matplotlib.pyplot as plt\n",
    "import seaborn as sns\n",
    "\n",
    "sns.set(style=\"whitegrid\")\n",
    "\n",
    "ax = sns.boxplot(x=LC_train_x['int_rate'])\n",
    "\n",
    "ax = sns.boxplot(x=\"grade\", y=\"int_rate\", data=LC_train_x)"
   ]
  },
  {
   "cell_type": "markdown",
   "metadata": {},
   "source": [
    "### 62 false positives"
   ]
  },
  {
   "cell_type": "code",
   "execution_count": 152,
   "metadata": {},
   "outputs": [
    {
     "name": "stdout",
     "output_type": "stream",
     "text": [
      "Mean Absolute Error: 0.49 %.\n"
     ]
    }
   ],
   "source": [
    "errors = abs(predictions - test_labels)\n",
    "\n",
    "# Print out the mean absolute error (mae)\n",
    "print('Mean Absolute Error:', round(np.mean(errors), 2), '%.')"
   ]
  },
  {
   "cell_type": "markdown",
   "metadata": {},
   "source": [
    "### that is not good"
   ]
  },
  {
   "cell_type": "markdown",
   "metadata": {},
   "source": [
    "### Appendix A - feature EDA"
   ]
  },
  {
   "cell_type": "code",
   "execution_count": 67,
   "metadata": {},
   "outputs": [
    {
     "data": {
      "text/plain": [
       "11.49    90\n",
       "12.74    76\n",
       "8.24     71\n",
       "15.99    70\n",
       "13.49    62\n",
       "11.44    62\n",
       "10.49    61\n",
       "14.99    58\n",
       "11.39    54\n",
       "13.99    54\n",
       "5.32     53\n",
       "7.49     43\n",
       "18.99    38\n",
       "7.99     36\n",
       "6.99     34\n",
       "16.99    32\n",
       "7.24     20\n",
       "17.99    19\n",
       "19.99    14\n",
       "22.74    12\n",
       "23.99    11\n",
       "25.49     9\n",
       "28.69     5\n",
       "24.74     4\n",
       "29.99     4\n",
       "26.24     2\n",
       "29.49     1\n",
       "30.74     1\n",
       "30.89     1\n",
       "30.84     1\n",
       "Name: int_rate, dtype: int64"
      ]
     },
     "execution_count": 67,
     "metadata": {},
     "output_type": "execute_result"
    }
   ],
   "source": [
    "# LC_raw['int_rate'].head()\n",
    "\n",
    "LC_raw['int_rate'] = LC_raw['int_rate'].str.replace('%','',regex=False).astype(float)\n",
    "LC_raw['int_rate'].value_counts()"
   ]
  },
  {
   "cell_type": "code",
   "execution_count": 69,
   "metadata": {},
   "outputs": [
    {
     "data": {
      "text/plain": [
       "0"
      ]
     },
     "execution_count": 69,
     "metadata": {},
     "output_type": "execute_result"
    }
   ],
   "source": [
    "LC_raw['int_rate'].isna().sum()"
   ]
  },
  {
   "cell_type": "code",
   "execution_count": 70,
   "metadata": {},
   "outputs": [
    {
     "data": {
      "text/plain": [
       " 36 months    756\n",
       " 60 months    242\n",
       "Name: term, dtype: int64"
      ]
     },
     "execution_count": 70,
     "metadata": {},
     "output_type": "execute_result"
    }
   ],
   "source": [
    " # LC_raw['int_rate'].head()\n",
    "LC_raw['term'].value_counts()"
   ]
  },
  {
   "cell_type": "code",
   "execution_count": 71,
   "metadata": {},
   "outputs": [
    {
     "data": {
      "text/plain": [
       "0"
      ]
     },
     "execution_count": 71,
     "metadata": {},
     "output_type": "execute_result"
    }
   ],
   "source": [
    "LC_raw['term'].isna().sum()"
   ]
  },
  {
   "cell_type": "code",
   "execution_count": 75,
   "metadata": {},
   "outputs": [
    {
     "data": {
      "text/plain": [
       "<matplotlib.axes._subplots.AxesSubplot at 0x7f4a53f283d0>"
      ]
     },
     "execution_count": 75,
     "metadata": {},
     "output_type": "execute_result"
    },
    {
     "data": {
      "image/png": "[encoded data removed]",
      "text/plain": [
       "<Figure size 432x288 with 1 Axes>"
      ]
     },
     "metadata": {
      "needs_background": "light"
     },
     "output_type": "display_data"
    }
   ],
   "source": [
    "LC_raw['annual_inc'][LC_raw.annual_inc < 300000].plot.hist()"
   ]
  },
  {
   "cell_type": "code",
   "execution_count": 73,
   "metadata": {},
   "outputs": [
    {
     "data": {
      "text/plain": [
       "0"
      ]
     },
     "execution_count": 73,
     "metadata": {},
     "output_type": "execute_result"
    }
   ],
   "source": [
    "LC_raw['annual_inc'].isna().sum()"
   ]
  },
  {
   "cell_type": "code",
   "execution_count": 79,
   "metadata": {},
   "outputs": [
    {
     "data": {
      "text/plain": [
       "<matplotlib.axes._subplots.AxesSubplot at 0x7f4a529d4110>"
      ]
     },
     "execution_count": 79,
     "metadata": {},
     "output_type": "execute_result"
    },
    {
     "data": {
      "image/png": "[encoded data removed]",
      "text/plain": [
       "<Figure size 432x288 with 1 Axes>"
      ]
     },
     "metadata": {
      "needs_background": "light"
     },
     "output_type": "display_data"
    }
   ],
   "source": [
    "(LC_raw['annual_inc'][LC_raw.annual_inc < 300000]**(1/2)).plot.hist()"
   ]
  },
  {
   "cell_type": "code",
   "execution_count": 80,
   "metadata": {},
   "outputs": [
    {
     "data": {
      "text/plain": [
       "0    780\n",
       "1    148\n",
       "2     39\n",
       "3     14\n",
       "4      7\n",
       "6      6\n",
       "5      3\n",
       "7      1\n",
       "Name: delinq_2yrs, dtype: int64"
      ]
     },
     "execution_count": 80,
     "metadata": {},
     "output_type": "execute_result"
    }
   ],
   "source": [
    "LC_raw['delinq_2yrs'].value_counts()\n"
   ]
  },
  {
   "cell_type": "code",
   "execution_count": 83,
   "metadata": {},
   "outputs": [
    {
     "data": {
      "text/plain": [
       "<matplotlib.axes._subplots.AxesSubplot at 0x7f4a52952310>"
      ]
     },
     "execution_count": 83,
     "metadata": {},
     "output_type": "execute_result"
    },
    {
     "data": {
      "image/png": "[encoded data removed]",
      "text/plain": [
       "<Figure size 432x288 with 1 Axes>"
      ]
     },
     "metadata": {
      "needs_background": "light"
     },
     "output_type": "display_data"
    }
   ],
   "source": [
    "LC_raw['dti'].plot.hist()\n"
   ]
  },
  {
   "cell_type": "code",
   "execution_count": 69,
   "metadata": {},
   "outputs": [
    {
     "data": {
      "text/html": [
       "<div>\n",
       "<style scoped>\n",
       "    .dataframe tbody tr th:only-of-type {\n",
       "        vertical-align: middle;\n",
       "    }\n",
       "\n",
       "    .dataframe tbody tr th {\n",
       "        vertical-align: top;\n",
       "    }\n",
       "\n",
       "    .dataframe thead th {\n",
       "        text-align: right;\n",
       "    }\n",
       "</style>\n",
       "<table border=\"1\" class=\"dataframe\">\n",
       "  <thead>\n",
       "    <tr style=\"text-align: right;\">\n",
       "      <th></th>\n",
       "      <th>dti</th>\n",
       "      <th>loan_amnt</th>\n",
       "      <th>annual_inc</th>\n",
       "    </tr>\n",
       "  </thead>\n",
       "  <tbody>\n",
       "    <tr>\n",
       "      <th>482</th>\n",
       "      <td>NaN</td>\n",
       "      <td>12000</td>\n",
       "      <td>0.0</td>\n",
       "    </tr>\n",
       "    <tr>\n",
       "      <th>923</th>\n",
       "      <td>NaN</td>\n",
       "      <td>10000</td>\n",
       "      <td>0.0</td>\n",
       "    </tr>\n",
       "  </tbody>\n",
       "</table>\n",
       "</div>"
      ],
      "text/plain": [
       "     dti  loan_amnt  annual_inc\n",
       "482  NaN      12000         0.0\n",
       "923  NaN      10000         0.0"
      ]
     },
     "execution_count": 69,
     "metadata": {},
     "output_type": "execute_result"
    }
   ],
   "source": [
    "LC_raw[LC_raw.dti.isna() == True][['dti','loan_amnt','annual_inc']]"
   ]
  },
  {
   "cell_type": "code",
   "execution_count": 84,
   "metadata": {},
   "outputs": [
    {
     "data": {
      "text/plain": [
       "Jun-2003    10\n",
       "Apr-2004     9\n",
       "Feb-2002     9\n",
       "Dec-2001     8\n",
       "Feb-2007     8\n",
       "            ..\n",
       "Jun-2009     1\n",
       "Mar-1979     1\n",
       "Jun-1987     1\n",
       "Aug-1985     1\n",
       "May-1985     1\n",
       "Name: earliest_cr_line, Length: 339, dtype: int64"
      ]
     },
     "execution_count": 84,
     "metadata": {},
     "output_type": "execute_result"
    }
   ],
   "source": [
    "### TODO change this to recency\n",
    "\n",
    "LC_raw['earliest_cr_line'].value_counts()"
   ]
  },
  {
   "cell_type": "code",
   "execution_count": 86,
   "metadata": {},
   "outputs": [
    {
     "data": {
      "text/plain": [
       "10+ years    371\n",
       "3 years       90\n",
       "2 years       87\n",
       "< 1 year      64\n",
       "4 years       62\n",
       "1 year        59\n",
       "5 years       54\n",
       "6 years       41\n",
       "9 years       37\n",
       "8 years       32\n",
       "7 years       29\n",
       "Name: emp_length, dtype: int64"
      ]
     },
     "execution_count": 86,
     "metadata": {},
     "output_type": "execute_result"
    }
   ],
   "source": [
    "LC_raw['emp_length'].value_counts()"
   ]
  },
  {
   "cell_type": "code",
   "execution_count": 87,
   "metadata": {},
   "outputs": [
    {
     "data": {
      "text/plain": [
       "Manager                                  16\n",
       "Teacher                                  16\n",
       "Owner                                    10\n",
       "Driver                                   10\n",
       "Office Manager                            8\n",
       "                                         ..\n",
       "Benefit consultant                        1\n",
       "Medical Laboratory Technician             1\n",
       "Operations Services Senior Specialist     1\n",
       "GENERAL PARTNER                           1\n",
       "Consultant                                1\n",
       "Name: emp_title, Length: 746, dtype: int64"
      ]
     },
     "execution_count": 87,
     "metadata": {},
     "output_type": "execute_result"
    }
   ],
   "source": [
    "## embedding\n",
    "LC_raw['emp_title'].value_counts()"
   ]
  },
  {
   "cell_type": "code",
   "execution_count": 88,
   "metadata": {},
   "outputs": [
    {
     "data": {
      "text/plain": [
       "<matplotlib.axes._subplots.AxesSubplot at 0x7f4a528dcc90>"
      ]
     },
     "execution_count": 88,
     "metadata": {},
     "output_type": "execute_result"
    },
    {
     "data": {
      "image/png": "[encoded data removed]",
      "text/plain": [
       "<Figure size 432x288 with 1 Axes>"
      ]
     },
     "metadata": {
      "needs_background": "light"
     },
     "output_type": "display_data"
    }
   ],
   "source": [
    "LC_raw['fico_range_low'].plot.hist()"
   ]
  },
  {
   "cell_type": "code",
   "execution_count": 89,
   "metadata": {},
   "outputs": [
    {
     "data": {
      "text/plain": [
       "<matplotlib.axes._subplots.AxesSubplot at 0x7f4a528a56d0>"
      ]
     },
     "execution_count": 89,
     "metadata": {},
     "output_type": "execute_result"
    },
    {
     "data": {
      "image/png": "[encoded data removed]",
      "text/plain": [
       "<Figure size 432x288 with 1 Axes>"
      ]
     },
     "metadata": {
      "needs_background": "light"
     },
     "output_type": "display_data"
    }
   ],
   "source": [
    "LC_raw['fico_range_high'].plot.hist()"
   ]
  },
  {
   "cell_type": "code",
   "execution_count": 90,
   "metadata": {},
   "outputs": [
    {
     "data": {
      "text/plain": [
       "<matplotlib.axes._subplots.AxesSubplot at 0x7f4a562eaa10>"
      ]
     },
     "execution_count": 90,
     "metadata": {},
     "output_type": "execute_result"
    },
    {
     "data": {
      "image/png": "[encoded data removed]",
      "text/plain": [
       "<Figure size 432x288 with 1 Axes>"
      ]
     },
     "metadata": {
      "needs_background": "light"
     },
     "output_type": "display_data"
    }
   ],
   "source": [
    "LC_raw.plot.scatter(x='fico_range_low',y='fico_range_high')"
   ]
  },
  {
   "cell_type": "code",
   "execution_count": 91,
   "metadata": {},
   "outputs": [
    {
     "data": {
      "text/plain": [
       "B    338\n",
       "C    320\n",
       "A    186\n",
       "D    103\n",
       "E     38\n",
       "F     11\n",
       "G      2\n",
       "Name: grade, dtype: int64"
      ]
     },
     "execution_count": 91,
     "metadata": {},
     "output_type": "execute_result"
    }
   ],
   "source": [
    "LC_raw['grade'].value_counts()"
   ]
  },
  {
   "cell_type": "code",
   "execution_count": 92,
   "metadata": {},
   "outputs": [
    {
     "data": {
      "text/plain": [
       "B5    90\n",
       "C1    76\n",
       "B1    71\n",
       "C5    70\n",
       "B4    62\n",
       "C2    62\n",
       "B2    61\n",
       "C4    58\n",
       "C3    54\n",
       "B3    54\n",
       "A1    53\n",
       "A4    43\n",
       "D3    38\n",
       "A5    36\n",
       "A2    34\n",
       "D1    32\n",
       "A3    20\n",
       "D2    19\n",
       "D4    14\n",
       "E1    12\n",
       "E2    11\n",
       "E4     9\n",
       "F1     5\n",
       "E3     4\n",
       "F3     4\n",
       "E5     2\n",
       "G2     1\n",
       "F2     1\n",
       "G3     1\n",
       "F5     1\n",
       "Name: sub_grade, dtype: int64"
      ]
     },
     "execution_count": 92,
     "metadata": {},
     "output_type": "execute_result"
    }
   ],
   "source": [
    "LC_raw['sub_grade'].value_counts()"
   ]
  },
  {
   "cell_type": "code",
   "execution_count": 93,
   "metadata": {},
   "outputs": [
    {
     "data": {
      "text/plain": [
       "MORTGAGE    509\n",
       "RENT        382\n",
       "OWN         107\n",
       "Name: home_ownership, dtype: int64"
      ]
     },
     "execution_count": 93,
     "metadata": {},
     "output_type": "execute_result"
    }
   ],
   "source": [
    "LC_raw['home_ownership'].value_counts()"
   ]
  },
  {
   "cell_type": "code",
   "execution_count": 94,
   "metadata": {},
   "outputs": [
    {
     "data": {
      "text/plain": [
       "0    627\n",
       "1    265\n",
       "2     81\n",
       "3     19\n",
       "4      6\n",
       "Name: inq_last_6mths, dtype: int64"
      ]
     },
     "execution_count": 94,
     "metadata": {},
     "output_type": "execute_result"
    }
   ],
   "source": [
    "LC_raw['inq_last_6mths'].value_counts()"
   ]
  },
  {
   "cell_type": "code",
   "execution_count": 95,
   "metadata": {},
   "outputs": [
    {
     "data": {
      "text/plain": [
       "Mar-2017    998\n",
       "Name: issue_d, dtype: int64"
      ]
     },
     "execution_count": 95,
     "metadata": {},
     "output_type": "execute_result"
    }
   ],
   "source": [
    "LC_raw['issue_d'].value_counts()"
   ]
  },
  {
   "cell_type": "code",
   "execution_count": 97,
   "metadata": {},
   "outputs": [
    {
     "data": {
      "text/plain": [
       "<matplotlib.axes._subplots.AxesSubplot at 0x7f4a52750a50>"
      ]
     },
     "execution_count": 97,
     "metadata": {},
     "output_type": "execute_result"
    },
    {
     "data": {
      "image/png": "[encoded data removed]",
      "text/plain": [
       "<Figure size 432x288 with 1 Axes>"
      ]
     },
     "metadata": {
      "needs_background": "light"
     },
     "output_type": "display_data"
    }
   ],
   "source": [
    "LC_raw['loan_amnt'].plot.hist()"
   ]
  },
  {
   "cell_type": "code",
   "execution_count": 98,
   "metadata": {},
   "outputs": [
    {
     "data": {
      "text/plain": [
       "<matplotlib.axes._subplots.AxesSubplot at 0x7f4a526f4190>"
      ]
     },
     "execution_count": 98,
     "metadata": {},
     "output_type": "execute_result"
    },
    {
     "data": {
      "image/png": "[encoded data removed]",
      "text/plain": [
       "<Figure size 432x288 with 1 Axes>"
      ]
     },
     "metadata": {
      "needs_background": "light"
     },
     "output_type": "display_data"
    }
   ],
   "source": [
    "LC_raw['mths_since_last_delinq'].plot.hist()"
   ]
  },
  {
   "cell_type": "code",
   "execution_count": 99,
   "metadata": {},
   "outputs": [
    {
     "data": {
      "text/plain": [
       "<matplotlib.axes._subplots.AxesSubplot at 0x7f4a52675c90>"
      ]
     },
     "execution_count": 99,
     "metadata": {},
     "output_type": "execute_result"
    },
    {
     "data": {
      "image/png": "[encoded data removed]",
      "text/plain": [
       "<Figure size 432x288 with 1 Axes>"
      ]
     },
     "metadata": {
      "needs_background": "light"
     },
     "output_type": "display_data"
    }
   ],
   "source": [
    "LC_raw['mths_since_last_record'].plot.hist()"
   ]
  },
  {
   "cell_type": "code",
   "execution_count": 100,
   "metadata": {},
   "outputs": [
    {
     "data": {
      "text/plain": [
       "<matplotlib.axes._subplots.AxesSubplot at 0x7f4a526e2290>"
      ]
     },
     "execution_count": 100,
     "metadata": {},
     "output_type": "execute_result"
    },
    {
     "data": {
      "image/png": "[encoded data removed]",
      "text/plain": [
       "<Figure size 432x288 with 1 Axes>"
      ]
     },
     "metadata": {
      "needs_background": "light"
     },
     "output_type": "display_data"
    }
   ],
   "source": [
    "LC_raw['open_acc'].plot.hist()\n"
   ]
  },
  {
   "cell_type": "code",
   "execution_count": 101,
   "metadata": {},
   "outputs": [
    {
     "data": {
      "text/plain": [
       "0"
      ]
     },
     "execution_count": 101,
     "metadata": {},
     "output_type": "execute_result"
    }
   ],
   "source": [
    "LC_raw['open_acc'].isna().sum()"
   ]
  },
  {
   "cell_type": "code",
   "execution_count": 102,
   "metadata": {},
   "outputs": [
    {
     "data": {
      "text/plain": [
       "<matplotlib.axes._subplots.AxesSubplot at 0x7f4a5256ca50>"
      ]
     },
     "execution_count": 102,
     "metadata": {},
     "output_type": "execute_result"
    },
    {
     "data": {
      "image/png": "[encoded data removed]",
      "text/plain": [
       "<Figure size 432x288 with 1 Axes>"
      ]
     },
     "metadata": {
      "needs_background": "light"
     },
     "output_type": "display_data"
    }
   ],
   "source": [
    "LC_raw['pub_rec'].plot.hist()"
   ]
  },
  {
   "cell_type": "code",
   "execution_count": 103,
   "metadata": {},
   "outputs": [
    {
     "data": {
      "text/plain": [
       "debt_consolidation    562\n",
       "credit_card           221\n",
       "other                  71\n",
       "home_improvement       70\n",
       "major_purchase         23\n",
       "medical                15\n",
       "vacation               13\n",
       "car                     8\n",
       "moving                  7\n",
       "small_business          5\n",
       "house                   3\n",
       "Name: purpose, dtype: int64"
      ]
     },
     "execution_count": 103,
     "metadata": {},
     "output_type": "execute_result"
    }
   ],
   "source": [
    "LC_raw['purpose'].value_counts()"
   ]
  },
  {
   "cell_type": "code",
   "execution_count": 105,
   "metadata": {},
   "outputs": [
    {
     "data": {
      "text/plain": [
       "<matplotlib.axes._subplots.AxesSubplot at 0x7f4a524e4590>"
      ]
     },
     "execution_count": 105,
     "metadata": {},
     "output_type": "execute_result"
    },
    {
     "data": {
      "image/png": "[encoded data removed]",
      "text/plain": [
       "<Figure size 432x288 with 1 Axes>"
      ]
     },
     "metadata": {
      "needs_background": "light"
     },
     "output_type": "display_data"
    }
   ],
   "source": [
    "LC_raw['total_acc'].plot.hist()"
   ]
  },
  {
   "cell_type": "code",
   "execution_count": 106,
   "metadata": {},
   "outputs": [
    {
     "data": {
      "text/plain": [
       "<matplotlib.axes._subplots.AxesSubplot at 0x7f4a56727690>"
      ]
     },
     "execution_count": 106,
     "metadata": {},
     "output_type": "execute_result"
    },
    {
     "data": {
      "image/png": "[encoded data removed]",
      "text/plain": [
       "<Figure size 432x288 with 1 Axes>"
      ]
     },
     "metadata": {
      "needs_background": "light"
     },
     "output_type": "display_data"
    }
   ],
   "source": [
    "LC_raw['total_bal_ex_mort'].plot.hist()"
   ]
  },
  {
   "cell_type": "code",
   "execution_count": 107,
   "metadata": {},
   "outputs": [
    {
     "data": {
      "text/plain": [
       "<matplotlib.axes._subplots.AxesSubplot at 0x7f4a52384e10>"
      ]
     },
     "execution_count": 107,
     "metadata": {},
     "output_type": "execute_result"
    },
    {
     "data": {
      "image/png": "[encoded data removed]",
      "text/plain": [
       "<Figure size 432x288 with 1 Axes>"
      ]
     },
     "metadata": {
      "needs_background": "light"
     },
     "output_type": "display_data"
    }
   ],
   "source": [
    "(LC_raw['total_bal_ex_mort']**(1/2)).plot.hist()"
   ]
  },
  {
   "cell_type": "code",
   "execution_count": 108,
   "metadata": {},
   "outputs": [
    {
     "data": {
      "text/plain": [
       "945xx    18\n",
       "070xx    13\n",
       "088xx    13\n",
       "112xx    12\n",
       "921xx    11\n",
       "         ..\n",
       "226xx     1\n",
       "304xx     1\n",
       "932xx     1\n",
       "768xx     1\n",
       "547xx     1\n",
       "Name: zip_code, Length: 410, dtype: int64"
      ]
     },
     "execution_count": 108,
     "metadata": {},
     "output_type": "execute_result"
    }
   ],
   "source": [
    "LC_raw['zip_code'].value_counts()"
   ]
  },
  {
   "cell_type": "code",
   "execution_count": 109,
   "metadata": {},
   "outputs": [
    {
     "data": {
      "text/plain": [
       "0    993\n",
       "1      5\n",
       "Name: acc_now_delinq, dtype: int64"
      ]
     },
     "execution_count": 109,
     "metadata": {},
     "output_type": "execute_result"
    }
   ],
   "source": [
    "LC_raw['acc_now_delinq'].value_counts()"
   ]
  },
  {
   "cell_type": "code",
   "execution_count": 112,
   "metadata": {},
   "outputs": [
    {
     "data": {
      "text/plain": [
       "<matplotlib.axes._subplots.AxesSubplot at 0x7f4a523171d0>"
      ]
     },
     "execution_count": 112,
     "metadata": {},
     "output_type": "execute_result"
    },
    {
     "data": {
      "image/png": "[encoded data removed]",
      "text/plain": [
       "<Figure size 432x288 with 1 Axes>"
      ]
     },
     "metadata": {
      "needs_background": "light"
     },
     "output_type": "display_data"
    }
   ],
   "source": [
    "LC_raw['installment'].plot.hist()"
   ]
  },
  {
   "cell_type": "code",
   "execution_count": 114,
   "metadata": {},
   "outputs": [
    {
     "data": {
      "text/plain": [
       "0    976\n",
       "1     20\n",
       "5      1\n",
       "2      1\n",
       "Name: collections_12_mths_ex_med, dtype: int64"
      ]
     },
     "execution_count": 114,
     "metadata": {},
     "output_type": "execute_result"
    }
   ],
   "source": [
    "LC_raw['collections_12_mths_ex_med'].value_counts()"
   ]
  },
  {
   "cell_type": "code",
   "execution_count": 115,
   "metadata": {},
   "outputs": [
    {
     "data": {
      "text/plain": [
       "CA    155\n",
       "NY     86\n",
       "TX     79\n",
       "FL     72\n",
       "NJ     50\n",
       "IL     40\n",
       "PA     38\n",
       "MD     32\n",
       "GA     31\n",
       "OH     29\n",
       "NC     22\n",
       "MI     22\n",
       "CT     19\n",
       "MN     19\n",
       "AZ     19\n",
       "CO     18\n",
       "IN     18\n",
       "WA     17\n",
       "MO     17\n",
       "MA     16\n",
       "VA     16\n",
       "AL     15\n",
       "TN     14\n",
       "WI     14\n",
       "NV     14\n",
       "OR     13\n",
       "SC     11\n",
       "UT     11\n",
       "OK     10\n",
       "MS      9\n",
       "KS      8\n",
       "LA      7\n",
       "AR      7\n",
       "KY      6\n",
       "HI      6\n",
       "RI      5\n",
       "NH      5\n",
       "VT      4\n",
       "MT      4\n",
       "NE      3\n",
       "WY      3\n",
       "DC      2\n",
       "ME      2\n",
       "AK      2\n",
       "SD      2\n",
       "DE      2\n",
       "ND      2\n",
       "NM      1\n",
       "ID      1\n",
       "Name: addr_state, dtype: int64"
      ]
     },
     "execution_count": 115,
     "metadata": {},
     "output_type": "execute_result"
    }
   ],
   "source": [
    "LC_raw['addr_state'].value_counts()"
   ]
  },
  {
   "cell_type": "code",
   "execution_count": 116,
   "metadata": {},
   "outputs": [
    {
     "data": {
      "text/plain": [
       "<matplotlib.axes._subplots.AxesSubplot at 0x7f4a52211c50>"
      ]
     },
     "execution_count": 116,
     "metadata": {},
     "output_type": "execute_result"
    },
    {
     "data": {
      "image/png": "[encoded data removed]",
      "text/plain": [
       "<Figure size 432x288 with 1 Axes>"
      ]
     },
     "metadata": {
      "needs_background": "light"
     },
     "output_type": "display_data"
    }
   ],
   "source": [
    "\n",
    "LC_raw['inq_last_12m'].plot.hist()\n"
   ]
  },
  {
   "cell_type": "code",
   "execution_count": 117,
   "metadata": {},
   "outputs": [
    {
     "data": {
      "text/plain": [
       "0"
      ]
     },
     "execution_count": 117,
     "metadata": {},
     "output_type": "execute_result"
    }
   ],
   "source": [
    "LC_raw['inq_last_12m'].isna().sum()"
   ]
  },
  {
   "cell_type": "code",
   "execution_count": 118,
   "metadata": {},
   "outputs": [
    {
     "data": {
      "text/plain": [
       "<matplotlib.axes._subplots.AxesSubplot at 0x7f4a52192210>"
      ]
     },
     "execution_count": 118,
     "metadata": {},
     "output_type": "execute_result"
    },
    {
     "data": {
      "image/png": "[encoded data removed]",
      "text/plain": [
       "<Figure size 432x288 with 1 Axes>"
      ]
     },
     "metadata": {
      "needs_background": "light"
     },
     "output_type": "display_data"
    }
   ],
   "source": [
    "LC_raw['mo_sin_old_il_acct'].plot.hist()\n"
   ]
  },
  {
   "cell_type": "code",
   "execution_count": 119,
   "metadata": {},
   "outputs": [
    {
     "data": {
      "text/plain": [
       "<matplotlib.axes._subplots.AxesSubplot at 0x7f4a5212efd0>"
      ]
     },
     "execution_count": 119,
     "metadata": {},
     "output_type": "execute_result"
    },
    {
     "data": {
      "image/png": "[encoded data removed]",
      "text/plain": [
       "<Figure size 432x288 with 1 Axes>"
      ]
     },
     "metadata": {
      "needs_background": "light"
     },
     "output_type": "display_data"
    }
   ],
   "source": [
    "LC_raw['mo_sin_old_rev_tl_op'].plot.hist()\n"
   ]
  },
  {
   "cell_type": "code",
   "execution_count": 120,
   "metadata": {},
   "outputs": [
    {
     "data": {
      "text/plain": [
       "<matplotlib.axes._subplots.AxesSubplot at 0x7f4a520e4c50>"
      ]
     },
     "execution_count": 120,
     "metadata": {},
     "output_type": "execute_result"
    },
    {
     "data": {
      "image/png": "[encoded data removed]",
      "text/plain": [
       "<Figure size 432x288 with 1 Axes>"
      ]
     },
     "metadata": {
      "needs_background": "light"
     },
     "output_type": "display_data"
    }
   ],
   "source": [
    "LC_raw['mo_sin_rcnt_rev_tl_op'].plot.hist()"
   ]
  },
  {
   "cell_type": "code",
   "execution_count": 121,
   "metadata": {},
   "outputs": [
    {
     "data": {
      "text/plain": [
       "<matplotlib.axes._subplots.AxesSubplot at 0x7f4a51fc4190>"
      ]
     },
     "execution_count": 121,
     "metadata": {},
     "output_type": "execute_result"
    },
    {
     "data": {
      "image/png": "[encoded data removed]",
      "text/plain": [
       "<Figure size 432x288 with 1 Axes>"
      ]
     },
     "metadata": {
      "needs_background": "light"
     },
     "output_type": "display_data"
    }
   ],
   "source": [
    "LC_raw['mo_sin_rcnt_tl'].plot.hist()"
   ]
  },
  {
   "cell_type": "code",
   "execution_count": 122,
   "metadata": {},
   "outputs": [
    {
     "data": {
      "text/plain": [
       "<matplotlib.axes._subplots.AxesSubplot at 0x7f4a51faea50>"
      ]
     },
     "execution_count": 122,
     "metadata": {},
     "output_type": "execute_result"
    },
    {
     "data": {
      "image/png": "[encoded data removed]",
      "text/plain": [
       "<Figure size 432x288 with 1 Axes>"
      ]
     },
     "metadata": {
      "needs_background": "light"
     },
     "output_type": "display_data"
    }
   ],
   "source": [
    "LC_raw['mort_acc'].plot.hist()"
   ]
  },
  {
   "cell_type": "code",
   "execution_count": 125,
   "metadata": {},
   "outputs": [
    {
     "data": {
      "text/plain": [
       "<matplotlib.axes._subplots.AxesSubplot at 0x7f4a51dd0690>"
      ]
     },
     "execution_count": 125,
     "metadata": {},
     "output_type": "execute_result"
    },
    {
     "data": {
      "image/png": "[encoded data removed]",
      "text/plain": [
       "<Figure size 432x288 with 1 Axes>"
      ]
     },
     "metadata": {
      "needs_background": "light"
     },
     "output_type": "display_data"
    }
   ],
   "source": [
    "LC_raw['num_bc_tl'].plot.hist()"
   ]
  },
  {
   "cell_type": "code",
   "execution_count": 124,
   "metadata": {},
   "outputs": [
    {
     "data": {
      "text/plain": [
       "<matplotlib.axes._subplots.AxesSubplot at 0x7f4a51e5c850>"
      ]
     },
     "execution_count": 124,
     "metadata": {},
     "output_type": "execute_result"
    },
    {
     "data": {
      "image/png": "[encoded data removed]",
      "text/plain": [
       "<Figure size 432x288 with 1 Axes>"
      ]
     },
     "metadata": {
      "needs_background": "light"
     },
     "output_type": "display_data"
    }
   ],
   "source": [
    "LC_raw['mths_since_recent_bc_dlq'].plot.hist()\n"
   ]
  },
  {
   "cell_type": "code",
   "execution_count": 126,
   "metadata": {},
   "outputs": [
    {
     "data": {
      "text/plain": [
       "<matplotlib.axes._subplots.AxesSubplot at 0x7f4a51dd71d0>"
      ]
     },
     "execution_count": 126,
     "metadata": {},
     "output_type": "execute_result"
    },
    {
     "data": {
      "image/png": "[encoded data removed]",
      "text/plain": [
       "<Figure size 432x288 with 1 Axes>"
      ]
     },
     "metadata": {
      "needs_background": "light"
     },
     "output_type": "display_data"
    }
   ],
   "source": [
    "LC_raw['num_op_rev_tl'].plot.hist()"
   ]
  },
  {
   "cell_type": "code",
   "execution_count": 129,
   "metadata": {},
   "outputs": [
    {
     "data": {
      "text/plain": [
       "2     235\n",
       "1     232\n",
       "0     199\n",
       "3     158\n",
       "4      83\n",
       "5      42\n",
       "6      24\n",
       "7      10\n",
       "9       7\n",
       "8       5\n",
       "13      1\n",
       "12      1\n",
       "11      1\n",
       "Name: num_tl_op_past_12m, dtype: int64"
      ]
     },
     "execution_count": 129,
     "metadata": {},
     "output_type": "execute_result"
    }
   ],
   "source": [
    "LC_raw['num_tl_op_past_12m'].value_counts()\n"
   ]
  },
  {
   "cell_type": "code",
   "execution_count": 130,
   "metadata": {},
   "outputs": [
    {
     "data": {
      "text/plain": [
       "<matplotlib.axes._subplots.AxesSubplot at 0x7f4a51c61c50>"
      ]
     },
     "execution_count": 130,
     "metadata": {},
     "output_type": "execute_result"
    },
    {
     "data": {
      "image/png": "[encoded data removed]",
      "text/plain": [
       "<Figure size 432x288 with 1 Axes>"
      ]
     },
     "metadata": {
      "needs_background": "light"
     },
     "output_type": "display_data"
    }
   ],
   "source": [
    "LC_raw['percent_bc_gt_75'].plot.hist()\n"
   ]
  },
  {
   "cell_type": "code",
   "execution_count": 72,
   "metadata": {},
   "outputs": [
    {
     "data": {
      "text/html": [
       "<div>\n",
       "<style scoped>\n",
       "    .dataframe tbody tr th:only-of-type {\n",
       "        vertical-align: middle;\n",
       "    }\n",
       "\n",
       "    .dataframe tbody tr th {\n",
       "        vertical-align: top;\n",
       "    }\n",
       "\n",
       "    .dataframe thead th {\n",
       "        text-align: right;\n",
       "    }\n",
       "</style>\n",
       "<table border=\"1\" class=\"dataframe\">\n",
       "  <thead>\n",
       "    <tr style=\"text-align: right;\">\n",
       "      <th></th>\n",
       "      <th>percent_bc_gt_75</th>\n",
       "      <th>num_bc_tl</th>\n",
       "      <th>total_bc_limit</th>\n",
       "    </tr>\n",
       "  </thead>\n",
       "  <tbody>\n",
       "    <tr>\n",
       "      <th>89</th>\n",
       "      <td>NaN</td>\n",
       "      <td>1</td>\n",
       "      <td>0</td>\n",
       "    </tr>\n",
       "    <tr>\n",
       "      <th>134</th>\n",
       "      <td>NaN</td>\n",
       "      <td>0</td>\n",
       "      <td>0</td>\n",
       "    </tr>\n",
       "    <tr>\n",
       "      <th>228</th>\n",
       "      <td>NaN</td>\n",
       "      <td>2</td>\n",
       "      <td>0</td>\n",
       "    </tr>\n",
       "    <tr>\n",
       "      <th>389</th>\n",
       "      <td>NaN</td>\n",
       "      <td>2</td>\n",
       "      <td>0</td>\n",
       "    </tr>\n",
       "    <tr>\n",
       "      <th>392</th>\n",
       "      <td>NaN</td>\n",
       "      <td>3</td>\n",
       "      <td>0</td>\n",
       "    </tr>\n",
       "    <tr>\n",
       "      <th>682</th>\n",
       "      <td>NaN</td>\n",
       "      <td>5</td>\n",
       "      <td>0</td>\n",
       "    </tr>\n",
       "    <tr>\n",
       "      <th>719</th>\n",
       "      <td>NaN</td>\n",
       "      <td>1</td>\n",
       "      <td>0</td>\n",
       "    </tr>\n",
       "    <tr>\n",
       "      <th>927</th>\n",
       "      <td>NaN</td>\n",
       "      <td>0</td>\n",
       "      <td>0</td>\n",
       "    </tr>\n",
       "    <tr>\n",
       "      <th>938</th>\n",
       "      <td>NaN</td>\n",
       "      <td>1</td>\n",
       "      <td>0</td>\n",
       "    </tr>\n",
       "  </tbody>\n",
       "</table>\n",
       "</div>"
      ],
      "text/plain": [
       "     percent_bc_gt_75  num_bc_tl  total_bc_limit\n",
       "89                NaN          1               0\n",
       "134               NaN          0               0\n",
       "228               NaN          2               0\n",
       "389               NaN          2               0\n",
       "392               NaN          3               0\n",
       "682               NaN          5               0\n",
       "719               NaN          1               0\n",
       "927               NaN          0               0\n",
       "938               NaN          1               0"
      ]
     },
     "execution_count": 72,
     "metadata": {},
     "output_type": "execute_result"
    }
   ],
   "source": [
    "LC_raw[LC_raw.percent_bc_gt_75.isna() == True][['percent_bc_gt_75','num_bc_tl','total_bc_limit']]\n",
    "\n"
   ]
  },
  {
   "cell_type": "code",
   "execution_count": 131,
   "metadata": {},
   "outputs": [
    {
     "data": {
      "text/plain": [
       "0    875\n",
       "1    116\n",
       "2      6\n",
       "3      1\n",
       "Name: pub_rec_bankruptcies, dtype: int64"
      ]
     },
     "execution_count": 131,
     "metadata": {},
     "output_type": "execute_result"
    }
   ],
   "source": [
    "LC_raw['pub_rec_bankruptcies'].value_counts()"
   ]
  },
  {
   "cell_type": "code",
   "execution_count": 146,
   "metadata": {},
   "outputs": [
    {
     "data": {
      "text/plain": [
       "<matplotlib.axes._subplots.AxesSubplot at 0x7f4a562ea0d0>"
      ]
     },
     "execution_count": 146,
     "metadata": {},
     "output_type": "execute_result"
    },
    {
     "data": {
      "image/png": "[encoded data removed]",
      "text/plain": [
       "<Figure size 432x288 with 1 Axes>"
      ]
     },
     "metadata": {
      "needs_background": "light"
     },
     "output_type": "display_data"
    }
   ],
   "source": [
    "import numpy as np\n",
    "# np.log(LC_raw['revol_bal']).to_frame().plot.hist()\n",
    "(LC_raw['revol_bal']**(1/2)).plot.hist()"
   ]
  },
  {
   "cell_type": "code",
   "execution_count": 147,
   "metadata": {},
   "outputs": [
    {
     "data": {
      "text/plain": [
       "0    950\n",
       "1     28\n",
       "2      9\n",
       "3      7\n",
       "4      3\n",
       "5      1\n",
       "Name: tax_liens, dtype: int64"
      ]
     },
     "execution_count": 147,
     "metadata": {},
     "output_type": "execute_result"
    }
   ],
   "source": [
    "LC_raw['tax_liens'].value_counts()\n"
   ]
  },
  {
   "cell_type": "code",
   "execution_count": 148,
   "metadata": {},
   "outputs": [
    {
     "data": {
      "text/plain": [
       "Debt consolidation         562\n",
       "Credit card refinancing    221\n",
       "Other                       71\n",
       "Home improvement            70\n",
       "Major purchase              23\n",
       "Medical expenses            15\n",
       "Vacation                    13\n",
       "Car financing                8\n",
       "Moving and relocation        7\n",
       "Business                     5\n",
       "Home buying                  3\n",
       "Name: title, dtype: int64"
      ]
     },
     "execution_count": 148,
     "metadata": {},
     "output_type": "execute_result"
    }
   ],
   "source": [
    "LC_raw['title'].value_counts()\n"
   ]
  },
  {
   "cell_type": "code",
   "execution_count": 150,
   "metadata": {},
   "outputs": [
    {
     "data": {
      "text/plain": [
       "<matplotlib.axes._subplots.AxesSubplot at 0x7f4a51992e90>"
      ]
     },
     "execution_count": 150,
     "metadata": {},
     "output_type": "execute_result"
    },
    {
     "data": {
      "image/png": "[encoded data removed]",
      "text/plain": [
       "<Figure size 432x288 with 1 Axes>"
      ]
     },
     "metadata": {
      "needs_background": "light"
     },
     "output_type": "display_data"
    }
   ],
   "source": [
    "# LC_raw['tot_hi_cred_lim'].plot.hist()\n",
    "\n",
    "(LC_raw['tot_hi_cred_lim']**(1/2)).plot.hist()"
   ]
  },
  {
   "cell_type": "code",
   "execution_count": 151,
   "metadata": {},
   "outputs": [
    {
     "data": {
      "text/plain": [
       "<matplotlib.axes._subplots.AxesSubplot at 0x7f4a51979d90>"
      ]
     },
     "execution_count": 151,
     "metadata": {},
     "output_type": "execute_result"
    },
    {
     "data": {
      "image/png": "[encoded data removed]",
      "text/plain": [
       "<Figure size 432x288 with 1 Axes>"
      ]
     },
     "metadata": {
      "needs_background": "light"
     },
     "output_type": "display_data"
    }
   ],
   "source": [
    "(LC_raw['total_bc_limit']**(1/2)).plot.hist()\n"
   ]
  },
  {
   "cell_type": "code",
   "execution_count": 152,
   "metadata": {},
   "outputs": [
    {
     "data": {
      "text/plain": [
       "Source Verified    414\n",
       "Not Verified       366\n",
       "Verified           218\n",
       "Name: verification_status, dtype: int64"
      ]
     },
     "execution_count": 152,
     "metadata": {},
     "output_type": "execute_result"
    }
   ],
   "source": [
    "LC_raw['verification_status'].value_counts()\n",
    "\n"
   ]
  },
  {
   "cell_type": "code",
   "execution_count": 81,
   "metadata": {},
   "outputs": [
    {
     "name": "stdout",
     "output_type": "stream",
     "text": [
      "<class 'pandas.core.frame.DataFrame'>\n",
      "RangeIndex: 998 entries, 0 to 997\n",
      "Data columns (total 152 columns):\n",
      " #   Column                                      Dtype  \n",
      "---  ------                                      -----  \n",
      " 0   id                                          int64  \n",
      " 1   member_id                                   float64\n",
      " 2   loan_amnt                                   int64  \n",
      " 3   funded_amnt                                 int64  \n",
      " 4   funded_amnt_inv                             int64  \n",
      " 5   term                                        object \n",
      " 6   int_rate                                    float64\n",
      " 7   installment                                 float64\n",
      " 8   grade                                       object \n",
      " 9   sub_grade                                   object \n",
      " 10  emp_title                                   object \n",
      " 11  emp_length                                  object \n",
      " 12  home_ownership                              object \n",
      " 13  annual_inc                                  float64\n",
      " 14  verification_status                         object \n",
      " 15  issue_d                                     object \n",
      " 16  loan_status                                 object \n",
      " 17  pymnt_plan                                  object \n",
      " 18  url                                         object \n",
      " 19  desc                                        float64\n",
      " 20  purpose                                     object \n",
      " 21  title                                       object \n",
      " 22  zip_code                                    object \n",
      " 23  addr_state                                  object \n",
      " 24  dti                                         float64\n",
      " 25  delinq_2yrs                                 int64  \n",
      " 26  earliest_cr_line                            object \n",
      " 27  fico_range_low                              int64  \n",
      " 28  fico_range_high                             int64  \n",
      " 29  inq_last_6mths                              int64  \n",
      " 30  mths_since_last_delinq                      float64\n",
      " 31  mths_since_last_record                      float64\n",
      " 32  open_acc                                    int64  \n",
      " 33  pub_rec                                     int64  \n",
      " 34  revol_bal                                   int64  \n",
      " 35  revol_util                                  object \n",
      " 36  total_acc                                   int64  \n",
      " 37  initial_list_status                         object \n",
      " 38  out_prncp                                   float64\n",
      " 39  out_prncp_inv                               float64\n",
      " 40  total_pymnt                                 float64\n",
      " 41  total_pymnt_inv                             float64\n",
      " 42  total_rec_prncp                             float64\n",
      " 43  total_rec_int                               float64\n",
      " 44  total_rec_late_fee                          float64\n",
      " 45  recoveries                                  float64\n",
      " 46  collection_recovery_fee                     float64\n",
      " 47  last_pymnt_d                                object \n",
      " 48  last_pymnt_amnt                             float64\n",
      " 49  next_pymnt_d                                object \n",
      " 50  last_credit_pull_d                          object \n",
      " 51  last_fico_range_high                        int64  \n",
      " 52  last_fico_range_low                         int64  \n",
      " 53  collections_12_mths_ex_med                  int64  \n",
      " 54  mths_since_last_major_derog                 float64\n",
      " 55  policy_code                                 int64  \n",
      " 56  application_type                            object \n",
      " 57  annual_inc_joint                            float64\n",
      " 58  dti_joint                                   float64\n",
      " 59  verification_status_joint                   object \n",
      " 60  acc_now_delinq                              int64  \n",
      " 61  tot_coll_amt                                int64  \n",
      " 62  tot_cur_bal                                 int64  \n",
      " 63  open_acc_6m                                 int64  \n",
      " 64  open_act_il                                 int64  \n",
      " 65  open_il_12m                                 int64  \n",
      " 66  open_il_24m                                 int64  \n",
      " 67  mths_since_rcnt_il                          float64\n",
      " 68  total_bal_il                                int64  \n",
      " 69  il_util                                     float64\n",
      " 70  open_rv_12m                                 int64  \n",
      " 71  open_rv_24m                                 int64  \n",
      " 72  max_bal_bc                                  int64  \n",
      " 73  all_util                                    int64  \n",
      " 74  total_rev_hi_lim                            int64  \n",
      " 75  inq_fi                                      int64  \n",
      " 76  total_cu_tl                                 int64  \n",
      " 77  inq_last_12m                                int64  \n",
      " 78  acc_open_past_24mths                        int64  \n",
      " 79  avg_cur_bal                                 int64  \n",
      " 80  bc_open_to_buy                              float64\n",
      " 81  bc_util                                     float64\n",
      " 82  chargeoff_within_12_mths                    int64  \n",
      " 83  delinq_amnt                                 int64  \n",
      " 84  mo_sin_old_il_acct                          float64\n",
      " 85  mo_sin_old_rev_tl_op                        int64  \n",
      " 86  mo_sin_rcnt_rev_tl_op                       int64  \n",
      " 87  mo_sin_rcnt_tl                              int64  \n",
      " 88  mort_acc                                    int64  \n",
      " 89  mths_since_recent_bc                        float64\n",
      " 90  mths_since_recent_bc_dlq                    float64\n",
      " 91  mths_since_recent_inq                       float64\n",
      " 92  mths_since_recent_revol_delinq              float64\n",
      " 93  num_accts_ever_120_pd                       int64  \n",
      " 94  num_actv_bc_tl                              int64  \n",
      " 95  num_actv_rev_tl                             int64  \n",
      " 96  num_bc_sats                                 int64  \n",
      " 97  num_bc_tl                                   int64  \n",
      " 98  num_il_tl                                   int64  \n",
      " 99  num_op_rev_tl                               int64  \n",
      " 100 num_rev_accts                               int64  \n",
      " 101 num_rev_tl_bal_gt_0                         int64  \n",
      " 102 num_sats                                    int64  \n",
      " 103 num_tl_120dpd_2m                            float64\n",
      " 104 num_tl_30dpd                                int64  \n",
      " 105 num_tl_90g_dpd_24m                          int64  \n",
      " 106 num_tl_op_past_12m                          int64  \n",
      " 107 pct_tl_nvr_dlq                              float64\n",
      " 108 percent_bc_gt_75                            float64\n",
      " 109 pub_rec_bankruptcies                        int64  \n",
      " 110 tax_liens                                   int64  \n",
      " 111 tot_hi_cred_lim                             int64  \n",
      " 112 total_bal_ex_mort                           int64  \n",
      " 113 total_bc_limit                              int64  \n",
      " 114 total_il_high_credit_limit                  int64  \n",
      " 115 revol_bal_joint                             float64\n",
      " 116 sec_app_fico_range_low                      float64\n",
      " 117 sec_app_fico_range_high                     float64\n",
      " 118 sec_app_earliest_cr_line                    object \n",
      " 119 sec_app_inq_last_6mths                      float64\n",
      " 120 sec_app_mort_acc                            float64\n",
      " 121 sec_app_open_acc                            float64\n",
      " 122 sec_app_revol_util                          float64\n",
      " 123 sec_app_open_act_il                         float64\n",
      " 124 sec_app_num_rev_accts                       float64\n",
      " 125 sec_app_chargeoff_within_12_mths            float64\n",
      " 126 sec_app_collections_12_mths_ex_med          float64\n",
      " 127 sec_app_mths_since_last_major_derog         float64\n",
      " 128 hardship_flag                               object \n",
      " 129 hardship_type                               object \n",
      " 130 hardship_reason                             object \n",
      " 131 hardship_status                             object \n",
      " 132 deferral_term                               float64\n",
      " 133 hardship_amount                             float64\n",
      " 134 hardship_start_date                         object \n",
      " 135 hardship_end_date                           object \n",
      " 136 payment_plan_start_date                     object \n",
      " 137 hardship_length                             float64\n",
      " 138 hardship_dpd                                float64\n",
      " 139 hardship_loan_status                        object \n",
      " 140 orig_projected_additional_accrued_interest  float64\n",
      " 141 hardship_payoff_balance_amount              float64\n",
      " 142 hardship_last_payment_amount                float64\n",
      " 143 debt_settlement_flag                        object \n",
      " 144 debt_settlement_flag_date                   object \n",
      " 145 settlement_status                           object \n",
      " 146 settlement_date                             object \n",
      " 147 settlement_amount                           float64\n",
      " 148 settlement_percentage                       float64\n",
      " 149 settlement_term                             float64\n",
      " 150 fully_paid                                  bool   \n",
      " 151 int_rate2                                   float64\n",
      "dtypes: bool(1), float64(56), int64(59), object(36)\n",
      "memory usage: 1.2+ MB\n"
     ]
    }
   ],
   "source": []
  },
  {
   "cell_type": "code",
   "execution_count": null,
   "metadata": {},
   "outputs": [],
   "source": []
  }
 ],
 "metadata": {
  "kernelspec": {
   "display_name": "Python 3",
   "language": "python",
   "name": "python3"
  },
  "language_info": {
   "codemirror_mode": {
    "name": "ipython",
    "version": 3
   },
   "file_extension": ".py",
   "mimetype": "text/x-python",
   "name": "python",
   "nbconvert_exporter": "python",
   "pygments_lexer": "ipython3",
   "version": "3.7.6"
  }
 },
 "nbformat": 4,
 "nbformat_minor": 4
}
